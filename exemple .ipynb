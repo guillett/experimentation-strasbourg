{
 "cells": [
  {
   "cell_type": "code",
   "execution_count": 2,
   "id": "21798c47",
   "metadata": {},
   "outputs": [],
   "source": [
    "import numpy as np"
   ]
  },
  {
   "cell_type": "code",
   "execution_count": 3,
   "id": "7d2d1caa",
   "metadata": {},
   "outputs": [
    {
     "data": {
      "text/plain": [
       "array([2, 3, 4])"
      ]
     },
     "execution_count": 3,
     "metadata": {},
     "output_type": "execute_result"
    }
   ],
   "source": [
    "np.unique([4,3,3,2])"
   ]
  },
  {
   "cell_type": "code",
   "execution_count": 4,
   "id": "f61b5b9d",
   "metadata": {},
   "outputs": [
    {
     "data": {
      "text/plain": [
       "(array([2, 3, 4]), array([1, 2, 1]))"
      ]
     },
     "execution_count": 4,
     "metadata": {},
     "output_type": "execute_result"
    }
   ],
   "source": [
    "np.unique([4,3,3,2], return_counts=True) # 4 on en a 1, 3 on en a 2 et 2 on en a 1"
   ]
  },
  {
   "cell_type": "code",
   "execution_count": 5,
   "id": "abbcfbba",
   "metadata": {},
   "outputs": [
    {
     "data": {
      "text/plain": [
       "(array([2, 3, 4]), array([2, 1, 1, 0]))"
      ]
     },
     "execution_count": 5,
     "metadata": {},
     "output_type": "execute_result"
    }
   ],
   "source": [
    "np.unique([4,3,3,2], return_inverse=True) # affiche une seule fois les valeurs, le 2 est à la 2ème place, le 3 est à la première place, le 4 est à la place 0 (tout au début) (sur python c'est 0 1 2 3 donc 4 est à la place 0)"
   ]
  },
  {
   "cell_type": "code",
   "execution_count": 6,
   "id": "b7d73e75",
   "metadata": {},
   "outputs": [
    {
     "data": {
      "text/plain": [
       "(array([2, 3, 4]), array([3, 1, 0]))"
      ]
     },
     "execution_count": 6,
     "metadata": {},
     "output_type": "execute_result"
    }
   ],
   "source": [
    "uniq, idx = np.unique([4,3,3,2], return_index=True) # quand regarde ordre 4,3,3,2 on voit que 4 est vu en 0, 3 est vu en 1, et 2 en 3 car python (1er chiffre est 0, (0,1,2,3))\n",
    "uniq, idx "
   ]
  },
  {
   "cell_type": "code",
   "execution_count": 7,
   "id": "6ec85dad",
   "metadata": {},
   "outputs": [
    {
     "data": {
      "text/plain": [
       "[401, 301, 301, 201]"
      ]
     },
     "execution_count": 7,
     "metadata": {},
     "output_type": "execute_result"
    }
   ],
   "source": [
    "qf = [401, 301, 301, 201]\n",
    "qf"
   ]
  },
  {
   "cell_type": "code",
   "execution_count": 8,
   "id": "e81c7618",
   "metadata": {},
   "outputs": [
    {
     "data": {
      "text/plain": [
       "[201, 301, 401]"
      ]
     },
     "execution_count": 8,
     "metadata": {},
     "output_type": "execute_result"
    }
   ],
   "source": [
    "qf_attendus = [201, 301, 401]\n",
    "qf_attendus"
   ]
  },
  {
   "cell_type": "code",
   "execution_count": 9,
   "id": "3d1b6481",
   "metadata": {},
   "outputs": [
    {
     "data": {
      "text/plain": [
       "array([3, 1, 0])"
      ]
     },
     "execution_count": 9,
     "metadata": {},
     "output_type": "execute_result"
    }
   ],
   "source": [
    "idx"
   ]
  },
  {
   "cell_type": "code",
   "execution_count": 11,
   "id": "a38683c6",
   "metadata": {},
   "outputs": [],
   "source": [
    "qfs = [qf[i] for i in idx]"
   ]
  },
  {
   "cell_type": "code",
   "execution_count": 12,
   "id": "c3744a48",
   "metadata": {},
   "outputs": [
    {
     "data": {
      "text/plain": [
       "array([2, 3, 4])"
      ]
     },
     "execution_count": 12,
     "metadata": {},
     "output_type": "execute_result"
    }
   ],
   "source": [
    "uniq"
   ]
  },
  {
   "cell_type": "code",
   "execution_count": 13,
   "id": "09526611",
   "metadata": {},
   "outputs": [
    {
     "data": {
      "text/plain": [
       "[201, 301, 401]"
      ]
     },
     "execution_count": 13,
     "metadata": {},
     "output_type": "execute_result"
    }
   ],
   "source": [
    "qfs "
   ]
  },
  {
   "cell_type": "code",
   "execution_count": null,
   "id": "1a9156ed",
   "metadata": {},
   "outputs": [],
   "source": []
  }
 ],
 "metadata": {
  "kernelspec": {
   "display_name": "Python 3",
   "language": "python",
   "name": "python3"
  },
  "language_info": {
   "codemirror_mode": {
    "name": "ipython",
    "version": 3
   },
   "file_extension": ".py",
   "mimetype": "text/x-python",
   "name": "python",
   "nbconvert_exporter": "python",
   "pygments_lexer": "ipython3",
   "version": "3.7.10"
  }
 },
 "nbformat": 4,
 "nbformat_minor": 5
}
