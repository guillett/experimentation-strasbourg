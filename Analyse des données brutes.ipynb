{
 "cells": [
  {
   "attachments": {},
   "cell_type": "markdown",
   "id": "c521be2b",
   "metadata": {},
   "source": [
    "# Mise en oeuvre technique de la simulation : les effets financiers de la tarification solidaire du côté des individus et du côté de la collectivité "
   ]
  },
  {
   "cell_type": "markdown",
   "id": "e9a04a05",
   "metadata": {},
   "source": [
    "La modélisation se fait par un principe qui se nomme la micro-simulation. À la différence de méthodes habituelles de modélisation, la micro-simulation permet de passer d'une modélisation par hypothèses à une modélisation par généralisation de cas réels . \n",
    "Ainsi les hypothèses qui portent habituellement sur les caractéristiques du public concerné, sont remplacées par des données sur le nombre réel de ménages par tranche de QF. \n",
    "Ces principes de micro-simulation sont utilisés par l'INSEE, la CNAF ou le Ministère du Budget. \n",
    "L'avantage de cette approche est aussi de combiner cette modélisation avec les modélisations des autres tarifs payants de la collectivité ou/et avec la modélisation des minima sociaux telle qu'elle est réalisée par mes-aides.org. \n",
    "Ceci permet d'estimer finement le coût d'un panier de services pour une famille selon sa tranche de QF. "
   ]
  },
  {
   "cell_type": "code",
   "execution_count": 1,
   "id": "9311e7ba",
   "metadata": {},
   "outputs": [],
   "source": [
    "import pandas as pd\n",
    "import numpy as np"
   ]
  },
  {
   "cell_type": "markdown",
   "id": "97c50b4b",
   "metadata": {},
   "source": [
    "1ère base de données : QF CAF et nombre de repas pris pour chaque enfant"
   ]
  },
  {
   "cell_type": "code",
   "execution_count": 169,
   "id": "cb617a7f",
   "metadata": {
    "scrolled": true
   },
   "outputs": [
    {
     "data": {
      "text/html": [
       "<div>\n",
       "<style scoped>\n",
       "    .dataframe tbody tr th:only-of-type {\n",
       "        vertical-align: middle;\n",
       "    }\n",
       "\n",
       "    .dataframe tbody tr th {\n",
       "        vertical-align: top;\n",
       "    }\n",
       "\n",
       "    .dataframe thead th {\n",
       "        text-align: right;\n",
       "    }\n",
       "</style>\n",
       "<table border=\"1\" class=\"dataframe\">\n",
       "  <thead>\n",
       "    <tr style=\"text-align: right;\">\n",
       "      <th></th>\n",
       "      <th>Id Personne</th>\n",
       "      <th>Id Famille</th>\n",
       "      <th>QF</th>\n",
       "      <th>Type repas</th>\n",
       "      <th>Nombre</th>\n",
       "      <th>id gale ou non</th>\n",
       "      <th>type de repas simplifi par tarif identique</th>\n",
       "    </tr>\n",
       "  </thead>\n",
       "  <tbody>\n",
       "    <tr>\n",
       "      <th>0</th>\n",
       "      <td>1</td>\n",
       "      <td>325</td>\n",
       "      <td>999999</td>\n",
       "      <td>Repas Végétarien</td>\n",
       "      <td>2</td>\n",
       "      <td>NaN</td>\n",
       "      <td>Repas vgtarien</td>\n",
       "    </tr>\n",
       "    <tr>\n",
       "      <th>1</th>\n",
       "      <td>2</td>\n",
       "      <td>497</td>\n",
       "      <td>636</td>\n",
       "      <td>Repas Standard</td>\n",
       "      <td>1</td>\n",
       "      <td>NaN</td>\n",
       "      <td>Repas Standard</td>\n",
       "    </tr>\n",
       "    <tr>\n",
       "      <th>2</th>\n",
       "      <td>3</td>\n",
       "      <td>762</td>\n",
       "      <td>999999</td>\n",
       "      <td>Repas Standard</td>\n",
       "      <td>1</td>\n",
       "      <td>NaN</td>\n",
       "      <td>Repas Standard</td>\n",
       "    </tr>\n",
       "    <tr>\n",
       "      <th>3</th>\n",
       "      <td>4</td>\n",
       "      <td>770</td>\n",
       "      <td>392</td>\n",
       "      <td>Repas Standard</td>\n",
       "      <td>125</td>\n",
       "      <td>oui</td>\n",
       "      <td>Repas Standard</td>\n",
       "    </tr>\n",
       "    <tr>\n",
       "      <th>4</th>\n",
       "      <td>4</td>\n",
       "      <td>770</td>\n",
       "      <td>999999</td>\n",
       "      <td>Repas Standard</td>\n",
       "      <td>1</td>\n",
       "      <td>NaN</td>\n",
       "      <td>Repas Standard</td>\n",
       "    </tr>\n",
       "    <tr>\n",
       "      <th>...</th>\n",
       "      <td>...</td>\n",
       "      <td>...</td>\n",
       "      <td>...</td>\n",
       "      <td>...</td>\n",
       "      <td>...</td>\n",
       "      <td>...</td>\n",
       "      <td>...</td>\n",
       "    </tr>\n",
       "    <tr>\n",
       "      <th>16930</th>\n",
       "      <td>15579</td>\n",
       "      <td>10849</td>\n",
       "      <td>999999</td>\n",
       "      <td>Repas Sans Porc</td>\n",
       "      <td>8</td>\n",
       "      <td>NaN</td>\n",
       "      <td>Repas Standard</td>\n",
       "    </tr>\n",
       "    <tr>\n",
       "      <th>16931</th>\n",
       "      <td>15580</td>\n",
       "      <td>10850</td>\n",
       "      <td>999999</td>\n",
       "      <td>Repas Standard</td>\n",
       "      <td>13</td>\n",
       "      <td>NaN</td>\n",
       "      <td>Repas Standard</td>\n",
       "    </tr>\n",
       "    <tr>\n",
       "      <th>16932</th>\n",
       "      <td>15581</td>\n",
       "      <td>10851</td>\n",
       "      <td>259</td>\n",
       "      <td>Repas Standard</td>\n",
       "      <td>12</td>\n",
       "      <td>NaN</td>\n",
       "      <td>Repas Standard</td>\n",
       "    </tr>\n",
       "    <tr>\n",
       "      <th>16933</th>\n",
       "      <td>15582</td>\n",
       "      <td>10852</td>\n",
       "      <td>620</td>\n",
       "      <td>Repas Standard</td>\n",
       "      <td>14</td>\n",
       "      <td>NaN</td>\n",
       "      <td>Repas Standard</td>\n",
       "    </tr>\n",
       "    <tr>\n",
       "      <th>16934</th>\n",
       "      <td>15583</td>\n",
       "      <td>10852</td>\n",
       "      <td>620</td>\n",
       "      <td>Repas Standard</td>\n",
       "      <td>10</td>\n",
       "      <td>NaN</td>\n",
       "      <td>Repas Standard</td>\n",
       "    </tr>\n",
       "  </tbody>\n",
       "</table>\n",
       "<p>16935 rows × 7 columns</p>\n",
       "</div>"
      ],
      "text/plain": [
       "       Id Personne  Id Famille      QF        Type repas  Nombre  \\\n",
       "0                1         325  999999  Repas Végétarien       2   \n",
       "1                2         497     636    Repas Standard       1   \n",
       "2                3         762  999999    Repas Standard       1   \n",
       "3                4         770     392    Repas Standard     125   \n",
       "4                4         770  999999    Repas Standard       1   \n",
       "...            ...         ...     ...               ...     ...   \n",
       "16930        15579       10849  999999   Repas Sans Porc       8   \n",
       "16931        15580       10850  999999    Repas Standard      13   \n",
       "16932        15581       10851     259    Repas Standard      12   \n",
       "16933        15582       10852     620    Repas Standard      14   \n",
       "16934        15583       10852     620    Repas Standard      10   \n",
       "\n",
       "      id gale ou non  type de repas simplifi par tarif identique   \n",
       "0                  NaN                             Repas vgtarien  \n",
       "1                  NaN                               Repas Standard  \n",
       "2                  NaN                               Repas Standard  \n",
       "3                  oui                               Repas Standard  \n",
       "4                  NaN                               Repas Standard  \n",
       "...                ...                                          ...  \n",
       "16930              NaN                               Repas Standard  \n",
       "16931              NaN                               Repas Standard  \n",
       "16932              NaN                               Repas Standard  \n",
       "16933              NaN                               Repas Standard  \n",
       "16934              NaN                               Repas Standard  \n",
       "\n",
       "[16935 rows x 7 columns]"
      ]
     },
     "execution_count": 169,
     "metadata": {},
     "output_type": "execute_result"
    }
   ],
   "source": [
    "df = pd.read_csv('./Bilan tarification 2019.csv', sep=\";\", encoding=\"iso-8859-1\")\n",
    "df"
   ]
  },
  {
   "cell_type": "markdown",
   "id": "8da54051",
   "metadata": {},
   "source": [
    "2ème base de données avec des profils types : dans cette base de données il y a le QF CAF et le QF EMS pour chaque cas et avec cette base il est possible de faire des comparaison de tarifs en fonction des différents scénarios "
   ]
  },
  {
   "cell_type": "code",
   "execution_count": 3,
   "id": "76c86962",
   "metadata": {},
   "outputs": [
    {
     "data": {
      "text/html": [
       "<div>\n",
       "<style scoped>\n",
       "    .dataframe tbody tr th:only-of-type {\n",
       "        vertical-align: middle;\n",
       "    }\n",
       "\n",
       "    .dataframe tbody tr th {\n",
       "        vertical-align: top;\n",
       "    }\n",
       "\n",
       "    .dataframe thead th {\n",
       "        text-align: right;\n",
       "    }\n",
       "</style>\n",
       "<table border=\"1\" class=\"dataframe\">\n",
       "  <thead>\n",
       "    <tr style=\"text-align: right;\">\n",
       "      <th></th>\n",
       "      <th>Id Personne</th>\n",
       "      <th>Id Famille</th>\n",
       "      <th>QF CAF</th>\n",
       "      <th>QF EMS</th>\n",
       "      <th>Type repas</th>\n",
       "      <th>Nombre</th>\n",
       "    </tr>\n",
       "  </thead>\n",
       "  <tbody>\n",
       "    <tr>\n",
       "      <th>0</th>\n",
       "      <td>1</td>\n",
       "      <td>1</td>\n",
       "      <td>426</td>\n",
       "      <td>0</td>\n",
       "      <td>Repas Standard</td>\n",
       "      <td>20</td>\n",
       "    </tr>\n",
       "    <tr>\n",
       "      <th>1</th>\n",
       "      <td>2</td>\n",
       "      <td>2</td>\n",
       "      <td>689</td>\n",
       "      <td>326</td>\n",
       "      <td>Repas Vgtarien</td>\n",
       "      <td>20</td>\n",
       "    </tr>\n",
       "    <tr>\n",
       "      <th>2</th>\n",
       "      <td>3</td>\n",
       "      <td>3</td>\n",
       "      <td>300</td>\n",
       "      <td>0</td>\n",
       "      <td>Repas Standard</td>\n",
       "      <td>20</td>\n",
       "    </tr>\n",
       "    <tr>\n",
       "      <th>3</th>\n",
       "      <td>4</td>\n",
       "      <td>4</td>\n",
       "      <td>347</td>\n",
       "      <td>0</td>\n",
       "      <td>Repas Standard</td>\n",
       "      <td>20</td>\n",
       "    </tr>\n",
       "    <tr>\n",
       "      <th>4</th>\n",
       "      <td>5</td>\n",
       "      <td>5</td>\n",
       "      <td>445</td>\n",
       "      <td>140</td>\n",
       "      <td>Repas Standard</td>\n",
       "      <td>20</td>\n",
       "    </tr>\n",
       "    <tr>\n",
       "      <th>5</th>\n",
       "      <td>6</td>\n",
       "      <td>6</td>\n",
       "      <td>485</td>\n",
       "      <td>0</td>\n",
       "      <td>Repas Standard</td>\n",
       "      <td>20</td>\n",
       "    </tr>\n",
       "    <tr>\n",
       "      <th>6</th>\n",
       "      <td>7</td>\n",
       "      <td>7</td>\n",
       "      <td>121</td>\n",
       "      <td>0</td>\n",
       "      <td>Repas Standard</td>\n",
       "      <td>20</td>\n",
       "    </tr>\n",
       "    <tr>\n",
       "      <th>7</th>\n",
       "      <td>8</td>\n",
       "      <td>8</td>\n",
       "      <td>388</td>\n",
       "      <td>176</td>\n",
       "      <td>Repas Standard</td>\n",
       "      <td>20</td>\n",
       "    </tr>\n",
       "    <tr>\n",
       "      <th>8</th>\n",
       "      <td>9</td>\n",
       "      <td>9</td>\n",
       "      <td>496</td>\n",
       "      <td>596</td>\n",
       "      <td>Repas Standard</td>\n",
       "      <td>20</td>\n",
       "    </tr>\n",
       "    <tr>\n",
       "      <th>9</th>\n",
       "      <td>10</td>\n",
       "      <td>10</td>\n",
       "      <td>332</td>\n",
       "      <td>0</td>\n",
       "      <td>Repas Vgtarien</td>\n",
       "      <td>20</td>\n",
       "    </tr>\n",
       "    <tr>\n",
       "      <th>10</th>\n",
       "      <td>11</td>\n",
       "      <td>11</td>\n",
       "      <td>653</td>\n",
       "      <td>449</td>\n",
       "      <td>Repas Standard</td>\n",
       "      <td>20</td>\n",
       "    </tr>\n",
       "    <tr>\n",
       "      <th>11</th>\n",
       "      <td>12</td>\n",
       "      <td>12</td>\n",
       "      <td>488</td>\n",
       "      <td>0</td>\n",
       "      <td>Repas Standard</td>\n",
       "      <td>20</td>\n",
       "    </tr>\n",
       "    <tr>\n",
       "      <th>12</th>\n",
       "      <td>13</td>\n",
       "      <td>13</td>\n",
       "      <td>537</td>\n",
       "      <td>254</td>\n",
       "      <td>Repas Standard</td>\n",
       "      <td>20</td>\n",
       "    </tr>\n",
       "    <tr>\n",
       "      <th>13</th>\n",
       "      <td>14</td>\n",
       "      <td>14</td>\n",
       "      <td>326</td>\n",
       "      <td>225</td>\n",
       "      <td>Repas Standard</td>\n",
       "      <td>20</td>\n",
       "    </tr>\n",
       "    <tr>\n",
       "      <th>14</th>\n",
       "      <td>15</td>\n",
       "      <td>15</td>\n",
       "      <td>419</td>\n",
       "      <td>0</td>\n",
       "      <td>Repas Panier</td>\n",
       "      <td>20</td>\n",
       "    </tr>\n",
       "    <tr>\n",
       "      <th>15</th>\n",
       "      <td>16</td>\n",
       "      <td>16</td>\n",
       "      <td>230</td>\n",
       "      <td>475</td>\n",
       "      <td>Repas Standard</td>\n",
       "      <td>20</td>\n",
       "    </tr>\n",
       "  </tbody>\n",
       "</table>\n",
       "</div>"
      ],
      "text/plain": [
       "    Id Personne  Id Famille  QF CAF  QF EMS        Type repas  Nombre\n",
       "0             1           1     426       0    Repas Standard      20\n",
       "1             2           2     689     326  Repas Vgtarien      20\n",
       "2             3           3     300       0    Repas Standard      20\n",
       "3             4           4     347       0    Repas Standard      20\n",
       "4             5           5     445     140    Repas Standard      20\n",
       "5             6           6     485       0    Repas Standard      20\n",
       "6             7           7     121       0    Repas Standard      20\n",
       "7             8           8     388     176    Repas Standard      20\n",
       "8             9           9     496     596    Repas Standard      20\n",
       "9            10          10     332       0  Repas Vgtarien      20\n",
       "10           11          11     653     449    Repas Standard      20\n",
       "11           12          12     488       0    Repas Standard      20\n",
       "12           13          13     537     254    Repas Standard      20\n",
       "13           14          14     326     225    Repas Standard      20\n",
       "14           15          15     419       0      Repas Panier      20\n",
       "15           16          16     230     475    Repas Standard      20"
      ]
     },
     "execution_count": 3,
     "metadata": {},
     "output_type": "execute_result"
    }
   ],
   "source": [
    "df = pd.read_csv('./données QF CAF-QF EMS.csv', sep=\";\", encoding=\"iso-8859-1\")\n",
    "df"
   ]
  },
  {
   "cell_type": "code",
   "execution_count": 4,
   "id": "18a1be79",
   "metadata": {},
   "outputs": [
    {
     "data": {
      "text/html": [
       "<div>\n",
       "<style scoped>\n",
       "    .dataframe tbody tr th:only-of-type {\n",
       "        vertical-align: middle;\n",
       "    }\n",
       "\n",
       "    .dataframe tbody tr th {\n",
       "        vertical-align: top;\n",
       "    }\n",
       "\n",
       "    .dataframe thead th {\n",
       "        text-align: right;\n",
       "    }\n",
       "</style>\n",
       "<table border=\"1\" class=\"dataframe\">\n",
       "  <thead>\n",
       "    <tr style=\"text-align: right;\">\n",
       "      <th></th>\n",
       "      <th>Id Personne</th>\n",
       "      <th>Id Famille</th>\n",
       "      <th>QF CAF</th>\n",
       "      <th>QF EMS</th>\n",
       "      <th>Type repas</th>\n",
       "      <th>Nombre</th>\n",
       "      <th>QF</th>\n",
       "    </tr>\n",
       "  </thead>\n",
       "  <tbody>\n",
       "    <tr>\n",
       "      <th>0</th>\n",
       "      <td>1</td>\n",
       "      <td>1</td>\n",
       "      <td>426</td>\n",
       "      <td>0</td>\n",
       "      <td>Repas Standard</td>\n",
       "      <td>20</td>\n",
       "      <td>426</td>\n",
       "    </tr>\n",
       "    <tr>\n",
       "      <th>1</th>\n",
       "      <td>2</td>\n",
       "      <td>2</td>\n",
       "      <td>689</td>\n",
       "      <td>326</td>\n",
       "      <td>Repas Vgtarien</td>\n",
       "      <td>20</td>\n",
       "      <td>689</td>\n",
       "    </tr>\n",
       "    <tr>\n",
       "      <th>2</th>\n",
       "      <td>3</td>\n",
       "      <td>3</td>\n",
       "      <td>300</td>\n",
       "      <td>0</td>\n",
       "      <td>Repas Standard</td>\n",
       "      <td>20</td>\n",
       "      <td>300</td>\n",
       "    </tr>\n",
       "    <tr>\n",
       "      <th>3</th>\n",
       "      <td>4</td>\n",
       "      <td>4</td>\n",
       "      <td>347</td>\n",
       "      <td>0</td>\n",
       "      <td>Repas Standard</td>\n",
       "      <td>20</td>\n",
       "      <td>347</td>\n",
       "    </tr>\n",
       "    <tr>\n",
       "      <th>4</th>\n",
       "      <td>5</td>\n",
       "      <td>5</td>\n",
       "      <td>445</td>\n",
       "      <td>140</td>\n",
       "      <td>Repas Standard</td>\n",
       "      <td>20</td>\n",
       "      <td>445</td>\n",
       "    </tr>\n",
       "    <tr>\n",
       "      <th>5</th>\n",
       "      <td>6</td>\n",
       "      <td>6</td>\n",
       "      <td>485</td>\n",
       "      <td>0</td>\n",
       "      <td>Repas Standard</td>\n",
       "      <td>20</td>\n",
       "      <td>485</td>\n",
       "    </tr>\n",
       "    <tr>\n",
       "      <th>6</th>\n",
       "      <td>7</td>\n",
       "      <td>7</td>\n",
       "      <td>121</td>\n",
       "      <td>0</td>\n",
       "      <td>Repas Standard</td>\n",
       "      <td>20</td>\n",
       "      <td>121</td>\n",
       "    </tr>\n",
       "    <tr>\n",
       "      <th>7</th>\n",
       "      <td>8</td>\n",
       "      <td>8</td>\n",
       "      <td>388</td>\n",
       "      <td>176</td>\n",
       "      <td>Repas Standard</td>\n",
       "      <td>20</td>\n",
       "      <td>388</td>\n",
       "    </tr>\n",
       "    <tr>\n",
       "      <th>8</th>\n",
       "      <td>9</td>\n",
       "      <td>9</td>\n",
       "      <td>496</td>\n",
       "      <td>596</td>\n",
       "      <td>Repas Standard</td>\n",
       "      <td>20</td>\n",
       "      <td>496</td>\n",
       "    </tr>\n",
       "    <tr>\n",
       "      <th>9</th>\n",
       "      <td>10</td>\n",
       "      <td>10</td>\n",
       "      <td>332</td>\n",
       "      <td>0</td>\n",
       "      <td>Repas Vgtarien</td>\n",
       "      <td>20</td>\n",
       "      <td>332</td>\n",
       "    </tr>\n",
       "    <tr>\n",
       "      <th>10</th>\n",
       "      <td>11</td>\n",
       "      <td>11</td>\n",
       "      <td>653</td>\n",
       "      <td>449</td>\n",
       "      <td>Repas Standard</td>\n",
       "      <td>20</td>\n",
       "      <td>653</td>\n",
       "    </tr>\n",
       "    <tr>\n",
       "      <th>11</th>\n",
       "      <td>12</td>\n",
       "      <td>12</td>\n",
       "      <td>488</td>\n",
       "      <td>0</td>\n",
       "      <td>Repas Standard</td>\n",
       "      <td>20</td>\n",
       "      <td>488</td>\n",
       "    </tr>\n",
       "    <tr>\n",
       "      <th>12</th>\n",
       "      <td>13</td>\n",
       "      <td>13</td>\n",
       "      <td>537</td>\n",
       "      <td>254</td>\n",
       "      <td>Repas Standard</td>\n",
       "      <td>20</td>\n",
       "      <td>537</td>\n",
       "    </tr>\n",
       "    <tr>\n",
       "      <th>13</th>\n",
       "      <td>14</td>\n",
       "      <td>14</td>\n",
       "      <td>326</td>\n",
       "      <td>225</td>\n",
       "      <td>Repas Standard</td>\n",
       "      <td>20</td>\n",
       "      <td>326</td>\n",
       "    </tr>\n",
       "    <tr>\n",
       "      <th>14</th>\n",
       "      <td>15</td>\n",
       "      <td>15</td>\n",
       "      <td>419</td>\n",
       "      <td>0</td>\n",
       "      <td>Repas Panier</td>\n",
       "      <td>20</td>\n",
       "      <td>419</td>\n",
       "    </tr>\n",
       "    <tr>\n",
       "      <th>15</th>\n",
       "      <td>16</td>\n",
       "      <td>16</td>\n",
       "      <td>230</td>\n",
       "      <td>475</td>\n",
       "      <td>Repas Standard</td>\n",
       "      <td>20</td>\n",
       "      <td>230</td>\n",
       "    </tr>\n",
       "  </tbody>\n",
       "</table>\n",
       "</div>"
      ],
      "text/plain": [
       "    Id Personne  Id Famille  QF CAF  QF EMS        Type repas  Nombre   QF\n",
       "0             1           1     426       0    Repas Standard      20  426\n",
       "1             2           2     689     326  Repas Vgtarien      20  689\n",
       "2             3           3     300       0    Repas Standard      20  300\n",
       "3             4           4     347       0    Repas Standard      20  347\n",
       "4             5           5     445     140    Repas Standard      20  445\n",
       "5             6           6     485       0    Repas Standard      20  485\n",
       "6             7           7     121       0    Repas Standard      20  121\n",
       "7             8           8     388     176    Repas Standard      20  388\n",
       "8             9           9     496     596    Repas Standard      20  496\n",
       "9            10          10     332       0  Repas Vgtarien      20  332\n",
       "10           11          11     653     449    Repas Standard      20  653\n",
       "11           12          12     488       0    Repas Standard      20  488\n",
       "12           13          13     537     254    Repas Standard      20  537\n",
       "13           14          14     326     225    Repas Standard      20  326\n",
       "14           15          15     419       0      Repas Panier      20  419\n",
       "15           16          16     230     475    Repas Standard      20  230"
      ]
     },
     "execution_count": 4,
     "metadata": {},
     "output_type": "execute_result"
    }
   ],
   "source": [
    "df['QF'] = df['QF CAF'] # dans ce tableau le QF est égale au QF CAF \n",
    "df"
   ]
  },
  {
   "cell_type": "code",
   "execution_count": 5,
   "id": "975961f0",
   "metadata": {},
   "outputs": [
    {
     "data": {
      "text/html": [
       "<div>\n",
       "<style scoped>\n",
       "    .dataframe tbody tr th:only-of-type {\n",
       "        vertical-align: middle;\n",
       "    }\n",
       "\n",
       "    .dataframe tbody tr th {\n",
       "        vertical-align: top;\n",
       "    }\n",
       "\n",
       "    .dataframe thead th {\n",
       "        text-align: right;\n",
       "    }\n",
       "</style>\n",
       "<table border=\"1\" class=\"dataframe\">\n",
       "  <thead>\n",
       "    <tr style=\"text-align: right;\">\n",
       "      <th></th>\n",
       "      <th>Id Personne</th>\n",
       "      <th>Id Famille</th>\n",
       "      <th>QF CAF</th>\n",
       "      <th>QF EMS</th>\n",
       "      <th>Type repas</th>\n",
       "      <th>Nombre</th>\n",
       "      <th>QF</th>\n",
       "    </tr>\n",
       "  </thead>\n",
       "  <tbody>\n",
       "    <tr>\n",
       "      <th>0</th>\n",
       "      <td>1</td>\n",
       "      <td>1</td>\n",
       "      <td>426</td>\n",
       "      <td>0</td>\n",
       "      <td>Repas Standard</td>\n",
       "      <td>20</td>\n",
       "      <td>0</td>\n",
       "    </tr>\n",
       "    <tr>\n",
       "      <th>1</th>\n",
       "      <td>2</td>\n",
       "      <td>2</td>\n",
       "      <td>689</td>\n",
       "      <td>326</td>\n",
       "      <td>Repas Vgtarien</td>\n",
       "      <td>20</td>\n",
       "      <td>326</td>\n",
       "    </tr>\n",
       "    <tr>\n",
       "      <th>2</th>\n",
       "      <td>3</td>\n",
       "      <td>3</td>\n",
       "      <td>300</td>\n",
       "      <td>0</td>\n",
       "      <td>Repas Standard</td>\n",
       "      <td>20</td>\n",
       "      <td>0</td>\n",
       "    </tr>\n",
       "    <tr>\n",
       "      <th>3</th>\n",
       "      <td>4</td>\n",
       "      <td>4</td>\n",
       "      <td>347</td>\n",
       "      <td>0</td>\n",
       "      <td>Repas Standard</td>\n",
       "      <td>20</td>\n",
       "      <td>0</td>\n",
       "    </tr>\n",
       "    <tr>\n",
       "      <th>4</th>\n",
       "      <td>5</td>\n",
       "      <td>5</td>\n",
       "      <td>445</td>\n",
       "      <td>140</td>\n",
       "      <td>Repas Standard</td>\n",
       "      <td>20</td>\n",
       "      <td>140</td>\n",
       "    </tr>\n",
       "    <tr>\n",
       "      <th>5</th>\n",
       "      <td>6</td>\n",
       "      <td>6</td>\n",
       "      <td>485</td>\n",
       "      <td>0</td>\n",
       "      <td>Repas Standard</td>\n",
       "      <td>20</td>\n",
       "      <td>0</td>\n",
       "    </tr>\n",
       "    <tr>\n",
       "      <th>6</th>\n",
       "      <td>7</td>\n",
       "      <td>7</td>\n",
       "      <td>121</td>\n",
       "      <td>0</td>\n",
       "      <td>Repas Standard</td>\n",
       "      <td>20</td>\n",
       "      <td>0</td>\n",
       "    </tr>\n",
       "    <tr>\n",
       "      <th>7</th>\n",
       "      <td>8</td>\n",
       "      <td>8</td>\n",
       "      <td>388</td>\n",
       "      <td>176</td>\n",
       "      <td>Repas Standard</td>\n",
       "      <td>20</td>\n",
       "      <td>176</td>\n",
       "    </tr>\n",
       "    <tr>\n",
       "      <th>8</th>\n",
       "      <td>9</td>\n",
       "      <td>9</td>\n",
       "      <td>496</td>\n",
       "      <td>596</td>\n",
       "      <td>Repas Standard</td>\n",
       "      <td>20</td>\n",
       "      <td>596</td>\n",
       "    </tr>\n",
       "    <tr>\n",
       "      <th>9</th>\n",
       "      <td>10</td>\n",
       "      <td>10</td>\n",
       "      <td>332</td>\n",
       "      <td>0</td>\n",
       "      <td>Repas Vgtarien</td>\n",
       "      <td>20</td>\n",
       "      <td>0</td>\n",
       "    </tr>\n",
       "    <tr>\n",
       "      <th>10</th>\n",
       "      <td>11</td>\n",
       "      <td>11</td>\n",
       "      <td>653</td>\n",
       "      <td>449</td>\n",
       "      <td>Repas Standard</td>\n",
       "      <td>20</td>\n",
       "      <td>449</td>\n",
       "    </tr>\n",
       "    <tr>\n",
       "      <th>11</th>\n",
       "      <td>12</td>\n",
       "      <td>12</td>\n",
       "      <td>488</td>\n",
       "      <td>0</td>\n",
       "      <td>Repas Standard</td>\n",
       "      <td>20</td>\n",
       "      <td>0</td>\n",
       "    </tr>\n",
       "    <tr>\n",
       "      <th>12</th>\n",
       "      <td>13</td>\n",
       "      <td>13</td>\n",
       "      <td>537</td>\n",
       "      <td>254</td>\n",
       "      <td>Repas Standard</td>\n",
       "      <td>20</td>\n",
       "      <td>254</td>\n",
       "    </tr>\n",
       "    <tr>\n",
       "      <th>13</th>\n",
       "      <td>14</td>\n",
       "      <td>14</td>\n",
       "      <td>326</td>\n",
       "      <td>225</td>\n",
       "      <td>Repas Standard</td>\n",
       "      <td>20</td>\n",
       "      <td>225</td>\n",
       "    </tr>\n",
       "    <tr>\n",
       "      <th>14</th>\n",
       "      <td>15</td>\n",
       "      <td>15</td>\n",
       "      <td>419</td>\n",
       "      <td>0</td>\n",
       "      <td>Repas Panier</td>\n",
       "      <td>20</td>\n",
       "      <td>0</td>\n",
       "    </tr>\n",
       "    <tr>\n",
       "      <th>15</th>\n",
       "      <td>16</td>\n",
       "      <td>16</td>\n",
       "      <td>230</td>\n",
       "      <td>475</td>\n",
       "      <td>Repas Standard</td>\n",
       "      <td>20</td>\n",
       "      <td>475</td>\n",
       "    </tr>\n",
       "  </tbody>\n",
       "</table>\n",
       "</div>"
      ],
      "text/plain": [
       "    Id Personne  Id Famille  QF CAF  QF EMS        Type repas  Nombre   QF\n",
       "0             1           1     426       0    Repas Standard      20    0\n",
       "1             2           2     689     326  Repas Vgtarien      20  326\n",
       "2             3           3     300       0    Repas Standard      20    0\n",
       "3             4           4     347       0    Repas Standard      20    0\n",
       "4             5           5     445     140    Repas Standard      20  140\n",
       "5             6           6     485       0    Repas Standard      20    0\n",
       "6             7           7     121       0    Repas Standard      20    0\n",
       "7             8           8     388     176    Repas Standard      20  176\n",
       "8             9           9     496     596    Repas Standard      20  596\n",
       "9            10          10     332       0  Repas Vgtarien      20    0\n",
       "10           11          11     653     449    Repas Standard      20  449\n",
       "11           12          12     488       0    Repas Standard      20    0\n",
       "12           13          13     537     254    Repas Standard      20  254\n",
       "13           14          14     326     225    Repas Standard      20  225\n",
       "14           15          15     419       0      Repas Panier      20    0\n",
       "15           16          16     230     475    Repas Standard      20  475"
      ]
     },
     "execution_count": 5,
     "metadata": {},
     "output_type": "execute_result"
    }
   ],
   "source": [
    "df['QF'] = df['QF EMS'] # dans ce tableau le QF est égale au QF EMS \n",
    "df"
   ]
  },
  {
   "cell_type": "code",
   "execution_count": 6,
   "id": "d2015946",
   "metadata": {},
   "outputs": [
    {
     "data": {
      "text/plain": [
       "0    -426\n",
       "1    -363\n",
       "2    -300\n",
       "3    -347\n",
       "4    -305\n",
       "5    -485\n",
       "6    -121\n",
       "7    -212\n",
       "8     100\n",
       "9    -332\n",
       "10   -204\n",
       "11   -488\n",
       "12   -283\n",
       "13   -101\n",
       "14   -419\n",
       "15    245\n",
       "dtype: int64"
      ]
     },
     "execution_count": 6,
     "metadata": {},
     "output_type": "execute_result"
    }
   ],
   "source": [
    "df['QF EMS'] - df['QF CAF'] # Variation entre QF CAF et QF EMS "
   ]
  },
  {
   "cell_type": "code",
   "execution_count": 170,
   "id": "44958f99",
   "metadata": {},
   "outputs": [
    {
     "data": {
      "text/html": [
       "<div>\n",
       "<style scoped>\n",
       "    .dataframe tbody tr th:only-of-type {\n",
       "        vertical-align: middle;\n",
       "    }\n",
       "\n",
       "    .dataframe tbody tr th {\n",
       "        vertical-align: top;\n",
       "    }\n",
       "\n",
       "    .dataframe thead th {\n",
       "        text-align: right;\n",
       "    }\n",
       "</style>\n",
       "<table border=\"1\" class=\"dataframe\">\n",
       "  <thead>\n",
       "    <tr style=\"text-align: right;\">\n",
       "      <th></th>\n",
       "      <th>Id Personne</th>\n",
       "      <th>Id Famille</th>\n",
       "      <th>QF</th>\n",
       "      <th>Type repas</th>\n",
       "      <th>Nombre</th>\n",
       "      <th>id gale ou non</th>\n",
       "      <th>type de repas simplifi par tarif identique</th>\n",
       "    </tr>\n",
       "  </thead>\n",
       "  <tbody>\n",
       "    <tr>\n",
       "      <th>7167</th>\n",
       "      <td>6691</td>\n",
       "      <td>443</td>\n",
       "      <td>379</td>\n",
       "      <td>Repas Sans Porc</td>\n",
       "      <td>62</td>\n",
       "      <td>oui</td>\n",
       "      <td>Repas Standard</td>\n",
       "    </tr>\n",
       "    <tr>\n",
       "      <th>7168</th>\n",
       "      <td>6691</td>\n",
       "      <td>443</td>\n",
       "      <td>1030</td>\n",
       "      <td>Repas Halal</td>\n",
       "      <td>41</td>\n",
       "      <td>oui</td>\n",
       "      <td>Repas Standard</td>\n",
       "    </tr>\n",
       "    <tr>\n",
       "      <th>7169</th>\n",
       "      <td>6691</td>\n",
       "      <td>443</td>\n",
       "      <td>1030</td>\n",
       "      <td>Repas Sans Porc</td>\n",
       "      <td>14</td>\n",
       "      <td>NaN</td>\n",
       "      <td>Repas Standard</td>\n",
       "    </tr>\n",
       "  </tbody>\n",
       "</table>\n",
       "</div>"
      ],
      "text/plain": [
       "      Id Personne  Id Famille    QF       Type repas  Nombre id gale ou non   \\\n",
       "7167         6691         443   379  Repas Sans Porc      62              oui   \n",
       "7168         6691         443  1030      Repas Halal      41              oui   \n",
       "7169         6691         443  1030  Repas Sans Porc      14              NaN   \n",
       "\n",
       "     type de repas simplifi par tarif identique   \n",
       "7167                               Repas Standard  \n",
       "7168                               Repas Standard  \n",
       "7169                               Repas Standard  "
      ]
     },
     "execution_count": 170,
     "metadata": {},
     "output_type": "execute_result"
    }
   ],
   "source": [
    "df[df['Id Famille'] ==  443] # toutes les familles qui ont un identifiant famille égale à 443"
   ]
  },
  {
   "cell_type": "code",
   "execution_count": 171,
   "id": "504e878e",
   "metadata": {},
   "outputs": [
    {
     "data": {
      "text/html": [
       "<div>\n",
       "<style scoped>\n",
       "    .dataframe tbody tr th:only-of-type {\n",
       "        vertical-align: middle;\n",
       "    }\n",
       "\n",
       "    .dataframe tbody tr th {\n",
       "        vertical-align: top;\n",
       "    }\n",
       "\n",
       "    .dataframe thead th {\n",
       "        text-align: right;\n",
       "    }\n",
       "</style>\n",
       "<table border=\"1\" class=\"dataframe\">\n",
       "  <thead>\n",
       "    <tr style=\"text-align: right;\">\n",
       "      <th></th>\n",
       "      <th>Id Personne</th>\n",
       "      <th>Id Famille</th>\n",
       "      <th>QF</th>\n",
       "      <th>Type repas</th>\n",
       "      <th>Nombre</th>\n",
       "    </tr>\n",
       "  </thead>\n",
       "  <tbody>\n",
       "    <tr>\n",
       "      <th>0</th>\n",
       "      <td>1</td>\n",
       "      <td>325</td>\n",
       "      <td>999999</td>\n",
       "      <td>Repas Végétarien</td>\n",
       "      <td>2</td>\n",
       "    </tr>\n",
       "    <tr>\n",
       "      <th>1</th>\n",
       "      <td>2</td>\n",
       "      <td>497</td>\n",
       "      <td>636</td>\n",
       "      <td>Repas Standard</td>\n",
       "      <td>1</td>\n",
       "    </tr>\n",
       "    <tr>\n",
       "      <th>2</th>\n",
       "      <td>3</td>\n",
       "      <td>762</td>\n",
       "      <td>999999</td>\n",
       "      <td>Repas Standard</td>\n",
       "      <td>1</td>\n",
       "    </tr>\n",
       "    <tr>\n",
       "      <th>3</th>\n",
       "      <td>4</td>\n",
       "      <td>770</td>\n",
       "      <td>392</td>\n",
       "      <td>Repas Standard</td>\n",
       "      <td>125</td>\n",
       "    </tr>\n",
       "    <tr>\n",
       "      <th>4</th>\n",
       "      <td>4</td>\n",
       "      <td>770</td>\n",
       "      <td>999999</td>\n",
       "      <td>Repas Standard</td>\n",
       "      <td>1</td>\n",
       "    </tr>\n",
       "    <tr>\n",
       "      <th>...</th>\n",
       "      <td>...</td>\n",
       "      <td>...</td>\n",
       "      <td>...</td>\n",
       "      <td>...</td>\n",
       "      <td>...</td>\n",
       "    </tr>\n",
       "    <tr>\n",
       "      <th>16930</th>\n",
       "      <td>15579</td>\n",
       "      <td>10849</td>\n",
       "      <td>999999</td>\n",
       "      <td>Repas Sans Porc</td>\n",
       "      <td>8</td>\n",
       "    </tr>\n",
       "    <tr>\n",
       "      <th>16931</th>\n",
       "      <td>15580</td>\n",
       "      <td>10850</td>\n",
       "      <td>999999</td>\n",
       "      <td>Repas Standard</td>\n",
       "      <td>13</td>\n",
       "    </tr>\n",
       "    <tr>\n",
       "      <th>16932</th>\n",
       "      <td>15581</td>\n",
       "      <td>10851</td>\n",
       "      <td>259</td>\n",
       "      <td>Repas Standard</td>\n",
       "      <td>12</td>\n",
       "    </tr>\n",
       "    <tr>\n",
       "      <th>16933</th>\n",
       "      <td>15582</td>\n",
       "      <td>10852</td>\n",
       "      <td>620</td>\n",
       "      <td>Repas Standard</td>\n",
       "      <td>14</td>\n",
       "    </tr>\n",
       "    <tr>\n",
       "      <th>16934</th>\n",
       "      <td>15583</td>\n",
       "      <td>10852</td>\n",
       "      <td>620</td>\n",
       "      <td>Repas Standard</td>\n",
       "      <td>10</td>\n",
       "    </tr>\n",
       "  </tbody>\n",
       "</table>\n",
       "<p>16935 rows × 5 columns</p>\n",
       "</div>"
      ],
      "text/plain": [
       "       Id Personne  Id Famille      QF        Type repas  Nombre\n",
       "0                1         325  999999  Repas Végétarien       2\n",
       "1                2         497     636    Repas Standard       1\n",
       "2                3         762  999999    Repas Standard       1\n",
       "3                4         770     392    Repas Standard     125\n",
       "4                4         770  999999    Repas Standard       1\n",
       "...            ...         ...     ...               ...     ...\n",
       "16930        15579       10849  999999   Repas Sans Porc       8\n",
       "16931        15580       10850  999999    Repas Standard      13\n",
       "16932        15581       10851     259    Repas Standard      12\n",
       "16933        15582       10852     620    Repas Standard      14\n",
       "16934        15583       10852     620    Repas Standard      10\n",
       "\n",
       "[16935 rows x 5 columns]"
      ]
     },
     "execution_count": 171,
     "metadata": {},
     "output_type": "execute_result"
    }
   ],
   "source": [
    "df[['Id Personne', 'Id Famille', 'QF', 'Type repas', 'Nombre']]"
   ]
  },
  {
   "cell_type": "code",
   "execution_count": 172,
   "id": "6e926985",
   "metadata": {},
   "outputs": [
    {
     "data": {
      "text/html": [
       "<div>\n",
       "<style scoped>\n",
       "    .dataframe tbody tr th:only-of-type {\n",
       "        vertical-align: middle;\n",
       "    }\n",
       "\n",
       "    .dataframe tbody tr th {\n",
       "        vertical-align: top;\n",
       "    }\n",
       "\n",
       "    .dataframe thead th {\n",
       "        text-align: right;\n",
       "    }\n",
       "</style>\n",
       "<table border=\"1\" class=\"dataframe\">\n",
       "  <thead>\n",
       "    <tr style=\"text-align: right;\">\n",
       "      <th></th>\n",
       "      <th>Nombre</th>\n",
       "    </tr>\n",
       "    <tr>\n",
       "      <th>Type repas</th>\n",
       "      <th></th>\n",
       "    </tr>\n",
       "  </thead>\n",
       "  <tbody>\n",
       "    <tr>\n",
       "      <th>Panier</th>\n",
       "      <td>112</td>\n",
       "    </tr>\n",
       "    <tr>\n",
       "      <th>Repas Halal</th>\n",
       "      <td>5544</td>\n",
       "    </tr>\n",
       "    <tr>\n",
       "      <th>Repas Sans Porc</th>\n",
       "      <td>1205</td>\n",
       "    </tr>\n",
       "    <tr>\n",
       "      <th>Repas Standard</th>\n",
       "      <td>9118</td>\n",
       "    </tr>\n",
       "    <tr>\n",
       "      <th>Repas Végétarien</th>\n",
       "      <td>956</td>\n",
       "    </tr>\n",
       "  </tbody>\n",
       "</table>\n",
       "</div>"
      ],
      "text/plain": [
       "                  Nombre\n",
       "Type repas              \n",
       "Panier               112\n",
       "Repas Halal         5544\n",
       "Repas Sans Porc     1205\n",
       "Repas Standard      9118\n",
       "Repas Végétarien     956"
      ]
     },
     "execution_count": 172,
     "metadata": {},
     "output_type": "execute_result"
    }
   ],
   "source": [
    "df[['Type repas', 'Nombre']].groupby('Type repas').count() # nombre de repas par type de repas "
   ]
  },
  {
   "cell_type": "code",
   "execution_count": 173,
   "id": "71b89622",
   "metadata": {},
   "outputs": [
    {
     "data": {
      "text/html": [
       "<div>\n",
       "<style scoped>\n",
       "    .dataframe tbody tr th:only-of-type {\n",
       "        vertical-align: middle;\n",
       "    }\n",
       "\n",
       "    .dataframe tbody tr th {\n",
       "        vertical-align: top;\n",
       "    }\n",
       "\n",
       "    .dataframe thead th {\n",
       "        text-align: right;\n",
       "    }\n",
       "</style>\n",
       "<table border=\"1\" class=\"dataframe\">\n",
       "  <thead>\n",
       "    <tr style=\"text-align: right;\">\n",
       "      <th></th>\n",
       "      <th>Nombre</th>\n",
       "    </tr>\n",
       "    <tr>\n",
       "      <th>Type repas</th>\n",
       "      <th></th>\n",
       "    </tr>\n",
       "  </thead>\n",
       "  <tbody>\n",
       "    <tr>\n",
       "      <th>Panier</th>\n",
       "      <td>7380</td>\n",
       "    </tr>\n",
       "    <tr>\n",
       "      <th>Repas Halal</th>\n",
       "      <td>433040</td>\n",
       "    </tr>\n",
       "    <tr>\n",
       "      <th>Repas Sans Porc</th>\n",
       "      <td>107789</td>\n",
       "    </tr>\n",
       "    <tr>\n",
       "      <th>Repas Standard</th>\n",
       "      <td>894000</td>\n",
       "    </tr>\n",
       "    <tr>\n",
       "      <th>Repas Végétarien</th>\n",
       "      <td>61394</td>\n",
       "    </tr>\n",
       "  </tbody>\n",
       "</table>\n",
       "</div>"
      ],
      "text/plain": [
       "                  Nombre\n",
       "Type repas              \n",
       "Panier              7380\n",
       "Repas Halal       433040\n",
       "Repas Sans Porc   107789\n",
       "Repas Standard    894000\n",
       "Repas Végétarien   61394"
      ]
     },
     "execution_count": 173,
     "metadata": {},
     "output_type": "execute_result"
    }
   ],
   "source": [
    "df[['Type repas', 'Nombre']].groupby('Type repas').sum() # somme du nombre de repas par type de repas "
   ]
  },
  {
   "cell_type": "code",
   "execution_count": 174,
   "id": "7b762cc7",
   "metadata": {},
   "outputs": [
    {
     "data": {
      "text/plain": [
       "array([    1,     2,     3, ..., 10850, 10851, 10852])"
      ]
     },
     "execution_count": 174,
     "metadata": {},
     "output_type": "execute_result"
    }
   ],
   "source": [
    "np.unique(df['Id Famille'])"
   ]
  },
  {
   "cell_type": "code",
   "execution_count": 175,
   "id": "fcf0a7d8",
   "metadata": {},
   "outputs": [
    {
     "data": {
      "text/html": [
       "<div>\n",
       "<style scoped>\n",
       "    .dataframe tbody tr th:only-of-type {\n",
       "        vertical-align: middle;\n",
       "    }\n",
       "\n",
       "    .dataframe tbody tr th {\n",
       "        vertical-align: top;\n",
       "    }\n",
       "\n",
       "    .dataframe thead th {\n",
       "        text-align: right;\n",
       "    }\n",
       "</style>\n",
       "<table border=\"1\" class=\"dataframe\">\n",
       "  <thead>\n",
       "    <tr style=\"text-align: right;\">\n",
       "      <th></th>\n",
       "      <th>Id Personne</th>\n",
       "      <th>Id Famille</th>\n",
       "      <th>QF</th>\n",
       "      <th>Type repas</th>\n",
       "      <th>Nombre</th>\n",
       "      <th>id gale ou non</th>\n",
       "      <th>type de repas simplifi par tarif identique</th>\n",
       "      <th>Repas</th>\n",
       "    </tr>\n",
       "  </thead>\n",
       "  <tbody>\n",
       "    <tr>\n",
       "      <th>0</th>\n",
       "      <td>1</td>\n",
       "      <td>325</td>\n",
       "      <td>999999</td>\n",
       "      <td>Repas Végétarien</td>\n",
       "      <td>2</td>\n",
       "      <td>NaN</td>\n",
       "      <td>Repas vgtarien</td>\n",
       "      <td>cantine_vegetarien</td>\n",
       "    </tr>\n",
       "    <tr>\n",
       "      <th>1</th>\n",
       "      <td>2</td>\n",
       "      <td>497</td>\n",
       "      <td>636</td>\n",
       "      <td>Repas Standard</td>\n",
       "      <td>1</td>\n",
       "      <td>NaN</td>\n",
       "      <td>Repas Standard</td>\n",
       "      <td>cantine</td>\n",
       "    </tr>\n",
       "    <tr>\n",
       "      <th>2</th>\n",
       "      <td>3</td>\n",
       "      <td>762</td>\n",
       "      <td>999999</td>\n",
       "      <td>Repas Standard</td>\n",
       "      <td>1</td>\n",
       "      <td>NaN</td>\n",
       "      <td>Repas Standard</td>\n",
       "      <td>cantine</td>\n",
       "    </tr>\n",
       "    <tr>\n",
       "      <th>3</th>\n",
       "      <td>4</td>\n",
       "      <td>770</td>\n",
       "      <td>392</td>\n",
       "      <td>Repas Standard</td>\n",
       "      <td>125</td>\n",
       "      <td>oui</td>\n",
       "      <td>Repas Standard</td>\n",
       "      <td>cantine</td>\n",
       "    </tr>\n",
       "    <tr>\n",
       "      <th>4</th>\n",
       "      <td>4</td>\n",
       "      <td>770</td>\n",
       "      <td>999999</td>\n",
       "      <td>Repas Standard</td>\n",
       "      <td>1</td>\n",
       "      <td>NaN</td>\n",
       "      <td>Repas Standard</td>\n",
       "      <td>cantine</td>\n",
       "    </tr>\n",
       "    <tr>\n",
       "      <th>...</th>\n",
       "      <td>...</td>\n",
       "      <td>...</td>\n",
       "      <td>...</td>\n",
       "      <td>...</td>\n",
       "      <td>...</td>\n",
       "      <td>...</td>\n",
       "      <td>...</td>\n",
       "      <td>...</td>\n",
       "    </tr>\n",
       "    <tr>\n",
       "      <th>16930</th>\n",
       "      <td>15579</td>\n",
       "      <td>10849</td>\n",
       "      <td>999999</td>\n",
       "      <td>Repas Sans Porc</td>\n",
       "      <td>8</td>\n",
       "      <td>NaN</td>\n",
       "      <td>Repas Standard</td>\n",
       "      <td>cantine</td>\n",
       "    </tr>\n",
       "    <tr>\n",
       "      <th>16931</th>\n",
       "      <td>15580</td>\n",
       "      <td>10850</td>\n",
       "      <td>999999</td>\n",
       "      <td>Repas Standard</td>\n",
       "      <td>13</td>\n",
       "      <td>NaN</td>\n",
       "      <td>Repas Standard</td>\n",
       "      <td>cantine</td>\n",
       "    </tr>\n",
       "    <tr>\n",
       "      <th>16932</th>\n",
       "      <td>15581</td>\n",
       "      <td>10851</td>\n",
       "      <td>259</td>\n",
       "      <td>Repas Standard</td>\n",
       "      <td>12</td>\n",
       "      <td>NaN</td>\n",
       "      <td>Repas Standard</td>\n",
       "      <td>cantine</td>\n",
       "    </tr>\n",
       "    <tr>\n",
       "      <th>16933</th>\n",
       "      <td>15582</td>\n",
       "      <td>10852</td>\n",
       "      <td>620</td>\n",
       "      <td>Repas Standard</td>\n",
       "      <td>14</td>\n",
       "      <td>NaN</td>\n",
       "      <td>Repas Standard</td>\n",
       "      <td>cantine</td>\n",
       "    </tr>\n",
       "    <tr>\n",
       "      <th>16934</th>\n",
       "      <td>15583</td>\n",
       "      <td>10852</td>\n",
       "      <td>620</td>\n",
       "      <td>Repas Standard</td>\n",
       "      <td>10</td>\n",
       "      <td>NaN</td>\n",
       "      <td>Repas Standard</td>\n",
       "      <td>cantine</td>\n",
       "    </tr>\n",
       "  </tbody>\n",
       "</table>\n",
       "<p>16935 rows × 8 columns</p>\n",
       "</div>"
      ],
      "text/plain": [
       "       Id Personne  Id Famille      QF        Type repas  Nombre  \\\n",
       "0                1         325  999999  Repas Végétarien       2   \n",
       "1                2         497     636    Repas Standard       1   \n",
       "2                3         762  999999    Repas Standard       1   \n",
       "3                4         770     392    Repas Standard     125   \n",
       "4                4         770  999999    Repas Standard       1   \n",
       "...            ...         ...     ...               ...     ...   \n",
       "16930        15579       10849  999999   Repas Sans Porc       8   \n",
       "16931        15580       10850  999999    Repas Standard      13   \n",
       "16932        15581       10851     259    Repas Standard      12   \n",
       "16933        15582       10852     620    Repas Standard      14   \n",
       "16934        15583       10852     620    Repas Standard      10   \n",
       "\n",
       "      id gale ou non  type de repas simplifi par tarif identique   \\\n",
       "0                  NaN                             Repas vgtarien   \n",
       "1                  NaN                               Repas Standard   \n",
       "2                  NaN                               Repas Standard   \n",
       "3                  oui                               Repas Standard   \n",
       "4                  NaN                               Repas Standard   \n",
       "...                ...                                          ...   \n",
       "16930              NaN                               Repas Standard   \n",
       "16931              NaN                               Repas Standard   \n",
       "16932              NaN                               Repas Standard   \n",
       "16933              NaN                               Repas Standard   \n",
       "16934              NaN                               Repas Standard   \n",
       "\n",
       "                    Repas  \n",
       "0      cantine_vegetarien  \n",
       "1                 cantine  \n",
       "2                 cantine  \n",
       "3                 cantine  \n",
       "4                 cantine  \n",
       "...                   ...  \n",
       "16930             cantine  \n",
       "16931             cantine  \n",
       "16932             cantine  \n",
       "16933             cantine  \n",
       "16934             cantine  \n",
       "\n",
       "[16935 rows x 8 columns]"
      ]
     },
     "execution_count": 175,
     "metadata": {},
     "output_type": "execute_result"
    }
   ],
   "source": [
    "df['Repas'] = np.select(\n",
    "    [\n",
    "        df[\"Type repas\"].str.contains('tarien'), #tarien = végétarien\n",
    "        df[\"Type repas\"].str.contains('Panier'),\n",
    "    ],\n",
    "    [\n",
    "        'cantine_vegetarien',\n",
    "        'cantine_panier',\n",
    "    ],\n",
    "    default = 'cantine'\n",
    ")\n",
    "df"
   ]
  },
  {
   "cell_type": "code",
   "execution_count": 176,
   "id": "d88e141c",
   "metadata": {},
   "outputs": [
    {
     "data": {
      "text/html": [
       "<div>\n",
       "<style scoped>\n",
       "    .dataframe tbody tr th:only-of-type {\n",
       "        vertical-align: middle;\n",
       "    }\n",
       "\n",
       "    .dataframe tbody tr th {\n",
       "        vertical-align: top;\n",
       "    }\n",
       "\n",
       "    .dataframe thead th {\n",
       "        text-align: right;\n",
       "    }\n",
       "</style>\n",
       "<table border=\"1\" class=\"dataframe\">\n",
       "  <thead>\n",
       "    <tr style=\"text-align: right;\">\n",
       "      <th></th>\n",
       "      <th>Repas</th>\n",
       "      <th>Nombre</th>\n",
       "    </tr>\n",
       "  </thead>\n",
       "  <tbody>\n",
       "    <tr>\n",
       "      <th>0</th>\n",
       "      <td>cantine_vegetarien</td>\n",
       "      <td>2</td>\n",
       "    </tr>\n",
       "    <tr>\n",
       "      <th>1</th>\n",
       "      <td>cantine</td>\n",
       "      <td>1</td>\n",
       "    </tr>\n",
       "    <tr>\n",
       "      <th>2</th>\n",
       "      <td>cantine</td>\n",
       "      <td>1</td>\n",
       "    </tr>\n",
       "    <tr>\n",
       "      <th>3</th>\n",
       "      <td>cantine</td>\n",
       "      <td>125</td>\n",
       "    </tr>\n",
       "    <tr>\n",
       "      <th>4</th>\n",
       "      <td>cantine</td>\n",
       "      <td>1</td>\n",
       "    </tr>\n",
       "    <tr>\n",
       "      <th>...</th>\n",
       "      <td>...</td>\n",
       "      <td>...</td>\n",
       "    </tr>\n",
       "    <tr>\n",
       "      <th>16930</th>\n",
       "      <td>cantine</td>\n",
       "      <td>8</td>\n",
       "    </tr>\n",
       "    <tr>\n",
       "      <th>16931</th>\n",
       "      <td>cantine</td>\n",
       "      <td>13</td>\n",
       "    </tr>\n",
       "    <tr>\n",
       "      <th>16932</th>\n",
       "      <td>cantine</td>\n",
       "      <td>12</td>\n",
       "    </tr>\n",
       "    <tr>\n",
       "      <th>16933</th>\n",
       "      <td>cantine</td>\n",
       "      <td>14</td>\n",
       "    </tr>\n",
       "    <tr>\n",
       "      <th>16934</th>\n",
       "      <td>cantine</td>\n",
       "      <td>10</td>\n",
       "    </tr>\n",
       "  </tbody>\n",
       "</table>\n",
       "<p>16935 rows × 2 columns</p>\n",
       "</div>"
      ],
      "text/plain": [
       "                    Repas  Nombre\n",
       "0      cantine_vegetarien       2\n",
       "1                 cantine       1\n",
       "2                 cantine       1\n",
       "3                 cantine     125\n",
       "4                 cantine       1\n",
       "...                   ...     ...\n",
       "16930             cantine       8\n",
       "16931             cantine      13\n",
       "16932             cantine      12\n",
       "16933             cantine      14\n",
       "16934             cantine      10\n",
       "\n",
       "[16935 rows x 2 columns]"
      ]
     },
     "execution_count": 176,
     "metadata": {},
     "output_type": "execute_result"
    }
   ],
   "source": [
    "df[['Repas', 'Nombre']] # nombre de repas pour chaque enfant"
   ]
  },
  {
   "cell_type": "code",
   "execution_count": 177,
   "id": "32ac809e",
   "metadata": {},
   "outputs": [
    {
     "data": {
      "text/html": [
       "<div>\n",
       "<style scoped>\n",
       "    .dataframe tbody tr th:only-of-type {\n",
       "        vertical-align: middle;\n",
       "    }\n",
       "\n",
       "    .dataframe tbody tr th {\n",
       "        vertical-align: top;\n",
       "    }\n",
       "\n",
       "    .dataframe thead th {\n",
       "        text-align: right;\n",
       "    }\n",
       "</style>\n",
       "<table border=\"1\" class=\"dataframe\">\n",
       "  <thead>\n",
       "    <tr style=\"text-align: right;\">\n",
       "      <th></th>\n",
       "      <th>Nombre</th>\n",
       "    </tr>\n",
       "    <tr>\n",
       "      <th>Repas</th>\n",
       "      <th></th>\n",
       "    </tr>\n",
       "  </thead>\n",
       "  <tbody>\n",
       "    <tr>\n",
       "      <th>cantine</th>\n",
       "      <td>15867</td>\n",
       "    </tr>\n",
       "    <tr>\n",
       "      <th>cantine_panier</th>\n",
       "      <td>112</td>\n",
       "    </tr>\n",
       "    <tr>\n",
       "      <th>cantine_vegetarien</th>\n",
       "      <td>956</td>\n",
       "    </tr>\n",
       "  </tbody>\n",
       "</table>\n",
       "</div>"
      ],
      "text/plain": [
       "                    Nombre\n",
       "Repas                     \n",
       "cantine              15867\n",
       "cantine_panier         112\n",
       "cantine_vegetarien     956"
      ]
     },
     "execution_count": 177,
     "metadata": {},
     "output_type": "execute_result"
    }
   ],
   "source": [
    "df[['Repas', 'Nombre']].groupby('Repas').count() # 15867 enfants prennent le repas standard (cantine)"
   ]
  },
  {
   "cell_type": "code",
   "execution_count": 178,
   "id": "4baba764",
   "metadata": {},
   "outputs": [
    {
     "data": {
      "text/html": [
       "<div>\n",
       "<style scoped>\n",
       "    .dataframe tbody tr th:only-of-type {\n",
       "        vertical-align: middle;\n",
       "    }\n",
       "\n",
       "    .dataframe tbody tr th {\n",
       "        vertical-align: top;\n",
       "    }\n",
       "\n",
       "    .dataframe thead th {\n",
       "        text-align: right;\n",
       "    }\n",
       "</style>\n",
       "<table border=\"1\" class=\"dataframe\">\n",
       "  <thead>\n",
       "    <tr style=\"text-align: right;\">\n",
       "      <th></th>\n",
       "      <th>Nombre</th>\n",
       "    </tr>\n",
       "    <tr>\n",
       "      <th>Repas</th>\n",
       "      <th></th>\n",
       "    </tr>\n",
       "  </thead>\n",
       "  <tbody>\n",
       "    <tr>\n",
       "      <th>cantine</th>\n",
       "      <td>1434829</td>\n",
       "    </tr>\n",
       "    <tr>\n",
       "      <th>cantine_panier</th>\n",
       "      <td>7380</td>\n",
       "    </tr>\n",
       "    <tr>\n",
       "      <th>cantine_vegetarien</th>\n",
       "      <td>61394</td>\n",
       "    </tr>\n",
       "  </tbody>\n",
       "</table>\n",
       "</div>"
      ],
      "text/plain": [
       "                     Nombre\n",
       "Repas                      \n",
       "cantine             1434829\n",
       "cantine_panier         7380\n",
       "cantine_vegetarien    61394"
      ]
     },
     "execution_count": 178,
     "metadata": {},
     "output_type": "execute_result"
    }
   ],
   "source": [
    "df[['Repas', 'Nombre']].groupby('Repas').sum()"
   ]
  },
  {
   "cell_type": "code",
   "execution_count": 179,
   "id": "a9bb6ba4",
   "metadata": {},
   "outputs": [],
   "source": [
    "import matplotlib.pyplot as plt"
   ]
  },
  {
   "cell_type": "markdown",
   "id": "7225aa5b",
   "metadata": {},
   "source": [
    "Histogramme qui représente le nombre d'enfants pour chaque type de repas "
   ]
  },
  {
   "cell_type": "code",
   "execution_count": 180,
   "id": "815abcc7",
   "metadata": {},
   "outputs": [
    {
     "data": {
      "text/plain": [
       "(array([  956.,     0.,     0.,     0.,     0., 15867.,     0.,     0.,\n",
       "            0.,   112.]),\n",
       " array([0. , 0.2, 0.4, 0.6, 0.8, 1. , 1.2, 1.4, 1.6, 1.8, 2. ]),\n",
       " <BarContainer object of 10 artists>)"
      ]
     },
     "execution_count": 180,
     "metadata": {},
     "output_type": "execute_result"
    },
    {
     "data": {
      "image/png": "[encoded data removed]",
      "text/plain": [
       "<Figure size 432x288 with 1 Axes>"
      ]
     },
     "metadata": {
      "needs_background": "light"
     },
     "output_type": "display_data"
    }
   ],
   "source": [
    "plt.hist(df[['Repas']]) # il y a 15867 enfants qui prennent le repas standard (cantine sur le graphique)"
   ]
  },
  {
   "cell_type": "markdown",
   "id": "5834962a",
   "metadata": {},
   "source": [
    "Hisogramme qui représente le nombre de repas en fonction du type de repas "
   ]
  },
  {
   "cell_type": "code",
   "execution_count": 181,
   "id": "008f0378",
   "metadata": {},
   "outputs": [
    {
     "data": {
      "text/plain": [
       "(array([  61394.,       0.,       0.,       0.,       0., 1434829.,\n",
       "              0.,       0.,       0.,    7380.]),\n",
       " array([0. , 0.2, 0.4, 0.6, 0.8, 1. , 1.2, 1.4, 1.6, 1.8, 2. ]),\n",
       " <BarContainer object of 10 artists>)"
      ]
     },
     "execution_count": 181,
     "metadata": {},
     "output_type": "execute_result"
    },
    {
     "data": {
      "image/png": "[encoded data removed]",
      "text/plain": [
       "<Figure size 432x288 with 1 Axes>"
      ]
     },
     "metadata": {
      "needs_background": "light"
     },
     "output_type": "display_data"
    }
   ],
   "source": [
    "plt.hist(df[['Repas']], weights = df[['Nombre']]) # il y a 1434829 repas standards (cantine) "
   ]
  },
  {
   "cell_type": "code",
   "execution_count": 182,
   "id": "474792ad",
   "metadata": {},
   "outputs": [
    {
     "data": {
      "text/plain": [
       "0        999999\n",
       "1           636\n",
       "2        999999\n",
       "3           392\n",
       "4        999999\n",
       "          ...  \n",
       "16930    999999\n",
       "16931    999999\n",
       "16932       259\n",
       "16933       620\n",
       "16934       620\n",
       "Name: QF, Length: 16935, dtype: int64"
      ]
     },
     "execution_count": 182,
     "metadata": {},
     "output_type": "execute_result"
    }
   ],
   "source": [
    "df.QF"
   ]
  },
  {
   "cell_type": "code",
   "execution_count": 183,
   "id": "bf6cfd5a",
   "metadata": {},
   "outputs": [
    {
     "data": {
      "text/plain": [
       "array([     1,      3,     13, ...,  13591,  13939, 999999])"
      ]
     },
     "execution_count": 183,
     "metadata": {},
     "output_type": "execute_result"
    }
   ],
   "source": [
    "np.unique(df.QF)"
   ]
  },
  {
   "cell_type": "markdown",
   "id": "86193703",
   "metadata": {},
   "source": [
    "Distribution des QF des familles des enfants qui viennent à la cantine scolaire "
   ]
  },
  {
   "cell_type": "code",
   "execution_count": 184,
   "id": "0eb7835a",
   "metadata": {},
   "outputs": [
    {
     "data": {
      "text/plain": [
       "(array([15859.,     0.,     0.,     0.,     0.,     0.,     0.,     0.,\n",
       "            0.,  1076.]),\n",
       " array([1.000000e+00, 1.000008e+05, 2.000006e+05, 3.000004e+05,\n",
       "        4.000002e+05, 5.000000e+05, 5.999998e+05, 6.999996e+05,\n",
       "        7.999994e+05, 8.999992e+05, 9.999990e+05]),\n",
       " <BarContainer object of 10 artists>)"
      ]
     },
     "execution_count": 184,
     "metadata": {},
     "output_type": "execute_result"
    },
    {
     "data": {
      "image/png": "[encoded data removed]",
      "text/plain": [
       "<Figure size 432x288 with 1 Axes>"
      ]
     },
     "metadata": {
      "needs_background": "light"
     },
     "output_type": "display_data"
    }
   ],
   "source": [
    "plt.hist(df.QF) "
   ]
  },
  {
   "cell_type": "markdown",
   "id": "7e81b21f",
   "metadata": {},
   "source": [
    "Histogramme qui représente le nombre de familles en fonction du QF "
   ]
  },
  {
   "cell_type": "code",
   "execution_count": 185,
   "id": "ff07fa04",
   "metadata": {},
   "outputs": [
    {
     "data": {
      "text/plain": [
       "(array([7225., 4943., 2032., 1034.,  319.,  135.,   53.,   42.,   24.,\n",
       "          14.]),\n",
       " array([1.000e+00, 5.730e+02, 1.145e+03, 1.717e+03, 2.289e+03, 2.861e+03,\n",
       "        3.433e+03, 4.005e+03, 4.577e+03, 5.149e+03, 5.721e+03]),\n",
       " <BarContainer object of 10 artists>)"
      ]
     },
     "execution_count": 185,
     "metadata": {},
     "output_type": "execute_result"
    },
    {
     "data": {
      "image/png": "[encoded data removed]",
      "text/plain": [
       "<Figure size 432x288 with 1 Axes>"
      ]
     },
     "metadata": {
      "needs_background": "light"
     },
     "output_type": "display_data"
    }
   ],
   "source": [
    "plt.hist(df.QF[df.QF< 6000])"
   ]
  },
  {
   "cell_type": "markdown",
   "id": "c5e5a014",
   "metadata": {},
   "source": [
    "Histogramme cumulé : Distribution des familles en fonction des QF"
   ]
  },
  {
   "cell_type": "code",
   "execution_count": 186,
   "id": "59963b57",
   "metadata": {},
   "outputs": [
    {
     "data": {
      "text/plain": [
       "(array([0.03842993, 0.04108463, 0.0523355 , 0.06150054, 0.10309083,\n",
       "        0.16528664, 0.2526389 , 0.33632514, 0.40117565, 0.45667151,\n",
       "        0.51400038, 0.5717717 , 0.61873459, 0.65267682, 0.67846533,\n",
       "        0.700335  , 0.71853865, 0.73699513, 0.75210164, 0.76910435,\n",
       "        0.7845901 , 0.80190886, 0.81701536, 0.82940396, 0.84141331,\n",
       "        0.85582454, 0.86796031, 0.87978004, 0.88730169, 0.89754124,\n",
       "        0.90803363, 0.91637697, 0.92440427, 0.93116744, 0.93856267,\n",
       "        0.94374565, 0.94918147, 0.95423804, 0.95916819, 0.96289741,\n",
       "        0.9654257 , 0.96763795, 0.97029265, 0.9725049 , 0.97433791,\n",
       "        0.97636053, 0.97850958, 0.98034258, 0.98173314, 0.98306049,\n",
       "        0.9840086 , 0.98476708, 0.98558877, 0.98660009, 0.98729537,\n",
       "        0.9884331 , 0.98957082, 0.99039252, 0.99102459, 0.99159345,\n",
       "        0.99178307, 0.99241514, 0.99279439, 0.99298401, 0.99330004,\n",
       "        0.99355287, 0.99393212, 0.99462739, 0.99481702, 0.99494343,\n",
       "        0.99532267, 0.99563871, 0.99582833, 0.99601795, 0.99614437,\n",
       "        0.99627078, 0.99627078, 0.9964604 , 0.99690285, 0.99759813,\n",
       "        0.99778775, 0.99791416, 0.99791416, 0.99797737, 0.99816699,\n",
       "        0.99854624, 0.99854624, 0.99873586, 0.99873586, 0.9991151 ,\n",
       "        0.9991151 , 0.99930472, 0.99936793, 0.99955755, 0.99955755,\n",
       "        0.99962076, 0.99974717, 0.99981038, 0.99987359, 1.        ]),\n",
       " array([1.0000e+00, 5.8200e+01, 1.1540e+02, 1.7260e+02, 2.2980e+02,\n",
       "        2.8700e+02, 3.4420e+02, 4.0140e+02, 4.5860e+02, 5.1580e+02,\n",
       "        5.7300e+02, 6.3020e+02, 6.8740e+02, 7.4460e+02, 8.0180e+02,\n",
       "        8.5900e+02, 9.1620e+02, 9.7340e+02, 1.0306e+03, 1.0878e+03,\n",
       "        1.1450e+03, 1.2022e+03, 1.2594e+03, 1.3166e+03, 1.3738e+03,\n",
       "        1.4310e+03, 1.4882e+03, 1.5454e+03, 1.6026e+03, 1.6598e+03,\n",
       "        1.7170e+03, 1.7742e+03, 1.8314e+03, 1.8886e+03, 1.9458e+03,\n",
       "        2.0030e+03, 2.0602e+03, 2.1174e+03, 2.1746e+03, 2.2318e+03,\n",
       "        2.2890e+03, 2.3462e+03, 2.4034e+03, 2.4606e+03, 2.5178e+03,\n",
       "        2.5750e+03, 2.6322e+03, 2.6894e+03, 2.7466e+03, 2.8038e+03,\n",
       "        2.8610e+03, 2.9182e+03, 2.9754e+03, 3.0326e+03, 3.0898e+03,\n",
       "        3.1470e+03, 3.2042e+03, 3.2614e+03, 3.3186e+03, 3.3758e+03,\n",
       "        3.4330e+03, 3.4902e+03, 3.5474e+03, 3.6046e+03, 3.6618e+03,\n",
       "        3.7190e+03, 3.7762e+03, 3.8334e+03, 3.8906e+03, 3.9478e+03,\n",
       "        4.0050e+03, 4.0622e+03, 4.1194e+03, 4.1766e+03, 4.2338e+03,\n",
       "        4.2910e+03, 4.3482e+03, 4.4054e+03, 4.4626e+03, 4.5198e+03,\n",
       "        4.5770e+03, 4.6342e+03, 4.6914e+03, 4.7486e+03, 4.8058e+03,\n",
       "        4.8630e+03, 4.9202e+03, 4.9774e+03, 5.0346e+03, 5.0918e+03,\n",
       "        5.1490e+03, 5.2062e+03, 5.2634e+03, 5.3206e+03, 5.3778e+03,\n",
       "        5.4350e+03, 5.4922e+03, 5.5494e+03, 5.6066e+03, 5.6638e+03,\n",
       "        5.7210e+03]),\n",
       " <BarContainer object of 100 artists>)"
      ]
     },
     "execution_count": 186,
     "metadata": {},
     "output_type": "execute_result"
    },
    {
     "data": {
      "image/png": "[encoded data removed]",
      "text/plain": [
       "<Figure size 432x288 with 1 Axes>"
      ]
     },
     "metadata": {
      "needs_background": "light"
     },
     "output_type": "display_data"
    }
   ],
   "source": [
    "plt.hist(df.QF[df.QF< 6000], density=True, bins=100, cumulative=True) # 0,05% des familles ont un QF de 0€"
   ]
  },
  {
   "cell_type": "markdown",
   "id": "ca11707f",
   "metadata": {},
   "source": []
  },
  {
   "cell_type": "code",
   "execution_count": 188,
   "id": "6ce61ba4",
   "metadata": {},
   "outputs": [
    {
     "data": {
      "text/plain": [
       "(array([0.04195181, 0.04483239, 0.05696095, 0.06635117, 0.11023017,\n",
       "        0.17319098, 0.26119613, 0.34131084, 0.40099958, 0.45050525,\n",
       "        0.50212118, 0.55444405, 0.59858076, 0.62947217, 0.65441371,\n",
       "        0.67424118, 0.69188164, 0.70861448, 0.72304343, 0.74127747,\n",
       "        0.75697102, 0.77477765, 0.79041699, 0.80376088, 0.81713081,\n",
       "        0.83317361, 0.84699701, 0.85961001, 0.86758072, 0.8792178 ,\n",
       "        0.89129356, 0.90119216, 0.91018384, 0.91790387, 0.92576755,\n",
       "        0.93119425, 0.93778416, 0.94408186, 0.95019367, 0.95480147,\n",
       "        0.9579137 , 0.96056403, 0.96385512, 0.96653995, 0.96881427,\n",
       "        0.97131814, 0.97371006, 0.97601889, 0.97767288, 0.97913253,\n",
       "        0.98029293, 0.98133433, 0.98234334, 0.98355937, 0.98442333,\n",
       "        0.985971  , 0.98736306, 0.98836573, 0.98905859, 0.98981905,\n",
       "        0.99007957, 0.99089777, 0.99141882, 0.99150965, 0.99188495,\n",
       "        0.9922511 , 0.99281862, 0.99358542, 0.99384031, 0.99392832,\n",
       "        0.99439375, 0.9948634 , 0.99513942, 0.99529362, 0.99548444,\n",
       "        0.9956485 , 0.9956485 , 0.99593297, 0.99658288, 0.99727081,\n",
       "        0.99751092, 0.99768413, 0.99768413, 0.99777355, 0.99793339,\n",
       "        0.99840516, 0.99840516, 0.99864597, 0.99864597, 0.9989593 ,\n",
       "        0.9989593 , 0.99919659, 0.99920152, 0.99939093, 0.99939093,\n",
       "        0.99948599, 0.99967469, 0.99976764, 0.99981129, 1.        ]),\n",
       " array([1.0000e+00, 5.8200e+01, 1.1540e+02, 1.7260e+02, 2.2980e+02,\n",
       "        2.8700e+02, 3.4420e+02, 4.0140e+02, 4.5860e+02, 5.1580e+02,\n",
       "        5.7300e+02, 6.3020e+02, 6.8740e+02, 7.4460e+02, 8.0180e+02,\n",
       "        8.5900e+02, 9.1620e+02, 9.7340e+02, 1.0306e+03, 1.0878e+03,\n",
       "        1.1450e+03, 1.2022e+03, 1.2594e+03, 1.3166e+03, 1.3738e+03,\n",
       "        1.4310e+03, 1.4882e+03, 1.5454e+03, 1.6026e+03, 1.6598e+03,\n",
       "        1.7170e+03, 1.7742e+03, 1.8314e+03, 1.8886e+03, 1.9458e+03,\n",
       "        2.0030e+03, 2.0602e+03, 2.1174e+03, 2.1746e+03, 2.2318e+03,\n",
       "        2.2890e+03, 2.3462e+03, 2.4034e+03, 2.4606e+03, 2.5178e+03,\n",
       "        2.5750e+03, 2.6322e+03, 2.6894e+03, 2.7466e+03, 2.8038e+03,\n",
       "        2.8610e+03, 2.9182e+03, 2.9754e+03, 3.0326e+03, 3.0898e+03,\n",
       "        3.1470e+03, 3.2042e+03, 3.2614e+03, 3.3186e+03, 3.3758e+03,\n",
       "        3.4330e+03, 3.4902e+03, 3.5474e+03, 3.6046e+03, 3.6618e+03,\n",
       "        3.7190e+03, 3.7762e+03, 3.8334e+03, 3.8906e+03, 3.9478e+03,\n",
       "        4.0050e+03, 4.0622e+03, 4.1194e+03, 4.1766e+03, 4.2338e+03,\n",
       "        4.2910e+03, 4.3482e+03, 4.4054e+03, 4.4626e+03, 4.5198e+03,\n",
       "        4.5770e+03, 4.6342e+03, 4.6914e+03, 4.7486e+03, 4.8058e+03,\n",
       "        4.8630e+03, 4.9202e+03, 4.9774e+03, 5.0346e+03, 5.0918e+03,\n",
       "        5.1490e+03, 5.2062e+03, 5.2634e+03, 5.3206e+03, 5.3778e+03,\n",
       "        5.4350e+03, 5.4922e+03, 5.5494e+03, 5.6066e+03, 5.6638e+03,\n",
       "        5.7210e+03]),\n",
       " <BarContainer object of 100 artists>)"
      ]
     },
     "execution_count": 188,
     "metadata": {},
     "output_type": "execute_result"
    },
    {
     "data": {
      "image/png": "[encoded data removed]",
      "text/plain": [
       "<Figure size 432x288 with 1 Axes>"
      ]
     },
     "metadata": {
      "needs_background": "light"
     },
     "output_type": "display_data"
    }
   ],
   "source": [
    "plt.hist(df.QF[df.QF< 6000], density=True, bins=100, cumulative=True, weights=df.Nombre[df.QF< 6000]) # 0,05% des repas sont pris par des familles qui ont un QF de 0€"
   ]
  },
  {
   "cell_type": "markdown",
   "id": "3c3f46e5",
   "metadata": {},
   "source": []
  },
  {
   "cell_type": "code",
   "execution_count": 189,
   "id": "b7838a4e",
   "metadata": {},
   "outputs": [
    {
     "data": {
      "text/plain": [
       "(array([1.40234262e-03, 6.45038214e-05, 5.05197868e-05, 5.01997297e-05,\n",
       "        2.18131243e-04, 2.05944453e-04, 1.75785223e-04, 1.52544152e-04,\n",
       "        7.36623792e-04, 7.97606985e-04, 9.09873178e-04, 1.29155361e-03,\n",
       "        1.28948555e-03, 1.78761754e-03, 1.46770813e-03, 1.33350572e-03,\n",
       "        1.26230532e-03, 8.24713362e-04, 9.02388765e-04, 8.28578667e-04,\n",
       "        8.70727729e-04, 9.34025181e-04, 9.10242475e-04, 9.19228694e-04,\n",
       "        9.49338684e-04, 5.93902932e-04, 5.73173078e-04, 5.06945872e-04,\n",
       "        4.75383316e-04, 3.96698501e-04, 3.58390125e-04, 3.34878236e-04,\n",
       "        3.14517679e-04, 3.02281648e-04, 2.97751609e-04, 2.87312823e-04,\n",
       "        2.23719933e-04, 2.80788581e-04, 3.74368362e-04, 2.63185439e-04,\n",
       "        2.65598177e-04, 2.83127460e-04, 3.17595151e-04, 3.05014444e-04,\n",
       "        2.65967474e-04, 2.80862441e-04, 2.57892187e-04, 2.08677248e-04,\n",
       "        2.16260140e-04, 2.51220226e-04, 2.67838577e-04, 2.93098471e-04,\n",
       "        2.41027638e-04, 2.42307866e-04, 2.17663467e-04, 2.23350636e-04,\n",
       "        1.82752621e-04, 9.59432793e-05, 2.00380382e-04, 2.06510707e-04,\n",
       "        2.10523731e-04, 2.11705481e-04, 1.66281988e-04, 1.79822867e-04,\n",
       "        1.64509364e-04, 1.49885215e-04, 1.21646329e-04, 1.48284930e-04,\n",
       "        1.56729514e-04, 1.18224179e-04, 1.13546421e-04, 7.61982165e-05,\n",
       "        1.14014197e-04, 1.16402316e-04, 1.14851270e-04, 1.05348035e-04,\n",
       "        1.27284258e-04, 8.64154248e-05, 1.10641287e-04, 5.04705473e-05,\n",
       "        4.56696903e-05, 6.31497335e-05, 5.39419361e-05, 3.87269126e-05,\n",
       "        5.09383231e-05, 6.41345247e-05, 4.80824287e-05, 4.57927892e-05,\n",
       "        4.65560024e-05, 3.29658843e-05, 2.82142669e-05, 5.93336677e-05,\n",
       "        5.45328108e-05, 2.91005790e-05, 5.02243495e-05, 3.05039064e-05,\n",
       "        1.96219640e-05, 3.82098972e-05, 3.04546668e-05, 2.05821354e-05,\n",
       "        2.73279549e-05, 1.32454412e-05, 2.49644561e-05, 1.14481973e-05,\n",
       "        2.58753879e-05, 9.40475563e-06, 1.92772871e-05, 2.32410715e-05,\n",
       "        2.32903111e-05, 6.91815794e-06, 2.86574229e-05, 2.54568516e-05,\n",
       "        2.07052343e-05, 2.79680691e-05, 1.50180653e-05, 2.00405002e-05,\n",
       "        8.29686557e-06, 1.59289971e-05, 3.07747239e-06, 2.35118891e-05,\n",
       "        2.56045703e-06, 6.54886125e-06, 1.89818497e-05, 9.62633365e-06,\n",
       "        5.26863274e-06, 1.29500038e-05, 3.17595151e-06, 0.00000000e+00,\n",
       "        0.00000000e+00, 1.31223423e-05, 0.00000000e+00, 1.28022852e-05,\n",
       "        3.24981085e-06, 1.65937311e-05, 3.39752952e-06, 2.34134100e-05,\n",
       "        0.00000000e+00, 8.91236005e-06, 3.07747239e-06, 0.00000000e+00,\n",
       "        6.49962169e-06, 9.77405232e-06, 6.59810081e-06, 9.82329188e-06,\n",
       "        6.30266346e-06, 3.34828996e-06, 2.14192079e-06, 3.24981085e-06,\n",
       "        0.00000000e+00, 6.67196015e-06, 0.00000000e+00, 5.73640854e-06,\n",
       "        0.00000000e+00, 0.00000000e+00, 0.00000000e+00, 9.94639078e-06,\n",
       "        1.30484829e-05, 9.67557320e-06, 2.09268123e-05, 3.12671195e-06,\n",
       "        3.32367018e-06, 5.07167450e-06, 0.00000000e+00, 6.05646567e-06,\n",
       "        0.00000000e+00, 0.00000000e+00, 3.12671195e-06, 0.00000000e+00,\n",
       "        2.31425924e-06, 3.27443063e-06, 6.69657993e-06, 9.79867210e-06,\n",
       "        0.00000000e+00, 0.00000000e+00, 8.41996447e-06, 0.00000000e+00,\n",
       "        0.00000000e+00, 0.00000000e+00, 6.49962169e-06, 4.45618003e-06,\n",
       "        0.00000000e+00, 0.00000000e+00, 5.73640854e-06, 2.56045703e-06,\n",
       "        0.00000000e+00, 1.72338454e-07, 5.83488766e-06, 7.87832933e-07,\n",
       "        0.00000000e+00, 0.00000000e+00, 0.00000000e+00, 3.32367018e-06,\n",
       "        6.59810081e-06, 0.00000000e+00, 3.24981085e-06, 0.00000000e+00,\n",
       "        0.00000000e+00, 1.52642631e-06, 0.00000000e+00, 6.59810081e-06]),\n",
       " array([1.0000e+00, 2.9600e+01, 5.8200e+01, 8.6800e+01, 1.1540e+02,\n",
       "        1.4400e+02, 1.7260e+02, 2.0120e+02, 2.2980e+02, 2.5840e+02,\n",
       "        2.8700e+02, 3.1560e+02, 3.4420e+02, 3.7280e+02, 4.0140e+02,\n",
       "        4.3000e+02, 4.5860e+02, 4.8720e+02, 5.1580e+02, 5.4440e+02,\n",
       "        5.7300e+02, 6.0160e+02, 6.3020e+02, 6.5880e+02, 6.8740e+02,\n",
       "        7.1600e+02, 7.4460e+02, 7.7320e+02, 8.0180e+02, 8.3040e+02,\n",
       "        8.5900e+02, 8.8760e+02, 9.1620e+02, 9.4480e+02, 9.7340e+02,\n",
       "        1.0020e+03, 1.0306e+03, 1.0592e+03, 1.0878e+03, 1.1164e+03,\n",
       "        1.1450e+03, 1.1736e+03, 1.2022e+03, 1.2308e+03, 1.2594e+03,\n",
       "        1.2880e+03, 1.3166e+03, 1.3452e+03, 1.3738e+03, 1.4024e+03,\n",
       "        1.4310e+03, 1.4596e+03, 1.4882e+03, 1.5168e+03, 1.5454e+03,\n",
       "        1.5740e+03, 1.6026e+03, 1.6312e+03, 1.6598e+03, 1.6884e+03,\n",
       "        1.7170e+03, 1.7456e+03, 1.7742e+03, 1.8028e+03, 1.8314e+03,\n",
       "        1.8600e+03, 1.8886e+03, 1.9172e+03, 1.9458e+03, 1.9744e+03,\n",
       "        2.0030e+03, 2.0316e+03, 2.0602e+03, 2.0888e+03, 2.1174e+03,\n",
       "        2.1460e+03, 2.1746e+03, 2.2032e+03, 2.2318e+03, 2.2604e+03,\n",
       "        2.2890e+03, 2.3176e+03, 2.3462e+03, 2.3748e+03, 2.4034e+03,\n",
       "        2.4320e+03, 2.4606e+03, 2.4892e+03, 2.5178e+03, 2.5464e+03,\n",
       "        2.5750e+03, 2.6036e+03, 2.6322e+03, 2.6608e+03, 2.6894e+03,\n",
       "        2.7180e+03, 2.7466e+03, 2.7752e+03, 2.8038e+03, 2.8324e+03,\n",
       "        2.8610e+03, 2.8896e+03, 2.9182e+03, 2.9468e+03, 2.9754e+03,\n",
       "        3.0040e+03, 3.0326e+03, 3.0612e+03, 3.0898e+03, 3.1184e+03,\n",
       "        3.1470e+03, 3.1756e+03, 3.2042e+03, 3.2328e+03, 3.2614e+03,\n",
       "        3.2900e+03, 3.3186e+03, 3.3472e+03, 3.3758e+03, 3.4044e+03,\n",
       "        3.4330e+03, 3.4616e+03, 3.4902e+03, 3.5188e+03, 3.5474e+03,\n",
       "        3.5760e+03, 3.6046e+03, 3.6332e+03, 3.6618e+03, 3.6904e+03,\n",
       "        3.7190e+03, 3.7476e+03, 3.7762e+03, 3.8048e+03, 3.8334e+03,\n",
       "        3.8620e+03, 3.8906e+03, 3.9192e+03, 3.9478e+03, 3.9764e+03,\n",
       "        4.0050e+03, 4.0336e+03, 4.0622e+03, 4.0908e+03, 4.1194e+03,\n",
       "        4.1480e+03, 4.1766e+03, 4.2052e+03, 4.2338e+03, 4.2624e+03,\n",
       "        4.2910e+03, 4.3196e+03, 4.3482e+03, 4.3768e+03, 4.4054e+03,\n",
       "        4.4340e+03, 4.4626e+03, 4.4912e+03, 4.5198e+03, 4.5484e+03,\n",
       "        4.5770e+03, 4.6056e+03, 4.6342e+03, 4.6628e+03, 4.6914e+03,\n",
       "        4.7200e+03, 4.7486e+03, 4.7772e+03, 4.8058e+03, 4.8344e+03,\n",
       "        4.8630e+03, 4.8916e+03, 4.9202e+03, 4.9488e+03, 4.9774e+03,\n",
       "        5.0060e+03, 5.0346e+03, 5.0632e+03, 5.0918e+03, 5.1204e+03,\n",
       "        5.1490e+03, 5.1776e+03, 5.2062e+03, 5.2348e+03, 5.2634e+03,\n",
       "        5.2920e+03, 5.3206e+03, 5.3492e+03, 5.3778e+03, 5.4064e+03,\n",
       "        5.4350e+03, 5.4636e+03, 5.4922e+03, 5.5208e+03, 5.5494e+03,\n",
       "        5.5780e+03, 5.6066e+03, 5.6352e+03, 5.6638e+03, 5.6924e+03,\n",
       "        5.7210e+03]),\n",
       " <BarContainer object of 200 artists>)"
      ]
     },
     "execution_count": 189,
     "metadata": {},
     "output_type": "execute_result"
    },
    {
     "data": {
      "image/png": "[encoded data removed]",
      "text/plain": [
       "<Figure size 432x288 with 1 Axes>"
      ]
     },
     "metadata": {
      "needs_background": "light"
     },
     "output_type": "display_data"
    }
   ],
   "source": [
    "plt.hist(df.QF[df.QF< 6000], density=True, bins=200, weights=df.Nombre[df.QF< 6000])"
   ]
  },
  {
   "cell_type": "markdown",
   "id": "bc6d6863",
   "metadata": {},
   "source": []
  },
  {
   "cell_type": "code",
   "execution_count": 190,
   "id": "d01e372b",
   "metadata": {},
   "outputs": [
    {
     "data": {
      "text/plain": [
       "(array([ 639808., 1052763., 1248666., 1356010., 1390565., 1405742.,\n",
       "        1411578., 1416325., 1418723., 1420201.]),\n",
       " array([1.000e+00, 5.730e+02, 1.145e+03, 1.717e+03, 2.289e+03, 2.861e+03,\n",
       "        3.433e+03, 4.005e+03, 4.577e+03, 5.149e+03, 5.721e+03]),\n",
       " <BarContainer object of 10 artists>)"
      ]
     },
     "execution_count": 190,
     "metadata": {},
     "output_type": "execute_result"
    },
    {
     "data": {
      "image/png": "[encoded data removed]",
      "text/plain": [
       "<Figure size 432x288 with 1 Axes>"
      ]
     },
     "metadata": {
      "needs_background": "light"
     },
     "output_type": "display_data"
    }
   ],
   "source": [
    "plt.hist(df.QF[df.QF< 6000], cumulative=True, weights=df.Nombre[df.QF< 6000]) # 639808 repas sont pris par des familles qui ont un QF de 0€"
   ]
  },
  {
   "cell_type": "markdown",
   "id": "736d25f2",
   "metadata": {},
   "source": []
  },
  {
   "cell_type": "code",
   "execution_count": 191,
   "id": "873d801b",
   "metadata": {},
   "outputs": [
    {
     "data": {
      "text/plain": [
       "(array([392203., 181223., 846775.]),\n",
       " array([   0,  410,  520, 6000]),\n",
       " <BarContainer object of 3 artists>)"
      ]
     },
     "execution_count": 191,
     "metadata": {},
     "output_type": "execute_result"
    },
    {
     "data": {
      "image/png": "[encoded data removed]",
      "text/plain": [
       "<Figure size 432x288 with 1 Axes>"
      ]
     },
     "metadata": {
      "needs_background": "light"
     },
     "output_type": "display_data"
    }
   ],
   "source": [
    "plt.hist(df.QF[df.QF< 6000], bins=[0, 410, 520, 6000], weights=df.Nombre[df.QF< 6000]) # 392203 repas sont pris par des familles qui ont un QF entre 0 et 410€"
   ]
  },
  {
   "cell_type": "markdown",
   "id": "8984c273",
   "metadata": {},
   "source": [
    "Le nombre de repas pris en fonction du QF pour la tranche de QF de 0 à 410€"
   ]
  },
  {
   "cell_type": "code",
   "execution_count": 192,
   "id": "81e7af9d",
   "metadata": {},
   "outputs": [
    {
     "data": {
      "text/plain": [
       "(array([55371.,     0.,   132.,     0.,   125.,   264.,  1068.,   256.,\n",
       "          270.,   822.,  1017.,    69.,     0.,   186.,   134.,   408.,\n",
       "          332.,   305.,   338.,   264.,   271.,     0.,     0.,   271.,\n",
       "          404.,   550.,   376.,   438.,   279.,  2083.,  1960.,   480.,\n",
       "         1167.,  1585.,  1306.,  1206.,   803.,   949.,   770.,  2156.,\n",
       "         1153.,  1328.,  1904.,  1065.,   272.,  1019.,  1157.,   966.,\n",
       "          664.,   837.,   878.,   572.,   280.,   756.,  2287.,   679.,\n",
       "         2879.,  2488.,  2226.,  6213.,  3526.,  4618.,  7970.,  3535.,\n",
       "         5835.,  2747.,  5495.,  4907.,  4665.,  5213.,  7782.,  4695.,\n",
       "         3773.,  5213.,  5710.,  5360.,  4424.,  8054.,  5666.,  5478.,\n",
       "         8269.,  9435.,  6166.,  8114.,  7480.,  8990.,  7955., 10246.,\n",
       "         7713.,  5624.,  5646.,  7087., 10058.,  9568.,  9705., 10720.,\n",
       "        11110., 11966., 12307., 11340.]),\n",
       " array([  1.  ,   5.08,   9.16,  13.24,  17.32,  21.4 ,  25.48,  29.56,\n",
       "         33.64,  37.72,  41.8 ,  45.88,  49.96,  54.04,  58.12,  62.2 ,\n",
       "         66.28,  70.36,  74.44,  78.52,  82.6 ,  86.68,  90.76,  94.84,\n",
       "         98.92, 103.  , 107.08, 111.16, 115.24, 119.32, 123.4 , 127.48,\n",
       "        131.56, 135.64, 139.72, 143.8 , 147.88, 151.96, 156.04, 160.12,\n",
       "        164.2 , 168.28, 172.36, 176.44, 180.52, 184.6 , 188.68, 192.76,\n",
       "        196.84, 200.92, 205.  , 209.08, 213.16, 217.24, 221.32, 225.4 ,\n",
       "        229.48, 233.56, 237.64, 241.72, 245.8 , 249.88, 253.96, 258.04,\n",
       "        262.12, 266.2 , 270.28, 274.36, 278.44, 282.52, 286.6 , 290.68,\n",
       "        294.76, 298.84, 302.92, 307.  , 311.08, 315.16, 319.24, 323.32,\n",
       "        327.4 , 331.48, 335.56, 339.64, 343.72, 347.8 , 351.88, 355.96,\n",
       "        360.04, 364.12, 368.2 , 372.28, 376.36, 380.44, 384.52, 388.6 ,\n",
       "        392.68, 396.76, 400.84, 404.92, 409.  ]),\n",
       " <BarContainer object of 100 artists>)"
      ]
     },
     "execution_count": 192,
     "metadata": {},
     "output_type": "execute_result"
    },
    {
     "data": {
      "image/png": "[encoded data removed]",
      "text/plain": [
       "<Figure size 432x288 with 1 Axes>"
      ]
     },
     "metadata": {
      "needs_background": "light"
     },
     "output_type": "display_data"
    }
   ],
   "source": [
    "inf, sup = (0, 410)\n",
    "cond = (inf < df.QF) & (df.QF < sup)\n",
    "plt.hist(df.QF[cond], bins=100, weights=df.Nombre[cond]) # 55371 repas sont pris pour la tranche de QF de 0 à 410€"
   ]
  },
  {
   "cell_type": "markdown",
   "id": "d6084110",
   "metadata": {},
   "source": []
  },
  {
   "cell_type": "code",
   "execution_count": 193,
   "id": "ecb19b71",
   "metadata": {},
   "outputs": [
    {
     "data": {
      "text/plain": [
       "(array([22391., 22212., 21831., 16958., 16586., 20921., 19304., 12511.,\n",
       "        14359., 11586.]),\n",
       " array([411. , 421.8, 432.6, 443.4, 454.2, 465. , 475.8, 486.6, 497.4,\n",
       "        508.2, 519. ]),\n",
       " <BarContainer object of 10 artists>)"
      ]
     },
     "execution_count": 193,
     "metadata": {},
     "output_type": "execute_result"
    },
    {
     "data": {
      "image/png": "[encoded data removed]",
      "text/plain": [
       "<Figure size 432x288 with 1 Axes>"
      ]
     },
     "metadata": {
      "needs_background": "light"
     },
     "output_type": "display_data"
    }
   ],
   "source": [
    "inf, sup = (410, 520)\n",
    "cond = (inf < df.QF) & (df.QF < sup)\n",
    "plt.hist(df.QF[cond], bins=10, weights=df.Nombre[cond])"
   ]
  },
  {
   "cell_type": "markdown",
   "id": "dddcfdab",
   "metadata": {},
   "source": []
  },
  {
   "cell_type": "code",
   "execution_count": 194,
   "id": "d35c7aa6",
   "metadata": {},
   "outputs": [
    {
     "data": {
      "text/plain": [
       "(array([22391., 22212., 21831., 16958., 16586., 20921., 19304., 12511.,\n",
       "        14359., 11586.]),\n",
       " array([411. , 421.8, 432.6, 443.4, 454.2, 465. , 475.8, 486.6, 497.4,\n",
       "        508.2, 519. ]),\n",
       " <BarContainer object of 10 artists>)"
      ]
     },
     "execution_count": 194,
     "metadata": {},
     "output_type": "execute_result"
    },
    {
     "data": {
      "image/png": "[encoded data removed]",
      "text/plain": [
       "<Figure size 432x288 with 1 Axes>"
      ]
     },
     "metadata": {
      "needs_background": "light"
     },
     "output_type": "display_data"
    }
   ],
   "source": [
    "inf, sup = (410, 520)\n",
    "cond = (inf < df.QF) & (df.QF < sup)\n",
    "plt.hist(df.QF[cond], bins=10, weights=df.Nombre[cond])"
   ]
  },
  {
   "cell_type": "code",
   "execution_count": null,
   "id": "009d469a",
   "metadata": {},
   "outputs": [],
   "source": []
  },
  {
   "cell_type": "code",
   "execution_count": 195,
   "id": "7ed7dba0",
   "metadata": {},
   "outputs": [
    {
     "data": {
      "text/html": [
       "<div>\n",
       "<style scoped>\n",
       "    .dataframe tbody tr th:only-of-type {\n",
       "        vertical-align: middle;\n",
       "    }\n",
       "\n",
       "    .dataframe tbody tr th {\n",
       "        vertical-align: top;\n",
       "    }\n",
       "\n",
       "    .dataframe thead th {\n",
       "        text-align: right;\n",
       "    }\n",
       "</style>\n",
       "<table border=\"1\" class=\"dataframe\">\n",
       "  <thead>\n",
       "    <tr style=\"text-align: right;\">\n",
       "      <th></th>\n",
       "      <th>Id Personne</th>\n",
       "      <th>Id Famille</th>\n",
       "      <th>QF</th>\n",
       "      <th>Type repas</th>\n",
       "      <th>Nombre</th>\n",
       "      <th>id gale ou non</th>\n",
       "      <th>type de repas simplifi par tarif identique</th>\n",
       "      <th>Repas</th>\n",
       "    </tr>\n",
       "  </thead>\n",
       "  <tbody>\n",
       "    <tr>\n",
       "      <th>7167</th>\n",
       "      <td>6691</td>\n",
       "      <td>443</td>\n",
       "      <td>379</td>\n",
       "      <td>Repas Sans Porc</td>\n",
       "      <td>62</td>\n",
       "      <td>oui</td>\n",
       "      <td>Repas Standard</td>\n",
       "      <td>cantine</td>\n",
       "    </tr>\n",
       "    <tr>\n",
       "      <th>7168</th>\n",
       "      <td>6691</td>\n",
       "      <td>443</td>\n",
       "      <td>1030</td>\n",
       "      <td>Repas Halal</td>\n",
       "      <td>41</td>\n",
       "      <td>oui</td>\n",
       "      <td>Repas Standard</td>\n",
       "      <td>cantine</td>\n",
       "    </tr>\n",
       "    <tr>\n",
       "      <th>7169</th>\n",
       "      <td>6691</td>\n",
       "      <td>443</td>\n",
       "      <td>1030</td>\n",
       "      <td>Repas Sans Porc</td>\n",
       "      <td>14</td>\n",
       "      <td>NaN</td>\n",
       "      <td>Repas Standard</td>\n",
       "      <td>cantine</td>\n",
       "    </tr>\n",
       "  </tbody>\n",
       "</table>\n",
       "</div>"
      ],
      "text/plain": [
       "      Id Personne  Id Famille    QF       Type repas  Nombre id gale ou non   \\\n",
       "7167         6691         443   379  Repas Sans Porc      62              oui   \n",
       "7168         6691         443  1030      Repas Halal      41              oui   \n",
       "7169         6691         443  1030  Repas Sans Porc      14              NaN   \n",
       "\n",
       "     type de repas simplifi par tarif identique     Repas  \n",
       "7167                               Repas Standard  cantine  \n",
       "7168                               Repas Standard  cantine  \n",
       "7169                               Repas Standard  cantine  "
      ]
     },
     "execution_count": 195,
     "metadata": {},
     "output_type": "execute_result"
    }
   ],
   "source": [
    "df[df['Id Famille'] == 443]"
   ]
  },
  {
   "cell_type": "code",
   "execution_count": 196,
   "id": "5ddba223",
   "metadata": {},
   "outputs": [],
   "source": [
    "df.QF = np.minimum(df.QF, 99999)"
   ]
  },
  {
   "cell_type": "code",
   "execution_count": 197,
   "id": "446a69bf",
   "metadata": {},
   "outputs": [
    {
     "data": {
      "text/html": [
       "<div>\n",
       "<style scoped>\n",
       "    .dataframe tbody tr th:only-of-type {\n",
       "        vertical-align: middle;\n",
       "    }\n",
       "\n",
       "    .dataframe tbody tr th {\n",
       "        vertical-align: top;\n",
       "    }\n",
       "\n",
       "    .dataframe thead th {\n",
       "        text-align: right;\n",
       "    }\n",
       "</style>\n",
       "<table border=\"1\" class=\"dataframe\">\n",
       "  <thead>\n",
       "    <tr style=\"text-align: right;\">\n",
       "      <th></th>\n",
       "      <th></th>\n",
       "      <th>Repas</th>\n",
       "      <th>cantine</th>\n",
       "      <th>cantine_panier</th>\n",
       "      <th>cantine_vegetarien</th>\n",
       "    </tr>\n",
       "    <tr>\n",
       "      <th>Id Personne</th>\n",
       "      <th>Id Famille</th>\n",
       "      <th>QF</th>\n",
       "      <th></th>\n",
       "      <th></th>\n",
       "      <th></th>\n",
       "    </tr>\n",
       "  </thead>\n",
       "  <tbody>\n",
       "    <tr>\n",
       "      <th>1</th>\n",
       "      <th>325</th>\n",
       "      <th>99999</th>\n",
       "      <td>0.0</td>\n",
       "      <td>0</td>\n",
       "      <td>2</td>\n",
       "    </tr>\n",
       "    <tr>\n",
       "      <th>2</th>\n",
       "      <th>497</th>\n",
       "      <th>636</th>\n",
       "      <td>1.0</td>\n",
       "      <td>0</td>\n",
       "      <td>0</td>\n",
       "    </tr>\n",
       "    <tr>\n",
       "      <th>3</th>\n",
       "      <th>762</th>\n",
       "      <th>99999</th>\n",
       "      <td>1.0</td>\n",
       "      <td>0</td>\n",
       "      <td>0</td>\n",
       "    </tr>\n",
       "    <tr>\n",
       "      <th rowspan=\"2\" valign=\"top\">4</th>\n",
       "      <th rowspan=\"2\" valign=\"top\">770</th>\n",
       "      <th>392</th>\n",
       "      <td>125.0</td>\n",
       "      <td>0</td>\n",
       "      <td>0</td>\n",
       "    </tr>\n",
       "    <tr>\n",
       "      <th>99999</th>\n",
       "      <td>1.0</td>\n",
       "      <td>0</td>\n",
       "      <td>0</td>\n",
       "    </tr>\n",
       "    <tr>\n",
       "      <th>...</th>\n",
       "      <th>...</th>\n",
       "      <th>...</th>\n",
       "      <td>...</td>\n",
       "      <td>...</td>\n",
       "      <td>...</td>\n",
       "    </tr>\n",
       "    <tr>\n",
       "      <th>15579</th>\n",
       "      <th>10849</th>\n",
       "      <th>99999</th>\n",
       "      <td>8.0</td>\n",
       "      <td>0</td>\n",
       "      <td>0</td>\n",
       "    </tr>\n",
       "    <tr>\n",
       "      <th>15580</th>\n",
       "      <th>10850</th>\n",
       "      <th>99999</th>\n",
       "      <td>13.0</td>\n",
       "      <td>0</td>\n",
       "      <td>0</td>\n",
       "    </tr>\n",
       "    <tr>\n",
       "      <th>15581</th>\n",
       "      <th>10851</th>\n",
       "      <th>259</th>\n",
       "      <td>12.0</td>\n",
       "      <td>0</td>\n",
       "      <td>0</td>\n",
       "    </tr>\n",
       "    <tr>\n",
       "      <th>15582</th>\n",
       "      <th>10852</th>\n",
       "      <th>620</th>\n",
       "      <td>14.0</td>\n",
       "      <td>0</td>\n",
       "      <td>0</td>\n",
       "    </tr>\n",
       "    <tr>\n",
       "      <th>15583</th>\n",
       "      <th>10852</th>\n",
       "      <th>620</th>\n",
       "      <td>10.0</td>\n",
       "      <td>0</td>\n",
       "      <td>0</td>\n",
       "    </tr>\n",
       "  </tbody>\n",
       "</table>\n",
       "<p>16657 rows × 3 columns</p>\n",
       "</div>"
      ],
      "text/plain": [
       "Repas                         cantine  cantine_panier  cantine_vegetarien\n",
       "Id Personne Id Famille QF                                                \n",
       "1           325        99999      0.0               0                   2\n",
       "2           497        636        1.0               0                   0\n",
       "3           762        99999      1.0               0                   0\n",
       "4           770        392      125.0               0                   0\n",
       "                       99999      1.0               0                   0\n",
       "...                               ...             ...                 ...\n",
       "15579       10849      99999      8.0               0                   0\n",
       "15580       10850      99999     13.0               0                   0\n",
       "15581       10851      259       12.0               0                   0\n",
       "15582       10852      620       14.0               0                   0\n",
       "15583       10852      620       10.0               0                   0\n",
       "\n",
       "[16657 rows x 3 columns]"
      ]
     },
     "execution_count": 197,
     "metadata": {},
     "output_type": "execute_result"
    }
   ],
   "source": [
    "bogus_raw_df = pd.pivot_table(df, index=[\"Id Personne\", \"Id Famille\", \"QF\"], columns=\"Repas\", values=\"Nombre\", fill_value=0)\n",
    "bogus_raw_df"
   ]
  },
  {
   "cell_type": "code",
   "execution_count": 198,
   "id": "0a4e0cee",
   "metadata": {},
   "outputs": [],
   "source": [
    "raw_df = pd.pivot_table(df, index=[\"Id Personne\", \"Id Famille\", \"QF\"], columns=\"Repas\", values=\"Nombre\", fill_value=0, aggfunc=np.sum)\n",
    "#raw_df[fix_raw_df.index == (6691, 443, 1030)]"
   ]
  },
  {
   "cell_type": "code",
   "execution_count": 199,
   "id": "fc883eaa",
   "metadata": {},
   "outputs": [
    {
     "data": {
      "text/html": [
       "<div>\n",
       "<style scoped>\n",
       "    .dataframe tbody tr th:only-of-type {\n",
       "        vertical-align: middle;\n",
       "    }\n",
       "\n",
       "    .dataframe tbody tr th {\n",
       "        vertical-align: top;\n",
       "    }\n",
       "\n",
       "    .dataframe thead th {\n",
       "        text-align: right;\n",
       "    }\n",
       "</style>\n",
       "<table border=\"1\" class=\"dataframe\">\n",
       "  <thead>\n",
       "    <tr style=\"text-align: right;\">\n",
       "      <th></th>\n",
       "      <th></th>\n",
       "      <th>Repas</th>\n",
       "      <th>cantine</th>\n",
       "      <th>cantine_panier</th>\n",
       "      <th>cantine_vegetarien</th>\n",
       "    </tr>\n",
       "    <tr>\n",
       "      <th>Id Personne</th>\n",
       "      <th>Id Famille</th>\n",
       "      <th>QF</th>\n",
       "      <th></th>\n",
       "      <th></th>\n",
       "      <th></th>\n",
       "    </tr>\n",
       "  </thead>\n",
       "  <tbody>\n",
       "  </tbody>\n",
       "</table>\n",
       "</div>"
      ],
      "text/plain": [
       "Empty DataFrame\n",
       "Columns: [cantine, cantine_panier, cantine_vegetarien]\n",
       "Index: []"
      ]
     },
     "execution_count": 199,
     "metadata": {},
     "output_type": "execute_result"
    }
   ],
   "source": [
    "raw_df[raw_df.index == (6691, 443, 1030)]"
   ]
  },
  {
   "cell_type": "code",
   "execution_count": 200,
   "id": "e7cd3860",
   "metadata": {},
   "outputs": [
    {
     "data": {
      "text/html": [
       "<div>\n",
       "<style scoped>\n",
       "    .dataframe tbody tr th:only-of-type {\n",
       "        vertical-align: middle;\n",
       "    }\n",
       "\n",
       "    .dataframe tbody tr th {\n",
       "        vertical-align: top;\n",
       "    }\n",
       "\n",
       "    .dataframe thead th {\n",
       "        text-align: right;\n",
       "    }\n",
       "</style>\n",
       "<table border=\"1\" class=\"dataframe\">\n",
       "  <thead>\n",
       "    <tr style=\"text-align: right;\">\n",
       "      <th>Repas</th>\n",
       "      <th>Id Personne</th>\n",
       "      <th>Id Famille</th>\n",
       "      <th>QF</th>\n",
       "      <th>cantine</th>\n",
       "      <th>cantine_panier</th>\n",
       "      <th>cantine_vegetarien</th>\n",
       "    </tr>\n",
       "  </thead>\n",
       "  <tbody>\n",
       "    <tr>\n",
       "      <th>0</th>\n",
       "      <td>1</td>\n",
       "      <td>325</td>\n",
       "      <td>99999</td>\n",
       "      <td>0</td>\n",
       "      <td>0</td>\n",
       "      <td>2</td>\n",
       "    </tr>\n",
       "    <tr>\n",
       "      <th>1</th>\n",
       "      <td>2</td>\n",
       "      <td>497</td>\n",
       "      <td>636</td>\n",
       "      <td>1</td>\n",
       "      <td>0</td>\n",
       "      <td>0</td>\n",
       "    </tr>\n",
       "    <tr>\n",
       "      <th>2</th>\n",
       "      <td>3</td>\n",
       "      <td>762</td>\n",
       "      <td>99999</td>\n",
       "      <td>1</td>\n",
       "      <td>0</td>\n",
       "      <td>0</td>\n",
       "    </tr>\n",
       "    <tr>\n",
       "      <th>3</th>\n",
       "      <td>4</td>\n",
       "      <td>770</td>\n",
       "      <td>392</td>\n",
       "      <td>125</td>\n",
       "      <td>0</td>\n",
       "      <td>0</td>\n",
       "    </tr>\n",
       "    <tr>\n",
       "      <th>4</th>\n",
       "      <td>4</td>\n",
       "      <td>770</td>\n",
       "      <td>99999</td>\n",
       "      <td>1</td>\n",
       "      <td>0</td>\n",
       "      <td>0</td>\n",
       "    </tr>\n",
       "    <tr>\n",
       "      <th>...</th>\n",
       "      <td>...</td>\n",
       "      <td>...</td>\n",
       "      <td>...</td>\n",
       "      <td>...</td>\n",
       "      <td>...</td>\n",
       "      <td>...</td>\n",
       "    </tr>\n",
       "    <tr>\n",
       "      <th>16652</th>\n",
       "      <td>15579</td>\n",
       "      <td>10849</td>\n",
       "      <td>99999</td>\n",
       "      <td>8</td>\n",
       "      <td>0</td>\n",
       "      <td>0</td>\n",
       "    </tr>\n",
       "    <tr>\n",
       "      <th>16653</th>\n",
       "      <td>15580</td>\n",
       "      <td>10850</td>\n",
       "      <td>99999</td>\n",
       "      <td>13</td>\n",
       "      <td>0</td>\n",
       "      <td>0</td>\n",
       "    </tr>\n",
       "    <tr>\n",
       "      <th>16654</th>\n",
       "      <td>15581</td>\n",
       "      <td>10851</td>\n",
       "      <td>259</td>\n",
       "      <td>12</td>\n",
       "      <td>0</td>\n",
       "      <td>0</td>\n",
       "    </tr>\n",
       "    <tr>\n",
       "      <th>16655</th>\n",
       "      <td>15582</td>\n",
       "      <td>10852</td>\n",
       "      <td>620</td>\n",
       "      <td>14</td>\n",
       "      <td>0</td>\n",
       "      <td>0</td>\n",
       "    </tr>\n",
       "    <tr>\n",
       "      <th>16656</th>\n",
       "      <td>15583</td>\n",
       "      <td>10852</td>\n",
       "      <td>620</td>\n",
       "      <td>10</td>\n",
       "      <td>0</td>\n",
       "      <td>0</td>\n",
       "    </tr>\n",
       "  </tbody>\n",
       "</table>\n",
       "<p>16657 rows × 6 columns</p>\n",
       "</div>"
      ],
      "text/plain": [
       "Repas  Id Personne  Id Famille     QF  cantine  cantine_panier  \\\n",
       "0                1         325  99999        0               0   \n",
       "1                2         497    636        1               0   \n",
       "2                3         762  99999        1               0   \n",
       "3                4         770    392      125               0   \n",
       "4                4         770  99999        1               0   \n",
       "...            ...         ...    ...      ...             ...   \n",
       "16652        15579       10849  99999        8               0   \n",
       "16653        15580       10850  99999       13               0   \n",
       "16654        15581       10851    259       12               0   \n",
       "16655        15582       10852    620       14               0   \n",
       "16656        15583       10852    620       10               0   \n",
       "\n",
       "Repas  cantine_vegetarien  \n",
       "0                       2  \n",
       "1                       0  \n",
       "2                       0  \n",
       "3                       0  \n",
       "4                       0  \n",
       "...                   ...  \n",
       "16652                   0  \n",
       "16653                   0  \n",
       "16654                   0  \n",
       "16655                   0  \n",
       "16656                   0  \n",
       "\n",
       "[16657 rows x 6 columns]"
      ]
     },
     "execution_count": 200,
     "metadata": {},
     "output_type": "execute_result"
    }
   ],
   "source": [
    "flat_df = raw_df.reset_index()\n",
    "flat_df"
   ]
  },
  {
   "cell_type": "code",
   "execution_count": 201,
   "id": "1202be14",
   "metadata": {},
   "outputs": [
    {
     "data": {
      "text/html": [
       "<div>\n",
       "<style scoped>\n",
       "    .dataframe tbody tr th:only-of-type {\n",
       "        vertical-align: middle;\n",
       "    }\n",
       "\n",
       "    .dataframe tbody tr th {\n",
       "        vertical-align: top;\n",
       "    }\n",
       "\n",
       "    .dataframe thead th {\n",
       "        text-align: right;\n",
       "    }\n",
       "</style>\n",
       "<table border=\"1\" class=\"dataframe\">\n",
       "  <thead>\n",
       "    <tr style=\"text-align: right;\">\n",
       "      <th>Repas</th>\n",
       "      <th>Id Personne</th>\n",
       "      <th>Id Famille</th>\n",
       "      <th>QF</th>\n",
       "      <th>cantine</th>\n",
       "      <th>cantine_panier</th>\n",
       "      <th>cantine_vegetarien</th>\n",
       "    </tr>\n",
       "  </thead>\n",
       "  <tbody>\n",
       "    <tr>\n",
       "      <th>7057</th>\n",
       "      <td>6691</td>\n",
       "      <td>443</td>\n",
       "      <td>379</td>\n",
       "      <td>62</td>\n",
       "      <td>0</td>\n",
       "      <td>0</td>\n",
       "    </tr>\n",
       "    <tr>\n",
       "      <th>7058</th>\n",
       "      <td>6691</td>\n",
       "      <td>443</td>\n",
       "      <td>1030</td>\n",
       "      <td>55</td>\n",
       "      <td>0</td>\n",
       "      <td>0</td>\n",
       "    </tr>\n",
       "  </tbody>\n",
       "</table>\n",
       "</div>"
      ],
      "text/plain": [
       "Repas  Id Personne  Id Famille    QF  cantine  cantine_panier  \\\n",
       "7057          6691         443   379       62               0   \n",
       "7058          6691         443  1030       55               0   \n",
       "\n",
       "Repas  cantine_vegetarien  \n",
       "7057                    0  \n",
       "7058                    0  "
      ]
     },
     "execution_count": 201,
     "metadata": {},
     "output_type": "execute_result"
    }
   ],
   "source": [
    "flat_df[flat_df['Id Famille'] == 443]"
   ]
  },
  {
   "cell_type": "code",
   "execution_count": 202,
   "id": "08a49ae3",
   "metadata": {},
   "outputs": [
    {
     "data": {
      "text/plain": [
       "0          32599999\n",
       "1          49700636\n",
       "2          76299999\n",
       "3          77000392\n",
       "4          77099999\n",
       "            ...    \n",
       "16652    1084999999\n",
       "16653    1085099999\n",
       "16654    1085100259\n",
       "16655    1085200620\n",
       "16656    1085200620\n",
       "Length: 16657, dtype: int64"
      ]
     },
     "execution_count": 202,
     "metadata": {},
     "output_type": "execute_result"
    }
   ],
   "source": [
    "familles_ids = flat_df[\"Id Famille\"] * 100000 + flat_df.QF\n",
    "familles_ids"
   ]
  },
  {
   "cell_type": "code",
   "execution_count": 203,
   "id": "92ca24dd",
   "metadata": {},
   "outputs": [
    {
     "data": {
      "text/plain": [
       "(array([    100301,     200455,     300601, ..., 1085099999, 1085100259,\n",
       "        1085200620], dtype=int64),\n",
       " array([14700,  4244,  3271, ..., 16653, 16654, 16655]),\n",
       " array([  334,   514,   786, ..., 11608, 11609, 11609]))"
      ]
     },
     "execution_count": 203,
     "metadata": {},
     "output_type": "execute_result"
    }
   ],
   "source": [
    "(unique_famille_ids, famille_idx, famille_id_inv) = np.unique(familles_ids, return_index=True, return_inverse=True)\n",
    "unique_famille_ids, famille_idx, famille_id_inv"
   ]
  },
  {
   "cell_type": "code",
   "execution_count": 204,
   "id": "35146a51",
   "metadata": {},
   "outputs": [
    {
     "data": {
      "text/plain": [
       "array([    100301,     200455,     300601, ..., 1085099999, 1085100259,\n",
       "       1085200620], dtype=int64)"
      ]
     },
     "execution_count": 204,
     "metadata": {},
     "output_type": "execute_result"
    }
   ],
   "source": [
    "unique_famille_ids"
   ]
  },
  {
   "cell_type": "code",
   "execution_count": 205,
   "id": "f9f77978",
   "metadata": {},
   "outputs": [
    {
     "data": {
      "text/plain": [
       "16657"
      ]
     },
     "execution_count": 205,
     "metadata": {},
     "output_type": "execute_result"
    }
   ],
   "source": [
    "len(famille_id_inv)"
   ]
  },
  {
   "cell_type": "code",
   "execution_count": 206,
   "id": "729154ec",
   "metadata": {},
   "outputs": [
    {
     "data": {
      "text/plain": [
       "11610"
      ]
     },
     "execution_count": 206,
     "metadata": {},
     "output_type": "execute_result"
    }
   ],
   "source": [
    "len(famille_idx)"
   ]
  },
  {
   "cell_type": "code",
   "execution_count": 207,
   "id": "7d7f25d6",
   "metadata": {},
   "outputs": [
    {
     "data": {
      "text/plain": [
       "array([    0,     1,     2, ..., 16654, 16655, 16655])"
      ]
     },
     "execution_count": 207,
     "metadata": {},
     "output_type": "execute_result"
    }
   ],
   "source": [
    "famille_idx[famille_id_inv]"
   ]
  },
  {
   "cell_type": "code",
   "execution_count": 208,
   "id": "972d8d33",
   "metadata": {},
   "outputs": [
    {
     "data": {
      "text/plain": [
       "array([    100301,     200455,     300601, ..., 1085099999, 1085100259,\n",
       "       1085200620], dtype=int64)"
      ]
     },
     "execution_count": 208,
     "metadata": {},
     "output_type": "execute_result"
    }
   ],
   "source": [
    "unique_famille_ids"
   ]
  },
  {
   "cell_type": "code",
   "execution_count": 209,
   "id": "1e88be52",
   "metadata": {},
   "outputs": [
    {
     "data": {
      "text/plain": [
       "11610"
      ]
     },
     "execution_count": 209,
     "metadata": {},
     "output_type": "execute_result"
    }
   ],
   "source": [
    "len(unique_famille_ids)"
   ]
  },
  {
   "cell_type": "code",
   "execution_count": 210,
   "id": "b27ebfbe",
   "metadata": {},
   "outputs": [
    {
     "data": {
      "text/plain": [
       "array([  334,   514,   786, ..., 11608, 11609, 11609])"
      ]
     },
     "execution_count": 210,
     "metadata": {},
     "output_type": "execute_result"
    }
   ],
   "source": [
    "famille_id_inv"
   ]
  },
  {
   "cell_type": "code",
   "execution_count": 211,
   "id": "4a206e58",
   "metadata": {},
   "outputs": [
    {
     "data": {
      "text/html": [
       "<div>\n",
       "<style scoped>\n",
       "    .dataframe tbody tr th:only-of-type {\n",
       "        vertical-align: middle;\n",
       "    }\n",
       "\n",
       "    .dataframe tbody tr th {\n",
       "        vertical-align: top;\n",
       "    }\n",
       "\n",
       "    .dataframe thead th {\n",
       "        text-align: right;\n",
       "    }\n",
       "</style>\n",
       "<table border=\"1\" class=\"dataframe\">\n",
       "  <thead>\n",
       "    <tr style=\"text-align: right;\">\n",
       "      <th></th>\n",
       "      <th>famille_id</th>\n",
       "      <th>strasbourg_metropole_nombre_repas_cantine</th>\n",
       "      <th>strasbourg_metropole_nombre_repas_cantine_vegetarien</th>\n",
       "      <th>strasbourg_metropole_nombre_repas_cantine_panier</th>\n",
       "    </tr>\n",
       "  </thead>\n",
       "  <tbody>\n",
       "    <tr>\n",
       "      <th>0</th>\n",
       "      <td>334</td>\n",
       "      <td>0</td>\n",
       "      <td>2</td>\n",
       "      <td>0</td>\n",
       "    </tr>\n",
       "    <tr>\n",
       "      <th>1</th>\n",
       "      <td>514</td>\n",
       "      <td>1</td>\n",
       "      <td>0</td>\n",
       "      <td>0</td>\n",
       "    </tr>\n",
       "    <tr>\n",
       "      <th>2</th>\n",
       "      <td>786</td>\n",
       "      <td>1</td>\n",
       "      <td>0</td>\n",
       "      <td>0</td>\n",
       "    </tr>\n",
       "    <tr>\n",
       "      <th>3</th>\n",
       "      <td>794</td>\n",
       "      <td>125</td>\n",
       "      <td>0</td>\n",
       "      <td>0</td>\n",
       "    </tr>\n",
       "    <tr>\n",
       "      <th>4</th>\n",
       "      <td>795</td>\n",
       "      <td>1</td>\n",
       "      <td>0</td>\n",
       "      <td>0</td>\n",
       "    </tr>\n",
       "    <tr>\n",
       "      <th>...</th>\n",
       "      <td>...</td>\n",
       "      <td>...</td>\n",
       "      <td>...</td>\n",
       "      <td>...</td>\n",
       "    </tr>\n",
       "    <tr>\n",
       "      <th>16652</th>\n",
       "      <td>11606</td>\n",
       "      <td>8</td>\n",
       "      <td>0</td>\n",
       "      <td>0</td>\n",
       "    </tr>\n",
       "    <tr>\n",
       "      <th>16653</th>\n",
       "      <td>11607</td>\n",
       "      <td>13</td>\n",
       "      <td>0</td>\n",
       "      <td>0</td>\n",
       "    </tr>\n",
       "    <tr>\n",
       "      <th>16654</th>\n",
       "      <td>11608</td>\n",
       "      <td>12</td>\n",
       "      <td>0</td>\n",
       "      <td>0</td>\n",
       "    </tr>\n",
       "    <tr>\n",
       "      <th>16655</th>\n",
       "      <td>11609</td>\n",
       "      <td>14</td>\n",
       "      <td>0</td>\n",
       "      <td>0</td>\n",
       "    </tr>\n",
       "    <tr>\n",
       "      <th>16656</th>\n",
       "      <td>11609</td>\n",
       "      <td>10</td>\n",
       "      <td>0</td>\n",
       "      <td>0</td>\n",
       "    </tr>\n",
       "  </tbody>\n",
       "</table>\n",
       "<p>16657 rows × 4 columns</p>\n",
       "</div>"
      ],
      "text/plain": [
       "       famille_id  strasbourg_metropole_nombre_repas_cantine  \\\n",
       "0             334                                          0   \n",
       "1             514                                          1   \n",
       "2             786                                          1   \n",
       "3             794                                        125   \n",
       "4             795                                          1   \n",
       "...           ...                                        ...   \n",
       "16652       11606                                          8   \n",
       "16653       11607                                         13   \n",
       "16654       11608                                         12   \n",
       "16655       11609                                         14   \n",
       "16656       11609                                         10   \n",
       "\n",
       "       strasbourg_metropole_nombre_repas_cantine_vegetarien  \\\n",
       "0                                                      2      \n",
       "1                                                      0      \n",
       "2                                                      0      \n",
       "3                                                      0      \n",
       "4                                                      0      \n",
       "...                                                  ...      \n",
       "16652                                                  0      \n",
       "16653                                                  0      \n",
       "16654                                                  0      \n",
       "16655                                                  0      \n",
       "16656                                                  0      \n",
       "\n",
       "       strasbourg_metropole_nombre_repas_cantine_panier  \n",
       "0                                                     0  \n",
       "1                                                     0  \n",
       "2                                                     0  \n",
       "3                                                     0  \n",
       "4                                                     0  \n",
       "...                                                 ...  \n",
       "16652                                                 0  \n",
       "16653                                                 0  \n",
       "16654                                                 0  \n",
       "16655                                                 0  \n",
       "16656                                                 0  \n",
       "\n",
       "[16657 rows x 4 columns]"
      ]
     },
     "execution_count": 211,
     "metadata": {},
     "output_type": "execute_result"
    }
   ],
   "source": [
    "individu_df = pd.DataFrame({\n",
    "    'famille_id': famille_id_inv,\n",
    "    'strasbourg_metropole_nombre_repas_cantine':flat_df.cantine,\n",
    "    'strasbourg_metropole_nombre_repas_cantine_vegetarien':flat_df.cantine_vegetarien,\n",
    "    'strasbourg_metropole_nombre_repas_cantine_panier':flat_df.cantine_panier,\n",
    "})\n",
    "individu_df # nombre de repas pour chaque enfant selon le type de repas "
   ]
  },
  {
   "cell_type": "code",
   "execution_count": 212,
   "id": "fc9b7ca9",
   "metadata": {},
   "outputs": [
    {
     "data": {
      "text/plain": [
       "array([14700,  4244,  3271, ..., 16653, 16654, 16655])"
      ]
     },
     "execution_count": 212,
     "metadata": {},
     "output_type": "execute_result"
    }
   ],
   "source": [
    "famille_idx"
   ]
  },
  {
   "cell_type": "code",
   "execution_count": 213,
   "id": "2bf2d6fb",
   "metadata": {},
   "outputs": [
    {
     "data": {
      "text/html": [
       "<div>\n",
       "<style scoped>\n",
       "    .dataframe tbody tr th:only-of-type {\n",
       "        vertical-align: middle;\n",
       "    }\n",
       "\n",
       "    .dataframe tbody tr th {\n",
       "        vertical-align: top;\n",
       "    }\n",
       "\n",
       "    .dataframe thead th {\n",
       "        text-align: right;\n",
       "    }\n",
       "</style>\n",
       "<table border=\"1\" class=\"dataframe\">\n",
       "  <thead>\n",
       "    <tr style=\"text-align: right;\">\n",
       "      <th></th>\n",
       "      <th>strasbourg_metropole_quotient_familial</th>\n",
       "    </tr>\n",
       "  </thead>\n",
       "  <tbody>\n",
       "    <tr>\n",
       "      <th>14700</th>\n",
       "      <td>301</td>\n",
       "    </tr>\n",
       "    <tr>\n",
       "      <th>4244</th>\n",
       "      <td>455</td>\n",
       "    </tr>\n",
       "    <tr>\n",
       "      <th>3271</th>\n",
       "      <td>601</td>\n",
       "    </tr>\n",
       "    <tr>\n",
       "      <th>2796</th>\n",
       "      <td>787</td>\n",
       "    </tr>\n",
       "    <tr>\n",
       "      <th>12016</th>\n",
       "      <td>244</td>\n",
       "    </tr>\n",
       "    <tr>\n",
       "      <th>...</th>\n",
       "      <td>...</td>\n",
       "    </tr>\n",
       "    <tr>\n",
       "      <th>16651</th>\n",
       "      <td>99999</td>\n",
       "    </tr>\n",
       "    <tr>\n",
       "      <th>7453</th>\n",
       "      <td>99999</td>\n",
       "    </tr>\n",
       "    <tr>\n",
       "      <th>16653</th>\n",
       "      <td>99999</td>\n",
       "    </tr>\n",
       "    <tr>\n",
       "      <th>16654</th>\n",
       "      <td>259</td>\n",
       "    </tr>\n",
       "    <tr>\n",
       "      <th>16655</th>\n",
       "      <td>620</td>\n",
       "    </tr>\n",
       "  </tbody>\n",
       "</table>\n",
       "<p>11610 rows × 1 columns</p>\n",
       "</div>"
      ],
      "text/plain": [
       "       strasbourg_metropole_quotient_familial\n",
       "14700                                     301\n",
       "4244                                      455\n",
       "3271                                      601\n",
       "2796                                      787\n",
       "12016                                     244\n",
       "...                                       ...\n",
       "16651                                   99999\n",
       "7453                                    99999\n",
       "16653                                   99999\n",
       "16654                                     259\n",
       "16655                                     620\n",
       "\n",
       "[11610 rows x 1 columns]"
      ]
     },
     "execution_count": 213,
     "metadata": {},
     "output_type": "execute_result"
    }
   ],
   "source": [
    "famille_df = pd.DataFrame({\n",
    "    'strasbourg_metropole_quotient_familial': flat_df.QF[famille_idx]\n",
    "})\n",
    "famille_df"
   ]
  },
  {
   "cell_type": "code",
   "execution_count": 214,
   "id": "1687a6cc",
   "metadata": {},
   "outputs": [],
   "source": [
    "base_year = \"2021-03\""
   ]
  },
  {
   "cell_type": "code",
   "execution_count": 215,
   "id": "0ddae125",
   "metadata": {},
   "outputs": [],
   "source": [
    "from openfisca_survey_manager.scenarios import AbstractSurveyScenario\n",
    "from openfisca_france import CountryTaxBenefitSystem\n",
    "from openfisca_france.model.base import Famille, FoyerFiscal, Menage\n",
    "from openfisca_core import periods\n",
    "from openfisca_core.model_api import Reform"
   ]
  },
  {
   "cell_type": "markdown",
   "id": "efbc9f3c",
   "metadata": {},
   "source": [
    "Modélisation des différents scénarios "
   ]
  },
  {
   "cell_type": "code",
   "execution_count": 217,
   "id": "b9b12458",
   "metadata": {},
   "outputs": [],
   "source": [
    "def modify_parameters(parameters):\n",
    "    pp = parameters.metropoles.strasbourg.tarifs_cantine\n",
    "    pp[1].amount.update(start = periods.period(\"2021-01-01\"), value = 1.5)\n",
    "    pp[2].amount.update(start = periods.period(\"2021-01-01\"), value = 1.5)\n",
    "    return parameters\n",
    "    \n",
    "class reform_fusion_1_3(Reform):\n",
    "    name = u\"Fusionne les trois premières tranches\"\n",
    "\n",
    "    def apply(self):\n",
    "        self.modify_parameters(modifier_function = modify_parameters)"
   ]
  },
  {
   "cell_type": "code",
   "execution_count": 218,
   "id": "f048b5c6",
   "metadata": {},
   "outputs": [],
   "source": [
    "def modify_parameters(parameters):\n",
    "    pp = parameters.metropoles.strasbourg.tarifs_cantine\n",
    "    pp[1].amount.update(start = periods.period(\"2021-01-01\"), value = 1.5)\n",
    "    pp[2].amount.update(start = periods.period(\"2021-01-01\"), value = 1.5)\n",
    "    pp[3].amount.update(start = periods.period(\"2021-01-01\"), value = 2.15)\n",
    "    pp[4].amount.update(start = periods.period(\"2021-01-01\"), value = 2.70)\n",
    "    pp[5].amount.update(start = periods.period(\"2021-01-01\"), value = 3.25)\n",
    "    pp[6].amount.update(start = periods.period(\"2021-01-01\"), value = 3.80)\n",
    "    pp[7].amount.update(start = periods.period(\"2021-01-01\"), value = 4.40)\n",
    "    pp[-2].amount.update(start = periods.period(\"2021-01-01\"), value = 5.10)\n",
    "    pp[-1].amount.update(start = periods.period(\"2021-01-01\"), value = 5.80)\n",
    "    pa = parameters.metropoles.strasbourg.tarifs_repas_vege\n",
    "    pa[1].amount.update(start = periods.period(\"2021-01-01\"), value = 1.15)\n",
    "    pa[2].amount.update(start = periods.period(\"2021-01-01\"), value = 1.15)\n",
    "    pa[3].amount.update(start = periods.period(\"2021-01-01\"), value = 1.80)\n",
    "    pa[4].amount.update(start = periods.period(\"2021-01-01\"), value = 2.35)\n",
    "    pa[5].amount.update(start = periods.period(\"2021-01-01\"), value = 2.90)\n",
    "    pa[6].amount.update(start = periods.period(\"2021-01-01\"), value = 3.45)\n",
    "    pa[7].amount.update(start = periods.period(\"2021-01-01\"), value = 4.05)\n",
    "    pa[-2].amount.update(start = periods.period(\"2021-01-01\"), value = 4.75)\n",
    "    pa[-1].amount.update(start = periods.period(\"2021-01-01\"), value = 5.45)\n",
    "    pb = parameters.metropoles.strasbourg.tarifs_repas_panier\n",
    "    pb[1].amount.update(start = periods.period(\"2021-01-01\"), value = 0.75)\n",
    "    pb[2].amount.update(start = periods.period(\"2021-01-01\"), value = 0.75)\n",
    "    pb[3].amount.update(start = periods.period(\"2021-01-01\"), value = 1.08)\n",
    "    pb[4].amount.update(start = periods.period(\"2021-01-01\"), value = 1.35)\n",
    "    pb[5].amount.update(start = periods.period(\"2021-01-01\"), value = 1.63)\n",
    "    pb[6].amount.update(start = periods.period(\"2021-01-01\"), value = 1.90)\n",
    "    pb[7].amount.update(start = periods.period(\"2021-01-01\"), value = 2.20)\n",
    "    pb[-2].amount.update(start = periods.period(\"2021-01-01\"), value = 2.55)\n",
    "    pb[-1].amount.update(start = periods.period(\"2021-01-01\"), value = 2.90)\n",
    "    return parameters\n",
    "    \n",
    "class reform_fusion_1_5(Reform):\n",
    "    name = u\"Scénario A : Fusionne les trois premières tranches + Hausse du prix différenciée selon les tranches\"\n",
    "\n",
    "    def apply(self):\n",
    "        self.modify_parameters(modifier_function = modify_parameters)"
   ]
  },
  {
   "cell_type": "code",
   "execution_count": null,
   "id": "778d9581",
   "metadata": {},
   "outputs": [],
   "source": []
  },
  {
   "cell_type": "code",
   "execution_count": 219,
   "id": "c0816576",
   "metadata": {},
   "outputs": [],
   "source": [
    "class StrasbourgSurveyScenario(AbstractSurveyScenario):\n",
    "    def __init__(self, data = None, reform = None):\n",
    "        super(StrasbourgSurveyScenario, self).__init__()\n",
    "\n",
    "        base = CountryTaxBenefitSystem()\n",
    "        base.load_extension('openfisca_france_local')\n",
    "        if reform is not None:\n",
    "            tax_benefit_system = reform(base)\n",
    "        else:\n",
    "            tax_benefit_system = base\n",
    "        self.year = base_year\n",
    "\n",
    "        if 'input_data_frame_by_entity_by_period' in data:\n",
    "            period = periods.period(self.year)\n",
    "            dataframe_variables = set()\n",
    "            for entity_dataframe in data['input_data_frame_by_entity_by_period'][period].values():\n",
    "                if not isinstance(entity_dataframe, pd.DataFrame):\n",
    "                    continue\n",
    "                dataframe_variables = dataframe_variables.union(set(entity_dataframe.columns))\n",
    "            self.used_as_input_variables = list(\n",
    "                set(tax_benefit_system.variables.keys()).intersection(dataframe_variables)\n",
    "                )\n",
    "\n",
    "        self.set_tax_benefit_systems(tax_benefit_system)\n",
    "        self.init_from_data(data = data)"
   ]
  },
  {
   "cell_type": "code",
   "execution_count": 220,
   "id": "26a9de6f",
   "metadata": {},
   "outputs": [],
   "source": [
    "individu_df['famille_role_index'] = 0\n",
    "individu_df['foyer_fiscal_id'] = individu_df.famille_id\n",
    "individu_df['foyer_fiscal_role_index'] = 0\n",
    "individu_df['menage_id'] = individu_df.famille_id\n",
    "individu_df['menage_role_index'] = 0"
   ]
  },
  {
   "cell_type": "code",
   "execution_count": 221,
   "id": "bb7c58f0",
   "metadata": {},
   "outputs": [],
   "source": [
    "menage_df = pd.DataFrame({})\n",
    "foyerfiscaux_df = pd.DataFrame({})"
   ]
  },
  {
   "cell_type": "code",
   "execution_count": 222,
   "id": "5068e319",
   "metadata": {},
   "outputs": [
    {
     "data": {
      "text/plain": [
       "Period(('month', Instant((2021, 3, 1)), 1))"
      ]
     },
     "execution_count": 222,
     "metadata": {},
     "output_type": "execute_result"
    }
   ],
   "source": [
    "periods.period(base_year)"
   ]
  },
  {
   "cell_type": "code",
   "execution_count": 223,
   "id": "2dec90d9",
   "metadata": {},
   "outputs": [],
   "source": [
    "data = dict(input_data_frame_by_entity_by_period = {periods.period(base_year): dict(\n",
    "individu=individu_df,\n",
    "famille=famille_df,\n",
    "menage=menage_df,\n",
    "foyer_fiscal=foyerfiscaux_df)})"
   ]
  },
  {
   "cell_type": "code",
   "execution_count": null,
   "id": "875e7fe4",
   "metadata": {},
   "outputs": [],
   "source": []
  },
  {
   "cell_type": "code",
   "execution_count": 224,
   "id": "7c05a153",
   "metadata": {},
   "outputs": [],
   "source": [
    "def compute_result(data, reform):\n",
    "    scenario = StrasbourgSurveyScenario(data = data, reform = reform)\n",
    "    cout_cantine = scenario.simulation.calculate('strasbourg_metropole_cout_cantine', period = '2021-03')\n",
    "    cout_cantine_vege = scenario.simulation.calculate('strasbourg_metropole_cout_cantine_repas_vegetarien', period = '2021-03')\n",
    "    cout_cantine_panier = scenario.simulation.calculate('strasbourg_metropole_cout_cantine_repas_panier', period = '2021-03')\n",
    "    aide_etat = scenario.simulation.calculate('strasbourg_metropole_aide_repas_etat', period = '2021-03')\n",
    "    return (scenario, np.array([sum(cout_cantine), sum(cout_cantine_vege), sum(cout_cantine_panier)]), np.array([sum(aide_etat)]))"
   ]
  },
  {
   "cell_type": "code",
   "execution_count": 225,
   "id": "d43c1687",
   "metadata": {},
   "outputs": [],
   "source": [
    "base = compute_result(data, None)"
   ]
  },
  {
   "cell_type": "code",
   "execution_count": 226,
   "id": "ee062f96",
   "metadata": {},
   "outputs": [
    {
     "data": {
      "text/plain": [
       "(<__main__.StrasbourgSurveyScenario at 0x1306c2a10>,\n",
       " array([5413949.4430635 ,  187197.99897647,   14112.25020409]),\n",
       " array([2508.]))"
      ]
     },
     "execution_count": 226,
     "metadata": {},
     "output_type": "execute_result"
    }
   ],
   "source": [
    "base # somme du nombre de repas en fonction du type de repas "
   ]
  },
  {
   "cell_type": "code",
   "execution_count": 227,
   "id": "4814ec52",
   "metadata": {},
   "outputs": [
    {
     "data": {
      "text/plain": [
       "5615259.692244053"
      ]
     },
     "execution_count": 227,
     "metadata": {},
     "output_type": "execute_result"
    }
   ],
   "source": [
    "sum(base[1]) # somme des repas pris "
   ]
  },
  {
   "cell_type": "code",
   "execution_count": 228,
   "id": "4d831332",
   "metadata": {},
   "outputs": [
    {
     "data": {
      "text/plain": [
       "array([2508.])"
      ]
     },
     "execution_count": 228,
     "metadata": {},
     "output_type": "execute_result"
    }
   ],
   "source": [
    "base[2]"
   ]
  },
  {
   "cell_type": "code",
   "execution_count": 229,
   "id": "d3eea531",
   "metadata": {},
   "outputs": [],
   "source": [
    "fusion = compute_result(data, reform_fusion_1_3)"
   ]
  },
  {
   "cell_type": "code",
   "execution_count": 230,
   "id": "e3c02f80",
   "metadata": {},
   "outputs": [
    {
     "data": {
      "text/plain": [
       "<__main__.StrasbourgSurveyScenario at 0x1306c2a10>"
      ]
     },
     "execution_count": 230,
     "metadata": {},
     "output_type": "execute_result"
    }
   ],
   "source": [
    "base[0]"
   ]
  },
  {
   "cell_type": "code",
   "execution_count": 231,
   "id": "4f8a0bf1",
   "metadata": {
    "scrolled": true
   },
   "outputs": [
    {
     "data": {
      "text/plain": [
       "array([5413949.4430635 ,  187197.99897647,   14112.25020409])"
      ]
     },
     "execution_count": 231,
     "metadata": {},
     "output_type": "execute_result"
    }
   ],
   "source": [
    "base[1]"
   ]
  },
  {
   "cell_type": "code",
   "execution_count": 232,
   "id": "1cec4f16",
   "metadata": {},
   "outputs": [
    {
     "data": {
      "text/plain": [
       "(<__main__.StrasbourgSurveyScenario at 0x132fa4c50>,\n",
       " array([4225744.40664268,  142659.79872477,   10543.20009494]),\n",
       " array([6320.]))"
      ]
     },
     "execution_count": 232,
     "metadata": {},
     "output_type": "execute_result"
    }
   ],
   "source": [
    "fusion # somme des repas en fonction du type de repas "
   ]
  },
  {
   "cell_type": "code",
   "execution_count": 233,
   "id": "608ed466",
   "metadata": {},
   "outputs": [
    {
     "data": {
      "text/plain": [
       "array([-1188205.03642082,   -44538.2002517 ,    -3569.05010915])"
      ]
     },
     "execution_count": 233,
     "metadata": {},
     "output_type": "execute_result"
    }
   ],
   "source": [
    "fusion[1] - base[1] #différence entre les tarifs de la grille de référence et les tarifs après modification "
   ]
  },
  {
   "cell_type": "code",
   "execution_count": 234,
   "id": "7e4807f7",
   "metadata": {},
   "outputs": [
    {
     "data": {
      "text/plain": [
       "-1236312.2867816687"
      ]
     },
     "execution_count": 234,
     "metadata": {},
     "output_type": "execute_result"
    }
   ],
   "source": [
    "sum(fusion[1] - base[1])"
   ]
  },
  {
   "cell_type": "code",
   "execution_count": 235,
   "id": "cd83676c",
   "metadata": {},
   "outputs": [
    {
     "data": {
      "text/plain": [
       "4378947.405462384"
      ]
     },
     "execution_count": 235,
     "metadata": {},
     "output_type": "execute_result"
    }
   ],
   "source": [
    "sum(fusion[1])"
   ]
  },
  {
   "cell_type": "code",
   "execution_count": 236,
   "id": "48abdebc",
   "metadata": {},
   "outputs": [
    {
     "data": {
      "text/plain": [
       "brackets:\n",
       "  - amount:\n",
       "      2010-10-01: 1.5\n",
       "    threshold:\n",
       "      2010-10-01: -1\n",
       "  - amount:\n",
       "      2010-10-01: 2.15\n",
       "    threshold:\n",
       "      2010-10-01: 410\n",
       "  - amount:\n",
       "      2010-10-01: 2.7\n",
       "    threshold:\n",
       "      2010-10-01: 510\n",
       "  - amount:\n",
       "      2010-10-01: 3.25\n",
       "    threshold:\n",
       "      2010-10-01: 620\n",
       "  - amount:\n",
       "      2010-10-01: 3.8\n",
       "    threshold:\n",
       "      2010-10-01: 720\n",
       "  - amount:\n",
       "      2010-10-01: 4.4\n",
       "    threshold:\n",
       "      2010-10-01: 820\n",
       "  - amount:\n",
       "      2010-10-01: 5.1\n",
       "    threshold:\n",
       "      2010-10-01: 920\n",
       "  - amount:\n",
       "      2010-10-01: 5.8\n",
       "    threshold:\n",
       "      2010-10-01: 1030\n",
       "  - amount:\n",
       "      2010-10-01: 6.3\n",
       "    threshold:\n",
       "      2010-10-01: 1540\n",
       "  - amount:\n",
       "      2010-10-01: 6.9\n",
       "    threshold:\n",
       "      2010-10-01: 2050"
      ]
     },
     "execution_count": 236,
     "metadata": {},
     "output_type": "execute_result"
    }
   ],
   "source": [
    "base[0].tax_benefit_system.parameters.metropoles.strasbourg.tarifs_cantine"
   ]
  },
  {
   "cell_type": "code",
   "execution_count": 237,
   "id": "37490bea",
   "metadata": {
    "scrolled": false
   },
   "outputs": [
    {
     "data": {
      "text/plain": [
       "brackets:\n",
       "  - amount:\n",
       "      2010-10-01: 1.5\n",
       "    threshold:\n",
       "      2010-10-01: -1\n",
       "  - amount:\n",
       "      2021-01-01: 1.5\n",
       "      2010-10-01: 2.15\n",
       "    threshold:\n",
       "      2010-10-01: 410\n",
       "  - amount:\n",
       "      2021-01-01: 1.5\n",
       "      2010-10-01: 2.7\n",
       "    threshold:\n",
       "      2010-10-01: 510\n",
       "  - amount:\n",
       "      2021-01-01: 2.15\n",
       "      2010-10-01: 3.25\n",
       "    threshold:\n",
       "      2010-10-01: 620\n",
       "  - amount:\n",
       "      2021-01-01: 2.7\n",
       "      2010-10-01: 3.8\n",
       "    threshold:\n",
       "      2010-10-01: 720\n",
       "  - amount:\n",
       "      2021-01-01: 3.25\n",
       "      2010-10-01: 4.4\n",
       "    threshold:\n",
       "      2010-10-01: 820\n",
       "  - amount:\n",
       "      2021-01-01: 3.8\n",
       "      2010-10-01: 5.1\n",
       "    threshold:\n",
       "      2010-10-01: 920\n",
       "  - amount:\n",
       "      2021-01-01: 4.4\n",
       "      2010-10-01: 5.8\n",
       "    threshold:\n",
       "      2010-10-01: 1030\n",
       "  - amount:\n",
       "      2021-01-01: 5.1\n",
       "      2010-10-01: 6.3\n",
       "    threshold:\n",
       "      2010-10-01: 1540\n",
       "  - amount:\n",
       "      2021-01-01: 5.8\n",
       "      2010-10-01: 6.9\n",
       "    threshold:\n",
       "      2010-10-01: 2050"
      ]
     },
     "execution_count": 237,
     "metadata": {},
     "output_type": "execute_result"
    }
   ],
   "source": [
    "fusion[0].tax_benefit_system.parameters.metropoles.strasbourg.tarifs_cantine"
   ]
  },
  {
   "cell_type": "code",
   "execution_count": 238,
   "id": "45163eb9",
   "metadata": {},
   "outputs": [],
   "source": [
    "fusion = compute_result(data, reform_fusion_1_5) # Scénario A "
   ]
  },
  {
   "cell_type": "code",
   "execution_count": 239,
   "id": "54f614c0",
   "metadata": {},
   "outputs": [
    {
     "data": {
      "text/plain": [
       "(<__main__.StrasbourgSurveyScenario at 0x135823a90>,\n",
       " array([4225744.40664268,  142659.79872477,   10543.20009494]),\n",
       " array([6320.]))"
      ]
     },
     "execution_count": 239,
     "metadata": {},
     "output_type": "execute_result"
    }
   ],
   "source": [
    "fusion # somme des repas en fonction du type de repas pour le scénario A"
   ]
  },
  {
   "cell_type": "code",
   "execution_count": 240,
   "id": "96b38d78",
   "metadata": {},
   "outputs": [
    {
     "data": {
      "text/plain": [
       "array([4225744.40664268,  142659.79872477,   10543.20009494])"
      ]
     },
     "execution_count": 240,
     "metadata": {},
     "output_type": "execute_result"
    }
   ],
   "source": [
    "fusion[1]"
   ]
  },
  {
   "cell_type": "code",
   "execution_count": 241,
   "id": "3ba91f6b",
   "metadata": {},
   "outputs": [
    {
     "data": {
      "text/plain": [
       "brackets:\n",
       "  - amount:\n",
       "      2010-10-01: 1.5\n",
       "    threshold:\n",
       "      2010-10-01: -1\n",
       "  - amount:\n",
       "      2021-01-01: 1.5\n",
       "      2010-10-01: 2.15\n",
       "    threshold:\n",
       "      2010-10-01: 410\n",
       "  - amount:\n",
       "      2021-01-01: 1.5\n",
       "      2010-10-01: 2.7\n",
       "    threshold:\n",
       "      2010-10-01: 510\n",
       "  - amount:\n",
       "      2021-01-01: 2.15\n",
       "      2010-10-01: 3.25\n",
       "    threshold:\n",
       "      2010-10-01: 620\n",
       "  - amount:\n",
       "      2021-01-01: 2.7\n",
       "      2010-10-01: 3.8\n",
       "    threshold:\n",
       "      2010-10-01: 720\n",
       "  - amount:\n",
       "      2021-01-01: 3.25\n",
       "      2010-10-01: 4.4\n",
       "    threshold:\n",
       "      2010-10-01: 820\n",
       "  - amount:\n",
       "      2021-01-01: 3.8\n",
       "      2010-10-01: 5.1\n",
       "    threshold:\n",
       "      2010-10-01: 920\n",
       "  - amount:\n",
       "      2021-01-01: 4.4\n",
       "      2010-10-01: 5.8\n",
       "    threshold:\n",
       "      2010-10-01: 1030\n",
       "  - amount:\n",
       "      2021-01-01: 5.1\n",
       "      2010-10-01: 6.3\n",
       "    threshold:\n",
       "      2010-10-01: 1540\n",
       "  - amount:\n",
       "      2021-01-01: 5.8\n",
       "      2010-10-01: 6.9\n",
       "    threshold:\n",
       "      2010-10-01: 2050"
      ]
     },
     "execution_count": 241,
     "metadata": {},
     "output_type": "execute_result"
    }
   ],
   "source": [
    "fusion[0].tax_benefit_system.parameters.metropoles.strasbourg.tarifs_cantine # tarifs pour le scénario A pour le repas standard"
   ]
  },
  {
   "cell_type": "code",
   "execution_count": 242,
   "id": "2bff4224",
   "metadata": {},
   "outputs": [],
   "source": [
    "fusion = compute_result(data, reform_fusion_1_5)"
   ]
  },
  {
   "cell_type": "code",
   "execution_count": 243,
   "id": "5c6770b1",
   "metadata": {},
   "outputs": [
    {
     "data": {
      "text/plain": [
       "brackets:\n",
       "  - amount:\n",
       "      2010-10-01: 1.15\n",
       "    threshold:\n",
       "      2010-10-01: -1\n",
       "  - amount:\n",
       "      2021-01-01: 1.15\n",
       "      2010-10-01: 1.8\n",
       "    threshold:\n",
       "      2010-10-01: 410\n",
       "  - amount:\n",
       "      2021-01-01: 1.15\n",
       "      2010-10-01: 2.35\n",
       "    threshold:\n",
       "      2010-10-01: 510\n",
       "  - amount:\n",
       "      2021-01-01: 1.8\n",
       "      2010-10-01: 2.9\n",
       "    threshold:\n",
       "      2010-10-01: 620\n",
       "  - amount:\n",
       "      2021-01-01: 2.35\n",
       "      2010-10-01: 3.45\n",
       "    threshold:\n",
       "      2010-10-01: 720\n",
       "  - amount:\n",
       "      2021-01-01: 2.9\n",
       "      2010-10-01: 4.05\n",
       "    threshold:\n",
       "      2010-10-01: 820\n",
       "  - amount:\n",
       "      2021-01-01: 3.45\n",
       "      2010-10-01: 4.75\n",
       "    threshold:\n",
       "      2010-10-01: 920\n",
       "  - amount:\n",
       "      2021-01-01: 4.05\n",
       "      2010-10-01: 5.45\n",
       "    threshold:\n",
       "      2010-10-01: 1030\n",
       "  - amount:\n",
       "      2021-01-01: 4.75\n",
       "      2010-10-01: 5.95\n",
       "    threshold:\n",
       "      2010-10-01: 1540\n",
       "  - amount:\n",
       "      2021-01-01: 5.45\n",
       "      2010-10-01: 6.55\n",
       "    threshold:\n",
       "      2010-10-01: 2050"
      ]
     },
     "execution_count": 243,
     "metadata": {},
     "output_type": "execute_result"
    }
   ],
   "source": [
    "fusion[0].tax_benefit_system.parameters.metropoles.strasbourg.tarifs_repas_vege # tarifs pour le scénario A pour le repas végétarien"
   ]
  },
  {
   "cell_type": "code",
   "execution_count": 244,
   "id": "d95c914d",
   "metadata": {},
   "outputs": [
    {
     "data": {
      "text/plain": [
       "brackets:\n",
       "  - amount:\n",
       "      2010-10-01: 0.75\n",
       "    threshold:\n",
       "      2010-10-01: -1\n",
       "  - amount:\n",
       "      2021-01-01: 0.75\n",
       "      2010-10-01: 1.08\n",
       "    threshold:\n",
       "      2010-10-01: 410\n",
       "  - amount:\n",
       "      2021-01-01: 0.75\n",
       "      2010-10-01: 1.35\n",
       "    threshold:\n",
       "      2010-10-01: 510\n",
       "  - amount:\n",
       "      2021-01-01: 1.08\n",
       "      2010-10-01: 1.63\n",
       "    threshold:\n",
       "      2010-10-01: 620\n",
       "  - amount:\n",
       "      2021-01-01: 1.35\n",
       "      2010-10-01: 1.9\n",
       "    threshold:\n",
       "      2010-10-01: 720\n",
       "  - amount:\n",
       "      2021-01-01: 1.63\n",
       "      2010-10-01: 2.2\n",
       "    threshold:\n",
       "      2010-10-01: 820\n",
       "  - amount:\n",
       "      2021-01-01: 1.9\n",
       "      2010-10-01: 2.55\n",
       "    threshold:\n",
       "      2010-10-01: 920\n",
       "  - amount:\n",
       "      2021-01-01: 2.2\n",
       "      2010-10-01: 2.9\n",
       "    threshold:\n",
       "      2010-10-01: 1030\n",
       "  - amount:\n",
       "      2021-01-01: 2.55\n",
       "      2010-10-01: 3.15\n",
       "    threshold:\n",
       "      2010-10-01: 1540\n",
       "  - amount:\n",
       "      2021-01-01: 2.9\n",
       "      2010-10-01: 3.45\n",
       "    threshold:\n",
       "      2010-10-01: 2050"
      ]
     },
     "execution_count": 244,
     "metadata": {},
     "output_type": "execute_result"
    }
   ],
   "source": [
    "fusion[0].tax_benefit_system.parameters.metropoles.strasbourg.tarifs_repas_panier # tarifs pour le scénario A pour le panier"
   ]
  },
  {
   "cell_type": "code",
   "execution_count": 245,
   "id": "814aad9b",
   "metadata": {},
   "outputs": [],
   "source": [
    "def modify_parameters(parameters):\n",
    "    pp = parameters.metropoles.strasbourg.tarifs_cantine\n",
    "    pp[1].amount.update(start = periods.period(\"2021-01-01\"), value = 1.5)\n",
    "    pp[2].amount.update(start = periods.period(\"2021-01-01\"), value = 1.5)\n",
    "    pp[3].amount.update(start = periods.period(\"2021-01-01\"), value = 2.00)\n",
    "    pp[4].amount.update(start = periods.period(\"2021-01-01\"), value = 2.50)\n",
    "    pp[5].amount.update(start = periods.period(\"2021-01-01\"), value = 3.00)\n",
    "    pp[6].amount.update(start = periods.period(\"2021-01-01\"), value = 4.50)\n",
    "    pp[7].amount.update(start = periods.period(\"2021-01-01\"), value = 6.00)\n",
    "    pp[-2].amount.update(start = periods.period(\"2021-01-01\"), value = 7.50)\n",
    "    pp[-1].amount.update(start = periods.period(\"2021-01-01\"), value = 9.00)\n",
    "    pa = parameters.metropoles.strasbourg.tarifs_repas_vege\n",
    "    pa[1].amount.update(start = periods.period(\"2021-01-01\"), value = 1.15)\n",
    "    pa[2].amount.update(start = periods.period(\"2021-01-01\"), value = 1.15)\n",
    "    pa[3].amount.update(start = periods.period(\"2021-01-01\"), value = 1.65)\n",
    "    pa[4].amount.update(start = periods.period(\"2021-01-01\"), value = 2.15)\n",
    "    pa[5].amount.update(start = periods.period(\"2021-01-01\"), value = 2.65)\n",
    "    pa[6].amount.update(start = periods.period(\"2021-01-01\"), value = 4.15)\n",
    "    pa[7].amount.update(start = periods.period(\"2021-01-01\"), value = 5.65)\n",
    "    pa[-2].amount.update(start = periods.period(\"2021-01-01\"), value = 7.15)\n",
    "    pa[-1].amount.update(start = periods.period(\"2021-01-01\"), value = 8.65)\n",
    "    pb = parameters.metropoles.strasbourg.tarifs_repas_panier\n",
    "    pb[1].amount.update(start = periods.period(\"2021-01-01\"), value = 0.75)\n",
    "    pb[2].amount.update(start = periods.period(\"2021-01-01\"), value = 0.75)\n",
    "    pb[3].amount.update(start = periods.period(\"2021-01-01\"), value = 1.00)\n",
    "    pb[4].amount.update(start = periods.period(\"2021-01-01\"), value = 1.25)\n",
    "    pb[5].amount.update(start = periods.period(\"2021-01-01\"), value = 1.50)\n",
    "    pb[6].amount.update(start = periods.period(\"2021-01-01\"), value = 2.25)\n",
    "    pb[7].amount.update(start = periods.period(\"2021-01-01\"), value = 3.00)\n",
    "    pb[-2].amount.update(start = periods.period(\"2021-01-01\"), value = 3.75)\n",
    "    pb[-1].amount.update(start = periods.period(\"2021-01-01\"), value = 4.50)\n",
    "    return parameters\n",
    "    \n",
    "class reform_fusion_1_6(Reform):\n",
    "    name = u\"Scénario B : Fusionne les trois premières tranches + Hausse du prix\"\n",
    "\n",
    "    def apply(self):\n",
    "        self.modify_parameters(modifier_function = modify_parameters)"
   ]
  },
  {
   "cell_type": "code",
   "execution_count": 246,
   "id": "e869e490",
   "metadata": {},
   "outputs": [],
   "source": [
    "fusion = compute_result(data, reform_fusion_1_6)"
   ]
  },
  {
   "cell_type": "code",
   "execution_count": 247,
   "id": "6ead6166",
   "metadata": {},
   "outputs": [
    {
     "data": {
      "text/plain": [
       "(<__main__.StrasbourgSurveyScenario at 0x139b09810>,\n",
       " array([5350278.        ,  181438.09809411,   13127.75      ]),\n",
       " array([8878.]))"
      ]
     },
     "execution_count": 247,
     "metadata": {},
     "output_type": "execute_result"
    }
   ],
   "source": [
    "fusion"
   ]
  },
  {
   "cell_type": "code",
   "execution_count": 248,
   "id": "0e7a3acb",
   "metadata": {},
   "outputs": [
    {
     "data": {
      "text/plain": [
       "array([5350278.        ,  181438.09809411,   13127.75      ])"
      ]
     },
     "execution_count": 248,
     "metadata": {},
     "output_type": "execute_result"
    }
   ],
   "source": [
    "fusion[1]"
   ]
  },
  {
   "cell_type": "code",
   "execution_count": 249,
   "id": "8008228b",
   "metadata": {},
   "outputs": [
    {
     "data": {
      "text/plain": [
       "brackets:\n",
       "  - amount:\n",
       "      2010-10-01: 1.5\n",
       "    threshold:\n",
       "      2010-10-01: -1\n",
       "  - amount:\n",
       "      2021-01-01: 1.5\n",
       "      2010-10-01: 2.15\n",
       "    threshold:\n",
       "      2010-10-01: 410\n",
       "  - amount:\n",
       "      2021-01-01: 1.5\n",
       "      2010-10-01: 2.7\n",
       "    threshold:\n",
       "      2010-10-01: 510\n",
       "  - amount:\n",
       "      2021-01-01: 2.0\n",
       "      2010-10-01: 3.25\n",
       "    threshold:\n",
       "      2010-10-01: 620\n",
       "  - amount:\n",
       "      2021-01-01: 2.5\n",
       "      2010-10-01: 3.8\n",
       "    threshold:\n",
       "      2010-10-01: 720\n",
       "  - amount:\n",
       "      2021-01-01: 3.0\n",
       "      2010-10-01: 4.4\n",
       "    threshold:\n",
       "      2010-10-01: 820\n",
       "  - amount:\n",
       "      2021-01-01: 4.5\n",
       "      2010-10-01: 5.1\n",
       "    threshold:\n",
       "      2010-10-01: 920\n",
       "  - amount:\n",
       "      2021-01-01: 6.0\n",
       "      2010-10-01: 5.8\n",
       "    threshold:\n",
       "      2010-10-01: 1030\n",
       "  - amount:\n",
       "      2021-01-01: 7.5\n",
       "      2010-10-01: 6.3\n",
       "    threshold:\n",
       "      2010-10-01: 1540\n",
       "  - amount:\n",
       "      2021-01-01: 9.0\n",
       "      2010-10-01: 6.9\n",
       "    threshold:\n",
       "      2010-10-01: 2050"
      ]
     },
     "execution_count": 249,
     "metadata": {},
     "output_type": "execute_result"
    }
   ],
   "source": [
    "fusion[0].tax_benefit_system.parameters.metropoles.strasbourg.tarifs_cantine"
   ]
  },
  {
   "cell_type": "code",
   "execution_count": 250,
   "id": "8dcd8984",
   "metadata": {},
   "outputs": [
    {
     "data": {
      "text/plain": [
       "brackets:\n",
       "  - amount:\n",
       "      2010-10-01: 1.15\n",
       "    threshold:\n",
       "      2010-10-01: -1\n",
       "  - amount:\n",
       "      2021-01-01: 1.15\n",
       "      2010-10-01: 1.8\n",
       "    threshold:\n",
       "      2010-10-01: 410\n",
       "  - amount:\n",
       "      2021-01-01: 1.15\n",
       "      2010-10-01: 2.35\n",
       "    threshold:\n",
       "      2010-10-01: 510\n",
       "  - amount:\n",
       "      2021-01-01: 1.65\n",
       "      2010-10-01: 2.9\n",
       "    threshold:\n",
       "      2010-10-01: 620\n",
       "  - amount:\n",
       "      2021-01-01: 2.15\n",
       "      2010-10-01: 3.45\n",
       "    threshold:\n",
       "      2010-10-01: 720\n",
       "  - amount:\n",
       "      2021-01-01: 2.65\n",
       "      2010-10-01: 4.05\n",
       "    threshold:\n",
       "      2010-10-01: 820\n",
       "  - amount:\n",
       "      2021-01-01: 4.15\n",
       "      2010-10-01: 4.75\n",
       "    threshold:\n",
       "      2010-10-01: 920\n",
       "  - amount:\n",
       "      2021-01-01: 5.65\n",
       "      2010-10-01: 5.45\n",
       "    threshold:\n",
       "      2010-10-01: 1030\n",
       "  - amount:\n",
       "      2021-01-01: 7.15\n",
       "      2010-10-01: 5.95\n",
       "    threshold:\n",
       "      2010-10-01: 1540\n",
       "  - amount:\n",
       "      2021-01-01: 8.65\n",
       "      2010-10-01: 6.55\n",
       "    threshold:\n",
       "      2010-10-01: 2050"
      ]
     },
     "execution_count": 250,
     "metadata": {},
     "output_type": "execute_result"
    }
   ],
   "source": [
    "fusion[0].tax_benefit_system.parameters.metropoles.strasbourg.tarifs_repas_vege"
   ]
  },
  {
   "cell_type": "code",
   "execution_count": 251,
   "id": "d72bc830",
   "metadata": {},
   "outputs": [
    {
     "data": {
      "text/plain": [
       "brackets:\n",
       "  - amount:\n",
       "      2010-10-01: 0.75\n",
       "    threshold:\n",
       "      2010-10-01: -1\n",
       "  - amount:\n",
       "      2021-01-01: 0.75\n",
       "      2010-10-01: 1.08\n",
       "    threshold:\n",
       "      2010-10-01: 410\n",
       "  - amount:\n",
       "      2021-01-01: 0.75\n",
       "      2010-10-01: 1.35\n",
       "    threshold:\n",
       "      2010-10-01: 510\n",
       "  - amount:\n",
       "      2021-01-01: 1.0\n",
       "      2010-10-01: 1.63\n",
       "    threshold:\n",
       "      2010-10-01: 620\n",
       "  - amount:\n",
       "      2021-01-01: 1.25\n",
       "      2010-10-01: 1.9\n",
       "    threshold:\n",
       "      2010-10-01: 720\n",
       "  - amount:\n",
       "      2021-01-01: 1.5\n",
       "      2010-10-01: 2.2\n",
       "    threshold:\n",
       "      2010-10-01: 820\n",
       "  - amount:\n",
       "      2021-01-01: 2.25\n",
       "      2010-10-01: 2.55\n",
       "    threshold:\n",
       "      2010-10-01: 920\n",
       "  - amount:\n",
       "      2021-01-01: 3.0\n",
       "      2010-10-01: 2.9\n",
       "    threshold:\n",
       "      2010-10-01: 1030\n",
       "  - amount:\n",
       "      2021-01-01: 3.75\n",
       "      2010-10-01: 3.15\n",
       "    threshold:\n",
       "      2010-10-01: 1540\n",
       "  - amount:\n",
       "      2021-01-01: 4.5\n",
       "      2010-10-01: 3.45\n",
       "    threshold:\n",
       "      2010-10-01: 2050"
      ]
     },
     "execution_count": 251,
     "metadata": {},
     "output_type": "execute_result"
    }
   ],
   "source": [
    "fusion[0].tax_benefit_system.parameters.metropoles.strasbourg.tarifs_repas_panier"
   ]
  },
  {
   "cell_type": "code",
   "execution_count": 252,
   "id": "3009adc4",
   "metadata": {},
   "outputs": [],
   "source": [
    "def modify_parameters(parameters):\n",
    "    pp = parameters.metropoles.strasbourg.tarifs_cantine\n",
    "    pp[1].amount.update(start = periods.period(\"2021-01-01\"), value = 1.5)\n",
    "    pp[2].amount.update(start = periods.period(\"2021-01-01\"), value = 1.5)\n",
    "    pp[3].amount.update(start = periods.period(\"2021-01-01\"), value = 2.50)\n",
    "    pp[4].amount.update(start = periods.period(\"2021-01-01\"), value = 3.50)\n",
    "    pp[5].amount.update(start = periods.period(\"2021-01-01\"), value = 4.50)\n",
    "    pp[6].amount.update(start = periods.period(\"2021-01-01\"), value = 5.50)\n",
    "    pp[7].amount.update(start = periods.period(\"2021-01-01\"), value = 6.50)\n",
    "    pp[-2].amount.update(start = periods.period(\"2021-01-01\"), value = 7.50)\n",
    "    pp[-1].amount.update(start = periods.period(\"2021-01-01\"), value = 8.50)\n",
    "    pa = parameters.metropoles.strasbourg.tarifs_repas_vege\n",
    "    pa[1].amount.update(start = periods.period(\"2021-01-01\"), value = 1.15)\n",
    "    pa[2].amount.update(start = periods.period(\"2021-01-01\"), value = 1.15)\n",
    "    pa[3].amount.update(start = periods.period(\"2021-01-01\"), value = 2.15)\n",
    "    pa[4].amount.update(start = periods.period(\"2021-01-01\"), value = 3.15)\n",
    "    pa[5].amount.update(start = periods.period(\"2021-01-01\"), value = 4.15)\n",
    "    pa[6].amount.update(start = periods.period(\"2021-01-01\"), value = 5.15)\n",
    "    pa[7].amount.update(start = periods.period(\"2021-01-01\"), value = 6.15)\n",
    "    pa[-2].amount.update(start = periods.period(\"2021-01-01\"), value = 7.15)\n",
    "    pa[-1].amount.update(start = periods.period(\"2021-01-01\"), value = 8.15)\n",
    "    pb = parameters.metropoles.strasbourg.tarifs_repas_panier\n",
    "    pb[1].amount.update(start = periods.period(\"2021-01-01\"), value = 0.75)\n",
    "    pb[2].amount.update(start = periods.period(\"2021-01-01\"), value = 0.75)\n",
    "    pb[3].amount.update(start = periods.period(\"2021-01-01\"), value = 1.25)\n",
    "    pb[4].amount.update(start = periods.period(\"2021-01-01\"), value = 1.75)\n",
    "    pb[5].amount.update(start = periods.period(\"2021-01-01\"), value = 2.25)\n",
    "    pb[6].amount.update(start = periods.period(\"2021-01-01\"), value = 2.75)\n",
    "    pb[7].amount.update(start = periods.period(\"2021-01-01\"), value = 3.25)\n",
    "    pb[-2].amount.update(start = periods.period(\"2021-01-01\"), value = 3.75)\n",
    "    pb[-1].amount.update(start = periods.period(\"2021-01-01\"), value = 4.25)\n",
    "    return parameters\n",
    "    \n",
    "class reform_fusion_1_7(Reform):\n",
    "    name = u\"Scénario C : Fusionne les trois premières tranches + Hausse du prix de 1€ pour toute tranche\"\n",
    "\n",
    "    def apply(self):\n",
    "        self.modify_parameters(modifier_function = modify_parameters)"
   ]
  },
  {
   "cell_type": "code",
   "execution_count": 253,
   "id": "1113eb08",
   "metadata": {},
   "outputs": [],
   "source": [
    "fusion = compute_result(data, reform_fusion_1_7)"
   ]
  },
  {
   "cell_type": "code",
   "execution_count": 254,
   "id": "24348e6f",
   "metadata": {},
   "outputs": [
    {
     "data": {
      "text/plain": [
       "(<__main__.StrasbourgSurveyScenario at 0x139b09350>,\n",
       " array([5611928.5       ,  190447.09862101,   13864.5       ]),\n",
       " array([6320.]))"
      ]
     },
     "execution_count": 254,
     "metadata": {},
     "output_type": "execute_result"
    }
   ],
   "source": [
    "fusion"
   ]
  },
  {
   "cell_type": "code",
   "execution_count": 255,
   "id": "9c3fd456",
   "metadata": {},
   "outputs": [
    {
     "data": {
      "text/plain": [
       "array([5611928.5       ,  190447.09862101,   13864.5       ])"
      ]
     },
     "execution_count": 255,
     "metadata": {},
     "output_type": "execute_result"
    }
   ],
   "source": [
    "fusion[1]"
   ]
  },
  {
   "cell_type": "code",
   "execution_count": 256,
   "id": "7c910181",
   "metadata": {},
   "outputs": [
    {
     "data": {
      "text/plain": [
       "brackets:\n",
       "  - amount:\n",
       "      2010-10-01: 1.5\n",
       "    threshold:\n",
       "      2010-10-01: -1\n",
       "  - amount:\n",
       "      2021-01-01: 1.5\n",
       "      2010-10-01: 2.15\n",
       "    threshold:\n",
       "      2010-10-01: 410\n",
       "  - amount:\n",
       "      2021-01-01: 1.5\n",
       "      2010-10-01: 2.7\n",
       "    threshold:\n",
       "      2010-10-01: 510\n",
       "  - amount:\n",
       "      2021-01-01: 2.5\n",
       "      2010-10-01: 3.25\n",
       "    threshold:\n",
       "      2010-10-01: 620\n",
       "  - amount:\n",
       "      2021-01-01: 3.5\n",
       "      2010-10-01: 3.8\n",
       "    threshold:\n",
       "      2010-10-01: 720\n",
       "  - amount:\n",
       "      2021-01-01: 4.5\n",
       "      2010-10-01: 4.4\n",
       "    threshold:\n",
       "      2010-10-01: 820\n",
       "  - amount:\n",
       "      2021-01-01: 5.5\n",
       "      2010-10-01: 5.1\n",
       "    threshold:\n",
       "      2010-10-01: 920\n",
       "  - amount:\n",
       "      2021-01-01: 6.5\n",
       "      2010-10-01: 5.8\n",
       "    threshold:\n",
       "      2010-10-01: 1030\n",
       "  - amount:\n",
       "      2021-01-01: 7.5\n",
       "      2010-10-01: 6.3\n",
       "    threshold:\n",
       "      2010-10-01: 1540\n",
       "  - amount:\n",
       "      2021-01-01: 8.5\n",
       "      2010-10-01: 6.9\n",
       "    threshold:\n",
       "      2010-10-01: 2050"
      ]
     },
     "execution_count": 256,
     "metadata": {},
     "output_type": "execute_result"
    }
   ],
   "source": [
    "fusion[0].tax_benefit_system.parameters.metropoles.strasbourg.tarifs_cantine"
   ]
  },
  {
   "cell_type": "code",
   "execution_count": 257,
   "id": "ae703572",
   "metadata": {},
   "outputs": [
    {
     "data": {
      "text/plain": [
       "brackets:\n",
       "  - amount:\n",
       "      2010-10-01: 1.15\n",
       "    threshold:\n",
       "      2010-10-01: -1\n",
       "  - amount:\n",
       "      2021-01-01: 1.15\n",
       "      2010-10-01: 1.8\n",
       "    threshold:\n",
       "      2010-10-01: 410\n",
       "  - amount:\n",
       "      2021-01-01: 1.15\n",
       "      2010-10-01: 2.35\n",
       "    threshold:\n",
       "      2010-10-01: 510\n",
       "  - amount:\n",
       "      2021-01-01: 2.15\n",
       "      2010-10-01: 2.9\n",
       "    threshold:\n",
       "      2010-10-01: 620\n",
       "  - amount:\n",
       "      2021-01-01: 3.15\n",
       "      2010-10-01: 3.45\n",
       "    threshold:\n",
       "      2010-10-01: 720\n",
       "  - amount:\n",
       "      2021-01-01: 4.15\n",
       "      2010-10-01: 4.05\n",
       "    threshold:\n",
       "      2010-10-01: 820\n",
       "  - amount:\n",
       "      2021-01-01: 5.15\n",
       "      2010-10-01: 4.75\n",
       "    threshold:\n",
       "      2010-10-01: 920\n",
       "  - amount:\n",
       "      2021-01-01: 6.15\n",
       "      2010-10-01: 5.45\n",
       "    threshold:\n",
       "      2010-10-01: 1030\n",
       "  - amount:\n",
       "      2021-01-01: 7.15\n",
       "      2010-10-01: 5.95\n",
       "    threshold:\n",
       "      2010-10-01: 1540\n",
       "  - amount:\n",
       "      2021-01-01: 8.15\n",
       "      2010-10-01: 6.55\n",
       "    threshold:\n",
       "      2010-10-01: 2050"
      ]
     },
     "execution_count": 257,
     "metadata": {},
     "output_type": "execute_result"
    }
   ],
   "source": [
    "fusion[0].tax_benefit_system.parameters.metropoles.strasbourg.tarifs_repas_vege"
   ]
  },
  {
   "cell_type": "code",
   "execution_count": 258,
   "id": "b6959461",
   "metadata": {},
   "outputs": [
    {
     "data": {
      "text/plain": [
       "brackets:\n",
       "  - amount:\n",
       "      2010-10-01: 0.75\n",
       "    threshold:\n",
       "      2010-10-01: -1\n",
       "  - amount:\n",
       "      2021-01-01: 0.75\n",
       "      2010-10-01: 1.08\n",
       "    threshold:\n",
       "      2010-10-01: 410\n",
       "  - amount:\n",
       "      2021-01-01: 0.75\n",
       "      2010-10-01: 1.35\n",
       "    threshold:\n",
       "      2010-10-01: 510\n",
       "  - amount:\n",
       "      2021-01-01: 1.25\n",
       "      2010-10-01: 1.63\n",
       "    threshold:\n",
       "      2010-10-01: 620\n",
       "  - amount:\n",
       "      2021-01-01: 1.75\n",
       "      2010-10-01: 1.9\n",
       "    threshold:\n",
       "      2010-10-01: 720\n",
       "  - amount:\n",
       "      2021-01-01: 2.25\n",
       "      2010-10-01: 2.2\n",
       "    threshold:\n",
       "      2010-10-01: 820\n",
       "  - amount:\n",
       "      2021-01-01: 2.75\n",
       "      2010-10-01: 2.55\n",
       "    threshold:\n",
       "      2010-10-01: 920\n",
       "  - amount:\n",
       "      2021-01-01: 3.25\n",
       "      2010-10-01: 2.9\n",
       "    threshold:\n",
       "      2010-10-01: 1030\n",
       "  - amount:\n",
       "      2021-01-01: 3.75\n",
       "      2010-10-01: 3.15\n",
       "    threshold:\n",
       "      2010-10-01: 1540\n",
       "  - amount:\n",
       "      2021-01-01: 4.25\n",
       "      2010-10-01: 3.45\n",
       "    threshold:\n",
       "      2010-10-01: 2050"
      ]
     },
     "execution_count": 258,
     "metadata": {},
     "output_type": "execute_result"
    }
   ],
   "source": [
    "fusion[0].tax_benefit_system.parameters.metropoles.strasbourg.tarifs_repas_panier"
   ]
  },
  {
   "cell_type": "code",
   "execution_count": 259,
   "id": "2c3c2f19",
   "metadata": {},
   "outputs": [],
   "source": [
    "def modify_parameters(parameters):\n",
    "    pp = parameters.metropoles.strasbourg.tarifs_cantine\n",
    "    pp[1].amount.update(start = periods.period(\"2021-01-01\"), value = 1.50)\n",
    "    pp[2].amount.update(start = periods.period(\"2021-01-01\"), value = 1.50)\n",
    "    pp[3].amount.update(start = periods.period(\"2021-01-01\"), value = 2.45)\n",
    "    pp[4].amount.update(start = periods.period(\"2021-01-01\"), value = 3.40)\n",
    "    pp[5].amount.update(start = periods.period(\"2021-01-01\"), value = 4.35)\n",
    "    pp[6].amount.update(start = periods.period(\"2021-01-01\"), value = 5.30)\n",
    "    pp[7].amount.update(start = periods.period(\"2021-01-01\"), value = 6.25)\n",
    "    pp[-2].amount.update(start = periods.period(\"2021-01-01\"), value = 7.20)\n",
    "    pp[-1].amount.update(start = periods.period(\"2021-01-01\"), value = 8.15)\n",
    "    pa = parameters.metropoles.strasbourg.tarifs_repas_vege\n",
    "    pa[1].amount.update(start = periods.period(\"2021-01-01\"), value = 1.15)\n",
    "    pa[2].amount.update(start = periods.period(\"2021-01-01\"), value = 1.15)\n",
    "    pa[3].amount.update(start = periods.period(\"2021-01-01\"), value = 2.10)\n",
    "    pa[4].amount.update(start = periods.period(\"2021-01-01\"), value = 3.05)\n",
    "    pa[5].amount.update(start = periods.period(\"2021-01-01\"), value = 4.00)\n",
    "    pa[6].amount.update(start = periods.period(\"2021-01-01\"), value = 4.95)\n",
    "    pa[7].amount.update(start = periods.period(\"2021-01-01\"), value = 5.90)\n",
    "    pa[-2].amount.update(start = periods.period(\"2021-01-01\"), value = 6.85)\n",
    "    pa[-1].amount.update(start = periods.period(\"2021-01-01\"), value = 7.80)\n",
    "    pb = parameters.metropoles.strasbourg.tarifs_repas_panier\n",
    "    pb[1].amount.update(start = periods.period(\"2021-01-01\"), value = 0.75)\n",
    "    pb[2].amount.update(start = periods.period(\"2021-01-01\"), value = 0.75)\n",
    "    pb[3].amount.update(start = periods.period(\"2021-01-01\"), value = 1.23)\n",
    "    pb[4].amount.update(start = periods.period(\"2021-01-01\"), value = 1.70)\n",
    "    pb[5].amount.update(start = periods.period(\"2021-01-01\"), value = 2.18)\n",
    "    pb[6].amount.update(start = periods.period(\"2021-01-01\"), value = 2.65)\n",
    "    pb[7].amount.update(start = periods.period(\"2021-01-01\"), value = 3.13)\n",
    "    pb[-2].amount.update(start = periods.period(\"2021-01-01\"), value = 3.60)\n",
    "    pb[-1].amount.update(start = periods.period(\"2021-01-01\"), value = 4.08)\n",
    "    return parameters\n",
    "    \n",
    "class reform_fusion_1_8(Reform):\n",
    "    name = u\"Scénario D : Fusionne les trois premières tranches + Hausse du prix de 0,95€ pour toute tranche\"\n",
    "\n",
    "    def apply(self):\n",
    "        self.modify_parameters(modifier_function = modify_parameters)"
   ]
  },
  {
   "cell_type": "code",
   "execution_count": 260,
   "id": "0b82fb0c",
   "metadata": {},
   "outputs": [],
   "source": [
    "fusion = compute_result(data, reform_fusion_1_8)"
   ]
  },
  {
   "cell_type": "code",
   "execution_count": 261,
   "id": "4c1c6224",
   "metadata": {},
   "outputs": [
    {
     "data": {
      "text/plain": [
       "(<__main__.StrasbourgSurveyScenario at 0x13e047e10>,\n",
       " array([5438944.18170309,  184454.8994261 ,   13462.91004896]),\n",
       " array([6320.]))"
      ]
     },
     "execution_count": 261,
     "metadata": {},
     "output_type": "execute_result"
    }
   ],
   "source": [
    "fusion"
   ]
  },
  {
   "cell_type": "code",
   "execution_count": 262,
   "id": "15b90991",
   "metadata": {},
   "outputs": [
    {
     "data": {
      "text/plain": [
       "array([5438944.18170309,  184454.8994261 ,   13462.91004896])"
      ]
     },
     "execution_count": 262,
     "metadata": {},
     "output_type": "execute_result"
    }
   ],
   "source": [
    "fusion[1]"
   ]
  },
  {
   "cell_type": "code",
   "execution_count": 263,
   "id": "fcdfae92",
   "metadata": {},
   "outputs": [
    {
     "data": {
      "text/plain": [
       "brackets:\n",
       "  - amount:\n",
       "      2010-10-01: 1.5\n",
       "    threshold:\n",
       "      2010-10-01: -1\n",
       "  - amount:\n",
       "      2021-01-01: 1.5\n",
       "      2010-10-01: 2.15\n",
       "    threshold:\n",
       "      2010-10-01: 410\n",
       "  - amount:\n",
       "      2021-01-01: 1.5\n",
       "      2010-10-01: 2.7\n",
       "    threshold:\n",
       "      2010-10-01: 510\n",
       "  - amount:\n",
       "      2021-01-01: 2.45\n",
       "      2010-10-01: 3.25\n",
       "    threshold:\n",
       "      2010-10-01: 620\n",
       "  - amount:\n",
       "      2021-01-01: 3.4\n",
       "      2010-10-01: 3.8\n",
       "    threshold:\n",
       "      2010-10-01: 720\n",
       "  - amount:\n",
       "      2021-01-01: 4.35\n",
       "      2010-10-01: 4.4\n",
       "    threshold:\n",
       "      2010-10-01: 820\n",
       "  - amount:\n",
       "      2021-01-01: 5.3\n",
       "      2010-10-01: 5.1\n",
       "    threshold:\n",
       "      2010-10-01: 920\n",
       "  - amount:\n",
       "      2021-01-01: 6.25\n",
       "      2010-10-01: 5.8\n",
       "    threshold:\n",
       "      2010-10-01: 1030\n",
       "  - amount:\n",
       "      2021-01-01: 7.2\n",
       "      2010-10-01: 6.3\n",
       "    threshold:\n",
       "      2010-10-01: 1540\n",
       "  - amount:\n",
       "      2021-01-01: 8.15\n",
       "      2010-10-01: 6.9\n",
       "    threshold:\n",
       "      2010-10-01: 2050"
      ]
     },
     "execution_count": 263,
     "metadata": {},
     "output_type": "execute_result"
    }
   ],
   "source": [
    "fusion[0].tax_benefit_system.parameters.metropoles.strasbourg.tarifs_cantine"
   ]
  },
  {
   "cell_type": "code",
   "execution_count": 264,
   "id": "93a6f8ab",
   "metadata": {},
   "outputs": [
    {
     "data": {
      "text/plain": [
       "brackets:\n",
       "  - amount:\n",
       "      2010-10-01: 1.15\n",
       "    threshold:\n",
       "      2010-10-01: -1\n",
       "  - amount:\n",
       "      2021-01-01: 1.15\n",
       "      2010-10-01: 1.8\n",
       "    threshold:\n",
       "      2010-10-01: 410\n",
       "  - amount:\n",
       "      2021-01-01: 1.15\n",
       "      2010-10-01: 2.35\n",
       "    threshold:\n",
       "      2010-10-01: 510\n",
       "  - amount:\n",
       "      2021-01-01: 2.1\n",
       "      2010-10-01: 2.9\n",
       "    threshold:\n",
       "      2010-10-01: 620\n",
       "  - amount:\n",
       "      2021-01-01: 3.05\n",
       "      2010-10-01: 3.45\n",
       "    threshold:\n",
       "      2010-10-01: 720\n",
       "  - amount:\n",
       "      2021-01-01: 4.0\n",
       "      2010-10-01: 4.05\n",
       "    threshold:\n",
       "      2010-10-01: 820\n",
       "  - amount:\n",
       "      2021-01-01: 4.95\n",
       "      2010-10-01: 4.75\n",
       "    threshold:\n",
       "      2010-10-01: 920\n",
       "  - amount:\n",
       "      2021-01-01: 5.9\n",
       "      2010-10-01: 5.45\n",
       "    threshold:\n",
       "      2010-10-01: 1030\n",
       "  - amount:\n",
       "      2021-01-01: 6.85\n",
       "      2010-10-01: 5.95\n",
       "    threshold:\n",
       "      2010-10-01: 1540\n",
       "  - amount:\n",
       "      2021-01-01: 7.8\n",
       "      2010-10-01: 6.55\n",
       "    threshold:\n",
       "      2010-10-01: 2050"
      ]
     },
     "execution_count": 264,
     "metadata": {},
     "output_type": "execute_result"
    }
   ],
   "source": [
    "fusion[0].tax_benefit_system.parameters.metropoles.strasbourg.tarifs_repas_vege"
   ]
  },
  {
   "cell_type": "code",
   "execution_count": 265,
   "id": "97ca9152",
   "metadata": {},
   "outputs": [
    {
     "data": {
      "text/plain": [
       "brackets:\n",
       "  - amount:\n",
       "      2010-10-01: 0.75\n",
       "    threshold:\n",
       "      2010-10-01: -1\n",
       "  - amount:\n",
       "      2021-01-01: 0.75\n",
       "      2010-10-01: 1.08\n",
       "    threshold:\n",
       "      2010-10-01: 410\n",
       "  - amount:\n",
       "      2021-01-01: 0.75\n",
       "      2010-10-01: 1.35\n",
       "    threshold:\n",
       "      2010-10-01: 510\n",
       "  - amount:\n",
       "      2021-01-01: 1.23\n",
       "      2010-10-01: 1.63\n",
       "    threshold:\n",
       "      2010-10-01: 620\n",
       "  - amount:\n",
       "      2021-01-01: 1.7\n",
       "      2010-10-01: 1.9\n",
       "    threshold:\n",
       "      2010-10-01: 720\n",
       "  - amount:\n",
       "      2021-01-01: 2.18\n",
       "      2010-10-01: 2.2\n",
       "    threshold:\n",
       "      2010-10-01: 820\n",
       "  - amount:\n",
       "      2021-01-01: 2.65\n",
       "      2010-10-01: 2.55\n",
       "    threshold:\n",
       "      2010-10-01: 920\n",
       "  - amount:\n",
       "      2021-01-01: 3.13\n",
       "      2010-10-01: 2.9\n",
       "    threshold:\n",
       "      2010-10-01: 1030\n",
       "  - amount:\n",
       "      2021-01-01: 3.6\n",
       "      2010-10-01: 3.15\n",
       "    threshold:\n",
       "      2010-10-01: 1540\n",
       "  - amount:\n",
       "      2021-01-01: 4.08\n",
       "      2010-10-01: 3.45\n",
       "    threshold:\n",
       "      2010-10-01: 2050"
      ]
     },
     "execution_count": 265,
     "metadata": {},
     "output_type": "execute_result"
    }
   ],
   "source": [
    "fusion[0].tax_benefit_system.parameters.metropoles.strasbourg.tarifs_repas_panier"
   ]
  },
  {
   "cell_type": "code",
   "execution_count": 266,
   "id": "4757964f",
   "metadata": {},
   "outputs": [],
   "source": [
    "def modify_parameters(parameters):\n",
    "    pp = parameters.metropoles.strasbourg.tarifs_cantine\n",
    "    pp[0].amount.update(start = periods.period(\"2021-01-01\"), value = 1.00)\n",
    "    pp[1].amount.update(start = periods.period(\"2021-01-01\"), value = 1.00)\n",
    "    pp[2].amount.update(start = periods.period(\"2021-01-01\"), value = 1.00)\n",
    "    pp[3].amount.update(start = periods.period(\"2021-01-01\"), value = 2.15)\n",
    "    pp[4].amount.update(start = periods.period(\"2021-01-01\"), value = 3.30)\n",
    "    pp[5].amount.update(start = periods.period(\"2021-01-01\"), value = 4.45)\n",
    "    pp[6].amount.update(start = periods.period(\"2021-01-01\"), value = 5.60)\n",
    "    pp[7].amount.update(start = periods.period(\"2021-01-01\"), value = 6.75)\n",
    "    pp[-2].amount.update(start = periods.period(\"2021-01-01\"), value = 7.90)\n",
    "    pp[-1].amount.update(start = periods.period(\"2021-01-01\"), value = 9.05)\n",
    "    pa = parameters.metropoles.strasbourg.tarifs_repas_vege\n",
    "    pa[0].amount.update(start = periods.period(\"2021-01-01\"), value = 0.65)\n",
    "    pa[1].amount.update(start = periods.period(\"2021-01-01\"), value = 0.65)\n",
    "    pa[2].amount.update(start = periods.period(\"2021-01-01\"), value = 0.65)\n",
    "    pa[3].amount.update(start = periods.period(\"2021-01-01\"), value = 1.80)\n",
    "    pa[4].amount.update(start = periods.period(\"2021-01-01\"), value = 2.95)\n",
    "    pa[5].amount.update(start = periods.period(\"2021-01-01\"), value = 4.10)\n",
    "    pa[6].amount.update(start = periods.period(\"2021-01-01\"), value = 5.25)\n",
    "    pa[7].amount.update(start = periods.period(\"2021-01-01\"), value = 6.40)\n",
    "    pa[-2].amount.update(start = periods.period(\"2021-01-01\"), value = 7.55)\n",
    "    pa[-1].amount.update(start = periods.period(\"2021-01-01\"), value = 8.70)\n",
    "    pb = parameters.metropoles.strasbourg.tarifs_repas_panier\n",
    "    pb[0].amount.update(start = periods.period(\"2021-01-01\"), value = 0.50)\n",
    "    pb[1].amount.update(start = periods.period(\"2021-01-01\"), value = 0.50)\n",
    "    pb[2].amount.update(start = periods.period(\"2021-01-01\"), value = 0.50)\n",
    "    pb[3].amount.update(start = periods.period(\"2021-01-01\"), value = 1.08)\n",
    "    pb[4].amount.update(start = periods.period(\"2021-01-01\"), value = 1.65)\n",
    "    pb[5].amount.update(start = periods.period(\"2021-01-01\"), value = 2.23)\n",
    "    pb[6].amount.update(start = periods.period(\"2021-01-01\"), value = 2.80)\n",
    "    pb[7].amount.update(start = periods.period(\"2021-01-01\"), value = 3.38)\n",
    "    pb[-2].amount.update(start = periods.period(\"2021-01-01\"), value = 3.95)\n",
    "    pb[-1].amount.update(start = periods.period(\"2021-01-01\"), value = 4.53)\n",
    "    return parameters\n",
    "    \n",
    "class reform_fusion_1_9(Reform):\n",
    "    name = u\"Scénario E : Fusionne les trois premières tranches + Hausse du prix différenciée selon les tranches\"\n",
    "\n",
    "    def apply(self):\n",
    "        self.modify_parameters(modifier_function = modify_parameters)"
   ]
  },
  {
   "cell_type": "code",
   "execution_count": 267,
   "id": "f8342a36",
   "metadata": {},
   "outputs": [],
   "source": [
    "fusion = compute_result(data, reform_fusion_1_9)"
   ]
  },
  {
   "cell_type": "code",
   "execution_count": 268,
   "id": "70f70e3c",
   "metadata": {},
   "outputs": [
    {
     "data": {
      "text/plain": [
       "(<__main__.StrasbourgSurveyScenario at 0x13e0476d0>,\n",
       " array([5413466.79563975,  177726.69963062,   13283.81028247]),\n",
       " array([1404360.]))"
      ]
     },
     "execution_count": 268,
     "metadata": {},
     "output_type": "execute_result"
    }
   ],
   "source": [
    "fusion"
   ]
  },
  {
   "cell_type": "code",
   "execution_count": 269,
   "id": "fa1e3fa5",
   "metadata": {},
   "outputs": [
    {
     "data": {
      "text/plain": [
       "array([5413466.79563975,  177726.69963062,   13283.81028247])"
      ]
     },
     "execution_count": 269,
     "metadata": {},
     "output_type": "execute_result"
    }
   ],
   "source": [
    "fusion[1]"
   ]
  },
  {
   "cell_type": "code",
   "execution_count": 270,
   "id": "630e7fac",
   "metadata": {},
   "outputs": [
    {
     "data": {
      "text/plain": [
       "brackets:\n",
       "  - amount:\n",
       "      2021-01-01: 1.0\n",
       "      2010-10-01: 1.5\n",
       "    threshold:\n",
       "      2010-10-01: -1\n",
       "  - amount:\n",
       "      2021-01-01: 1.0\n",
       "      2010-10-01: 2.15\n",
       "    threshold:\n",
       "      2010-10-01: 410\n",
       "  - amount:\n",
       "      2021-01-01: 1.0\n",
       "      2010-10-01: 2.7\n",
       "    threshold:\n",
       "      2010-10-01: 510\n",
       "  - amount:\n",
       "      2021-01-01: 2.15\n",
       "      2010-10-01: 3.25\n",
       "    threshold:\n",
       "      2010-10-01: 620\n",
       "  - amount:\n",
       "      2021-01-01: 3.3\n",
       "      2010-10-01: 3.8\n",
       "    threshold:\n",
       "      2010-10-01: 720\n",
       "  - amount:\n",
       "      2021-01-01: 4.45\n",
       "      2010-10-01: 4.4\n",
       "    threshold:\n",
       "      2010-10-01: 820\n",
       "  - amount:\n",
       "      2021-01-01: 5.6\n",
       "      2010-10-01: 5.1\n",
       "    threshold:\n",
       "      2010-10-01: 920\n",
       "  - amount:\n",
       "      2021-01-01: 6.75\n",
       "      2010-10-01: 5.8\n",
       "    threshold:\n",
       "      2010-10-01: 1030\n",
       "  - amount:\n",
       "      2021-01-01: 7.9\n",
       "      2010-10-01: 6.3\n",
       "    threshold:\n",
       "      2010-10-01: 1540\n",
       "  - amount:\n",
       "      2021-01-01: 9.05\n",
       "      2010-10-01: 6.9\n",
       "    threshold:\n",
       "      2010-10-01: 2050"
      ]
     },
     "execution_count": 270,
     "metadata": {},
     "output_type": "execute_result"
    }
   ],
   "source": [
    "fusion[0].tax_benefit_system.parameters.metropoles.strasbourg.tarifs_cantine"
   ]
  },
  {
   "cell_type": "code",
   "execution_count": 271,
   "id": "c1053a5d",
   "metadata": {},
   "outputs": [
    {
     "data": {
      "text/plain": [
       "brackets:\n",
       "  - amount:\n",
       "      2021-01-01: 0.65\n",
       "      2010-10-01: 1.15\n",
       "    threshold:\n",
       "      2010-10-01: -1\n",
       "  - amount:\n",
       "      2021-01-01: 0.65\n",
       "      2010-10-01: 1.8\n",
       "    threshold:\n",
       "      2010-10-01: 410\n",
       "  - amount:\n",
       "      2021-01-01: 0.65\n",
       "      2010-10-01: 2.35\n",
       "    threshold:\n",
       "      2010-10-01: 510\n",
       "  - amount:\n",
       "      2021-01-01: 1.8\n",
       "      2010-10-01: 2.9\n",
       "    threshold:\n",
       "      2010-10-01: 620\n",
       "  - amount:\n",
       "      2021-01-01: 2.95\n",
       "      2010-10-01: 3.45\n",
       "    threshold:\n",
       "      2010-10-01: 720\n",
       "  - amount:\n",
       "      2021-01-01: 4.1\n",
       "      2010-10-01: 4.05\n",
       "    threshold:\n",
       "      2010-10-01: 820\n",
       "  - amount:\n",
       "      2021-01-01: 5.25\n",
       "      2010-10-01: 4.75\n",
       "    threshold:\n",
       "      2010-10-01: 920\n",
       "  - amount:\n",
       "      2021-01-01: 6.4\n",
       "      2010-10-01: 5.45\n",
       "    threshold:\n",
       "      2010-10-01: 1030\n",
       "  - amount:\n",
       "      2021-01-01: 7.55\n",
       "      2010-10-01: 5.95\n",
       "    threshold:\n",
       "      2010-10-01: 1540\n",
       "  - amount:\n",
       "      2021-01-01: 8.7\n",
       "      2010-10-01: 6.55\n",
       "    threshold:\n",
       "      2010-10-01: 2050"
      ]
     },
     "execution_count": 271,
     "metadata": {},
     "output_type": "execute_result"
    }
   ],
   "source": [
    "fusion[0].tax_benefit_system.parameters.metropoles.strasbourg.tarifs_repas_vege"
   ]
  },
  {
   "cell_type": "code",
   "execution_count": 272,
   "id": "667c9709",
   "metadata": {},
   "outputs": [
    {
     "data": {
      "text/plain": [
       "brackets:\n",
       "  - amount:\n",
       "      2021-01-01: 0.5\n",
       "      2010-10-01: 0.75\n",
       "    threshold:\n",
       "      2010-10-01: -1\n",
       "  - amount:\n",
       "      2021-01-01: 0.5\n",
       "      2010-10-01: 1.08\n",
       "    threshold:\n",
       "      2010-10-01: 410\n",
       "  - amount:\n",
       "      2021-01-01: 0.5\n",
       "      2010-10-01: 1.35\n",
       "    threshold:\n",
       "      2010-10-01: 510\n",
       "  - amount:\n",
       "      2021-01-01: 1.08\n",
       "      2010-10-01: 1.63\n",
       "    threshold:\n",
       "      2010-10-01: 620\n",
       "  - amount:\n",
       "      2021-01-01: 1.65\n",
       "      2010-10-01: 1.9\n",
       "    threshold:\n",
       "      2010-10-01: 720\n",
       "  - amount:\n",
       "      2021-01-01: 2.23\n",
       "      2010-10-01: 2.2\n",
       "    threshold:\n",
       "      2010-10-01: 820\n",
       "  - amount:\n",
       "      2021-01-01: 2.8\n",
       "      2010-10-01: 2.55\n",
       "    threshold:\n",
       "      2010-10-01: 920\n",
       "  - amount:\n",
       "      2021-01-01: 3.38\n",
       "      2010-10-01: 2.9\n",
       "    threshold:\n",
       "      2010-10-01: 1030\n",
       "  - amount:\n",
       "      2021-01-01: 3.95\n",
       "      2010-10-01: 3.15\n",
       "    threshold:\n",
       "      2010-10-01: 1540\n",
       "  - amount:\n",
       "      2021-01-01: 4.53\n",
       "      2010-10-01: 3.45\n",
       "    threshold:\n",
       "      2010-10-01: 2050"
      ]
     },
     "execution_count": 272,
     "metadata": {},
     "output_type": "execute_result"
    }
   ],
   "source": [
    "fusion[0].tax_benefit_system.parameters.metropoles.strasbourg.tarifs_repas_panier"
   ]
  },
  {
   "cell_type": "code",
   "execution_count": 273,
   "id": "be719f2b",
   "metadata": {},
   "outputs": [],
   "source": [
    "def modify_parameters(parameters):\n",
    "    pp = parameters.metropoles.strasbourg.tarifs_cantine\n",
    "    pp[0].amount.update(start = periods.period(\"2021-01-01\"), value = 1.00)\n",
    "    pp[1].amount.update(start = periods.period(\"2021-01-01\"), value = 1.00)\n",
    "    pp[2].amount.update(start = periods.period(\"2021-01-01\"), value = 1.00)\n",
    "    pp[3].amount.update(start = periods.period(\"2021-01-01\"), value = 1.50)\n",
    "    pp[4].amount.update(start = periods.period(\"2021-01-01\"), value = 2.00)\n",
    "    pp[5].amount.update(start = periods.period(\"2021-01-01\"), value = 2.50)\n",
    "    pp[6].amount.update(start = periods.period(\"2021-01-01\"), value = 4.00)\n",
    "    pp[7].amount.update(start = periods.period(\"2021-01-01\"), value = 5.50)\n",
    "    pp[-2].amount.update(start = periods.period(\"2021-01-01\"), value = 7.00)\n",
    "    pp[-1].amount.update(start = periods.period(\"2021-01-01\"), value = 8.50)\n",
    "    pa = parameters.metropoles.strasbourg.tarifs_repas_vege\n",
    "    pa[0].amount.update(start = periods.period(\"2021-01-01\"), value = 0.65)\n",
    "    pa[1].amount.update(start = periods.period(\"2021-01-01\"), value = 0.65)\n",
    "    pa[2].amount.update(start = periods.period(\"2021-01-01\"), value = 0.65)\n",
    "    pa[3].amount.update(start = periods.period(\"2021-01-01\"), value = 1.15)\n",
    "    pa[4].amount.update(start = periods.period(\"2021-01-01\"), value = 1.65)\n",
    "    pa[5].amount.update(start = periods.period(\"2021-01-01\"), value = 2.15)\n",
    "    pa[6].amount.update(start = periods.period(\"2021-01-01\"), value = 3.65)\n",
    "    pa[7].amount.update(start = periods.period(\"2021-01-01\"), value = 5.15)\n",
    "    pa[-2].amount.update(start = periods.period(\"2021-01-01\"), value = 6.65)\n",
    "    pa[-1].amount.update(start = periods.period(\"2021-01-01\"), value = 8.15)\n",
    "    pb = parameters.metropoles.strasbourg.tarifs_repas_panier\n",
    "    pb[0].amount.update(start = periods.period(\"2021-01-01\"), value = 0.50)\n",
    "    pb[1].amount.update(start = periods.period(\"2021-01-01\"), value = 0.50)\n",
    "    pb[2].amount.update(start = periods.period(\"2021-01-01\"), value = 0.50)\n",
    "    pb[3].amount.update(start = periods.period(\"2021-01-01\"), value = 0.75)\n",
    "    pb[4].amount.update(start = periods.period(\"2021-01-01\"), value = 1.00)\n",
    "    pb[5].amount.update(start = periods.period(\"2021-01-01\"), value = 1.25)\n",
    "    pb[6].amount.update(start = periods.period(\"2021-01-01\"), value = 2.00)\n",
    "    pb[7].amount.update(start = periods.period(\"2021-01-01\"), value = 2.75)\n",
    "    pb[-2].amount.update(start = periods.period(\"2021-01-01\"), value = 3.50)\n",
    "    pb[-1].amount.update(start = periods.period(\"2021-01-01\"), value = 4.25)\n",
    "    return parameters\n",
    "    \n",
    "class reform_fusion_1_10(Reform):\n",
    "    name = u\"Scénario F : Fusionne les trois premières tranches + Hausse du prix différenciée selon les tranches\"\n",
    "\n",
    "    def apply(self):\n",
    "        self.modify_parameters(modifier_function = modify_parameters)"
   ]
  },
  {
   "cell_type": "code",
   "execution_count": 274,
   "id": "e6ad2f57",
   "metadata": {},
   "outputs": [],
   "source": [
    "fusion = compute_result(data, reform_fusion_1_10)"
   ]
  },
  {
   "cell_type": "code",
   "execution_count": 275,
   "id": "54a7013b",
   "metadata": {},
   "outputs": [
    {
     "data": {
      "text/plain": [
       "(<__main__.StrasbourgSurveyScenario at 0x137f98b90>,\n",
       " array([4632863.5       ,  150741.09791505,   11282.75      ]),\n",
       " array([1407516.]))"
      ]
     },
     "execution_count": 275,
     "metadata": {},
     "output_type": "execute_result"
    }
   ],
   "source": [
    "fusion"
   ]
  },
  {
   "cell_type": "code",
   "execution_count": 276,
   "id": "e4ac757b",
   "metadata": {},
   "outputs": [
    {
     "data": {
      "text/plain": [
       "array([4632863.5       ,  150741.09791505,   11282.75      ])"
      ]
     },
     "execution_count": 276,
     "metadata": {},
     "output_type": "execute_result"
    }
   ],
   "source": [
    "fusion[1]"
   ]
  },
  {
   "cell_type": "code",
   "execution_count": 277,
   "id": "7eb3e0ec",
   "metadata": {},
   "outputs": [
    {
     "data": {
      "text/plain": [
       "brackets:\n",
       "  - amount:\n",
       "      2021-01-01: 1.0\n",
       "      2010-10-01: 1.5\n",
       "    threshold:\n",
       "      2010-10-01: -1\n",
       "  - amount:\n",
       "      2021-01-01: 1.0\n",
       "      2010-10-01: 2.15\n",
       "    threshold:\n",
       "      2010-10-01: 410\n",
       "  - amount:\n",
       "      2021-01-01: 1.0\n",
       "      2010-10-01: 2.7\n",
       "    threshold:\n",
       "      2010-10-01: 510\n",
       "  - amount:\n",
       "      2021-01-01: 1.5\n",
       "      2010-10-01: 3.25\n",
       "    threshold:\n",
       "      2010-10-01: 620\n",
       "  - amount:\n",
       "      2021-01-01: 2.0\n",
       "      2010-10-01: 3.8\n",
       "    threshold:\n",
       "      2010-10-01: 720\n",
       "  - amount:\n",
       "      2021-01-01: 2.5\n",
       "      2010-10-01: 4.4\n",
       "    threshold:\n",
       "      2010-10-01: 820\n",
       "  - amount:\n",
       "      2021-01-01: 4.0\n",
       "      2010-10-01: 5.1\n",
       "    threshold:\n",
       "      2010-10-01: 920\n",
       "  - amount:\n",
       "      2021-01-01: 5.5\n",
       "      2010-10-01: 5.8\n",
       "    threshold:\n",
       "      2010-10-01: 1030\n",
       "  - amount:\n",
       "      2021-01-01: 7.0\n",
       "      2010-10-01: 6.3\n",
       "    threshold:\n",
       "      2010-10-01: 1540\n",
       "  - amount:\n",
       "      2021-01-01: 8.5\n",
       "      2010-10-01: 6.9\n",
       "    threshold:\n",
       "      2010-10-01: 2050"
      ]
     },
     "execution_count": 277,
     "metadata": {},
     "output_type": "execute_result"
    }
   ],
   "source": [
    "fusion[0].tax_benefit_system.parameters.metropoles.strasbourg.tarifs_cantine"
   ]
  },
  {
   "cell_type": "code",
   "execution_count": 278,
   "id": "98cab92f",
   "metadata": {},
   "outputs": [
    {
     "data": {
      "text/plain": [
       "brackets:\n",
       "  - amount:\n",
       "      2021-01-01: 0.65\n",
       "      2010-10-01: 1.15\n",
       "    threshold:\n",
       "      2010-10-01: -1\n",
       "  - amount:\n",
       "      2021-01-01: 0.65\n",
       "      2010-10-01: 1.8\n",
       "    threshold:\n",
       "      2010-10-01: 410\n",
       "  - amount:\n",
       "      2021-01-01: 0.65\n",
       "      2010-10-01: 2.35\n",
       "    threshold:\n",
       "      2010-10-01: 510\n",
       "  - amount:\n",
       "      2021-01-01: 1.15\n",
       "      2010-10-01: 2.9\n",
       "    threshold:\n",
       "      2010-10-01: 620\n",
       "  - amount:\n",
       "      2021-01-01: 1.65\n",
       "      2010-10-01: 3.45\n",
       "    threshold:\n",
       "      2010-10-01: 720\n",
       "  - amount:\n",
       "      2021-01-01: 2.15\n",
       "      2010-10-01: 4.05\n",
       "    threshold:\n",
       "      2010-10-01: 820\n",
       "  - amount:\n",
       "      2021-01-01: 3.65\n",
       "      2010-10-01: 4.75\n",
       "    threshold:\n",
       "      2010-10-01: 920\n",
       "  - amount:\n",
       "      2021-01-01: 5.15\n",
       "      2010-10-01: 5.45\n",
       "    threshold:\n",
       "      2010-10-01: 1030\n",
       "  - amount:\n",
       "      2021-01-01: 6.65\n",
       "      2010-10-01: 5.95\n",
       "    threshold:\n",
       "      2010-10-01: 1540\n",
       "  - amount:\n",
       "      2021-01-01: 8.15\n",
       "      2010-10-01: 6.55\n",
       "    threshold:\n",
       "      2010-10-01: 2050"
      ]
     },
     "execution_count": 278,
     "metadata": {},
     "output_type": "execute_result"
    }
   ],
   "source": [
    "fusion[0].tax_benefit_system.parameters.metropoles.strasbourg.tarifs_repas_vege"
   ]
  },
  {
   "cell_type": "code",
   "execution_count": 279,
   "id": "3f991032",
   "metadata": {},
   "outputs": [
    {
     "data": {
      "text/plain": [
       "brackets:\n",
       "  - amount:\n",
       "      2021-01-01: 0.5\n",
       "      2010-10-01: 0.75\n",
       "    threshold:\n",
       "      2010-10-01: -1\n",
       "  - amount:\n",
       "      2021-01-01: 0.5\n",
       "      2010-10-01: 1.08\n",
       "    threshold:\n",
       "      2010-10-01: 410\n",
       "  - amount:\n",
       "      2021-01-01: 0.5\n",
       "      2010-10-01: 1.35\n",
       "    threshold:\n",
       "      2010-10-01: 510\n",
       "  - amount:\n",
       "      2021-01-01: 0.75\n",
       "      2010-10-01: 1.63\n",
       "    threshold:\n",
       "      2010-10-01: 620\n",
       "  - amount:\n",
       "      2021-01-01: 1.0\n",
       "      2010-10-01: 1.9\n",
       "    threshold:\n",
       "      2010-10-01: 720\n",
       "  - amount:\n",
       "      2021-01-01: 1.25\n",
       "      2010-10-01: 2.2\n",
       "    threshold:\n",
       "      2010-10-01: 820\n",
       "  - amount:\n",
       "      2021-01-01: 2.0\n",
       "      2010-10-01: 2.55\n",
       "    threshold:\n",
       "      2010-10-01: 920\n",
       "  - amount:\n",
       "      2021-01-01: 2.75\n",
       "      2010-10-01: 2.9\n",
       "    threshold:\n",
       "      2010-10-01: 1030\n",
       "  - amount:\n",
       "      2021-01-01: 3.5\n",
       "      2010-10-01: 3.15\n",
       "    threshold:\n",
       "      2010-10-01: 1540\n",
       "  - amount:\n",
       "      2021-01-01: 4.25\n",
       "      2010-10-01: 3.45\n",
       "    threshold:\n",
       "      2010-10-01: 2050"
      ]
     },
     "execution_count": 279,
     "metadata": {},
     "output_type": "execute_result"
    }
   ],
   "source": [
    "fusion[0].tax_benefit_system.parameters.metropoles.strasbourg.tarifs_repas_panier"
   ]
  },
  {
   "cell_type": "code",
   "execution_count": 280,
   "id": "1ff428e3",
   "metadata": {},
   "outputs": [],
   "source": [
    "def modify_parameters(parameters):\n",
    "    pp = parameters.metropoles.strasbourg.tarifs_cantine\n",
    "    pp[1].amount.update(start = periods.period(\"2021-01-01\"), value = 1.50)\n",
    "    pp[2].amount.update(start = periods.period(\"2021-01-01\"), value = 1.50)\n",
    "    pp[3].amount.update(start = periods.period(\"2021-01-01\"), value = 2.38)\n",
    "    pp[4].amount.update(start = periods.period(\"2021-01-01\"), value = 3.26)\n",
    "    pp[5].amount.update(start = periods.period(\"2021-01-01\"), value = 4.14)\n",
    "    pp[6].amount.update(start = periods.period(\"2021-01-01\"), value = 5.13)\n",
    "    pp[7].amount.update(start = periods.period(\"2021-01-01\"), value = 6.12)\n",
    "    pp[-2].amount.update(start = periods.period(\"2021-01-01\"), value = 7.11)\n",
    "    pp[-1].amount.update(start = periods.period(\"2021-01-01\"), value = 8.10)\n",
    "    pa = parameters.metropoles.strasbourg.tarifs_repas_vege\n",
    "    pa[1].amount.update(start = periods.period(\"2021-01-01\"), value = 1.15)\n",
    "    pa[2].amount.update(start = periods.period(\"2021-01-01\"), value = 1.15)\n",
    "    pa[3].amount.update(start = periods.period(\"2021-01-01\"), value = 2.03)\n",
    "    pa[4].amount.update(start = periods.period(\"2021-01-01\"), value = 2.91)\n",
    "    pa[5].amount.update(start = periods.period(\"2021-01-01\"), value = 3.79)\n",
    "    pa[6].amount.update(start = periods.period(\"2021-01-01\"), value = 4.78)\n",
    "    pa[7].amount.update(start = periods.period(\"2021-01-01\"), value = 5.77)\n",
    "    pa[-2].amount.update(start = periods.period(\"2021-01-01\"), value = 6.76)\n",
    "    pa[-1].amount.update(start = periods.period(\"2021-01-01\"), value = 7.75)\n",
    "    pb = parameters.metropoles.strasbourg.tarifs_repas_panier\n",
    "    pb[1].amount.update(start = periods.period(\"2021-01-01\"), value = 0.75)\n",
    "    pb[2].amount.update(start = periods.period(\"2021-01-01\"), value = 0.75)\n",
    "    pb[3].amount.update(start = periods.period(\"2021-01-01\"), value = 1.19)\n",
    "    pb[4].amount.update(start = periods.period(\"2021-01-01\"), value = 1.63)\n",
    "    pb[5].amount.update(start = periods.period(\"2021-01-01\"), value = 2.07)\n",
    "    pb[6].amount.update(start = periods.period(\"2021-01-01\"), value = 2.57)\n",
    "    pb[7].amount.update(start = periods.period(\"2021-01-01\"), value = 3.06)\n",
    "    pb[-2].amount.update(start = periods.period(\"2021-01-01\"), value = 3.56)\n",
    "    pb[-1].amount.update(start = periods.period(\"2021-01-01\"), value = 4.05)\n",
    "    return parameters\n",
    "    \n",
    "class reform_fusion_1_11(Reform):\n",
    "    name = u\"Scénario I : Fusionne les trois premières tranches + Hausse du prix différenciée selon les tranches\"\n",
    "\n",
    "    def apply(self):\n",
    "        self.modify_parameters(modifier_function = modify_parameters)"
   ]
  },
  {
   "cell_type": "code",
   "execution_count": 281,
   "id": "5f59d942",
   "metadata": {},
   "outputs": [],
   "source": [
    "fusion = compute_result(data, reform_fusion_1_11)"
   ]
  },
  {
   "cell_type": "code",
   "execution_count": 282,
   "id": "2db64880",
   "metadata": {},
   "outputs": [
    {
     "data": {
      "text/plain": [
       "(<__main__.StrasbourgSurveyScenario at 0x1409479d0>,\n",
       " array([5358267.49140525,  181666.25035679,   13246.76005387]),\n",
       " array([6320.]))"
      ]
     },
     "execution_count": 282,
     "metadata": {},
     "output_type": "execute_result"
    }
   ],
   "source": [
    "fusion"
   ]
  },
  {
   "cell_type": "code",
   "execution_count": 283,
   "id": "7394af49",
   "metadata": {},
   "outputs": [
    {
     "data": {
      "text/plain": [
       "array([5358267.49140525,  181666.25035679,   13246.76005387])"
      ]
     },
     "execution_count": 283,
     "metadata": {},
     "output_type": "execute_result"
    }
   ],
   "source": [
    "fusion[1]"
   ]
  },
  {
   "cell_type": "code",
   "execution_count": 284,
   "id": "b31a598b",
   "metadata": {},
   "outputs": [
    {
     "data": {
      "text/plain": [
       "brackets:\n",
       "  - amount:\n",
       "      2010-10-01: 1.5\n",
       "    threshold:\n",
       "      2010-10-01: -1\n",
       "  - amount:\n",
       "      2021-01-01: 1.5\n",
       "      2010-10-01: 2.15\n",
       "    threshold:\n",
       "      2010-10-01: 410\n",
       "  - amount:\n",
       "      2021-01-01: 1.5\n",
       "      2010-10-01: 2.7\n",
       "    threshold:\n",
       "      2010-10-01: 510\n",
       "  - amount:\n",
       "      2021-01-01: 2.38\n",
       "      2010-10-01: 3.25\n",
       "    threshold:\n",
       "      2010-10-01: 620\n",
       "  - amount:\n",
       "      2021-01-01: 3.26\n",
       "      2010-10-01: 3.8\n",
       "    threshold:\n",
       "      2010-10-01: 720\n",
       "  - amount:\n",
       "      2021-01-01: 4.14\n",
       "      2010-10-01: 4.4\n",
       "    threshold:\n",
       "      2010-10-01: 820\n",
       "  - amount:\n",
       "      2021-01-01: 5.13\n",
       "      2010-10-01: 5.1\n",
       "    threshold:\n",
       "      2010-10-01: 920\n",
       "  - amount:\n",
       "      2021-01-01: 6.12\n",
       "      2010-10-01: 5.8\n",
       "    threshold:\n",
       "      2010-10-01: 1030\n",
       "  - amount:\n",
       "      2021-01-01: 7.11\n",
       "      2010-10-01: 6.3\n",
       "    threshold:\n",
       "      2010-10-01: 1540\n",
       "  - amount:\n",
       "      2021-01-01: 8.1\n",
       "      2010-10-01: 6.9\n",
       "    threshold:\n",
       "      2010-10-01: 2050"
      ]
     },
     "execution_count": 284,
     "metadata": {},
     "output_type": "execute_result"
    }
   ],
   "source": [
    "fusion[0].tax_benefit_system.parameters.metropoles.strasbourg.tarifs_cantine"
   ]
  },
  {
   "cell_type": "code",
   "execution_count": 285,
   "id": "ab094b31",
   "metadata": {},
   "outputs": [
    {
     "data": {
      "text/plain": [
       "brackets:\n",
       "  - amount:\n",
       "      2010-10-01: 1.15\n",
       "    threshold:\n",
       "      2010-10-01: -1\n",
       "  - amount:\n",
       "      2021-01-01: 1.15\n",
       "      2010-10-01: 1.8\n",
       "    threshold:\n",
       "      2010-10-01: 410\n",
       "  - amount:\n",
       "      2021-01-01: 1.15\n",
       "      2010-10-01: 2.35\n",
       "    threshold:\n",
       "      2010-10-01: 510\n",
       "  - amount:\n",
       "      2021-01-01: 2.03\n",
       "      2010-10-01: 2.9\n",
       "    threshold:\n",
       "      2010-10-01: 620\n",
       "  - amount:\n",
       "      2021-01-01: 2.91\n",
       "      2010-10-01: 3.45\n",
       "    threshold:\n",
       "      2010-10-01: 720\n",
       "  - amount:\n",
       "      2021-01-01: 3.79\n",
       "      2010-10-01: 4.05\n",
       "    threshold:\n",
       "      2010-10-01: 820\n",
       "  - amount:\n",
       "      2021-01-01: 4.78\n",
       "      2010-10-01: 4.75\n",
       "    threshold:\n",
       "      2010-10-01: 920\n",
       "  - amount:\n",
       "      2021-01-01: 5.77\n",
       "      2010-10-01: 5.45\n",
       "    threshold:\n",
       "      2010-10-01: 1030\n",
       "  - amount:\n",
       "      2021-01-01: 6.76\n",
       "      2010-10-01: 5.95\n",
       "    threshold:\n",
       "      2010-10-01: 1540\n",
       "  - amount:\n",
       "      2021-01-01: 7.75\n",
       "      2010-10-01: 6.55\n",
       "    threshold:\n",
       "      2010-10-01: 2050"
      ]
     },
     "execution_count": 285,
     "metadata": {},
     "output_type": "execute_result"
    }
   ],
   "source": [
    "fusion[0].tax_benefit_system.parameters.metropoles.strasbourg.tarifs_repas_vege"
   ]
  },
  {
   "cell_type": "code",
   "execution_count": 286,
   "id": "fcfec630",
   "metadata": {},
   "outputs": [
    {
     "data": {
      "text/plain": [
       "brackets:\n",
       "  - amount:\n",
       "      2010-10-01: 0.75\n",
       "    threshold:\n",
       "      2010-10-01: -1\n",
       "  - amount:\n",
       "      2021-01-01: 0.75\n",
       "      2010-10-01: 1.08\n",
       "    threshold:\n",
       "      2010-10-01: 410\n",
       "  - amount:\n",
       "      2021-01-01: 0.75\n",
       "      2010-10-01: 1.35\n",
       "    threshold:\n",
       "      2010-10-01: 510\n",
       "  - amount:\n",
       "      2021-01-01: 1.19\n",
       "      2010-10-01: 1.63\n",
       "    threshold:\n",
       "      2010-10-01: 620\n",
       "  - amount:\n",
       "      2021-01-01: 1.63\n",
       "      2010-10-01: 1.9\n",
       "    threshold:\n",
       "      2010-10-01: 720\n",
       "  - amount:\n",
       "      2021-01-01: 2.07\n",
       "      2010-10-01: 2.2\n",
       "    threshold:\n",
       "      2010-10-01: 820\n",
       "  - amount:\n",
       "      2021-01-01: 2.57\n",
       "      2010-10-01: 2.55\n",
       "    threshold:\n",
       "      2010-10-01: 920\n",
       "  - amount:\n",
       "      2021-01-01: 3.06\n",
       "      2010-10-01: 2.9\n",
       "    threshold:\n",
       "      2010-10-01: 1030\n",
       "  - amount:\n",
       "      2021-01-01: 3.56\n",
       "      2010-10-01: 3.15\n",
       "    threshold:\n",
       "      2010-10-01: 1540\n",
       "  - amount:\n",
       "      2021-01-01: 4.05\n",
       "      2010-10-01: 3.45\n",
       "    threshold:\n",
       "      2010-10-01: 2050"
      ]
     },
     "execution_count": 286,
     "metadata": {},
     "output_type": "execute_result"
    }
   ],
   "source": [
    "fusion[0].tax_benefit_system.parameters.metropoles.strasbourg.tarifs_repas_panier"
   ]
  },
  {
   "cell_type": "code",
   "execution_count": 287,
   "id": "c789c13f",
   "metadata": {},
   "outputs": [],
   "source": [
    "def modify_parameters(parameters):\n",
    "    pp = parameters.metropoles.strasbourg.tarifs_cantine\n",
    "    pp[1].amount.update(start = periods.period(\"2021-01-01\"), value = 1.98)\n",
    "    pp[2].amount.update(start = periods.period(\"2021-01-01\"), value = 2.46)\n",
    "    pp[3].amount.update(start = periods.period(\"2021-01-01\"), value = 2.94)\n",
    "    pp[4].amount.update(start = periods.period(\"2021-01-01\"), value = 3.42)\n",
    "    pp[5].amount.update(start = periods.period(\"2021-01-01\"), value = 3.90)\n",
    "    pp[6].amount.update(start = periods.period(\"2021-01-01\"), value = 4.80)\n",
    "    pp[7].amount.update(start = periods.period(\"2021-01-01\"), value = 5.70)\n",
    "    pp[-2].amount.update(start = periods.period(\"2021-01-01\"), value = 6.60)\n",
    "    pp[-1].amount.update(start = periods.period(\"2021-01-01\"), value = 7.50)\n",
    "    pa = parameters.metropoles.strasbourg.tarifs_repas_vege\n",
    "    pa[1].amount.update(start = periods.period(\"2021-01-01\"), value = 1.63)\n",
    "    pa[2].amount.update(start = periods.period(\"2021-01-01\"), value = 2.11)\n",
    "    pa[3].amount.update(start = periods.period(\"2021-01-01\"), value = 2.59)\n",
    "    pa[4].amount.update(start = periods.period(\"2021-01-01\"), value = 3.07)\n",
    "    pa[5].amount.update(start = periods.period(\"2021-01-01\"), value = 3.55)\n",
    "    pa[6].amount.update(start = periods.period(\"2021-01-01\"), value = 4.45)\n",
    "    pa[7].amount.update(start = periods.period(\"2021-01-01\"), value = 5.35)\n",
    "    pa[-2].amount.update(start = periods.period(\"2021-01-01\"), value = 6.25)\n",
    "    pa[-1].amount.update(start = periods.period(\"2021-01-01\"), value = 7.15)\n",
    "    pb = parameters.metropoles.strasbourg.tarifs_repas_panier\n",
    "    pb[1].amount.update(start = periods.period(\"2021-01-01\"), value = 0.99)\n",
    "    pb[2].amount.update(start = periods.period(\"2021-01-01\"), value = 1.23)\n",
    "    pb[3].amount.update(start = periods.period(\"2021-01-01\"), value = 1.47)\n",
    "    pb[4].amount.update(start = periods.period(\"2021-01-01\"), value = 1.71)\n",
    "    pb[5].amount.update(start = periods.period(\"2021-01-01\"), value = 1.95)\n",
    "    pb[6].amount.update(start = periods.period(\"2021-01-01\"), value = 2.40)\n",
    "    pb[7].amount.update(start = periods.period(\"2021-01-01\"), value = 2.85)\n",
    "    pb[-2].amount.update(start = periods.period(\"2021-01-01\"), value = 3.30)\n",
    "    pb[-1].amount.update(start = periods.period(\"2021-01-01\"), value = 3.75)\n",
    "    return parameters\n",
    "    \n",
    "class reform_fusion_1_12(Reform):\n",
    "    name = u\"Scénario J : Sans Fusion des trois premières tranches\"\n",
    "\n",
    "    def apply(self):\n",
    "        self.modify_parameters(modifier_function = modify_parameters)"
   ]
  },
  {
   "cell_type": "code",
   "execution_count": 288,
   "id": "bce5fd80",
   "metadata": {},
   "outputs": [],
   "source": [
    "fusion = compute_result(data, reform_fusion_1_12)"
   ]
  },
  {
   "cell_type": "code",
   "execution_count": 289,
   "id": "8c5b0598",
   "metadata": {},
   "outputs": [
    {
     "data": {
      "text/plain": [
       "(<__main__.StrasbourgSurveyScenario at 0x144e2ab90>,\n",
       " array([5371492.1234622 ,  185081.11799443,   13826.7600379 ]),\n",
       " array([3230.]))"
      ]
     },
     "execution_count": 289,
     "metadata": {},
     "output_type": "execute_result"
    }
   ],
   "source": [
    "fusion"
   ]
  },
  {
   "cell_type": "code",
   "execution_count": 290,
   "id": "b4020918",
   "metadata": {},
   "outputs": [
    {
     "data": {
      "text/plain": [
       "array([5371492.1234622 ,  185081.11799443,   13826.7600379 ])"
      ]
     },
     "execution_count": 290,
     "metadata": {},
     "output_type": "execute_result"
    }
   ],
   "source": [
    "fusion[1]"
   ]
  },
  {
   "cell_type": "code",
   "execution_count": 291,
   "id": "dad8ae6d",
   "metadata": {},
   "outputs": [
    {
     "data": {
      "text/plain": [
       "brackets:\n",
       "  - amount:\n",
       "      2010-10-01: 1.5\n",
       "    threshold:\n",
       "      2010-10-01: -1\n",
       "  - amount:\n",
       "      2021-01-01: 1.98\n",
       "      2010-10-01: 2.15\n",
       "    threshold:\n",
       "      2010-10-01: 410\n",
       "  - amount:\n",
       "      2021-01-01: 2.46\n",
       "      2010-10-01: 2.7\n",
       "    threshold:\n",
       "      2010-10-01: 510\n",
       "  - amount:\n",
       "      2021-01-01: 2.94\n",
       "      2010-10-01: 3.25\n",
       "    threshold:\n",
       "      2010-10-01: 620\n",
       "  - amount:\n",
       "      2021-01-01: 3.42\n",
       "      2010-10-01: 3.8\n",
       "    threshold:\n",
       "      2010-10-01: 720\n",
       "  - amount:\n",
       "      2021-01-01: 3.9\n",
       "      2010-10-01: 4.4\n",
       "    threshold:\n",
       "      2010-10-01: 820\n",
       "  - amount:\n",
       "      2021-01-01: 4.8\n",
       "      2010-10-01: 5.1\n",
       "    threshold:\n",
       "      2010-10-01: 920\n",
       "  - amount:\n",
       "      2021-01-01: 5.7\n",
       "      2010-10-01: 5.8\n",
       "    threshold:\n",
       "      2010-10-01: 1030\n",
       "  - amount:\n",
       "      2021-01-01: 6.6\n",
       "      2010-10-01: 6.3\n",
       "    threshold:\n",
       "      2010-10-01: 1540\n",
       "  - amount:\n",
       "      2021-01-01: 7.5\n",
       "      2010-10-01: 6.9\n",
       "    threshold:\n",
       "      2010-10-01: 2050"
      ]
     },
     "execution_count": 291,
     "metadata": {},
     "output_type": "execute_result"
    }
   ],
   "source": [
    "fusion[0].tax_benefit_system.parameters.metropoles.strasbourg.tarifs_cantine"
   ]
  },
  {
   "cell_type": "code",
   "execution_count": 292,
   "id": "2a6118f4",
   "metadata": {},
   "outputs": [
    {
     "data": {
      "text/plain": [
       "brackets:\n",
       "  - amount:\n",
       "      2010-10-01: 1.15\n",
       "    threshold:\n",
       "      2010-10-01: -1\n",
       "  - amount:\n",
       "      2021-01-01: 1.63\n",
       "      2010-10-01: 1.8\n",
       "    threshold:\n",
       "      2010-10-01: 410\n",
       "  - amount:\n",
       "      2021-01-01: 2.11\n",
       "      2010-10-01: 2.35\n",
       "    threshold:\n",
       "      2010-10-01: 510\n",
       "  - amount:\n",
       "      2021-01-01: 2.59\n",
       "      2010-10-01: 2.9\n",
       "    threshold:\n",
       "      2010-10-01: 620\n",
       "  - amount:\n",
       "      2021-01-01: 3.07\n",
       "      2010-10-01: 3.45\n",
       "    threshold:\n",
       "      2010-10-01: 720\n",
       "  - amount:\n",
       "      2021-01-01: 3.55\n",
       "      2010-10-01: 4.05\n",
       "    threshold:\n",
       "      2010-10-01: 820\n",
       "  - amount:\n",
       "      2021-01-01: 4.45\n",
       "      2010-10-01: 4.75\n",
       "    threshold:\n",
       "      2010-10-01: 920\n",
       "  - amount:\n",
       "      2021-01-01: 5.35\n",
       "      2010-10-01: 5.45\n",
       "    threshold:\n",
       "      2010-10-01: 1030\n",
       "  - amount:\n",
       "      2021-01-01: 6.25\n",
       "      2010-10-01: 5.95\n",
       "    threshold:\n",
       "      2010-10-01: 1540\n",
       "  - amount:\n",
       "      2021-01-01: 7.15\n",
       "      2010-10-01: 6.55\n",
       "    threshold:\n",
       "      2010-10-01: 2050"
      ]
     },
     "execution_count": 292,
     "metadata": {},
     "output_type": "execute_result"
    }
   ],
   "source": [
    "fusion[0].tax_benefit_system.parameters.metropoles.strasbourg.tarifs_repas_vege"
   ]
  },
  {
   "cell_type": "code",
   "execution_count": 293,
   "id": "084abd2a",
   "metadata": {},
   "outputs": [
    {
     "data": {
      "text/plain": [
       "brackets:\n",
       "  - amount:\n",
       "      2010-10-01: 0.75\n",
       "    threshold:\n",
       "      2010-10-01: -1\n",
       "  - amount:\n",
       "      2021-01-01: 0.99\n",
       "      2010-10-01: 1.08\n",
       "    threshold:\n",
       "      2010-10-01: 410\n",
       "  - amount:\n",
       "      2021-01-01: 1.23\n",
       "      2010-10-01: 1.35\n",
       "    threshold:\n",
       "      2010-10-01: 510\n",
       "  - amount:\n",
       "      2021-01-01: 1.47\n",
       "      2010-10-01: 1.63\n",
       "    threshold:\n",
       "      2010-10-01: 620\n",
       "  - amount:\n",
       "      2021-01-01: 1.71\n",
       "      2010-10-01: 1.9\n",
       "    threshold:\n",
       "      2010-10-01: 720\n",
       "  - amount:\n",
       "      2021-01-01: 1.95\n",
       "      2010-10-01: 2.2\n",
       "    threshold:\n",
       "      2010-10-01: 820\n",
       "  - amount:\n",
       "      2021-01-01: 2.4\n",
       "      2010-10-01: 2.55\n",
       "    threshold:\n",
       "      2010-10-01: 920\n",
       "  - amount:\n",
       "      2021-01-01: 2.85\n",
       "      2010-10-01: 2.9\n",
       "    threshold:\n",
       "      2010-10-01: 1030\n",
       "  - amount:\n",
       "      2021-01-01: 3.3\n",
       "      2010-10-01: 3.15\n",
       "    threshold:\n",
       "      2010-10-01: 1540\n",
       "  - amount:\n",
       "      2021-01-01: 3.75\n",
       "      2010-10-01: 3.45\n",
       "    threshold:\n",
       "      2010-10-01: 2050"
      ]
     },
     "execution_count": 293,
     "metadata": {},
     "output_type": "execute_result"
    }
   ],
   "source": [
    "fusion[0].tax_benefit_system.parameters.metropoles.strasbourg.tarifs_repas_panier"
   ]
  },
  {
   "cell_type": "code",
   "execution_count": 329,
   "id": "9a59d16c",
   "metadata": {},
   "outputs": [],
   "source": [
    "def modify_parameters(parameters):\n",
    "    pp = parameters.metropoles.strasbourg.tarifs_cantine\n",
    "    pp[1].amount.update(start = periods.period(\"2021-01-01\"), value = 1.50)\n",
    "    pp[2].amount.update(start = periods.period(\"2021-01-01\"), value = 1.50)\n",
    "    pp[3].amount.update(start = periods.period(\"2021-01-01\"), value = 2.30)\n",
    "    pp[4].amount.update(start = periods.period(\"2021-01-01\"), value = 3.10)\n",
    "    pp[5].amount.update(start = periods.period(\"2021-01-01\"), value = 3.90)\n",
    "    pp[6].amount.update(start = periods.period(\"2021-01-01\"), value = 4.70)\n",
    "    pp[7].amount.update(start = periods.period(\"2021-01-01\"), value = 5.50)\n",
    "    pp[-2].amount.update(start = periods.period(\"2021-01-01\"), value = 6.30)\n",
    "    pp[-1].amount.update(start = periods.period(\"2021-01-01\"), value = 7.10)\n",
    "    pa = parameters.metropoles.strasbourg.tarifs_repas_vege\n",
    "    pa[1].amount.update(start = periods.period(\"2021-01-01\"), value = 1.15)\n",
    "    pa[2].amount.update(start = periods.period(\"2021-01-01\"), value = 1.15)\n",
    "    pa[3].amount.update(start = periods.period(\"2021-01-01\"), value = 1.95)\n",
    "    pa[4].amount.update(start = periods.period(\"2021-01-01\"), value = 2.75)\n",
    "    pa[5].amount.update(start = periods.period(\"2021-01-01\"), value = 3.55)\n",
    "    pa[6].amount.update(start = periods.period(\"2021-01-01\"), value = 4.35)\n",
    "    pa[7].amount.update(start = periods.period(\"2021-01-01\"), value = 5.15)\n",
    "    pa[-2].amount.update(start = periods.period(\"2021-01-01\"), value = 5.95)\n",
    "    pa[-1].amount.update(start = periods.period(\"2021-01-01\"), value = 6.75)\n",
    "    pb = parameters.metropoles.strasbourg.tarifs_repas_panier\n",
    "    pb[1].amount.update(start = periods.period(\"2021-01-01\"), value = 0.75)\n",
    "    pb[2].amount.update(start = periods.period(\"2021-01-01\"), value = 0.75)\n",
    "    pb[3].amount.update(start = periods.period(\"2021-01-01\"), value = 1.15)\n",
    "    pb[4].amount.update(start = periods.period(\"2021-01-01\"), value = 1.55)\n",
    "    pb[5].amount.update(start = periods.period(\"2021-01-01\"), value = 1.95)\n",
    "    pb[6].amount.update(start = periods.period(\"2021-01-01\"), value = 2.35)\n",
    "    pb[7].amount.update(start = periods.period(\"2021-01-01\"), value = 2.75)\n",
    "    pb[-2].amount.update(start = periods.period(\"2021-01-01\"), value = 3.15)\n",
    "    pb[-1].amount.update(start = periods.period(\"2021-01-01\"), value = 3.55)\n",
    "    return parameters\n",
    "    \n",
    "class reform_fusion_1_13(Reform):\n",
    "    name = u\"Scénario K : Fusion des trois premières tranches - Tarifs : de 1,50 à 7,10€\"\n",
    "\n",
    "    def apply(self):\n",
    "        self.modify_parameters(modifier_function = modify_parameters)"
   ]
  },
  {
   "cell_type": "code",
   "execution_count": 330,
   "id": "34f17d0b",
   "metadata": {},
   "outputs": [],
   "source": [
    "fusion = compute_result(data, reform_fusion_1_13)"
   ]
  },
  {
   "cell_type": "code",
   "execution_count": 331,
   "id": "5da159b5",
   "metadata": {},
   "outputs": [
    {
     "data": {
      "text/plain": [
       "(<__main__.StrasbourgSurveyScenario at 0x148abb290>,\n",
       " array([4919991.48393202,  166478.29890454,   12198.59998226]),\n",
       " array([6320.]))"
      ]
     },
     "execution_count": 331,
     "metadata": {},
     "output_type": "execute_result"
    }
   ],
   "source": [
    "fusion"
   ]
  },
  {
   "cell_type": "code",
   "execution_count": 332,
   "id": "9c03d0a2",
   "metadata": {},
   "outputs": [
    {
     "data": {
      "text/plain": [
       "array([4919991.48393202,  166478.29890454,   12198.59998226])"
      ]
     },
     "execution_count": 332,
     "metadata": {},
     "output_type": "execute_result"
    }
   ],
   "source": [
    "fusion[1]"
   ]
  },
  {
   "cell_type": "code",
   "execution_count": 333,
   "id": "19770d70",
   "metadata": {},
   "outputs": [
    {
     "data": {
      "text/plain": [
       "array([493957.95913148,  20719.70007193,   1913.65022182])"
      ]
     },
     "execution_count": 333,
     "metadata": {},
     "output_type": "execute_result"
    }
   ],
   "source": [
    "base[1] - fusion[1]"
   ]
  },
  {
   "cell_type": "code",
   "execution_count": 294,
   "id": "c3362b3c",
   "metadata": {},
   "outputs": [],
   "source": [
    "scenario = StrasbourgSurveyScenario(data = data)"
   ]
  },
  {
   "cell_type": "code",
   "execution_count": 295,
   "id": "833ad2c7",
   "metadata": {},
   "outputs": [
    {
     "data": {
      "text/plain": [
       "array([1.5 , 2.15, 2.7 , ..., 6.9 , 1.5 , 2.7 ], dtype=float32)"
      ]
     },
     "execution_count": 295,
     "metadata": {},
     "output_type": "execute_result"
    }
   ],
   "source": [
    "tarif_cantine = scenario.simulation.calculate('strasbourg_metropole_tarification_cantine', period = '2021-03')\n",
    "tarif_cantine"
   ]
  },
  {
   "cell_type": "code",
   "execution_count": 296,
   "id": "516fff13",
   "metadata": {},
   "outputs": [
    {
     "data": {
      "text/plain": [
       "array([138.      ,  83.850006, 135.      , ...,  89.700005,  18.      ,\n",
       "        64.8     ], dtype=float32)"
      ]
     },
     "execution_count": 296,
     "metadata": {},
     "output_type": "execute_result"
    }
   ],
   "source": [
    "cout_cantine = scenario.simulation.calculate('strasbourg_metropole_cout_cantine', period = '2021-03')\n",
    "cout_cantine"
   ]
  },
  {
   "cell_type": "code",
   "execution_count": 297,
   "id": "bfef2a54",
   "metadata": {},
   "outputs": [
    {
     "data": {
      "text/plain": [
       "array([138.      ,  83.850006, 135.      , ...,  89.700005,  18.      ,\n",
       "        64.8     ], dtype=float32)"
      ]
     },
     "execution_count": 297,
     "metadata": {},
     "output_type": "execute_result"
    }
   ],
   "source": [
    "cout_cantine = scenario.simulation.calculate('strasbourg_metropole_cout_cantine', period = '2021-03')\n",
    "cout_cantine"
   ]
  },
  {
   "cell_type": "code",
   "execution_count": 298,
   "id": "9588ff45",
   "metadata": {},
   "outputs": [
    {
     "data": {
      "text/plain": [
       "5413949.443063498"
      ]
     },
     "execution_count": 298,
     "metadata": {},
     "output_type": "execute_result"
    }
   ],
   "source": [
    "sum(cout_cantine)"
   ]
  },
  {
   "cell_type": "code",
   "execution_count": 299,
   "id": "cbfafa6c",
   "metadata": {},
   "outputs": [
    {
     "data": {
      "text/plain": [
       "5413949.443063498"
      ]
     },
     "execution_count": 299,
     "metadata": {},
     "output_type": "execute_result"
    }
   ],
   "source": [
    "sum(cout_cantine)"
   ]
  },
  {
   "cell_type": "code",
   "execution_count": 301,
   "id": "b8f328a6",
   "metadata": {},
   "outputs": [
    {
     "data": {
      "text/html": [
       "<div>\n",
       "<style scoped>\n",
       "    .dataframe tbody tr th:only-of-type {\n",
       "        vertical-align: middle;\n",
       "    }\n",
       "\n",
       "    .dataframe tbody tr th {\n",
       "        vertical-align: top;\n",
       "    }\n",
       "\n",
       "    .dataframe thead th {\n",
       "        text-align: right;\n",
       "    }\n",
       "</style>\n",
       "<table border=\"1\" class=\"dataframe\">\n",
       "  <thead>\n",
       "    <tr style=\"text-align: right;\">\n",
       "      <th></th>\n",
       "      <th>strasbourg_metropole_quotient_familial</th>\n",
       "      <th>uid</th>\n",
       "      <th>cout_cantine</th>\n",
       "    </tr>\n",
       "  </thead>\n",
       "  <tbody>\n",
       "    <tr>\n",
       "      <th>14700</th>\n",
       "      <td>301</td>\n",
       "      <td>100301</td>\n",
       "      <td>138.000000</td>\n",
       "    </tr>\n",
       "    <tr>\n",
       "      <th>4244</th>\n",
       "      <td>455</td>\n",
       "      <td>200455</td>\n",
       "      <td>83.850006</td>\n",
       "    </tr>\n",
       "    <tr>\n",
       "      <th>3271</th>\n",
       "      <td>601</td>\n",
       "      <td>300601</td>\n",
       "      <td>135.000000</td>\n",
       "    </tr>\n",
       "    <tr>\n",
       "      <th>2796</th>\n",
       "      <td>787</td>\n",
       "      <td>400787</td>\n",
       "      <td>380.000000</td>\n",
       "    </tr>\n",
       "    <tr>\n",
       "      <th>12016</th>\n",
       "      <td>244</td>\n",
       "      <td>500244</td>\n",
       "      <td>15.000000</td>\n",
       "    </tr>\n",
       "    <tr>\n",
       "      <th>...</th>\n",
       "      <td>...</td>\n",
       "      <td>...</td>\n",
       "      <td>...</td>\n",
       "    </tr>\n",
       "    <tr>\n",
       "      <th>16651</th>\n",
       "      <td>99999</td>\n",
       "      <td>1084899999</td>\n",
       "      <td>34.500000</td>\n",
       "    </tr>\n",
       "    <tr>\n",
       "      <th>7453</th>\n",
       "      <td>99999</td>\n",
       "      <td>1084999999</td>\n",
       "      <td>82.800003</td>\n",
       "    </tr>\n",
       "    <tr>\n",
       "      <th>16653</th>\n",
       "      <td>99999</td>\n",
       "      <td>1085099999</td>\n",
       "      <td>89.700005</td>\n",
       "    </tr>\n",
       "    <tr>\n",
       "      <th>16654</th>\n",
       "      <td>259</td>\n",
       "      <td>1085100259</td>\n",
       "      <td>18.000000</td>\n",
       "    </tr>\n",
       "    <tr>\n",
       "      <th>16655</th>\n",
       "      <td>620</td>\n",
       "      <td>1085200620</td>\n",
       "      <td>64.800003</td>\n",
       "    </tr>\n",
       "  </tbody>\n",
       "</table>\n",
       "<p>11610 rows × 3 columns</p>\n",
       "</div>"
      ],
      "text/plain": [
       "       strasbourg_metropole_quotient_familial         uid  cout_cantine\n",
       "14700                                     301      100301    138.000000\n",
       "4244                                      455      200455     83.850006\n",
       "3271                                      601      300601    135.000000\n",
       "2796                                      787      400787    380.000000\n",
       "12016                                     244      500244     15.000000\n",
       "...                                       ...         ...           ...\n",
       "16651                                   99999  1084899999     34.500000\n",
       "7453                                    99999  1084999999     82.800003\n",
       "16653                                   99999  1085099999     89.700005\n",
       "16654                                     259  1085100259     18.000000\n",
       "16655                                     620  1085200620     64.800003\n",
       "\n",
       "[11610 rows x 3 columns]"
      ]
     },
     "execution_count": 301,
     "metadata": {},
     "output_type": "execute_result"
    }
   ],
   "source": [
    "famille_df['uid'] = unique_famille_ids\n",
    "famille_df['cout_cantine'] = cout_cantine\n",
    "famille_df"
   ]
  },
  {
   "cell_type": "code",
   "execution_count": null,
   "id": "6766604b",
   "metadata": {},
   "outputs": [],
   "source": []
  },
  {
   "cell_type": "code",
   "execution_count": 302,
   "id": "0b3c5b65",
   "metadata": {},
   "outputs": [
    {
     "data": {
      "text/html": [
       "<div>\n",
       "<style scoped>\n",
       "    .dataframe tbody tr th:only-of-type {\n",
       "        vertical-align: middle;\n",
       "    }\n",
       "\n",
       "    .dataframe tbody tr th {\n",
       "        vertical-align: top;\n",
       "    }\n",
       "\n",
       "    .dataframe thead th {\n",
       "        text-align: right;\n",
       "    }\n",
       "</style>\n",
       "<table border=\"1\" class=\"dataframe\">\n",
       "  <thead>\n",
       "    <tr style=\"text-align: right;\">\n",
       "      <th></th>\n",
       "      <th>strasbourg_metropole_quotient_familial</th>\n",
       "      <th>uid</th>\n",
       "      <th>cout_cantine</th>\n",
       "    </tr>\n",
       "  </thead>\n",
       "  <tbody>\n",
       "    <tr>\n",
       "      <th>7058</th>\n",
       "      <td>1030</td>\n",
       "      <td>44301030</td>\n",
       "      <td>280.5</td>\n",
       "    </tr>\n",
       "  </tbody>\n",
       "</table>\n",
       "</div>"
      ],
      "text/plain": [
       "      strasbourg_metropole_quotient_familial       uid  cout_cantine\n",
       "7058                                    1030  44301030         280.5"
      ]
     },
     "execution_count": 302,
     "metadata": {},
     "output_type": "execute_result"
    }
   ],
   "source": [
    "famille_df[famille_df.uid == 44301030]"
   ]
  },
  {
   "cell_type": "code",
   "execution_count": 303,
   "id": "3abdb10c",
   "metadata": {},
   "outputs": [
    {
     "data": {
      "text/html": [
       "<div>\n",
       "<style scoped>\n",
       "    .dataframe tbody tr th:only-of-type {\n",
       "        vertical-align: middle;\n",
       "    }\n",
       "\n",
       "    .dataframe tbody tr th {\n",
       "        vertical-align: top;\n",
       "    }\n",
       "\n",
       "    .dataframe thead th {\n",
       "        text-align: right;\n",
       "    }\n",
       "</style>\n",
       "<table border=\"1\" class=\"dataframe\">\n",
       "  <thead>\n",
       "    <tr style=\"text-align: right;\">\n",
       "      <th></th>\n",
       "      <th>famille_id</th>\n",
       "      <th>strasbourg_metropole_nombre_repas_cantine</th>\n",
       "      <th>strasbourg_metropole_nombre_repas_cantine_vegetarien</th>\n",
       "      <th>strasbourg_metropole_nombre_repas_cantine_panier</th>\n",
       "      <th>famille_role_index</th>\n",
       "      <th>foyer_fiscal_id</th>\n",
       "      <th>foyer_fiscal_role_index</th>\n",
       "      <th>menage_id</th>\n",
       "      <th>menage_role_index</th>\n",
       "    </tr>\n",
       "  </thead>\n",
       "  <tbody>\n",
       "    <tr>\n",
       "      <th>0</th>\n",
       "      <td>334</td>\n",
       "      <td>0</td>\n",
       "      <td>2</td>\n",
       "      <td>0</td>\n",
       "      <td>0</td>\n",
       "      <td>334</td>\n",
       "      <td>0</td>\n",
       "      <td>334</td>\n",
       "      <td>0</td>\n",
       "    </tr>\n",
       "    <tr>\n",
       "      <th>1</th>\n",
       "      <td>514</td>\n",
       "      <td>1</td>\n",
       "      <td>0</td>\n",
       "      <td>0</td>\n",
       "      <td>0</td>\n",
       "      <td>514</td>\n",
       "      <td>0</td>\n",
       "      <td>514</td>\n",
       "      <td>0</td>\n",
       "    </tr>\n",
       "    <tr>\n",
       "      <th>2</th>\n",
       "      <td>786</td>\n",
       "      <td>1</td>\n",
       "      <td>0</td>\n",
       "      <td>0</td>\n",
       "      <td>0</td>\n",
       "      <td>786</td>\n",
       "      <td>0</td>\n",
       "      <td>786</td>\n",
       "      <td>0</td>\n",
       "    </tr>\n",
       "    <tr>\n",
       "      <th>3</th>\n",
       "      <td>794</td>\n",
       "      <td>125</td>\n",
       "      <td>0</td>\n",
       "      <td>0</td>\n",
       "      <td>0</td>\n",
       "      <td>794</td>\n",
       "      <td>0</td>\n",
       "      <td>794</td>\n",
       "      <td>0</td>\n",
       "    </tr>\n",
       "    <tr>\n",
       "      <th>4</th>\n",
       "      <td>795</td>\n",
       "      <td>1</td>\n",
       "      <td>0</td>\n",
       "      <td>0</td>\n",
       "      <td>0</td>\n",
       "      <td>795</td>\n",
       "      <td>0</td>\n",
       "      <td>795</td>\n",
       "      <td>0</td>\n",
       "    </tr>\n",
       "    <tr>\n",
       "      <th>...</th>\n",
       "      <td>...</td>\n",
       "      <td>...</td>\n",
       "      <td>...</td>\n",
       "      <td>...</td>\n",
       "      <td>...</td>\n",
       "      <td>...</td>\n",
       "      <td>...</td>\n",
       "      <td>...</td>\n",
       "      <td>...</td>\n",
       "    </tr>\n",
       "    <tr>\n",
       "      <th>16652</th>\n",
       "      <td>11606</td>\n",
       "      <td>8</td>\n",
       "      <td>0</td>\n",
       "      <td>0</td>\n",
       "      <td>0</td>\n",
       "      <td>11606</td>\n",
       "      <td>0</td>\n",
       "      <td>11606</td>\n",
       "      <td>0</td>\n",
       "    </tr>\n",
       "    <tr>\n",
       "      <th>16653</th>\n",
       "      <td>11607</td>\n",
       "      <td>13</td>\n",
       "      <td>0</td>\n",
       "      <td>0</td>\n",
       "      <td>0</td>\n",
       "      <td>11607</td>\n",
       "      <td>0</td>\n",
       "      <td>11607</td>\n",
       "      <td>0</td>\n",
       "    </tr>\n",
       "    <tr>\n",
       "      <th>16654</th>\n",
       "      <td>11608</td>\n",
       "      <td>12</td>\n",
       "      <td>0</td>\n",
       "      <td>0</td>\n",
       "      <td>0</td>\n",
       "      <td>11608</td>\n",
       "      <td>0</td>\n",
       "      <td>11608</td>\n",
       "      <td>0</td>\n",
       "    </tr>\n",
       "    <tr>\n",
       "      <th>16655</th>\n",
       "      <td>11609</td>\n",
       "      <td>14</td>\n",
       "      <td>0</td>\n",
       "      <td>0</td>\n",
       "      <td>0</td>\n",
       "      <td>11609</td>\n",
       "      <td>0</td>\n",
       "      <td>11609</td>\n",
       "      <td>0</td>\n",
       "    </tr>\n",
       "    <tr>\n",
       "      <th>16656</th>\n",
       "      <td>11609</td>\n",
       "      <td>10</td>\n",
       "      <td>0</td>\n",
       "      <td>0</td>\n",
       "      <td>0</td>\n",
       "      <td>11609</td>\n",
       "      <td>0</td>\n",
       "      <td>11609</td>\n",
       "      <td>0</td>\n",
       "    </tr>\n",
       "  </tbody>\n",
       "</table>\n",
       "<p>16657 rows × 9 columns</p>\n",
       "</div>"
      ],
      "text/plain": [
       "       famille_id  strasbourg_metropole_nombre_repas_cantine  \\\n",
       "0             334                                          0   \n",
       "1             514                                          1   \n",
       "2             786                                          1   \n",
       "3             794                                        125   \n",
       "4             795                                          1   \n",
       "...           ...                                        ...   \n",
       "16652       11606                                          8   \n",
       "16653       11607                                         13   \n",
       "16654       11608                                         12   \n",
       "16655       11609                                         14   \n",
       "16656       11609                                         10   \n",
       "\n",
       "       strasbourg_metropole_nombre_repas_cantine_vegetarien  \\\n",
       "0                                                      2      \n",
       "1                                                      0      \n",
       "2                                                      0      \n",
       "3                                                      0      \n",
       "4                                                      0      \n",
       "...                                                  ...      \n",
       "16652                                                  0      \n",
       "16653                                                  0      \n",
       "16654                                                  0      \n",
       "16655                                                  0      \n",
       "16656                                                  0      \n",
       "\n",
       "       strasbourg_metropole_nombre_repas_cantine_panier  famille_role_index  \\\n",
       "0                                                     0                   0   \n",
       "1                                                     0                   0   \n",
       "2                                                     0                   0   \n",
       "3                                                     0                   0   \n",
       "4                                                     0                   0   \n",
       "...                                                 ...                 ...   \n",
       "16652                                                 0                   0   \n",
       "16653                                                 0                   0   \n",
       "16654                                                 0                   0   \n",
       "16655                                                 0                   0   \n",
       "16656                                                 0                   0   \n",
       "\n",
       "       foyer_fiscal_id  foyer_fiscal_role_index  menage_id  menage_role_index  \n",
       "0                  334                        0        334                  0  \n",
       "1                  514                        0        514                  0  \n",
       "2                  786                        0        786                  0  \n",
       "3                  794                        0        794                  0  \n",
       "4                  795                        0        795                  0  \n",
       "...                ...                      ...        ...                ...  \n",
       "16652            11606                        0      11606                  0  \n",
       "16653            11607                        0      11607                  0  \n",
       "16654            11608                        0      11608                  0  \n",
       "16655            11609                        0      11609                  0  \n",
       "16656            11609                        0      11609                  0  \n",
       "\n",
       "[16657 rows x 9 columns]"
      ]
     },
     "execution_count": 303,
     "metadata": {},
     "output_type": "execute_result"
    }
   ],
   "source": [
    "individu_df"
   ]
  },
  {
   "cell_type": "code",
   "execution_count": 304,
   "id": "80e5d0b0",
   "metadata": {},
   "outputs": [
    {
     "data": {
      "text/html": [
       "<div>\n",
       "<style scoped>\n",
       "    .dataframe tbody tr th:only-of-type {\n",
       "        vertical-align: middle;\n",
       "    }\n",
       "\n",
       "    .dataframe tbody tr th {\n",
       "        vertical-align: top;\n",
       "    }\n",
       "\n",
       "    .dataframe thead th {\n",
       "        text-align: right;\n",
       "    }\n",
       "</style>\n",
       "<table border=\"1\" class=\"dataframe\">\n",
       "  <thead>\n",
       "    <tr style=\"text-align: right;\">\n",
       "      <th>Repas</th>\n",
       "      <th>Id Personne</th>\n",
       "      <th>Id Famille</th>\n",
       "      <th>QF</th>\n",
       "      <th>cantine</th>\n",
       "      <th>cantine_panier</th>\n",
       "      <th>cantine_vegetarien</th>\n",
       "    </tr>\n",
       "  </thead>\n",
       "  <tbody>\n",
       "    <tr>\n",
       "      <th>0</th>\n",
       "      <td>1</td>\n",
       "      <td>325</td>\n",
       "      <td>99999</td>\n",
       "      <td>0</td>\n",
       "      <td>0</td>\n",
       "      <td>2</td>\n",
       "    </tr>\n",
       "    <tr>\n",
       "      <th>1</th>\n",
       "      <td>2</td>\n",
       "      <td>497</td>\n",
       "      <td>636</td>\n",
       "      <td>1</td>\n",
       "      <td>0</td>\n",
       "      <td>0</td>\n",
       "    </tr>\n",
       "    <tr>\n",
       "      <th>2</th>\n",
       "      <td>3</td>\n",
       "      <td>762</td>\n",
       "      <td>99999</td>\n",
       "      <td>1</td>\n",
       "      <td>0</td>\n",
       "      <td>0</td>\n",
       "    </tr>\n",
       "    <tr>\n",
       "      <th>3</th>\n",
       "      <td>4</td>\n",
       "      <td>770</td>\n",
       "      <td>392</td>\n",
       "      <td>125</td>\n",
       "      <td>0</td>\n",
       "      <td>0</td>\n",
       "    </tr>\n",
       "    <tr>\n",
       "      <th>4</th>\n",
       "      <td>4</td>\n",
       "      <td>770</td>\n",
       "      <td>99999</td>\n",
       "      <td>1</td>\n",
       "      <td>0</td>\n",
       "      <td>0</td>\n",
       "    </tr>\n",
       "    <tr>\n",
       "      <th>...</th>\n",
       "      <td>...</td>\n",
       "      <td>...</td>\n",
       "      <td>...</td>\n",
       "      <td>...</td>\n",
       "      <td>...</td>\n",
       "      <td>...</td>\n",
       "    </tr>\n",
       "    <tr>\n",
       "      <th>16652</th>\n",
       "      <td>15579</td>\n",
       "      <td>10849</td>\n",
       "      <td>99999</td>\n",
       "      <td>8</td>\n",
       "      <td>0</td>\n",
       "      <td>0</td>\n",
       "    </tr>\n",
       "    <tr>\n",
       "      <th>16653</th>\n",
       "      <td>15580</td>\n",
       "      <td>10850</td>\n",
       "      <td>99999</td>\n",
       "      <td>13</td>\n",
       "      <td>0</td>\n",
       "      <td>0</td>\n",
       "    </tr>\n",
       "    <tr>\n",
       "      <th>16654</th>\n",
       "      <td>15581</td>\n",
       "      <td>10851</td>\n",
       "      <td>259</td>\n",
       "      <td>12</td>\n",
       "      <td>0</td>\n",
       "      <td>0</td>\n",
       "    </tr>\n",
       "    <tr>\n",
       "      <th>16655</th>\n",
       "      <td>15582</td>\n",
       "      <td>10852</td>\n",
       "      <td>620</td>\n",
       "      <td>14</td>\n",
       "      <td>0</td>\n",
       "      <td>0</td>\n",
       "    </tr>\n",
       "    <tr>\n",
       "      <th>16656</th>\n",
       "      <td>15583</td>\n",
       "      <td>10852</td>\n",
       "      <td>620</td>\n",
       "      <td>10</td>\n",
       "      <td>0</td>\n",
       "      <td>0</td>\n",
       "    </tr>\n",
       "  </tbody>\n",
       "</table>\n",
       "<p>16657 rows × 6 columns</p>\n",
       "</div>"
      ],
      "text/plain": [
       "Repas  Id Personne  Id Famille     QF  cantine  cantine_panier  \\\n",
       "0                1         325  99999        0               0   \n",
       "1                2         497    636        1               0   \n",
       "2                3         762  99999        1               0   \n",
       "3                4         770    392      125               0   \n",
       "4                4         770  99999        1               0   \n",
       "...            ...         ...    ...      ...             ...   \n",
       "16652        15579       10849  99999        8               0   \n",
       "16653        15580       10850  99999       13               0   \n",
       "16654        15581       10851    259       12               0   \n",
       "16655        15582       10852    620       14               0   \n",
       "16656        15583       10852    620       10               0   \n",
       "\n",
       "Repas  cantine_vegetarien  \n",
       "0                       2  \n",
       "1                       0  \n",
       "2                       0  \n",
       "3                       0  \n",
       "4                       0  \n",
       "...                   ...  \n",
       "16652                   0  \n",
       "16653                   0  \n",
       "16654                   0  \n",
       "16655                   0  \n",
       "16656                   0  \n",
       "\n",
       "[16657 rows x 6 columns]"
      ]
     },
     "execution_count": 304,
     "metadata": {},
     "output_type": "execute_result"
    }
   ],
   "source": [
    "flat_df"
   ]
  },
  {
   "cell_type": "code",
   "execution_count": 305,
   "id": "990fb1bc",
   "metadata": {},
   "outputs": [
    {
     "data": {
      "text/html": [
       "<div>\n",
       "<style scoped>\n",
       "    .dataframe tbody tr th:only-of-type {\n",
       "        vertical-align: middle;\n",
       "    }\n",
       "\n",
       "    .dataframe tbody tr th {\n",
       "        vertical-align: top;\n",
       "    }\n",
       "\n",
       "    .dataframe thead th {\n",
       "        text-align: right;\n",
       "    }\n",
       "</style>\n",
       "<table border=\"1\" class=\"dataframe\">\n",
       "  <thead>\n",
       "    <tr style=\"text-align: right;\">\n",
       "      <th>Repas</th>\n",
       "      <th>Id Personne</th>\n",
       "      <th>Id Famille</th>\n",
       "      <th>QF</th>\n",
       "      <th>cantine</th>\n",
       "      <th>cantine_panier</th>\n",
       "      <th>cantine_vegetarien</th>\n",
       "    </tr>\n",
       "  </thead>\n",
       "  <tbody>\n",
       "    <tr>\n",
       "      <th>7057</th>\n",
       "      <td>6691</td>\n",
       "      <td>443</td>\n",
       "      <td>379</td>\n",
       "      <td>62</td>\n",
       "      <td>0</td>\n",
       "      <td>0</td>\n",
       "    </tr>\n",
       "    <tr>\n",
       "      <th>7058</th>\n",
       "      <td>6691</td>\n",
       "      <td>443</td>\n",
       "      <td>1030</td>\n",
       "      <td>55</td>\n",
       "      <td>0</td>\n",
       "      <td>0</td>\n",
       "    </tr>\n",
       "  </tbody>\n",
       "</table>\n",
       "</div>"
      ],
      "text/plain": [
       "Repas  Id Personne  Id Famille    QF  cantine  cantine_panier  \\\n",
       "7057          6691         443   379       62               0   \n",
       "7058          6691         443  1030       55               0   \n",
       "\n",
       "Repas  cantine_vegetarien  \n",
       "7057                    0  \n",
       "7058                    0  "
      ]
     },
     "execution_count": 305,
     "metadata": {},
     "output_type": "execute_result"
    }
   ],
   "source": [
    "flat_df[flat_df['Id Famille'] == 443]"
   ]
  },
  {
   "cell_type": "code",
   "execution_count": 306,
   "id": "592eef50",
   "metadata": {},
   "outputs": [],
   "source": [
    "famille_df.to_csv('openfisca.csv')"
   ]
  },
  {
   "cell_type": "code",
   "execution_count": null,
   "id": "32d58fc9",
   "metadata": {},
   "outputs": [],
   "source": []
  },
  {
   "cell_type": "code",
   "execution_count": 307,
   "id": "3522a306",
   "metadata": {},
   "outputs": [
    {
     "data": {
      "text/plain": [
       "array([0., 0., 0., ..., 0., 0., 0.], dtype=float32)"
      ]
     },
     "execution_count": 307,
     "metadata": {},
     "output_type": "execute_result"
    }
   ],
   "source": [
    "cout_cantine_vege = scenario.simulation.calculate('strasbourg_metropole_cout_cantine_repas_vegetarien', period = '2021-03')\n",
    "cout_cantine_vege"
   ]
  },
  {
   "cell_type": "code",
   "execution_count": 308,
   "id": "28f76d3d",
   "metadata": {},
   "outputs": [
    {
     "data": {
      "text/plain": [
       "187197.99897646904"
      ]
     },
     "execution_count": 308,
     "metadata": {},
     "output_type": "execute_result"
    }
   ],
   "source": [
    "sum(cout_cantine_vege)"
   ]
  },
  {
   "cell_type": "code",
   "execution_count": 309,
   "id": "93657deb",
   "metadata": {},
   "outputs": [
    {
     "data": {
      "text/plain": [
       "array([0., 0., 0., ..., 0., 0., 0.], dtype=float32)"
      ]
     },
     "execution_count": 309,
     "metadata": {},
     "output_type": "execute_result"
    }
   ],
   "source": [
    "cout_cantine_panier = scenario.simulation.calculate('strasbourg_metropole_cout_cantine_repas_panier', period = '2021-03')\n",
    "cout_cantine_panier"
   ]
  },
  {
   "cell_type": "code",
   "execution_count": 310,
   "id": "a7b14817",
   "metadata": {},
   "outputs": [
    {
     "data": {
      "text/plain": [
       "14112.250204086304"
      ]
     },
     "execution_count": 310,
     "metadata": {},
     "output_type": "execute_result"
    }
   ],
   "source": [
    "sum(cout_cantine_panier)"
   ]
  },
  {
   "cell_type": "code",
   "execution_count": 311,
   "id": "1733a1e8",
   "metadata": {},
   "outputs": [
    {
     "data": {
      "text/plain": [
       "11610"
      ]
     },
     "execution_count": 311,
     "metadata": {},
     "output_type": "execute_result"
    }
   ],
   "source": [
    "len(cout_cantine)"
   ]
  },
  {
   "cell_type": "code",
   "execution_count": 312,
   "id": "57abcaa8",
   "metadata": {},
   "outputs": [
    {
     "data": {
      "text/html": [
       "<div>\n",
       "<style scoped>\n",
       "    .dataframe tbody tr th:only-of-type {\n",
       "        vertical-align: middle;\n",
       "    }\n",
       "\n",
       "    .dataframe tbody tr th {\n",
       "        vertical-align: top;\n",
       "    }\n",
       "\n",
       "    .dataframe thead th {\n",
       "        text-align: right;\n",
       "    }\n",
       "</style>\n",
       "<table border=\"1\" class=\"dataframe\">\n",
       "  <thead>\n",
       "    <tr style=\"text-align: right;\">\n",
       "      <th>Repas</th>\n",
       "      <th>Id Personne</th>\n",
       "      <th>Id Famille</th>\n",
       "      <th>QF</th>\n",
       "      <th>cantine</th>\n",
       "      <th>cantine_panier</th>\n",
       "      <th>cantine_vegetarien</th>\n",
       "    </tr>\n",
       "  </thead>\n",
       "  <tbody>\n",
       "    <tr>\n",
       "      <th>0</th>\n",
       "      <td>1</td>\n",
       "      <td>325</td>\n",
       "      <td>99999</td>\n",
       "      <td>0</td>\n",
       "      <td>0</td>\n",
       "      <td>2</td>\n",
       "    </tr>\n",
       "    <tr>\n",
       "      <th>1</th>\n",
       "      <td>2</td>\n",
       "      <td>497</td>\n",
       "      <td>636</td>\n",
       "      <td>1</td>\n",
       "      <td>0</td>\n",
       "      <td>0</td>\n",
       "    </tr>\n",
       "    <tr>\n",
       "      <th>2</th>\n",
       "      <td>3</td>\n",
       "      <td>762</td>\n",
       "      <td>99999</td>\n",
       "      <td>1</td>\n",
       "      <td>0</td>\n",
       "      <td>0</td>\n",
       "    </tr>\n",
       "    <tr>\n",
       "      <th>3</th>\n",
       "      <td>4</td>\n",
       "      <td>770</td>\n",
       "      <td>392</td>\n",
       "      <td>125</td>\n",
       "      <td>0</td>\n",
       "      <td>0</td>\n",
       "    </tr>\n",
       "    <tr>\n",
       "      <th>4</th>\n",
       "      <td>4</td>\n",
       "      <td>770</td>\n",
       "      <td>99999</td>\n",
       "      <td>1</td>\n",
       "      <td>0</td>\n",
       "      <td>0</td>\n",
       "    </tr>\n",
       "    <tr>\n",
       "      <th>...</th>\n",
       "      <td>...</td>\n",
       "      <td>...</td>\n",
       "      <td>...</td>\n",
       "      <td>...</td>\n",
       "      <td>...</td>\n",
       "      <td>...</td>\n",
       "    </tr>\n",
       "    <tr>\n",
       "      <th>16652</th>\n",
       "      <td>15579</td>\n",
       "      <td>10849</td>\n",
       "      <td>99999</td>\n",
       "      <td>8</td>\n",
       "      <td>0</td>\n",
       "      <td>0</td>\n",
       "    </tr>\n",
       "    <tr>\n",
       "      <th>16653</th>\n",
       "      <td>15580</td>\n",
       "      <td>10850</td>\n",
       "      <td>99999</td>\n",
       "      <td>13</td>\n",
       "      <td>0</td>\n",
       "      <td>0</td>\n",
       "    </tr>\n",
       "    <tr>\n",
       "      <th>16654</th>\n",
       "      <td>15581</td>\n",
       "      <td>10851</td>\n",
       "      <td>259</td>\n",
       "      <td>12</td>\n",
       "      <td>0</td>\n",
       "      <td>0</td>\n",
       "    </tr>\n",
       "    <tr>\n",
       "      <th>16655</th>\n",
       "      <td>15582</td>\n",
       "      <td>10852</td>\n",
       "      <td>620</td>\n",
       "      <td>14</td>\n",
       "      <td>0</td>\n",
       "      <td>0</td>\n",
       "    </tr>\n",
       "    <tr>\n",
       "      <th>16656</th>\n",
       "      <td>15583</td>\n",
       "      <td>10852</td>\n",
       "      <td>620</td>\n",
       "      <td>10</td>\n",
       "      <td>0</td>\n",
       "      <td>0</td>\n",
       "    </tr>\n",
       "  </tbody>\n",
       "</table>\n",
       "<p>16657 rows × 6 columns</p>\n",
       "</div>"
      ],
      "text/plain": [
       "Repas  Id Personne  Id Famille     QF  cantine  cantine_panier  \\\n",
       "0                1         325  99999        0               0   \n",
       "1                2         497    636        1               0   \n",
       "2                3         762  99999        1               0   \n",
       "3                4         770    392      125               0   \n",
       "4                4         770  99999        1               0   \n",
       "...            ...         ...    ...      ...             ...   \n",
       "16652        15579       10849  99999        8               0   \n",
       "16653        15580       10850  99999       13               0   \n",
       "16654        15581       10851    259       12               0   \n",
       "16655        15582       10852    620       14               0   \n",
       "16656        15583       10852    620       10               0   \n",
       "\n",
       "Repas  cantine_vegetarien  \n",
       "0                       2  \n",
       "1                       0  \n",
       "2                       0  \n",
       "3                       0  \n",
       "4                       0  \n",
       "...                   ...  \n",
       "16652                   0  \n",
       "16653                   0  \n",
       "16654                   0  \n",
       "16655                   0  \n",
       "16656                   0  \n",
       "\n",
       "[16657 rows x 6 columns]"
      ]
     },
     "execution_count": 312,
     "metadata": {},
     "output_type": "execute_result"
    }
   ],
   "source": [
    "flat_df"
   ]
  },
  {
   "cell_type": "code",
   "execution_count": 313,
   "id": "f6c2755d",
   "metadata": {},
   "outputs": [],
   "source": [
    "e = [1,2,3]"
   ]
  },
  {
   "cell_type": "code",
   "execution_count": 314,
   "id": "7760d79e",
   "metadata": {},
   "outputs": [
    {
     "data": {
      "text/plain": [
       "2"
      ]
     },
     "execution_count": 314,
     "metadata": {},
     "output_type": "execute_result"
    }
   ],
   "source": [
    "e.index(3)"
   ]
  },
  {
   "cell_type": "code",
   "execution_count": 315,
   "id": "b6dadce0",
   "metadata": {},
   "outputs": [
    {
     "data": {
      "text/plain": [
       "  - threshold: -1\n",
       "    amount: 1.5\n",
       "  - threshold: 410\n",
       "    amount: 2.15\n",
       "  - threshold: 510\n",
       "    amount: 2.7\n",
       "  - threshold: 620\n",
       "    amount: 3.25\n",
       "  - threshold: 720\n",
       "    amount: 3.8\n",
       "  - threshold: 820\n",
       "    amount: 4.4\n",
       "  - threshold: 920\n",
       "    amount: 5.1\n",
       "  - threshold: 1030\n",
       "    amount: 5.8\n",
       "  - threshold: 1540\n",
       "    amount: 6.3\n",
       "  - threshold: 2050\n",
       "    amount: 6.9"
      ]
     },
     "execution_count": 315,
     "metadata": {},
     "output_type": "execute_result"
    }
   ],
   "source": [
    "p = scenario.tax_benefit_system.get_parameters_at_instant('2021-04').metropoles.strasbourg.tarifs_cantine\n",
    "p"
   ]
  },
  {
   "cell_type": "code",
   "execution_count": null,
   "id": "10da5be4",
   "metadata": {},
   "outputs": [],
   "source": []
  },
  {
   "cell_type": "code",
   "execution_count": 316,
   "id": "1ba6e31b",
   "metadata": {},
   "outputs": [
    {
     "data": {
      "text/plain": [
       "[-1, 410, 510, 620, 720, 820, 920, 1030, 1540, 2050]"
      ]
     },
     "execution_count": 316,
     "metadata": {},
     "output_type": "execute_result"
    }
   ],
   "source": [
    "p.thresholds"
   ]
  },
  {
   "cell_type": "code",
   "execution_count": 317,
   "id": "f2dd51e0",
   "metadata": {},
   "outputs": [
    {
     "data": {
      "text/plain": [
       "[1.5, 2.15, 2.7, 3.25, 3.8, 4.4, 5.1, 5.8, 6.3, 6.9]"
      ]
     },
     "execution_count": 317,
     "metadata": {},
     "output_type": "execute_result"
    }
   ],
   "source": [
    "p.amounts"
   ]
  },
  {
   "cell_type": "code",
   "execution_count": 318,
   "id": "b11bac4d",
   "metadata": {},
   "outputs": [],
   "source": [
    "xmax = 2500"
   ]
  },
  {
   "cell_type": "code",
   "execution_count": null,
   "id": "12242fca",
   "metadata": {},
   "outputs": [],
   "source": []
  },
  {
   "cell_type": "markdown",
   "id": "5616716b",
   "metadata": {},
   "source": [
    "Graphique qui représente les tarifs en fonction des QF"
   ]
  },
  {
   "cell_type": "code",
   "execution_count": 319,
   "id": "42284ab2",
   "metadata": {},
   "outputs": [
    {
     "data": {
      "text/plain": [
       "(0.0, 2625.05)"
      ]
     },
     "execution_count": 319,
     "metadata": {},
     "output_type": "execute_result"
    },
    {
     "data": {
      "image/png": "[encoded data removed]",
      "text/plain": [
       "<Figure size 432x288 with 1 Axes>"
      ]
     },
     "metadata": {
      "needs_background": "light"
     },
     "output_type": "display_data"
    }
   ],
   "source": [
    "plt.step(p.thresholds + [xmax], p.amounts + [p.amounts[-1]], where='post')\n",
    "plt.xlim(xmin=0)"
   ]
  },
  {
   "cell_type": "markdown",
   "id": "80ab3e67",
   "metadata": {},
   "source": [
    "Histogramme qui représente les tranches de QF "
   ]
  },
  {
   "cell_type": "code",
   "execution_count": 322,
   "id": "630375f7",
   "metadata": {},
   "outputs": [
    {
     "data": {
      "image/png": "[encoded data removed]",
      "text/plain": [
       "<Figure size 432x288 with 1 Axes>"
      ]
     },
     "metadata": {
      "needs_background": "light"
     },
     "output_type": "display_data"
    }
   ],
   "source": [
    "df.CapQF = np.minimum(df.QF, xmax)\n",
    "res = plt.hist(df.CapQF, bins=p.thresholds + [xmax], weights=df.Nombre)"
   ]
  },
  {
   "cell_type": "code",
   "execution_count": 321,
   "id": "0675c9be",
   "metadata": {},
   "outputs": [
    {
     "data": {
      "text/plain": [
       "(array([ 55892.,   3502.,   1699.,   1214.,   5147.,   6920.,   7864.,\n",
       "          5705.,   5610.,  18575.,  30152.,  33427.,  34074.,  49473.,\n",
       "         45372.,  63930.,  56191.,  47523.,  43396.,  35414.,  29831.,\n",
       "         34446.,  27995.,  30565.,  34196.,  31155.,  34382.,  31710.,\n",
       "         29261.,  20111.,  20053.,  18363.,  17523.,  12783.,  15198.,\n",
       "         12436.,  10029.,  11626.,  10152.,  11574.,   9695.,   9842.,\n",
       "          7250.,  11619.,  14240.,   8139.,   8890.,  10324.,  10932.,\n",
       "         10938.,  10256.,   9325.,   9510.,   9101.,   7296.,   8056.,\n",
       "          8989.,   8450.,  10778.,   9289.,   9593.,   6834.,   8534.,\n",
       "          8010.,   6550.,   3814.,   7346.,   6764.,   5375.,   8604.,\n",
       "          7238.,   5783.,   6308.,   6350.,   5758.,   3647.,   5502.,\n",
       "          5621.,   5012.,   4610.,   3795.,   3168.,   3552.,   3837.,\n",
       "          3723.,   4792.,   3278.,   4376.,   3978.,   3187.,   2549.,\n",
       "          1857.,   1663.,   2300.,   1925.,   1573.,   1299.,   2980.,\n",
       "          1115., 134015.]),\n",
       " array([1.00000e+00, 2.59900e+01, 5.09800e+01, 7.59700e+01, 1.00960e+02,\n",
       "        1.25950e+02, 1.50940e+02, 1.75930e+02, 2.00920e+02, 2.25910e+02,\n",
       "        2.50900e+02, 2.75890e+02, 3.00880e+02, 3.25870e+02, 3.50860e+02,\n",
       "        3.75850e+02, 4.00840e+02, 4.25830e+02, 4.50820e+02, 4.75810e+02,\n",
       "        5.00800e+02, 5.25790e+02, 5.50780e+02, 5.75770e+02, 6.00760e+02,\n",
       "        6.25750e+02, 6.50740e+02, 6.75730e+02, 7.00720e+02, 7.25710e+02,\n",
       "        7.50700e+02, 7.75690e+02, 8.00680e+02, 8.25670e+02, 8.50660e+02,\n",
       "        8.75650e+02, 9.00640e+02, 9.25630e+02, 9.50620e+02, 9.75610e+02,\n",
       "        1.00060e+03, 1.02559e+03, 1.05058e+03, 1.07557e+03, 1.10056e+03,\n",
       "        1.12555e+03, 1.15054e+03, 1.17553e+03, 1.20052e+03, 1.22551e+03,\n",
       "        1.25050e+03, 1.27549e+03, 1.30048e+03, 1.32547e+03, 1.35046e+03,\n",
       "        1.37545e+03, 1.40044e+03, 1.42543e+03, 1.45042e+03, 1.47541e+03,\n",
       "        1.50040e+03, 1.52539e+03, 1.55038e+03, 1.57537e+03, 1.60036e+03,\n",
       "        1.62535e+03, 1.65034e+03, 1.67533e+03, 1.70032e+03, 1.72531e+03,\n",
       "        1.75030e+03, 1.77529e+03, 1.80028e+03, 1.82527e+03, 1.85026e+03,\n",
       "        1.87525e+03, 1.90024e+03, 1.92523e+03, 1.95022e+03, 1.97521e+03,\n",
       "        2.00020e+03, 2.02519e+03, 2.05018e+03, 2.07517e+03, 2.10016e+03,\n",
       "        2.12515e+03, 2.15014e+03, 2.17513e+03, 2.20012e+03, 2.22511e+03,\n",
       "        2.25010e+03, 2.27509e+03, 2.30008e+03, 2.32507e+03, 2.35006e+03,\n",
       "        2.37505e+03, 2.40004e+03, 2.42503e+03, 2.45002e+03, 2.47501e+03,\n",
       "        2.50000e+03]),\n",
       " <BarContainer object of 100 artists>)"
      ]
     },
     "execution_count": 321,
     "metadata": {},
     "output_type": "execute_result"
    },
    {
     "data": {
      "image/png": "[encoded data removed]",
      "text/plain": [
       "<Figure size 432x288 with 1 Axes>"
      ]
     },
     "metadata": {
      "needs_background": "light"
     },
     "output_type": "display_data"
    }
   ],
   "source": [
    "plt.hist(df.CapQF, bins=100, weights=df.Nombre)"
   ]
  },
  {
   "cell_type": "markdown",
   "id": "bfdb15d4",
   "metadata": {},
   "source": []
  },
  {
   "cell_type": "code",
   "execution_count": 323,
   "id": "eac1f494",
   "metadata": {},
   "outputs": [
    {
     "data": {
      "image/png": "[encoded data removed]",
      "text/plain": [
       "<Figure size 432x288 with 1 Axes>"
      ]
     },
     "metadata": {
      "needs_background": "light"
     },
     "output_type": "display_data"
    }
   ],
   "source": [
    "res = plt.hist(df.CapQF, bins=p.thresholds + [xmax], density=True, weights=df.Nombre)"
   ]
  },
  {
   "cell_type": "markdown",
   "id": "74eb6aa3",
   "metadata": {},
   "source": []
  },
  {
   "cell_type": "code",
   "execution_count": 324,
   "id": "4f59f163",
   "metadata": {},
   "outputs": [
    {
     "data": {
      "text/html": [
       "<div>\n",
       "<style scoped>\n",
       "    .dataframe tbody tr th:only-of-type {\n",
       "        vertical-align: middle;\n",
       "    }\n",
       "\n",
       "    .dataframe tbody tr th {\n",
       "        vertical-align: top;\n",
       "    }\n",
       "\n",
       "    .dataframe thead th {\n",
       "        text-align: right;\n",
       "    }\n",
       "</style>\n",
       "<table border=\"1\" class=\"dataframe\">\n",
       "  <thead>\n",
       "    <tr style=\"text-align: right;\">\n",
       "      <th></th>\n",
       "      <th>Id Personne</th>\n",
       "      <th>Id Famille</th>\n",
       "      <th>QF</th>\n",
       "      <th>Type repas</th>\n",
       "      <th>Nombre</th>\n",
       "      <th>id gale ou non</th>\n",
       "      <th>type de repas simplifi par tarif identique</th>\n",
       "      <th>Repas</th>\n",
       "    </tr>\n",
       "  </thead>\n",
       "  <tbody>\n",
       "    <tr>\n",
       "      <th>0</th>\n",
       "      <td>1</td>\n",
       "      <td>325</td>\n",
       "      <td>99999</td>\n",
       "      <td>Repas Végétarien</td>\n",
       "      <td>2</td>\n",
       "      <td>NaN</td>\n",
       "      <td>Repas vgtarien</td>\n",
       "      <td>cantine_vegetarien</td>\n",
       "    </tr>\n",
       "    <tr>\n",
       "      <th>1</th>\n",
       "      <td>2</td>\n",
       "      <td>497</td>\n",
       "      <td>636</td>\n",
       "      <td>Repas Standard</td>\n",
       "      <td>1</td>\n",
       "      <td>NaN</td>\n",
       "      <td>Repas Standard</td>\n",
       "      <td>cantine</td>\n",
       "    </tr>\n",
       "    <tr>\n",
       "      <th>2</th>\n",
       "      <td>3</td>\n",
       "      <td>762</td>\n",
       "      <td>99999</td>\n",
       "      <td>Repas Standard</td>\n",
       "      <td>1</td>\n",
       "      <td>NaN</td>\n",
       "      <td>Repas Standard</td>\n",
       "      <td>cantine</td>\n",
       "    </tr>\n",
       "    <tr>\n",
       "      <th>3</th>\n",
       "      <td>4</td>\n",
       "      <td>770</td>\n",
       "      <td>392</td>\n",
       "      <td>Repas Standard</td>\n",
       "      <td>125</td>\n",
       "      <td>oui</td>\n",
       "      <td>Repas Standard</td>\n",
       "      <td>cantine</td>\n",
       "    </tr>\n",
       "    <tr>\n",
       "      <th>4</th>\n",
       "      <td>4</td>\n",
       "      <td>770</td>\n",
       "      <td>99999</td>\n",
       "      <td>Repas Standard</td>\n",
       "      <td>1</td>\n",
       "      <td>NaN</td>\n",
       "      <td>Repas Standard</td>\n",
       "      <td>cantine</td>\n",
       "    </tr>\n",
       "    <tr>\n",
       "      <th>...</th>\n",
       "      <td>...</td>\n",
       "      <td>...</td>\n",
       "      <td>...</td>\n",
       "      <td>...</td>\n",
       "      <td>...</td>\n",
       "      <td>...</td>\n",
       "      <td>...</td>\n",
       "      <td>...</td>\n",
       "    </tr>\n",
       "    <tr>\n",
       "      <th>16930</th>\n",
       "      <td>15579</td>\n",
       "      <td>10849</td>\n",
       "      <td>99999</td>\n",
       "      <td>Repas Sans Porc</td>\n",
       "      <td>8</td>\n",
       "      <td>NaN</td>\n",
       "      <td>Repas Standard</td>\n",
       "      <td>cantine</td>\n",
       "    </tr>\n",
       "    <tr>\n",
       "      <th>16931</th>\n",
       "      <td>15580</td>\n",
       "      <td>10850</td>\n",
       "      <td>99999</td>\n",
       "      <td>Repas Standard</td>\n",
       "      <td>13</td>\n",
       "      <td>NaN</td>\n",
       "      <td>Repas Standard</td>\n",
       "      <td>cantine</td>\n",
       "    </tr>\n",
       "    <tr>\n",
       "      <th>16932</th>\n",
       "      <td>15581</td>\n",
       "      <td>10851</td>\n",
       "      <td>259</td>\n",
       "      <td>Repas Standard</td>\n",
       "      <td>12</td>\n",
       "      <td>NaN</td>\n",
       "      <td>Repas Standard</td>\n",
       "      <td>cantine</td>\n",
       "    </tr>\n",
       "    <tr>\n",
       "      <th>16933</th>\n",
       "      <td>15582</td>\n",
       "      <td>10852</td>\n",
       "      <td>620</td>\n",
       "      <td>Repas Standard</td>\n",
       "      <td>14</td>\n",
       "      <td>NaN</td>\n",
       "      <td>Repas Standard</td>\n",
       "      <td>cantine</td>\n",
       "    </tr>\n",
       "    <tr>\n",
       "      <th>16934</th>\n",
       "      <td>15583</td>\n",
       "      <td>10852</td>\n",
       "      <td>620</td>\n",
       "      <td>Repas Standard</td>\n",
       "      <td>10</td>\n",
       "      <td>NaN</td>\n",
       "      <td>Repas Standard</td>\n",
       "      <td>cantine</td>\n",
       "    </tr>\n",
       "  </tbody>\n",
       "</table>\n",
       "<p>16935 rows × 8 columns</p>\n",
       "</div>"
      ],
      "text/plain": [
       "       Id Personne  Id Famille     QF        Type repas  Nombre  \\\n",
       "0                1         325  99999  Repas Végétarien       2   \n",
       "1                2         497    636    Repas Standard       1   \n",
       "2                3         762  99999    Repas Standard       1   \n",
       "3                4         770    392    Repas Standard     125   \n",
       "4                4         770  99999    Repas Standard       1   \n",
       "...            ...         ...    ...               ...     ...   \n",
       "16930        15579       10849  99999   Repas Sans Porc       8   \n",
       "16931        15580       10850  99999    Repas Standard      13   \n",
       "16932        15581       10851    259    Repas Standard      12   \n",
       "16933        15582       10852    620    Repas Standard      14   \n",
       "16934        15583       10852    620    Repas Standard      10   \n",
       "\n",
       "      id gale ou non  type de repas simplifi par tarif identique   \\\n",
       "0                  NaN                             Repas vgtarien   \n",
       "1                  NaN                               Repas Standard   \n",
       "2                  NaN                               Repas Standard   \n",
       "3                  oui                               Repas Standard   \n",
       "4                  NaN                               Repas Standard   \n",
       "...                ...                                          ...   \n",
       "16930              NaN                               Repas Standard   \n",
       "16931              NaN                               Repas Standard   \n",
       "16932              NaN                               Repas Standard   \n",
       "16933              NaN                               Repas Standard   \n",
       "16934              NaN                               Repas Standard   \n",
       "\n",
       "                    Repas  \n",
       "0      cantine_vegetarien  \n",
       "1                 cantine  \n",
       "2                 cantine  \n",
       "3                 cantine  \n",
       "4                 cantine  \n",
       "...                   ...  \n",
       "16930             cantine  \n",
       "16931             cantine  \n",
       "16932             cantine  \n",
       "16933             cantine  \n",
       "16934             cantine  \n",
       "\n",
       "[16935 rows x 8 columns]"
      ]
     },
     "execution_count": 324,
     "metadata": {},
     "output_type": "execute_result"
    }
   ],
   "source": [
    "df"
   ]
  },
  {
   "cell_type": "code",
   "execution_count": 325,
   "id": "d0c18e9a",
   "metadata": {},
   "outputs": [
    {
     "data": {
      "text/plain": [
       "(array([ 392203.,  563397.,  701017.,  830038.,  907026.,  958992.,\n",
       "        1005681., 1201111., 1321568., 1503603.]),\n",
       " array([  -1,  410,  510,  620,  720,  820,  920, 1030, 1540, 2050, 2500]),\n",
       " <BarContainer object of 10 artists>)"
      ]
     },
     "execution_count": 325,
     "metadata": {},
     "output_type": "execute_result"
    },
    {
     "data": {
      "image/png": "[encoded data removed]",
      "text/plain": [
       "<Figure size 432x288 with 1 Axes>"
      ]
     },
     "metadata": {
      "needs_background": "light"
     },
     "output_type": "display_data"
    }
   ],
   "source": [
    "plt.hist(df.CapQF, bins=p.thresholds + [xmax], cumulative=True, weights=df.Nombre)"
   ]
  },
  {
   "cell_type": "code",
   "execution_count": 326,
   "id": "a1d79833",
   "metadata": {},
   "outputs": [
    {
     "data": {
      "text/plain": [
       "(array([366299., 183836., 953468.]),\n",
       " array([  -1,  400,  500, 2500]),\n",
       " <BarContainer object of 3 artists>)"
      ]
     },
     "execution_count": 326,
     "metadata": {},
     "output_type": "execute_result"
    },
    {
     "data": {
      "image/png": "[encoded data removed]",
      "text/plain": [
       "<Figure size 432x288 with 1 Axes>"
      ]
     },
     "metadata": {
      "needs_background": "light"
     },
     "output_type": "display_data"
    }
   ],
   "source": [
    "plt.hist(df.CapQF, bins=[-1, 400, 500, xmax], weights=df.Nombre)"
   ]
  },
  {
   "cell_type": "markdown",
   "id": "0393b89e",
   "metadata": {},
   "source": []
  },
  {
   "cell_type": "code",
   "execution_count": 327,
   "id": "9f277ea3",
   "metadata": {},
   "outputs": [
    {
     "data": {
      "image/png": "[encoded data removed]",
      "text/plain": [
       "<Figure size 432x288 with 1 Axes>"
      ]
     },
     "metadata": {
      "needs_background": "light"
     },
     "output_type": "display_data"
    }
   ],
   "source": [
    "res = plt.hist(df.CapQF, bins=p.thresholds + [xmax], weights=df.Nombre, cumulative=True)"
   ]
  },
  {
   "cell_type": "code",
   "execution_count": null,
   "id": "73bc44ab",
   "metadata": {},
   "outputs": [],
   "source": []
  },
  {
   "cell_type": "code",
   "execution_count": null,
   "id": "000c01c1",
   "metadata": {},
   "outputs": [],
   "source": []
  },
  {
   "cell_type": "code",
   "execution_count": null,
   "id": "894023db",
   "metadata": {},
   "outputs": [],
   "source": []
  }
 ],
 "metadata": {
  "kernelspec": {
   "display_name": "Python 3",
   "language": "python",
   "name": "python3"
  },
  "language_info": {
   "codemirror_mode": {
    "name": "ipython",
    "version": 3
   },
   "file_extension": ".py",
   "mimetype": "text/x-python",
   "name": "python",
   "nbconvert_exporter": "python",
   "pygments_lexer": "ipython3",
   "version": "3.7.10"
  }
 },
 "nbformat": 4,
 "nbformat_minor": 5
}
