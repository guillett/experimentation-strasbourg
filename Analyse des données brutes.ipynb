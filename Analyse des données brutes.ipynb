{
 "cells": [
  {
   "cell_type": "code",
   "execution_count": null,
   "id": "9311e7ba",
   "metadata": {},
   "outputs": [],
   "source": [
    "import pandas as pd\n",
    "import numpy as np"
   ]
  },
  {
   "cell_type": "code",
   "execution_count": null,
   "id": "cb617a7f",
   "metadata": {},
   "outputs": [],
   "source": [
    "df = pd.read_csv('./Bilan tarification 2019.csv', sep=\";\", encoding=\"iso-8859-1\")\n",
    "df"
   ]
  },
  {
   "cell_type": "code",
   "execution_count": null,
   "id": "44958f99",
   "metadata": {},
   "outputs": [],
   "source": [
    "df[df['Id Famille'] ==  443]"
   ]
  },
  {
   "cell_type": "code",
   "execution_count": null,
   "id": "504e878e",
   "metadata": {},
   "outputs": [],
   "source": [
    "df[['Id Personne', 'Id Famille', 'QF', 'Type repas', 'Nombre']]"
   ]
  },
  {
   "cell_type": "code",
   "execution_count": null,
   "id": "6e926985",
   "metadata": {},
   "outputs": [],
   "source": [
    "df[['Type repas', 'Nombre']].groupby('Type repas').count()"
   ]
  },
  {
   "cell_type": "code",
   "execution_count": null,
   "id": "71b89622",
   "metadata": {},
   "outputs": [],
   "source": [
    "df[['Type repas', 'Nombre']].groupby('Type repas').sum()"
   ]
  },
  {
   "cell_type": "code",
   "execution_count": null,
   "id": "7b762cc7",
   "metadata": {},
   "outputs": [],
   "source": [
    "np.unique(df['Id Famille'])"
   ]
  },
  {
   "cell_type": "code",
   "execution_count": null,
   "id": "fcf0a7d8",
   "metadata": {},
   "outputs": [],
   "source": [
    "df['Repas'] = np.select(\n",
    "    [\n",
    "        df[\"Type repas\"].str.contains('Végétarien'),\n",
    "        df[\"Type repas\"].str.contains('Panier'),\n",
    "    ],\n",
    "    [\n",
    "        'cantine_vegetarien',\n",
    "        'cantine_panier',\n",
    "    ],\n",
    "    default = 'cantine'\n",
    ")\n",
    "df"
   ]
  },
  {
   "cell_type": "code",
   "execution_count": null,
   "id": "d88e141c",
   "metadata": {},
   "outputs": [],
   "source": [
    "df[['Repas', 'Nombre']]"
   ]
  },
  {
   "cell_type": "code",
   "execution_count": null,
   "id": "32ac809e",
   "metadata": {},
   "outputs": [],
   "source": [
    "df[['Repas', 'Nombre']].groupby('Repas').count()"
   ]
  },
  {
   "cell_type": "code",
   "execution_count": null,
   "id": "4baba764",
   "metadata": {},
   "outputs": [],
   "source": [
    "df[['Repas', 'Nombre']].groupby('Repas').sum()"
   ]
  },
  {
   "cell_type": "code",
   "execution_count": null,
   "id": "a9bb6ba4",
   "metadata": {},
   "outputs": [],
   "source": [
    "import matplotlib.pyplot as plt"
   ]
  },
  {
   "cell_type": "code",
   "execution_count": null,
   "id": "815abcc7",
   "metadata": {},
   "outputs": [],
   "source": [
    "plt.hist(df[['Repas']])"
   ]
  },
  {
   "cell_type": "code",
   "execution_count": null,
   "id": "008f0378",
   "metadata": {},
   "outputs": [],
   "source": [
    "plt.hist(df[['Repas']], weights = df[['Nombre']])"
   ]
  },
  {
   "cell_type": "code",
   "execution_count": null,
   "id": "fba5c6f7",
   "metadata": {},
   "outputs": [],
   "source": []
  },
  {
   "cell_type": "code",
   "execution_count": null,
   "id": "474792ad",
   "metadata": {},
   "outputs": [],
   "source": [
    "df.QF"
   ]
  },
  {
   "cell_type": "code",
   "execution_count": null,
   "id": "bf6cfd5a",
   "metadata": {},
   "outputs": [],
   "source": [
    "np.unique(df.QF)"
   ]
  },
  {
   "cell_type": "code",
   "execution_count": null,
   "id": "2a15eb50",
   "metadata": {},
   "outputs": [],
   "source": []
  },
  {
   "cell_type": "code",
   "execution_count": null,
   "id": "0eb7835a",
   "metadata": {},
   "outputs": [],
   "source": [
    "plt.hist(df.QF)"
   ]
  },
  {
   "cell_type": "code",
   "execution_count": null,
   "id": "ff07fa04",
   "metadata": {},
   "outputs": [],
   "source": [
    "plt.hist(df.QF[df.QF< 6000])"
   ]
  },
  {
   "cell_type": "code",
   "execution_count": null,
   "id": "59963b57",
   "metadata": {},
   "outputs": [],
   "source": [
    "plt.hist(df.QF[df.QF< 6000], density=True, bins=100, cumulative=True)"
   ]
  },
  {
   "cell_type": "code",
   "execution_count": null,
   "id": "6ce61ba4",
   "metadata": {},
   "outputs": [],
   "source": [
    "plt.hist(df.QF[df.QF< 6000], density=True, bins=100, cumulative=True, weights=df.Nombre[df.QF< 6000])"
   ]
  },
  {
   "cell_type": "code",
   "execution_count": null,
   "id": "b7838a4e",
   "metadata": {},
   "outputs": [],
   "source": [
    "plt.hist(df.QF[df.QF< 6000], density=True, bins=100, weights=df.Nombre[df.QF< 6000])"
   ]
  },
  {
   "cell_type": "code",
   "execution_count": null,
   "id": "d01e372b",
   "metadata": {},
   "outputs": [],
   "source": [
    "plt.hist(df.QF[df.QF< 6000], cumulative=True, weights=df.Nombre[df.QF< 6000])"
   ]
  },
  {
   "cell_type": "code",
   "execution_count": null,
   "id": "873d801b",
   "metadata": {},
   "outputs": [],
   "source": [
    "plt.hist(df.QF[df.QF< 6000], bins=[0, 410, 520, 6000], weights=df.Nombre[df.QF< 6000])"
   ]
  },
  {
   "cell_type": "code",
   "execution_count": null,
   "id": "81e7af9d",
   "metadata": {},
   "outputs": [],
   "source": [
    "inf, sup = (0, 410)\n",
    "cond = (inf < df.QF) & (df.QF < sup)\n",
    "plt.hist(df.QF[cond], bins=100, weights=df.Nombre[cond])"
   ]
  },
  {
   "cell_type": "code",
   "execution_count": null,
   "id": "ecb19b71",
   "metadata": {},
   "outputs": [],
   "source": [
    "inf, sup = (410, 520)\n",
    "cond = (inf < df.QF) & (df.QF < sup)\n",
    "plt.hist(df.QF[cond], bins=10, weights=df.Nombre[cond])"
   ]
  },
  {
   "cell_type": "code",
   "execution_count": null,
   "id": "d35c7aa6",
   "metadata": {},
   "outputs": [],
   "source": [
    "inf, sup = (410, 520)\n",
    "cond = (inf < df.QF) & (df.QF < sup)\n",
    "plt.hist(df.QF[cond], bins=10, weights=df.Nombre[cond])"
   ]
  },
  {
   "cell_type": "code",
   "execution_count": null,
   "id": "009d469a",
   "metadata": {},
   "outputs": [],
   "source": []
  },
  {
   "cell_type": "code",
   "execution_count": null,
   "id": "7ed7dba0",
   "metadata": {},
   "outputs": [],
   "source": [
    "df[df['Id Famille'] == 443]"
   ]
  },
  {
   "cell_type": "code",
   "execution_count": null,
   "id": "5ddba223",
   "metadata": {},
   "outputs": [],
   "source": [
    "df.QF = np.minimum(df.QF, 99999)"
   ]
  },
  {
   "cell_type": "code",
   "execution_count": null,
   "id": "446a69bf",
   "metadata": {},
   "outputs": [],
   "source": [
    "bogus_raw_df = pd.pivot_table(df, index=[\"Id Personne\", \"Id Famille\", \"QF\"], columns=\"Repas\", values=\"Nombre\", fill_value=0)\n",
    "bogus_raw_df"
   ]
  },
  {
   "cell_type": "code",
   "execution_count": null,
   "id": "0a4e0cee",
   "metadata": {},
   "outputs": [],
   "source": [
    "raw_df = pd.pivot_table(df, index=[\"Id Personne\", \"Id Famille\", \"QF\"], columns=\"Repas\", values=\"Nombre\", fill_value=0, aggfunc=np.sum)\n",
    "#raw_df[fix_raw_df.index == (6691, 443, 1030)]"
   ]
  },
  {
   "cell_type": "code",
   "execution_count": null,
   "id": "fc883eaa",
   "metadata": {},
   "outputs": [],
   "source": [
    "raw_df[raw_df.index == (6691, 443, 1030)]"
   ]
  },
  {
   "cell_type": "code",
   "execution_count": null,
   "id": "e7cd3860",
   "metadata": {},
   "outputs": [],
   "source": [
    "flat_df = raw_df.reset_index()\n",
    "flat_df"
   ]
  },
  {
   "cell_type": "code",
   "execution_count": null,
   "id": "1202be14",
   "metadata": {},
   "outputs": [],
   "source": [
    "flat_df[flat_df['Id Famille'] == 443]"
   ]
  },
  {
   "cell_type": "code",
   "execution_count": null,
   "id": "08a49ae3",
   "metadata": {},
   "outputs": [],
   "source": [
    "familles_ids = flat_df[\"Id Famille\"] * 100000 + flat_df.QF\n",
    "familles_ids"
   ]
  },
  {
   "cell_type": "code",
   "execution_count": null,
   "id": "92ca24dd",
   "metadata": {},
   "outputs": [],
   "source": [
    "(unique_famille_ids, famille_idx, famille_id_inv) = np.unique(familles_ids, return_index=True, return_inverse=True)\n",
    "unique_famille_ids, famille_idx, famille_id_inv"
   ]
  },
  {
   "cell_type": "code",
   "execution_count": null,
   "id": "35146a51",
   "metadata": {},
   "outputs": [],
   "source": [
    "unique_famille_ids"
   ]
  },
  {
   "cell_type": "code",
   "execution_count": null,
   "id": "f9f77978",
   "metadata": {},
   "outputs": [],
   "source": [
    "len(famille_id_inv)"
   ]
  },
  {
   "cell_type": "code",
   "execution_count": null,
   "id": "729154ec",
   "metadata": {},
   "outputs": [],
   "source": [
    "len(famille_idx)"
   ]
  },
  {
   "cell_type": "code",
   "execution_count": null,
   "id": "7d7f25d6",
   "metadata": {},
   "outputs": [],
   "source": [
    "famille_idx[famille_id_inv]"
   ]
  },
  {
   "cell_type": "code",
   "execution_count": null,
   "id": "972d8d33",
   "metadata": {},
   "outputs": [],
   "source": [
    "unique_famille_ids"
   ]
  },
  {
   "cell_type": "code",
   "execution_count": null,
   "id": "1e88be52",
   "metadata": {},
   "outputs": [],
   "source": [
    "len(unique_famille_ids)"
   ]
  },
  {
   "cell_type": "code",
   "execution_count": null,
   "id": "b27ebfbe",
   "metadata": {},
   "outputs": [],
   "source": [
    "famille_id_inv"
   ]
  },
  {
   "cell_type": "code",
   "execution_count": null,
   "id": "4a206e58",
   "metadata": {},
   "outputs": [],
   "source": [
    "individu_df = pd.DataFrame({\n",
    "    'famille_id': famille_id_inv,\n",
    "    'strasbourg_metropole_nombre_repas_cantine':flat_df.cantine,\n",
    "    'strasbourg_metropole_nombre_repas_cantine_vegetarien':flat_df.cantine_vegetarien,\n",
    "    'strasbourg_metropole_nombre_repas_cantine_panier':flat_df.cantine_panier,\n",
    "})\n",
    "individu_df"
   ]
  },
  {
   "cell_type": "code",
   "execution_count": null,
   "id": "fc9b7ca9",
   "metadata": {},
   "outputs": [],
   "source": [
    "famille_idx"
   ]
  },
  {
   "cell_type": "code",
   "execution_count": null,
   "id": "2bf2d6fb",
   "metadata": {},
   "outputs": [],
   "source": [
    "famille_df = pd.DataFrame({\n",
    "    'strasbourg_metropole_quotient_familial': flat_df.QF[famille_idx]\n",
    "})\n",
    "famille_df"
   ]
  },
  {
   "cell_type": "code",
   "execution_count": null,
   "id": "1687a6cc",
   "metadata": {},
   "outputs": [],
   "source": [
    "base_year = \"2021-03\""
   ]
  },
  {
   "cell_type": "code",
   "execution_count": null,
   "id": "77f1952e",
   "metadata": {},
   "outputs": [],
   "source": []
  },
  {
   "cell_type": "code",
   "execution_count": null,
   "id": "0ddae125",
   "metadata": {},
   "outputs": [],
   "source": [
    "from openfisca_survey_manager.scenarios import AbstractSurveyScenario\n",
    "from openfisca_france import CountryTaxBenefitSystem\n",
    "from openfisca_france.model.base import Famille, FoyerFiscal, Menage\n",
    "from openfisca_core import periods\n",
    "from openfisca_core.model_api import Reform"
   ]
  },
  {
   "cell_type": "code",
   "execution_count": null,
   "id": "0df70a2c",
   "metadata": {},
   "outputs": [],
   "source": []
  },
  {
   "cell_type": "code",
   "execution_count": null,
   "id": "f740f2f0",
   "metadata": {},
   "outputs": [],
   "source": []
  },
  {
   "cell_type": "code",
   "execution_count": null,
   "id": "b9b12458",
   "metadata": {},
   "outputs": [],
   "source": [
    "def modify_parameters(parameters):\n",
    "    pp = parameters.metropoles.strasbourg.tarifs_cantine\n",
    "    pp[1].amount.update(start = periods.period(\"2021-01-01\"), value = 1.5)\n",
    "    pp[2].amount.update(start = periods.period(\"2021-01-01\"), value = 1.5)\n",
    "    return parameters\n",
    "    \n",
    "class reform_fusion_1_3(Reform):\n",
    "    name = u\"Fusionne les trois premières tranches\"\n",
    "\n",
    "    def apply(self):\n",
    "        self.modify_parameters(modifier_function = modify_parameters)"
   ]
  },
  {
   "cell_type": "code",
   "execution_count": null,
   "id": "c0816576",
   "metadata": {},
   "outputs": [],
   "source": [
    "class StrasbourgSurveyScenario(AbstractSurveyScenario):\n",
    "    def __init__(self, data = None, reform = None):\n",
    "        super(StrasbourgSurveyScenario, self).__init__()\n",
    "\n",
    "        base = CountryTaxBenefitSystem()\n",
    "        base.load_extension('openfisca_france_local')\n",
    "        if reform is not None:\n",
    "            tax_benefit_system = reform(base)\n",
    "        else:\n",
    "            tax_benefit_system = base\n",
    "        self.year = base_year\n",
    "\n",
    "        if 'input_data_frame_by_entity_by_period' in data:\n",
    "            period = periods.period(self.year)\n",
    "            dataframe_variables = set()\n",
    "            for entity_dataframe in data['input_data_frame_by_entity_by_period'][period].values():\n",
    "                if not isinstance(entity_dataframe, pd.DataFrame):\n",
    "                    continue\n",
    "                dataframe_variables = dataframe_variables.union(set(entity_dataframe.columns))\n",
    "            self.used_as_input_variables = list(\n",
    "                set(tax_benefit_system.variables.keys()).intersection(dataframe_variables)\n",
    "                )\n",
    "\n",
    "        self.set_tax_benefit_systems(tax_benefit_system)\n",
    "        self.init_from_data(data = data)"
   ]
  },
  {
   "cell_type": "code",
   "execution_count": null,
   "id": "26a9de6f",
   "metadata": {},
   "outputs": [],
   "source": [
    "individu_df['famille_role_index'] = 0\n",
    "individu_df['foyer_fiscal_id'] = individu_df.famille_id\n",
    "individu_df['foyer_fiscal_role_index'] = 0\n",
    "individu_df['menage_id'] = individu_df.famille_id\n",
    "individu_df['menage_role_index'] = 0"
   ]
  },
  {
   "cell_type": "code",
   "execution_count": null,
   "id": "bb7c58f0",
   "metadata": {},
   "outputs": [],
   "source": [
    "menage_df = pd.DataFrame({})\n",
    "foyerfiscaux_df = pd.DataFrame({})"
   ]
  },
  {
   "cell_type": "code",
   "execution_count": null,
   "id": "5068e319",
   "metadata": {},
   "outputs": [],
   "source": [
    "periods.period(base_year)"
   ]
  },
  {
   "cell_type": "code",
   "execution_count": null,
   "id": "2dec90d9",
   "metadata": {},
   "outputs": [],
   "source": [
    "data = dict(input_data_frame_by_entity_by_period = {periods.period(base_year): dict(\n",
    "individu=individu_df,\n",
    "famille=famille_df,\n",
    "menage=menage_df,\n",
    "foyer_fiscal=foyerfiscaux_df)})"
   ]
  },
  {
   "cell_type": "code",
   "execution_count": null,
   "id": "875e7fe4",
   "metadata": {},
   "outputs": [],
   "source": []
  },
  {
   "cell_type": "code",
   "execution_count": null,
   "id": "7c05a153",
   "metadata": {},
   "outputs": [],
   "source": [
    "def compute_result(data, reform):\n",
    "    scenario = StrasbourgSurveyScenario(data = data, reform = reform)\n",
    "    cout_cantine = scenario.simulation.calculate('strasbourg_metropole_cout_cantine', period = '2021-03')\n",
    "    cout_cantine_vege = scenario.simulation.calculate('strasbourg_metropole_cout_cantine_repas_vegetarien', period = '2021-03')\n",
    "    cout_cantine_panier = scenario.simulation.calculate('strasbourg_metropole_cout_cantine_repas_panier', period = '2021-03')\n",
    "    return (scenario, (sum(cout_cantine), sum(cout_cantine_vege), sum(cout_cantine_panier)))"
   ]
  },
  {
   "cell_type": "code",
   "execution_count": null,
   "id": "d43c1687",
   "metadata": {},
   "outputs": [],
   "source": [
    "base = compute_result(data, None)"
   ]
  },
  {
   "cell_type": "code",
   "execution_count": null,
   "id": "d3eea531",
   "metadata": {},
   "outputs": [],
   "source": [
    "fusion = compute_result(data, reform_fusion_1_3)"
   ]
  },
  {
   "cell_type": "code",
   "execution_count": null,
   "id": "e3c02f80",
   "metadata": {},
   "outputs": [],
   "source": [
    "base[0]"
   ]
  },
  {
   "cell_type": "code",
   "execution_count": null,
   "id": "4f8a0bf1",
   "metadata": {},
   "outputs": [],
   "source": [
    "base[1]"
   ]
  },
  {
   "cell_type": "code",
   "execution_count": null,
   "id": "48abdebc",
   "metadata": {},
   "outputs": [],
   "source": [
    "base[0].tax_benefit_system.parameters.metropoles.strasbourg.tarifs_cantine"
   ]
  },
  {
   "cell_type": "code",
   "execution_count": null,
   "id": "c3362b3c",
   "metadata": {},
   "outputs": [],
   "source": [
    "scenario = StrasbourgSurveyScenario(data = data)"
   ]
  },
  {
   "cell_type": "code",
   "execution_count": null,
   "id": "833ad2c7",
   "metadata": {},
   "outputs": [],
   "source": [
    "tarif_cantine = scenario.simulation.calculate('strasbourg_metropole_tarification_cantine', period = '2021-03')\n",
    "tarif_cantine"
   ]
  },
  {
   "cell_type": "code",
   "execution_count": null,
   "id": "516fff13",
   "metadata": {},
   "outputs": [],
   "source": [
    "cout_cantine = scenario.simulation.calculate('strasbourg_metropole_cout_cantine', period = '2021-03')\n",
    "cout_cantine"
   ]
  },
  {
   "cell_type": "code",
   "execution_count": null,
   "id": "bfef2a54",
   "metadata": {},
   "outputs": [],
   "source": [
    "cout_cantine = scenario.simulation.calculate('strasbourg_metropole_cout_cantine', period = '2021-03')\n",
    "cout_cantine"
   ]
  },
  {
   "cell_type": "code",
   "execution_count": null,
   "id": "9588ff45",
   "metadata": {},
   "outputs": [],
   "source": [
    "sum(cout_cantine)"
   ]
  },
  {
   "cell_type": "code",
   "execution_count": null,
   "id": "89d6d0f0",
   "metadata": {},
   "outputs": [],
   "source": []
  },
  {
   "cell_type": "code",
   "execution_count": null,
   "id": "cbfafa6c",
   "metadata": {},
   "outputs": [],
   "source": [
    "sum(cout_cantine)"
   ]
  },
  {
   "cell_type": "code",
   "execution_count": null,
   "id": "60dbe16e",
   "metadata": {},
   "outputs": [],
   "source": [
    "len(cout_cantine)\n"
   ]
  },
  {
   "cell_type": "code",
   "execution_count": null,
   "id": "b8f328a6",
   "metadata": {},
   "outputs": [],
   "source": [
    "famille_df['uid'] = unique_famille_ids\n",
    "famille_df['cout_cantine'] = cout_cantine\n",
    "famille_df"
   ]
  },
  {
   "cell_type": "code",
   "execution_count": null,
   "id": "6766604b",
   "metadata": {},
   "outputs": [],
   "source": []
  },
  {
   "cell_type": "code",
   "execution_count": null,
   "id": "0b3c5b65",
   "metadata": {},
   "outputs": [],
   "source": [
    "famille_df[famille_df.uid == 44301030]"
   ]
  },
  {
   "cell_type": "code",
   "execution_count": null,
   "id": "3abdb10c",
   "metadata": {},
   "outputs": [],
   "source": [
    "individu_df"
   ]
  },
  {
   "cell_type": "code",
   "execution_count": null,
   "id": "80e5d0b0",
   "metadata": {},
   "outputs": [],
   "source": [
    "flat_df"
   ]
  },
  {
   "cell_type": "code",
   "execution_count": null,
   "id": "990fb1bc",
   "metadata": {},
   "outputs": [],
   "source": [
    "flat_df[flat_df['Id Famille'] == 443]"
   ]
  },
  {
   "cell_type": "code",
   "execution_count": null,
   "id": "592eef50",
   "metadata": {},
   "outputs": [],
   "source": [
    "famille_df.to_csv('openfisca.csv')"
   ]
  },
  {
   "cell_type": "code",
   "execution_count": null,
   "id": "32d58fc9",
   "metadata": {},
   "outputs": [],
   "source": []
  },
  {
   "cell_type": "code",
   "execution_count": null,
   "id": "3522a306",
   "metadata": {},
   "outputs": [],
   "source": [
    "cout_cantine_vege = scenario.simulation.calculate('strasbourg_metropole_cout_cantine_repas_vegetarien', period = '2021-03')\n",
    "cout_cantine_vege"
   ]
  },
  {
   "cell_type": "code",
   "execution_count": null,
   "id": "28f76d3d",
   "metadata": {},
   "outputs": [],
   "source": [
    "sum(cout_cantine_vege)"
   ]
  },
  {
   "cell_type": "code",
   "execution_count": null,
   "id": "93657deb",
   "metadata": {},
   "outputs": [],
   "source": [
    "cout_cantine_panier = scenario.simulation.calculate('strasbourg_metropole_cout_cantine_repas_panier', period = '2021-03')\n",
    "cout_cantine_panier"
   ]
  },
  {
   "cell_type": "code",
   "execution_count": null,
   "id": "a7b14817",
   "metadata": {},
   "outputs": [],
   "source": [
    "sum(cout_cantine_panier)"
   ]
  },
  {
   "cell_type": "code",
   "execution_count": null,
   "id": "1733a1e8",
   "metadata": {},
   "outputs": [],
   "source": [
    "len(cout_cantine)"
   ]
  },
  {
   "cell_type": "code",
   "execution_count": null,
   "id": "57abcaa8",
   "metadata": {},
   "outputs": [],
   "source": [
    "flat_df"
   ]
  },
  {
   "cell_type": "code",
   "execution_count": null,
   "id": "f6c2755d",
   "metadata": {},
   "outputs": [],
   "source": [
    "e = [1,2,3]"
   ]
  },
  {
   "cell_type": "code",
   "execution_count": null,
   "id": "7760d79e",
   "metadata": {},
   "outputs": [],
   "source": [
    "e.index(3)"
   ]
  },
  {
   "cell_type": "code",
   "execution_count": null,
   "id": "b6dadce0",
   "metadata": {},
   "outputs": [],
   "source": [
    "p = scenario.tax_benefit_system.get_parameters_at_instant('2021-04').metropoles.strasbourg.tarifs_cantine\n",
    "p"
   ]
  },
  {
   "cell_type": "code",
   "execution_count": null,
   "id": "10da5be4",
   "metadata": {},
   "outputs": [],
   "source": []
  },
  {
   "cell_type": "code",
   "execution_count": null,
   "id": "1ba6e31b",
   "metadata": {},
   "outputs": [],
   "source": [
    "p.thresholds"
   ]
  },
  {
   "cell_type": "code",
   "execution_count": null,
   "id": "f2dd51e0",
   "metadata": {},
   "outputs": [],
   "source": [
    "p.amounts"
   ]
  },
  {
   "cell_type": "code",
   "execution_count": null,
   "id": "b11bac4d",
   "metadata": {},
   "outputs": [],
   "source": [
    "xmax = 2500"
   ]
  },
  {
   "cell_type": "code",
   "execution_count": null,
   "id": "42284ab2",
   "metadata": {},
   "outputs": [],
   "source": [
    "plt.step(p.thresholds + [xmax], p.amounts + [p.amounts[-1]], where='post')\n",
    "plt.xlim(xmin=0)"
   ]
  },
  {
   "cell_type": "code",
   "execution_count": null,
   "id": "630375f7",
   "metadata": {},
   "outputs": [],
   "source": [
    "df.CapQF = np.minimum(df.QF, xmax)\n",
    "res = plt.hist(df.CapQF, bins=p.thresholds + [xmax], weights=df.Nombre)"
   ]
  },
  {
   "cell_type": "code",
   "execution_count": null,
   "id": "0675c9be",
   "metadata": {},
   "outputs": [],
   "source": [
    "plt.hist(df.CapQF, bins=100, weights=df.Nombre)"
   ]
  },
  {
   "cell_type": "code",
   "execution_count": null,
   "id": "3acbd6a2",
   "metadata": {},
   "outputs": [],
   "source": []
  },
  {
   "cell_type": "code",
   "execution_count": null,
   "id": "eac1f494",
   "metadata": {},
   "outputs": [],
   "source": [
    "res = plt.hist(df.CapQF, bins=p.thresholds + [xmax], density=True, weights=df.Nombre)"
   ]
  },
  {
   "cell_type": "code",
   "execution_count": null,
   "id": "d0c18e9a",
   "metadata": {},
   "outputs": [],
   "source": [
    "plt.hist(df.CapQF, bins=p.thresholds + [xmax], density=True, cumulative=True, weights=df.Nombre)"
   ]
  },
  {
   "cell_type": "code",
   "execution_count": null,
   "id": "9f277ea3",
   "metadata": {},
   "outputs": [],
   "source": [
    "res = plt.hist(df.CapQF, bins=p.thresholds + [xmax], weights=df.Nombre, cumulative=True)"
   ]
  },
  {
   "cell_type": "code",
   "execution_count": null,
   "id": "73bc44ab",
   "metadata": {},
   "outputs": [],
   "source": []
  },
  {
   "cell_type": "code",
   "execution_count": null,
   "id": "000c01c1",
   "metadata": {},
   "outputs": [],
   "source": []
  },
  {
   "cell_type": "code",
   "execution_count": null,
   "id": "894023db",
   "metadata": {},
   "outputs": [],
   "source": []
  }
 ],
 "metadata": {
  "kernelspec": {
   "display_name": "Python 3",
   "language": "python",
   "name": "python3"
  },
  "language_info": {
   "codemirror_mode": {
    "name": "ipython",
    "version": 3
   },
   "file_extension": ".py",
   "mimetype": "text/x-python",
   "name": "python",
   "nbconvert_exporter": "python",
   "pygments_lexer": "ipython3",
   "version": "3.7.10"
  }
 },
 "nbformat": 4,
 "nbformat_minor": 5
}
