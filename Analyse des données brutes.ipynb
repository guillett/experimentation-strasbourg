{
 "cells": [
  {
   "cell_type": "code",
   "execution_count": 1,
   "id": "9311e7ba",
   "metadata": {},
   "outputs": [],
   "source": [
    "import pandas as pd\n",
    "import numpy as np"
   ]
  },
  {
   "cell_type": "code",
   "execution_count": 2,
   "id": "cb617a7f",
   "metadata": {},
   "outputs": [
    {
     "data": {
      "text/html": [
       "<div>\n",
       "<style scoped>\n",
       "    .dataframe tbody tr th:only-of-type {\n",
       "        vertical-align: middle;\n",
       "    }\n",
       "\n",
       "    .dataframe tbody tr th {\n",
       "        vertical-align: top;\n",
       "    }\n",
       "\n",
       "    .dataframe thead th {\n",
       "        text-align: right;\n",
       "    }\n",
       "</style>\n",
       "<table border=\"1\" class=\"dataframe\">\n",
       "  <thead>\n",
       "    <tr style=\"text-align: right;\">\n",
       "      <th></th>\n",
       "      <th>Id Personne</th>\n",
       "      <th>Id Famille</th>\n",
       "      <th>QF</th>\n",
       "      <th>Type repas</th>\n",
       "      <th>Nombre</th>\n",
       "      <th>id gale ou non</th>\n",
       "      <th>type de repas simplifi par tarif identique</th>\n",
       "    </tr>\n",
       "  </thead>\n",
       "  <tbody>\n",
       "    <tr>\n",
       "      <th>0</th>\n",
       "      <td>1</td>\n",
       "      <td>325</td>\n",
       "      <td>999999</td>\n",
       "      <td>Repas Végétarien</td>\n",
       "      <td>2</td>\n",
       "      <td>NaN</td>\n",
       "      <td>Repas vgtarien</td>\n",
       "    </tr>\n",
       "    <tr>\n",
       "      <th>1</th>\n",
       "      <td>2</td>\n",
       "      <td>497</td>\n",
       "      <td>636</td>\n",
       "      <td>Repas Standard</td>\n",
       "      <td>1</td>\n",
       "      <td>NaN</td>\n",
       "      <td>Repas Standard</td>\n",
       "    </tr>\n",
       "    <tr>\n",
       "      <th>2</th>\n",
       "      <td>3</td>\n",
       "      <td>762</td>\n",
       "      <td>999999</td>\n",
       "      <td>Repas Standard</td>\n",
       "      <td>1</td>\n",
       "      <td>NaN</td>\n",
       "      <td>Repas Standard</td>\n",
       "    </tr>\n",
       "    <tr>\n",
       "      <th>3</th>\n",
       "      <td>4</td>\n",
       "      <td>770</td>\n",
       "      <td>392</td>\n",
       "      <td>Repas Standard</td>\n",
       "      <td>125</td>\n",
       "      <td>oui</td>\n",
       "      <td>Repas Standard</td>\n",
       "    </tr>\n",
       "    <tr>\n",
       "      <th>4</th>\n",
       "      <td>4</td>\n",
       "      <td>770</td>\n",
       "      <td>999999</td>\n",
       "      <td>Repas Standard</td>\n",
       "      <td>1</td>\n",
       "      <td>NaN</td>\n",
       "      <td>Repas Standard</td>\n",
       "    </tr>\n",
       "    <tr>\n",
       "      <th>...</th>\n",
       "      <td>...</td>\n",
       "      <td>...</td>\n",
       "      <td>...</td>\n",
       "      <td>...</td>\n",
       "      <td>...</td>\n",
       "      <td>...</td>\n",
       "      <td>...</td>\n",
       "    </tr>\n",
       "    <tr>\n",
       "      <th>16930</th>\n",
       "      <td>15579</td>\n",
       "      <td>10849</td>\n",
       "      <td>999999</td>\n",
       "      <td>Repas Sans Porc</td>\n",
       "      <td>8</td>\n",
       "      <td>NaN</td>\n",
       "      <td>Repas Standard</td>\n",
       "    </tr>\n",
       "    <tr>\n",
       "      <th>16931</th>\n",
       "      <td>15580</td>\n",
       "      <td>10850</td>\n",
       "      <td>999999</td>\n",
       "      <td>Repas Standard</td>\n",
       "      <td>13</td>\n",
       "      <td>NaN</td>\n",
       "      <td>Repas Standard</td>\n",
       "    </tr>\n",
       "    <tr>\n",
       "      <th>16932</th>\n",
       "      <td>15581</td>\n",
       "      <td>10851</td>\n",
       "      <td>259</td>\n",
       "      <td>Repas Standard</td>\n",
       "      <td>12</td>\n",
       "      <td>NaN</td>\n",
       "      <td>Repas Standard</td>\n",
       "    </tr>\n",
       "    <tr>\n",
       "      <th>16933</th>\n",
       "      <td>15582</td>\n",
       "      <td>10852</td>\n",
       "      <td>620</td>\n",
       "      <td>Repas Standard</td>\n",
       "      <td>14</td>\n",
       "      <td>NaN</td>\n",
       "      <td>Repas Standard</td>\n",
       "    </tr>\n",
       "    <tr>\n",
       "      <th>16934</th>\n",
       "      <td>15583</td>\n",
       "      <td>10852</td>\n",
       "      <td>620</td>\n",
       "      <td>Repas Standard</td>\n",
       "      <td>10</td>\n",
       "      <td>NaN</td>\n",
       "      <td>Repas Standard</td>\n",
       "    </tr>\n",
       "  </tbody>\n",
       "</table>\n",
       "<p>16935 rows × 7 columns</p>\n",
       "</div>"
      ],
      "text/plain": [
       "       Id Personne  Id Famille      QF        Type repas  Nombre  \\\n",
       "0                1         325  999999  Repas Végétarien       2   \n",
       "1                2         497     636    Repas Standard       1   \n",
       "2                3         762  999999    Repas Standard       1   \n",
       "3                4         770     392    Repas Standard     125   \n",
       "4                4         770  999999    Repas Standard       1   \n",
       "...            ...         ...     ...               ...     ...   \n",
       "16930        15579       10849  999999   Repas Sans Porc       8   \n",
       "16931        15580       10850  999999    Repas Standard      13   \n",
       "16932        15581       10851     259    Repas Standard      12   \n",
       "16933        15582       10852     620    Repas Standard      14   \n",
       "16934        15583       10852     620    Repas Standard      10   \n",
       "\n",
       "      id gale ou non  type de repas simplifi par tarif identique   \n",
       "0                  NaN                             Repas vgtarien  \n",
       "1                  NaN                               Repas Standard  \n",
       "2                  NaN                               Repas Standard  \n",
       "3                  oui                               Repas Standard  \n",
       "4                  NaN                               Repas Standard  \n",
       "...                ...                                          ...  \n",
       "16930              NaN                               Repas Standard  \n",
       "16931              NaN                               Repas Standard  \n",
       "16932              NaN                               Repas Standard  \n",
       "16933              NaN                               Repas Standard  \n",
       "16934              NaN                               Repas Standard  \n",
       "\n",
       "[16935 rows x 7 columns]"
      ]
     },
     "execution_count": 2,
     "metadata": {},
     "output_type": "execute_result"
    }
   ],
   "source": [
    "df = pd.read_csv('./Bilan tarification 2019.csv', sep=\";\", encoding=\"iso-8859-1\")\n",
    "df"
   ]
  },
  {
   "cell_type": "code",
   "execution_count": 3,
   "id": "44958f99",
   "metadata": {},
   "outputs": [
    {
     "data": {
      "text/html": [
       "<div>\n",
       "<style scoped>\n",
       "    .dataframe tbody tr th:only-of-type {\n",
       "        vertical-align: middle;\n",
       "    }\n",
       "\n",
       "    .dataframe tbody tr th {\n",
       "        vertical-align: top;\n",
       "    }\n",
       "\n",
       "    .dataframe thead th {\n",
       "        text-align: right;\n",
       "    }\n",
       "</style>\n",
       "<table border=\"1\" class=\"dataframe\">\n",
       "  <thead>\n",
       "    <tr style=\"text-align: right;\">\n",
       "      <th></th>\n",
       "      <th>Id Personne</th>\n",
       "      <th>Id Famille</th>\n",
       "      <th>QF</th>\n",
       "      <th>Type repas</th>\n",
       "      <th>Nombre</th>\n",
       "      <th>id gale ou non</th>\n",
       "      <th>type de repas simplifi par tarif identique</th>\n",
       "    </tr>\n",
       "  </thead>\n",
       "  <tbody>\n",
       "    <tr>\n",
       "      <th>7167</th>\n",
       "      <td>6691</td>\n",
       "      <td>443</td>\n",
       "      <td>379</td>\n",
       "      <td>Repas Sans Porc</td>\n",
       "      <td>62</td>\n",
       "      <td>oui</td>\n",
       "      <td>Repas Standard</td>\n",
       "    </tr>\n",
       "    <tr>\n",
       "      <th>7168</th>\n",
       "      <td>6691</td>\n",
       "      <td>443</td>\n",
       "      <td>1030</td>\n",
       "      <td>Repas Halal</td>\n",
       "      <td>41</td>\n",
       "      <td>oui</td>\n",
       "      <td>Repas Standard</td>\n",
       "    </tr>\n",
       "    <tr>\n",
       "      <th>7169</th>\n",
       "      <td>6691</td>\n",
       "      <td>443</td>\n",
       "      <td>1030</td>\n",
       "      <td>Repas Sans Porc</td>\n",
       "      <td>14</td>\n",
       "      <td>NaN</td>\n",
       "      <td>Repas Standard</td>\n",
       "    </tr>\n",
       "  </tbody>\n",
       "</table>\n",
       "</div>"
      ],
      "text/plain": [
       "      Id Personne  Id Famille    QF       Type repas  Nombre id gale ou non   \\\n",
       "7167         6691         443   379  Repas Sans Porc      62              oui   \n",
       "7168         6691         443  1030      Repas Halal      41              oui   \n",
       "7169         6691         443  1030  Repas Sans Porc      14              NaN   \n",
       "\n",
       "     type de repas simplifi par tarif identique   \n",
       "7167                               Repas Standard  \n",
       "7168                               Repas Standard  \n",
       "7169                               Repas Standard  "
      ]
     },
     "execution_count": 3,
     "metadata": {},
     "output_type": "execute_result"
    }
   ],
   "source": [
    "df[df['Id Famille'] ==  443]"
   ]
  },
  {
   "cell_type": "code",
   "execution_count": 4,
   "id": "504e878e",
   "metadata": {},
   "outputs": [
    {
     "data": {
      "text/html": [
       "<div>\n",
       "<style scoped>\n",
       "    .dataframe tbody tr th:only-of-type {\n",
       "        vertical-align: middle;\n",
       "    }\n",
       "\n",
       "    .dataframe tbody tr th {\n",
       "        vertical-align: top;\n",
       "    }\n",
       "\n",
       "    .dataframe thead th {\n",
       "        text-align: right;\n",
       "    }\n",
       "</style>\n",
       "<table border=\"1\" class=\"dataframe\">\n",
       "  <thead>\n",
       "    <tr style=\"text-align: right;\">\n",
       "      <th></th>\n",
       "      <th>Id Personne</th>\n",
       "      <th>Id Famille</th>\n",
       "      <th>QF</th>\n",
       "      <th>Type repas</th>\n",
       "      <th>Nombre</th>\n",
       "    </tr>\n",
       "  </thead>\n",
       "  <tbody>\n",
       "    <tr>\n",
       "      <th>0</th>\n",
       "      <td>1</td>\n",
       "      <td>325</td>\n",
       "      <td>999999</td>\n",
       "      <td>Repas Végétarien</td>\n",
       "      <td>2</td>\n",
       "    </tr>\n",
       "    <tr>\n",
       "      <th>1</th>\n",
       "      <td>2</td>\n",
       "      <td>497</td>\n",
       "      <td>636</td>\n",
       "      <td>Repas Standard</td>\n",
       "      <td>1</td>\n",
       "    </tr>\n",
       "    <tr>\n",
       "      <th>2</th>\n",
       "      <td>3</td>\n",
       "      <td>762</td>\n",
       "      <td>999999</td>\n",
       "      <td>Repas Standard</td>\n",
       "      <td>1</td>\n",
       "    </tr>\n",
       "    <tr>\n",
       "      <th>3</th>\n",
       "      <td>4</td>\n",
       "      <td>770</td>\n",
       "      <td>392</td>\n",
       "      <td>Repas Standard</td>\n",
       "      <td>125</td>\n",
       "    </tr>\n",
       "    <tr>\n",
       "      <th>4</th>\n",
       "      <td>4</td>\n",
       "      <td>770</td>\n",
       "      <td>999999</td>\n",
       "      <td>Repas Standard</td>\n",
       "      <td>1</td>\n",
       "    </tr>\n",
       "    <tr>\n",
       "      <th>...</th>\n",
       "      <td>...</td>\n",
       "      <td>...</td>\n",
       "      <td>...</td>\n",
       "      <td>...</td>\n",
       "      <td>...</td>\n",
       "    </tr>\n",
       "    <tr>\n",
       "      <th>16930</th>\n",
       "      <td>15579</td>\n",
       "      <td>10849</td>\n",
       "      <td>999999</td>\n",
       "      <td>Repas Sans Porc</td>\n",
       "      <td>8</td>\n",
       "    </tr>\n",
       "    <tr>\n",
       "      <th>16931</th>\n",
       "      <td>15580</td>\n",
       "      <td>10850</td>\n",
       "      <td>999999</td>\n",
       "      <td>Repas Standard</td>\n",
       "      <td>13</td>\n",
       "    </tr>\n",
       "    <tr>\n",
       "      <th>16932</th>\n",
       "      <td>15581</td>\n",
       "      <td>10851</td>\n",
       "      <td>259</td>\n",
       "      <td>Repas Standard</td>\n",
       "      <td>12</td>\n",
       "    </tr>\n",
       "    <tr>\n",
       "      <th>16933</th>\n",
       "      <td>15582</td>\n",
       "      <td>10852</td>\n",
       "      <td>620</td>\n",
       "      <td>Repas Standard</td>\n",
       "      <td>14</td>\n",
       "    </tr>\n",
       "    <tr>\n",
       "      <th>16934</th>\n",
       "      <td>15583</td>\n",
       "      <td>10852</td>\n",
       "      <td>620</td>\n",
       "      <td>Repas Standard</td>\n",
       "      <td>10</td>\n",
       "    </tr>\n",
       "  </tbody>\n",
       "</table>\n",
       "<p>16935 rows × 5 columns</p>\n",
       "</div>"
      ],
      "text/plain": [
       "       Id Personne  Id Famille      QF        Type repas  Nombre\n",
       "0                1         325  999999  Repas Végétarien       2\n",
       "1                2         497     636    Repas Standard       1\n",
       "2                3         762  999999    Repas Standard       1\n",
       "3                4         770     392    Repas Standard     125\n",
       "4                4         770  999999    Repas Standard       1\n",
       "...            ...         ...     ...               ...     ...\n",
       "16930        15579       10849  999999   Repas Sans Porc       8\n",
       "16931        15580       10850  999999    Repas Standard      13\n",
       "16932        15581       10851     259    Repas Standard      12\n",
       "16933        15582       10852     620    Repas Standard      14\n",
       "16934        15583       10852     620    Repas Standard      10\n",
       "\n",
       "[16935 rows x 5 columns]"
      ]
     },
     "execution_count": 4,
     "metadata": {},
     "output_type": "execute_result"
    }
   ],
   "source": [
    "df[['Id Personne', 'Id Famille', 'QF', 'Type repas', 'Nombre']]"
   ]
  },
  {
   "cell_type": "code",
   "execution_count": 5,
   "id": "6e926985",
   "metadata": {},
   "outputs": [
    {
     "data": {
      "text/html": [
       "<div>\n",
       "<style scoped>\n",
       "    .dataframe tbody tr th:only-of-type {\n",
       "        vertical-align: middle;\n",
       "    }\n",
       "\n",
       "    .dataframe tbody tr th {\n",
       "        vertical-align: top;\n",
       "    }\n",
       "\n",
       "    .dataframe thead th {\n",
       "        text-align: right;\n",
       "    }\n",
       "</style>\n",
       "<table border=\"1\" class=\"dataframe\">\n",
       "  <thead>\n",
       "    <tr style=\"text-align: right;\">\n",
       "      <th></th>\n",
       "      <th>Nombre</th>\n",
       "    </tr>\n",
       "    <tr>\n",
       "      <th>Type repas</th>\n",
       "      <th></th>\n",
       "    </tr>\n",
       "  </thead>\n",
       "  <tbody>\n",
       "    <tr>\n",
       "      <th>Panier</th>\n",
       "      <td>112</td>\n",
       "    </tr>\n",
       "    <tr>\n",
       "      <th>Repas Halal</th>\n",
       "      <td>5544</td>\n",
       "    </tr>\n",
       "    <tr>\n",
       "      <th>Repas Sans Porc</th>\n",
       "      <td>1205</td>\n",
       "    </tr>\n",
       "    <tr>\n",
       "      <th>Repas Standard</th>\n",
       "      <td>9118</td>\n",
       "    </tr>\n",
       "    <tr>\n",
       "      <th>Repas Végétarien</th>\n",
       "      <td>956</td>\n",
       "    </tr>\n",
       "  </tbody>\n",
       "</table>\n",
       "</div>"
      ],
      "text/plain": [
       "                  Nombre\n",
       "Type repas              \n",
       "Panier               112\n",
       "Repas Halal         5544\n",
       "Repas Sans Porc     1205\n",
       "Repas Standard      9118\n",
       "Repas Végétarien     956"
      ]
     },
     "execution_count": 5,
     "metadata": {},
     "output_type": "execute_result"
    }
   ],
   "source": [
    "df[['Type repas', 'Nombre']].groupby('Type repas').count()"
   ]
  },
  {
   "cell_type": "code",
   "execution_count": 6,
   "id": "71b89622",
   "metadata": {},
   "outputs": [
    {
     "data": {
      "text/html": [
       "<div>\n",
       "<style scoped>\n",
       "    .dataframe tbody tr th:only-of-type {\n",
       "        vertical-align: middle;\n",
       "    }\n",
       "\n",
       "    .dataframe tbody tr th {\n",
       "        vertical-align: top;\n",
       "    }\n",
       "\n",
       "    .dataframe thead th {\n",
       "        text-align: right;\n",
       "    }\n",
       "</style>\n",
       "<table border=\"1\" class=\"dataframe\">\n",
       "  <thead>\n",
       "    <tr style=\"text-align: right;\">\n",
       "      <th></th>\n",
       "      <th>Nombre</th>\n",
       "    </tr>\n",
       "    <tr>\n",
       "      <th>Type repas</th>\n",
       "      <th></th>\n",
       "    </tr>\n",
       "  </thead>\n",
       "  <tbody>\n",
       "    <tr>\n",
       "      <th>Panier</th>\n",
       "      <td>7380</td>\n",
       "    </tr>\n",
       "    <tr>\n",
       "      <th>Repas Halal</th>\n",
       "      <td>433040</td>\n",
       "    </tr>\n",
       "    <tr>\n",
       "      <th>Repas Sans Porc</th>\n",
       "      <td>107789</td>\n",
       "    </tr>\n",
       "    <tr>\n",
       "      <th>Repas Standard</th>\n",
       "      <td>894000</td>\n",
       "    </tr>\n",
       "    <tr>\n",
       "      <th>Repas Végétarien</th>\n",
       "      <td>61394</td>\n",
       "    </tr>\n",
       "  </tbody>\n",
       "</table>\n",
       "</div>"
      ],
      "text/plain": [
       "                  Nombre\n",
       "Type repas              \n",
       "Panier              7380\n",
       "Repas Halal       433040\n",
       "Repas Sans Porc   107789\n",
       "Repas Standard    894000\n",
       "Repas Végétarien   61394"
      ]
     },
     "execution_count": 6,
     "metadata": {},
     "output_type": "execute_result"
    }
   ],
   "source": [
    "df[['Type repas', 'Nombre']].groupby('Type repas').sum()"
   ]
  },
  {
   "cell_type": "code",
   "execution_count": 7,
   "id": "7b762cc7",
   "metadata": {},
   "outputs": [
    {
     "data": {
      "text/plain": [
       "array([    1,     2,     3, ..., 10850, 10851, 10852])"
      ]
     },
     "execution_count": 7,
     "metadata": {},
     "output_type": "execute_result"
    }
   ],
   "source": [
    "np.unique(df['Id Famille'])"
   ]
  },
  {
   "cell_type": "code",
   "execution_count": 8,
   "id": "fcf0a7d8",
   "metadata": {},
   "outputs": [
    {
     "data": {
      "text/html": [
       "<div>\n",
       "<style scoped>\n",
       "    .dataframe tbody tr th:only-of-type {\n",
       "        vertical-align: middle;\n",
       "    }\n",
       "\n",
       "    .dataframe tbody tr th {\n",
       "        vertical-align: top;\n",
       "    }\n",
       "\n",
       "    .dataframe thead th {\n",
       "        text-align: right;\n",
       "    }\n",
       "</style>\n",
       "<table border=\"1\" class=\"dataframe\">\n",
       "  <thead>\n",
       "    <tr style=\"text-align: right;\">\n",
       "      <th></th>\n",
       "      <th>Id Personne</th>\n",
       "      <th>Id Famille</th>\n",
       "      <th>QF</th>\n",
       "      <th>Type repas</th>\n",
       "      <th>Nombre</th>\n",
       "      <th>id gale ou non</th>\n",
       "      <th>type de repas simplifi par tarif identique</th>\n",
       "      <th>Repas</th>\n",
       "    </tr>\n",
       "  </thead>\n",
       "  <tbody>\n",
       "    <tr>\n",
       "      <th>0</th>\n",
       "      <td>1</td>\n",
       "      <td>325</td>\n",
       "      <td>999999</td>\n",
       "      <td>Repas Végétarien</td>\n",
       "      <td>2</td>\n",
       "      <td>NaN</td>\n",
       "      <td>Repas vgtarien</td>\n",
       "      <td>cantine_vegetarien</td>\n",
       "    </tr>\n",
       "    <tr>\n",
       "      <th>1</th>\n",
       "      <td>2</td>\n",
       "      <td>497</td>\n",
       "      <td>636</td>\n",
       "      <td>Repas Standard</td>\n",
       "      <td>1</td>\n",
       "      <td>NaN</td>\n",
       "      <td>Repas Standard</td>\n",
       "      <td>cantine</td>\n",
       "    </tr>\n",
       "    <tr>\n",
       "      <th>2</th>\n",
       "      <td>3</td>\n",
       "      <td>762</td>\n",
       "      <td>999999</td>\n",
       "      <td>Repas Standard</td>\n",
       "      <td>1</td>\n",
       "      <td>NaN</td>\n",
       "      <td>Repas Standard</td>\n",
       "      <td>cantine</td>\n",
       "    </tr>\n",
       "    <tr>\n",
       "      <th>3</th>\n",
       "      <td>4</td>\n",
       "      <td>770</td>\n",
       "      <td>392</td>\n",
       "      <td>Repas Standard</td>\n",
       "      <td>125</td>\n",
       "      <td>oui</td>\n",
       "      <td>Repas Standard</td>\n",
       "      <td>cantine</td>\n",
       "    </tr>\n",
       "    <tr>\n",
       "      <th>4</th>\n",
       "      <td>4</td>\n",
       "      <td>770</td>\n",
       "      <td>999999</td>\n",
       "      <td>Repas Standard</td>\n",
       "      <td>1</td>\n",
       "      <td>NaN</td>\n",
       "      <td>Repas Standard</td>\n",
       "      <td>cantine</td>\n",
       "    </tr>\n",
       "    <tr>\n",
       "      <th>...</th>\n",
       "      <td>...</td>\n",
       "      <td>...</td>\n",
       "      <td>...</td>\n",
       "      <td>...</td>\n",
       "      <td>...</td>\n",
       "      <td>...</td>\n",
       "      <td>...</td>\n",
       "      <td>...</td>\n",
       "    </tr>\n",
       "    <tr>\n",
       "      <th>16930</th>\n",
       "      <td>15579</td>\n",
       "      <td>10849</td>\n",
       "      <td>999999</td>\n",
       "      <td>Repas Sans Porc</td>\n",
       "      <td>8</td>\n",
       "      <td>NaN</td>\n",
       "      <td>Repas Standard</td>\n",
       "      <td>cantine</td>\n",
       "    </tr>\n",
       "    <tr>\n",
       "      <th>16931</th>\n",
       "      <td>15580</td>\n",
       "      <td>10850</td>\n",
       "      <td>999999</td>\n",
       "      <td>Repas Standard</td>\n",
       "      <td>13</td>\n",
       "      <td>NaN</td>\n",
       "      <td>Repas Standard</td>\n",
       "      <td>cantine</td>\n",
       "    </tr>\n",
       "    <tr>\n",
       "      <th>16932</th>\n",
       "      <td>15581</td>\n",
       "      <td>10851</td>\n",
       "      <td>259</td>\n",
       "      <td>Repas Standard</td>\n",
       "      <td>12</td>\n",
       "      <td>NaN</td>\n",
       "      <td>Repas Standard</td>\n",
       "      <td>cantine</td>\n",
       "    </tr>\n",
       "    <tr>\n",
       "      <th>16933</th>\n",
       "      <td>15582</td>\n",
       "      <td>10852</td>\n",
       "      <td>620</td>\n",
       "      <td>Repas Standard</td>\n",
       "      <td>14</td>\n",
       "      <td>NaN</td>\n",
       "      <td>Repas Standard</td>\n",
       "      <td>cantine</td>\n",
       "    </tr>\n",
       "    <tr>\n",
       "      <th>16934</th>\n",
       "      <td>15583</td>\n",
       "      <td>10852</td>\n",
       "      <td>620</td>\n",
       "      <td>Repas Standard</td>\n",
       "      <td>10</td>\n",
       "      <td>NaN</td>\n",
       "      <td>Repas Standard</td>\n",
       "      <td>cantine</td>\n",
       "    </tr>\n",
       "  </tbody>\n",
       "</table>\n",
       "<p>16935 rows × 8 columns</p>\n",
       "</div>"
      ],
      "text/plain": [
       "       Id Personne  Id Famille      QF        Type repas  Nombre  \\\n",
       "0                1         325  999999  Repas Végétarien       2   \n",
       "1                2         497     636    Repas Standard       1   \n",
       "2                3         762  999999    Repas Standard       1   \n",
       "3                4         770     392    Repas Standard     125   \n",
       "4                4         770  999999    Repas Standard       1   \n",
       "...            ...         ...     ...               ...     ...   \n",
       "16930        15579       10849  999999   Repas Sans Porc       8   \n",
       "16931        15580       10850  999999    Repas Standard      13   \n",
       "16932        15581       10851     259    Repas Standard      12   \n",
       "16933        15582       10852     620    Repas Standard      14   \n",
       "16934        15583       10852     620    Repas Standard      10   \n",
       "\n",
       "      id gale ou non  type de repas simplifi par tarif identique   \\\n",
       "0                  NaN                             Repas vgtarien   \n",
       "1                  NaN                               Repas Standard   \n",
       "2                  NaN                               Repas Standard   \n",
       "3                  oui                               Repas Standard   \n",
       "4                  NaN                               Repas Standard   \n",
       "...                ...                                          ...   \n",
       "16930              NaN                               Repas Standard   \n",
       "16931              NaN                               Repas Standard   \n",
       "16932              NaN                               Repas Standard   \n",
       "16933              NaN                               Repas Standard   \n",
       "16934              NaN                               Repas Standard   \n",
       "\n",
       "                    Repas  \n",
       "0      cantine_vegetarien  \n",
       "1                 cantine  \n",
       "2                 cantine  \n",
       "3                 cantine  \n",
       "4                 cantine  \n",
       "...                   ...  \n",
       "16930             cantine  \n",
       "16931             cantine  \n",
       "16932             cantine  \n",
       "16933             cantine  \n",
       "16934             cantine  \n",
       "\n",
       "[16935 rows x 8 columns]"
      ]
     },
     "execution_count": 8,
     "metadata": {},
     "output_type": "execute_result"
    }
   ],
   "source": [
    "df['Repas'] = np.select(\n",
    "    [\n",
    "        df[\"Type repas\"].str.contains('Végétarien'),\n",
    "        df[\"Type repas\"].str.contains('Panier'),\n",
    "    ],\n",
    "    [\n",
    "        'cantine_vegetarien',\n",
    "        'cantine_panier',\n",
    "    ],\n",
    "    default = 'cantine'\n",
    ")\n",
    "df"
   ]
  },
  {
   "cell_type": "code",
   "execution_count": 9,
   "id": "d88e141c",
   "metadata": {},
   "outputs": [
    {
     "data": {
      "text/html": [
       "<div>\n",
       "<style scoped>\n",
       "    .dataframe tbody tr th:only-of-type {\n",
       "        vertical-align: middle;\n",
       "    }\n",
       "\n",
       "    .dataframe tbody tr th {\n",
       "        vertical-align: top;\n",
       "    }\n",
       "\n",
       "    .dataframe thead th {\n",
       "        text-align: right;\n",
       "    }\n",
       "</style>\n",
       "<table border=\"1\" class=\"dataframe\">\n",
       "  <thead>\n",
       "    <tr style=\"text-align: right;\">\n",
       "      <th></th>\n",
       "      <th>Repas</th>\n",
       "      <th>Nombre</th>\n",
       "    </tr>\n",
       "  </thead>\n",
       "  <tbody>\n",
       "    <tr>\n",
       "      <th>0</th>\n",
       "      <td>cantine_vegetarien</td>\n",
       "      <td>2</td>\n",
       "    </tr>\n",
       "    <tr>\n",
       "      <th>1</th>\n",
       "      <td>cantine</td>\n",
       "      <td>1</td>\n",
       "    </tr>\n",
       "    <tr>\n",
       "      <th>2</th>\n",
       "      <td>cantine</td>\n",
       "      <td>1</td>\n",
       "    </tr>\n",
       "    <tr>\n",
       "      <th>3</th>\n",
       "      <td>cantine</td>\n",
       "      <td>125</td>\n",
       "    </tr>\n",
       "    <tr>\n",
       "      <th>4</th>\n",
       "      <td>cantine</td>\n",
       "      <td>1</td>\n",
       "    </tr>\n",
       "    <tr>\n",
       "      <th>...</th>\n",
       "      <td>...</td>\n",
       "      <td>...</td>\n",
       "    </tr>\n",
       "    <tr>\n",
       "      <th>16930</th>\n",
       "      <td>cantine</td>\n",
       "      <td>8</td>\n",
       "    </tr>\n",
       "    <tr>\n",
       "      <th>16931</th>\n",
       "      <td>cantine</td>\n",
       "      <td>13</td>\n",
       "    </tr>\n",
       "    <tr>\n",
       "      <th>16932</th>\n",
       "      <td>cantine</td>\n",
       "      <td>12</td>\n",
       "    </tr>\n",
       "    <tr>\n",
       "      <th>16933</th>\n",
       "      <td>cantine</td>\n",
       "      <td>14</td>\n",
       "    </tr>\n",
       "    <tr>\n",
       "      <th>16934</th>\n",
       "      <td>cantine</td>\n",
       "      <td>10</td>\n",
       "    </tr>\n",
       "  </tbody>\n",
       "</table>\n",
       "<p>16935 rows × 2 columns</p>\n",
       "</div>"
      ],
      "text/plain": [
       "                    Repas  Nombre\n",
       "0      cantine_vegetarien       2\n",
       "1                 cantine       1\n",
       "2                 cantine       1\n",
       "3                 cantine     125\n",
       "4                 cantine       1\n",
       "...                   ...     ...\n",
       "16930             cantine       8\n",
       "16931             cantine      13\n",
       "16932             cantine      12\n",
       "16933             cantine      14\n",
       "16934             cantine      10\n",
       "\n",
       "[16935 rows x 2 columns]"
      ]
     },
     "execution_count": 9,
     "metadata": {},
     "output_type": "execute_result"
    }
   ],
   "source": [
    "df[['Repas', 'Nombre']]"
   ]
  },
  {
   "cell_type": "code",
   "execution_count": 10,
   "id": "32ac809e",
   "metadata": {},
   "outputs": [
    {
     "data": {
      "text/html": [
       "<div>\n",
       "<style scoped>\n",
       "    .dataframe tbody tr th:only-of-type {\n",
       "        vertical-align: middle;\n",
       "    }\n",
       "\n",
       "    .dataframe tbody tr th {\n",
       "        vertical-align: top;\n",
       "    }\n",
       "\n",
       "    .dataframe thead th {\n",
       "        text-align: right;\n",
       "    }\n",
       "</style>\n",
       "<table border=\"1\" class=\"dataframe\">\n",
       "  <thead>\n",
       "    <tr style=\"text-align: right;\">\n",
       "      <th></th>\n",
       "      <th>Nombre</th>\n",
       "    </tr>\n",
       "    <tr>\n",
       "      <th>Repas</th>\n",
       "      <th></th>\n",
       "    </tr>\n",
       "  </thead>\n",
       "  <tbody>\n",
       "    <tr>\n",
       "      <th>cantine</th>\n",
       "      <td>15867</td>\n",
       "    </tr>\n",
       "    <tr>\n",
       "      <th>cantine_panier</th>\n",
       "      <td>112</td>\n",
       "    </tr>\n",
       "    <tr>\n",
       "      <th>cantine_vegetarien</th>\n",
       "      <td>956</td>\n",
       "    </tr>\n",
       "  </tbody>\n",
       "</table>\n",
       "</div>"
      ],
      "text/plain": [
       "                    Nombre\n",
       "Repas                     \n",
       "cantine              15867\n",
       "cantine_panier         112\n",
       "cantine_vegetarien     956"
      ]
     },
     "execution_count": 10,
     "metadata": {},
     "output_type": "execute_result"
    }
   ],
   "source": [
    "df[['Repas', 'Nombre']].groupby('Repas').count()"
   ]
  },
  {
   "cell_type": "code",
   "execution_count": 11,
   "id": "4baba764",
   "metadata": {},
   "outputs": [
    {
     "data": {
      "text/html": [
       "<div>\n",
       "<style scoped>\n",
       "    .dataframe tbody tr th:only-of-type {\n",
       "        vertical-align: middle;\n",
       "    }\n",
       "\n",
       "    .dataframe tbody tr th {\n",
       "        vertical-align: top;\n",
       "    }\n",
       "\n",
       "    .dataframe thead th {\n",
       "        text-align: right;\n",
       "    }\n",
       "</style>\n",
       "<table border=\"1\" class=\"dataframe\">\n",
       "  <thead>\n",
       "    <tr style=\"text-align: right;\">\n",
       "      <th></th>\n",
       "      <th>Nombre</th>\n",
       "    </tr>\n",
       "    <tr>\n",
       "      <th>Repas</th>\n",
       "      <th></th>\n",
       "    </tr>\n",
       "  </thead>\n",
       "  <tbody>\n",
       "    <tr>\n",
       "      <th>cantine</th>\n",
       "      <td>1434829</td>\n",
       "    </tr>\n",
       "    <tr>\n",
       "      <th>cantine_panier</th>\n",
       "      <td>7380</td>\n",
       "    </tr>\n",
       "    <tr>\n",
       "      <th>cantine_vegetarien</th>\n",
       "      <td>61394</td>\n",
       "    </tr>\n",
       "  </tbody>\n",
       "</table>\n",
       "</div>"
      ],
      "text/plain": [
       "                     Nombre\n",
       "Repas                      \n",
       "cantine             1434829\n",
       "cantine_panier         7380\n",
       "cantine_vegetarien    61394"
      ]
     },
     "execution_count": 11,
     "metadata": {},
     "output_type": "execute_result"
    }
   ],
   "source": [
    "df[['Repas', 'Nombre']].groupby('Repas').sum()"
   ]
  },
  {
   "cell_type": "code",
   "execution_count": 12,
   "id": "a9bb6ba4",
   "metadata": {},
   "outputs": [],
   "source": [
    "import matplotlib.pyplot as plt"
   ]
  },
  {
   "cell_type": "code",
   "execution_count": 13,
   "id": "815abcc7",
   "metadata": {},
   "outputs": [
    {
     "data": {
      "text/plain": [
       "(array([  956.,     0.,     0.,     0.,     0., 15867.,     0.,     0.,\n",
       "            0.,   112.]),\n",
       " array([0. , 0.2, 0.4, 0.6, 0.8, 1. , 1.2, 1.4, 1.6, 1.8, 2. ]),\n",
       " <BarContainer object of 10 artists>)"
      ]
     },
     "execution_count": 13,
     "metadata": {},
     "output_type": "execute_result"
    },
    {
     "data": {
      "image/png": "[encoded data removed]",
      "text/plain": [
       "<Figure size 432x288 with 1 Axes>"
      ]
     },
     "metadata": {
      "needs_background": "light"
     },
     "output_type": "display_data"
    }
   ],
   "source": [
    "plt.hist(df[['Repas']])"
   ]
  },
  {
   "cell_type": "code",
   "execution_count": 14,
   "id": "008f0378",
   "metadata": {},
   "outputs": [
    {
     "data": {
      "text/plain": [
       "(array([  61394.,       0.,       0.,       0.,       0., 1434829.,\n",
       "              0.,       0.,       0.,    7380.]),\n",
       " array([0. , 0.2, 0.4, 0.6, 0.8, 1. , 1.2, 1.4, 1.6, 1.8, 2. ]),\n",
       " <BarContainer object of 10 artists>)"
      ]
     },
     "execution_count": 14,
     "metadata": {},
     "output_type": "execute_result"
    },
    {
     "data": {
      "image/png": "[encoded data removed]",
      "text/plain": [
       "<Figure size 432x288 with 1 Axes>"
      ]
     },
     "metadata": {
      "needs_background": "light"
     },
     "output_type": "display_data"
    }
   ],
   "source": [
    "plt.hist(df[['Repas']], weights = df[['Nombre']])"
   ]
  },
  {
   "cell_type": "code",
   "execution_count": null,
   "id": "fba5c6f7",
   "metadata": {},
   "outputs": [],
   "source": []
  },
  {
   "cell_type": "code",
   "execution_count": 15,
   "id": "474792ad",
   "metadata": {},
   "outputs": [
    {
     "data": {
      "text/plain": [
       "0        999999\n",
       "1           636\n",
       "2        999999\n",
       "3           392\n",
       "4        999999\n",
       "          ...  \n",
       "16930    999999\n",
       "16931    999999\n",
       "16932       259\n",
       "16933       620\n",
       "16934       620\n",
       "Name: QF, Length: 16935, dtype: int64"
      ]
     },
     "execution_count": 15,
     "metadata": {},
     "output_type": "execute_result"
    }
   ],
   "source": [
    "df.QF"
   ]
  },
  {
   "cell_type": "code",
   "execution_count": 16,
   "id": "bf6cfd5a",
   "metadata": {},
   "outputs": [
    {
     "data": {
      "text/plain": [
       "array([     1,      3,     13, ...,  13591,  13939, 999999])"
      ]
     },
     "execution_count": 16,
     "metadata": {},
     "output_type": "execute_result"
    }
   ],
   "source": [
    "np.unique(df.QF)"
   ]
  },
  {
   "cell_type": "code",
   "execution_count": null,
   "id": "2a15eb50",
   "metadata": {},
   "outputs": [],
   "source": []
  },
  {
   "cell_type": "code",
   "execution_count": 17,
   "id": "0eb7835a",
   "metadata": {},
   "outputs": [
    {
     "data": {
      "text/plain": [
       "(array([15859.,     0.,     0.,     0.,     0.,     0.,     0.,     0.,\n",
       "            0.,  1076.]),\n",
       " array([1.000000e+00, 1.000008e+05, 2.000006e+05, 3.000004e+05,\n",
       "        4.000002e+05, 5.000000e+05, 5.999998e+05, 6.999996e+05,\n",
       "        7.999994e+05, 8.999992e+05, 9.999990e+05]),\n",
       " <BarContainer object of 10 artists>)"
      ]
     },
     "execution_count": 17,
     "metadata": {},
     "output_type": "execute_result"
    },
    {
     "data": {
      "image/png": "[encoded data removed]",
      "text/plain": [
       "<Figure size 432x288 with 1 Axes>"
      ]
     },
     "metadata": {
      "needs_background": "light"
     },
     "output_type": "display_data"
    }
   ],
   "source": [
    "plt.hist(df.QF)"
   ]
  },
  {
   "cell_type": "code",
   "execution_count": 18,
   "id": "ff07fa04",
   "metadata": {},
   "outputs": [
    {
     "data": {
      "text/plain": [
       "(array([7225., 4943., 2032., 1034.,  319.,  135.,   53.,   42.,   24.,\n",
       "          14.]),\n",
       " array([1.000e+00, 5.730e+02, 1.145e+03, 1.717e+03, 2.289e+03, 2.861e+03,\n",
       "        3.433e+03, 4.005e+03, 4.577e+03, 5.149e+03, 5.721e+03]),\n",
       " <BarContainer object of 10 artists>)"
      ]
     },
     "execution_count": 18,
     "metadata": {},
     "output_type": "execute_result"
    },
    {
     "data": {
      "image/png": "[encoded data removed]",
      "text/plain": [
       "<Figure size 432x288 with 1 Axes>"
      ]
     },
     "metadata": {
      "needs_background": "light"
     },
     "output_type": "display_data"
    }
   ],
   "source": [
    "plt.hist(df.QF[df.QF< 6000])"
   ]
  },
  {
   "cell_type": "code",
   "execution_count": 19,
   "id": "59963b57",
   "metadata": {},
   "outputs": [
    {
     "data": {
      "text/plain": [
       "(array([0.03842993, 0.04108463, 0.0523355 , 0.06150054, 0.10309083,\n",
       "        0.16528664, 0.2526389 , 0.33632514, 0.40117565, 0.45667151,\n",
       "        0.51400038, 0.5717717 , 0.61873459, 0.65267682, 0.67846533,\n",
       "        0.700335  , 0.71853865, 0.73699513, 0.75210164, 0.76910435,\n",
       "        0.7845901 , 0.80190886, 0.81701536, 0.82940396, 0.84141331,\n",
       "        0.85582454, 0.86796031, 0.87978004, 0.88730169, 0.89754124,\n",
       "        0.90803363, 0.91637697, 0.92440427, 0.93116744, 0.93856267,\n",
       "        0.94374565, 0.94918147, 0.95423804, 0.95916819, 0.96289741,\n",
       "        0.9654257 , 0.96763795, 0.97029265, 0.9725049 , 0.97433791,\n",
       "        0.97636053, 0.97850958, 0.98034258, 0.98173314, 0.98306049,\n",
       "        0.9840086 , 0.98476708, 0.98558877, 0.98660009, 0.98729537,\n",
       "        0.9884331 , 0.98957082, 0.99039252, 0.99102459, 0.99159345,\n",
       "        0.99178307, 0.99241514, 0.99279439, 0.99298401, 0.99330004,\n",
       "        0.99355287, 0.99393212, 0.99462739, 0.99481702, 0.99494343,\n",
       "        0.99532267, 0.99563871, 0.99582833, 0.99601795, 0.99614437,\n",
       "        0.99627078, 0.99627078, 0.9964604 , 0.99690285, 0.99759813,\n",
       "        0.99778775, 0.99791416, 0.99791416, 0.99797737, 0.99816699,\n",
       "        0.99854624, 0.99854624, 0.99873586, 0.99873586, 0.9991151 ,\n",
       "        0.9991151 , 0.99930472, 0.99936793, 0.99955755, 0.99955755,\n",
       "        0.99962076, 0.99974717, 0.99981038, 0.99987359, 1.        ]),\n",
       " array([1.0000e+00, 5.8200e+01, 1.1540e+02, 1.7260e+02, 2.2980e+02,\n",
       "        2.8700e+02, 3.4420e+02, 4.0140e+02, 4.5860e+02, 5.1580e+02,\n",
       "        5.7300e+02, 6.3020e+02, 6.8740e+02, 7.4460e+02, 8.0180e+02,\n",
       "        8.5900e+02, 9.1620e+02, 9.7340e+02, 1.0306e+03, 1.0878e+03,\n",
       "        1.1450e+03, 1.2022e+03, 1.2594e+03, 1.3166e+03, 1.3738e+03,\n",
       "        1.4310e+03, 1.4882e+03, 1.5454e+03, 1.6026e+03, 1.6598e+03,\n",
       "        1.7170e+03, 1.7742e+03, 1.8314e+03, 1.8886e+03, 1.9458e+03,\n",
       "        2.0030e+03, 2.0602e+03, 2.1174e+03, 2.1746e+03, 2.2318e+03,\n",
       "        2.2890e+03, 2.3462e+03, 2.4034e+03, 2.4606e+03, 2.5178e+03,\n",
       "        2.5750e+03, 2.6322e+03, 2.6894e+03, 2.7466e+03, 2.8038e+03,\n",
       "        2.8610e+03, 2.9182e+03, 2.9754e+03, 3.0326e+03, 3.0898e+03,\n",
       "        3.1470e+03, 3.2042e+03, 3.2614e+03, 3.3186e+03, 3.3758e+03,\n",
       "        3.4330e+03, 3.4902e+03, 3.5474e+03, 3.6046e+03, 3.6618e+03,\n",
       "        3.7190e+03, 3.7762e+03, 3.8334e+03, 3.8906e+03, 3.9478e+03,\n",
       "        4.0050e+03, 4.0622e+03, 4.1194e+03, 4.1766e+03, 4.2338e+03,\n",
       "        4.2910e+03, 4.3482e+03, 4.4054e+03, 4.4626e+03, 4.5198e+03,\n",
       "        4.5770e+03, 4.6342e+03, 4.6914e+03, 4.7486e+03, 4.8058e+03,\n",
       "        4.8630e+03, 4.9202e+03, 4.9774e+03, 5.0346e+03, 5.0918e+03,\n",
       "        5.1490e+03, 5.2062e+03, 5.2634e+03, 5.3206e+03, 5.3778e+03,\n",
       "        5.4350e+03, 5.4922e+03, 5.5494e+03, 5.6066e+03, 5.6638e+03,\n",
       "        5.7210e+03]),\n",
       " <BarContainer object of 100 artists>)"
      ]
     },
     "execution_count": 19,
     "metadata": {},
     "output_type": "execute_result"
    },
    {
     "data": {
      "image/png": "[encoded data removed]",
      "text/plain": [
       "<Figure size 432x288 with 1 Axes>"
      ]
     },
     "metadata": {
      "needs_background": "light"
     },
     "output_type": "display_data"
    }
   ],
   "source": [
    "plt.hist(df.QF[df.QF< 6000], density=True, bins=100, cumulative=True)"
   ]
  },
  {
   "cell_type": "code",
   "execution_count": 20,
   "id": "6ce61ba4",
   "metadata": {},
   "outputs": [
    {
     "data": {
      "text/plain": [
       "(array([0.04195181, 0.04483239, 0.05696095, 0.06635117, 0.11023017,\n",
       "        0.17319098, 0.26119613, 0.34131084, 0.40099958, 0.45050525,\n",
       "        0.50212118, 0.55444405, 0.59858076, 0.62947217, 0.65441371,\n",
       "        0.67424118, 0.69188164, 0.70861448, 0.72304343, 0.74127747,\n",
       "        0.75697102, 0.77477765, 0.79041699, 0.80376088, 0.81713081,\n",
       "        0.83317361, 0.84699701, 0.85961001, 0.86758072, 0.8792178 ,\n",
       "        0.89129356, 0.90119216, 0.91018384, 0.91790387, 0.92576755,\n",
       "        0.93119425, 0.93778416, 0.94408186, 0.95019367, 0.95480147,\n",
       "        0.9579137 , 0.96056403, 0.96385512, 0.96653995, 0.96881427,\n",
       "        0.97131814, 0.97371006, 0.97601889, 0.97767288, 0.97913253,\n",
       "        0.98029293, 0.98133433, 0.98234334, 0.98355937, 0.98442333,\n",
       "        0.985971  , 0.98736306, 0.98836573, 0.98905859, 0.98981905,\n",
       "        0.99007957, 0.99089777, 0.99141882, 0.99150965, 0.99188495,\n",
       "        0.9922511 , 0.99281862, 0.99358542, 0.99384031, 0.99392832,\n",
       "        0.99439375, 0.9948634 , 0.99513942, 0.99529362, 0.99548444,\n",
       "        0.9956485 , 0.9956485 , 0.99593297, 0.99658288, 0.99727081,\n",
       "        0.99751092, 0.99768413, 0.99768413, 0.99777355, 0.99793339,\n",
       "        0.99840516, 0.99840516, 0.99864597, 0.99864597, 0.9989593 ,\n",
       "        0.9989593 , 0.99919659, 0.99920152, 0.99939093, 0.99939093,\n",
       "        0.99948599, 0.99967469, 0.99976764, 0.99981129, 1.        ]),\n",
       " array([1.0000e+00, 5.8200e+01, 1.1540e+02, 1.7260e+02, 2.2980e+02,\n",
       "        2.8700e+02, 3.4420e+02, 4.0140e+02, 4.5860e+02, 5.1580e+02,\n",
       "        5.7300e+02, 6.3020e+02, 6.8740e+02, 7.4460e+02, 8.0180e+02,\n",
       "        8.5900e+02, 9.1620e+02, 9.7340e+02, 1.0306e+03, 1.0878e+03,\n",
       "        1.1450e+03, 1.2022e+03, 1.2594e+03, 1.3166e+03, 1.3738e+03,\n",
       "        1.4310e+03, 1.4882e+03, 1.5454e+03, 1.6026e+03, 1.6598e+03,\n",
       "        1.7170e+03, 1.7742e+03, 1.8314e+03, 1.8886e+03, 1.9458e+03,\n",
       "        2.0030e+03, 2.0602e+03, 2.1174e+03, 2.1746e+03, 2.2318e+03,\n",
       "        2.2890e+03, 2.3462e+03, 2.4034e+03, 2.4606e+03, 2.5178e+03,\n",
       "        2.5750e+03, 2.6322e+03, 2.6894e+03, 2.7466e+03, 2.8038e+03,\n",
       "        2.8610e+03, 2.9182e+03, 2.9754e+03, 3.0326e+03, 3.0898e+03,\n",
       "        3.1470e+03, 3.2042e+03, 3.2614e+03, 3.3186e+03, 3.3758e+03,\n",
       "        3.4330e+03, 3.4902e+03, 3.5474e+03, 3.6046e+03, 3.6618e+03,\n",
       "        3.7190e+03, 3.7762e+03, 3.8334e+03, 3.8906e+03, 3.9478e+03,\n",
       "        4.0050e+03, 4.0622e+03, 4.1194e+03, 4.1766e+03, 4.2338e+03,\n",
       "        4.2910e+03, 4.3482e+03, 4.4054e+03, 4.4626e+03, 4.5198e+03,\n",
       "        4.5770e+03, 4.6342e+03, 4.6914e+03, 4.7486e+03, 4.8058e+03,\n",
       "        4.8630e+03, 4.9202e+03, 4.9774e+03, 5.0346e+03, 5.0918e+03,\n",
       "        5.1490e+03, 5.2062e+03, 5.2634e+03, 5.3206e+03, 5.3778e+03,\n",
       "        5.4350e+03, 5.4922e+03, 5.5494e+03, 5.6066e+03, 5.6638e+03,\n",
       "        5.7210e+03]),\n",
       " <BarContainer object of 100 artists>)"
      ]
     },
     "execution_count": 20,
     "metadata": {},
     "output_type": "execute_result"
    },
    {
     "data": {
      "image/png": "[encoded data removed]",
      "text/plain": [
       "<Figure size 432x288 with 1 Axes>"
      ]
     },
     "metadata": {
      "needs_background": "light"
     },
     "output_type": "display_data"
    }
   ],
   "source": [
    "plt.hist(df.QF[df.QF< 6000], density=True, bins=100, cumulative=True, weights=df.Nombre[df.QF< 6000])"
   ]
  },
  {
   "cell_type": "code",
   "execution_count": 21,
   "id": "b7838a4e",
   "metadata": {},
   "outputs": [
    {
     "data": {
      "text/plain": [
       "(array([7.33423221e-04, 5.03597582e-05, 2.12037848e-04, 1.64164687e-04,\n",
       "        7.67115389e-04, 1.10071340e-03, 1.53855155e-03, 1.40060693e-03,\n",
       "        1.04350934e-03, 8.65483716e-04, 9.02376455e-04, 9.14735584e-04,\n",
       "        7.71620808e-04, 5.40059475e-04, 4.36040908e-04, 3.46634181e-04,\n",
       "        3.08399663e-04, 2.92532216e-04, 2.52254257e-04, 3.18776900e-04,\n",
       "        2.74362819e-04, 3.11304797e-04, 2.73414957e-04, 2.33284717e-04,\n",
       "        2.33740183e-04, 2.80468524e-04, 2.41667752e-04, 2.20507052e-04,\n",
       "        1.39347950e-04, 2.03445545e-04, 2.11114606e-04, 1.73052428e-04,\n",
       "        1.57197290e-04, 1.34965629e-04, 1.37476847e-04, 9.48723189e-05,\n",
       "        1.15208257e-04, 1.10099652e-04, 1.06849842e-04, 8.05559174e-05,\n",
       "        5.44097119e-05, 4.63344244e-05, 5.75364239e-05, 4.69376089e-05,\n",
       "        3.97609433e-05, 4.37739673e-05, 4.18166949e-05, 4.03641279e-05,\n",
       "        2.89159306e-05, 2.55184011e-05, 2.02866980e-05, 1.82063267e-05,\n",
       "        1.76400718e-05, 2.12591793e-05, 1.51042345e-05, 2.70571373e-05,\n",
       "        2.43366517e-05, 1.75292828e-05, 1.21129313e-05, 1.32946807e-05,\n",
       "        4.55465914e-06, 1.43040917e-05, 9.10931828e-06, 1.58797576e-06,\n",
       "        6.56117114e-06, 6.40114258e-06, 9.92177100e-06, 1.34054697e-05,\n",
       "        4.45618003e-06, 1.53873620e-06, 8.13683701e-06, 8.21069635e-06,\n",
       "        4.82547671e-06, 2.69586582e-06, 3.33598007e-06, 2.86820427e-06,\n",
       "        0.00000000e+00, 4.97319539e-06, 1.13620281e-05, 1.20267621e-05,\n",
       "        4.19767234e-06, 3.02823284e-06, 0.00000000e+00, 1.56335598e-06,\n",
       "        2.79434493e-06, 8.24762601e-06, 0.00000000e+00, 4.20998223e-06,\n",
       "        0.00000000e+00, 5.47790086e-06, 0.00000000e+00, 4.14843279e-06,\n",
       "        8.61692270e-08, 3.31136030e-06, 0.00000000e+00, 1.66183509e-06,\n",
       "        3.29905041e-06, 1.62490542e-06, 7.63213154e-07, 3.29905041e-06]),\n",
       " array([1.0000e+00, 5.8200e+01, 1.1540e+02, 1.7260e+02, 2.2980e+02,\n",
       "        2.8700e+02, 3.4420e+02, 4.0140e+02, 4.5860e+02, 5.1580e+02,\n",
       "        5.7300e+02, 6.3020e+02, 6.8740e+02, 7.4460e+02, 8.0180e+02,\n",
       "        8.5900e+02, 9.1620e+02, 9.7340e+02, 1.0306e+03, 1.0878e+03,\n",
       "        1.1450e+03, 1.2022e+03, 1.2594e+03, 1.3166e+03, 1.3738e+03,\n",
       "        1.4310e+03, 1.4882e+03, 1.5454e+03, 1.6026e+03, 1.6598e+03,\n",
       "        1.7170e+03, 1.7742e+03, 1.8314e+03, 1.8886e+03, 1.9458e+03,\n",
       "        2.0030e+03, 2.0602e+03, 2.1174e+03, 2.1746e+03, 2.2318e+03,\n",
       "        2.2890e+03, 2.3462e+03, 2.4034e+03, 2.4606e+03, 2.5178e+03,\n",
       "        2.5750e+03, 2.6322e+03, 2.6894e+03, 2.7466e+03, 2.8038e+03,\n",
       "        2.8610e+03, 2.9182e+03, 2.9754e+03, 3.0326e+03, 3.0898e+03,\n",
       "        3.1470e+03, 3.2042e+03, 3.2614e+03, 3.3186e+03, 3.3758e+03,\n",
       "        3.4330e+03, 3.4902e+03, 3.5474e+03, 3.6046e+03, 3.6618e+03,\n",
       "        3.7190e+03, 3.7762e+03, 3.8334e+03, 3.8906e+03, 3.9478e+03,\n",
       "        4.0050e+03, 4.0622e+03, 4.1194e+03, 4.1766e+03, 4.2338e+03,\n",
       "        4.2910e+03, 4.3482e+03, 4.4054e+03, 4.4626e+03, 4.5198e+03,\n",
       "        4.5770e+03, 4.6342e+03, 4.6914e+03, 4.7486e+03, 4.8058e+03,\n",
       "        4.8630e+03, 4.9202e+03, 4.9774e+03, 5.0346e+03, 5.0918e+03,\n",
       "        5.1490e+03, 5.2062e+03, 5.2634e+03, 5.3206e+03, 5.3778e+03,\n",
       "        5.4350e+03, 5.4922e+03, 5.5494e+03, 5.6066e+03, 5.6638e+03,\n",
       "        5.7210e+03]),\n",
       " <BarContainer object of 100 artists>)"
      ]
     },
     "execution_count": 21,
     "metadata": {},
     "output_type": "execute_result"
    },
    {
     "data": {
      "image/png": "[encoded data removed]",
      "text/plain": [
       "<Figure size 432x288 with 1 Axes>"
      ]
     },
     "metadata": {
      "needs_background": "light"
     },
     "output_type": "display_data"
    }
   ],
   "source": [
    "plt.hist(df.QF[df.QF< 6000], density=True, bins=100, weights=df.Nombre[df.QF< 6000])"
   ]
  },
  {
   "cell_type": "code",
   "execution_count": 22,
   "id": "d01e372b",
   "metadata": {},
   "outputs": [
    {
     "data": {
      "text/plain": [
       "(array([ 639808., 1052763., 1248666., 1356010., 1390565., 1405742.,\n",
       "        1411578., 1416325., 1418723., 1420201.]),\n",
       " array([1.000e+00, 5.730e+02, 1.145e+03, 1.717e+03, 2.289e+03, 2.861e+03,\n",
       "        3.433e+03, 4.005e+03, 4.577e+03, 5.149e+03, 5.721e+03]),\n",
       " <BarContainer object of 10 artists>)"
      ]
     },
     "execution_count": 22,
     "metadata": {},
     "output_type": "execute_result"
    },
    {
     "data": {
      "image/png": "[encoded data removed]",
      "text/plain": [
       "<Figure size 432x288 with 1 Axes>"
      ]
     },
     "metadata": {
      "needs_background": "light"
     },
     "output_type": "display_data"
    }
   ],
   "source": [
    "plt.hist(df.QF[df.QF< 6000], cumulative=True, weights=df.Nombre[df.QF< 6000])"
   ]
  },
  {
   "cell_type": "code",
   "execution_count": 23,
   "id": "873d801b",
   "metadata": {},
   "outputs": [
    {
     "data": {
      "text/plain": [
       "(array([392203., 181223., 846775.]),\n",
       " array([   0,  410,  520, 6000]),\n",
       " <BarContainer object of 3 artists>)"
      ]
     },
     "execution_count": 23,
     "metadata": {},
     "output_type": "execute_result"
    },
    {
     "data": {
      "image/png": "[encoded data removed]",
      "text/plain": [
       "<Figure size 432x288 with 1 Axes>"
      ]
     },
     "metadata": {
      "needs_background": "light"
     },
     "output_type": "display_data"
    }
   ],
   "source": [
    "plt.hist(df.QF[df.QF< 6000], bins=[0, 410, 520, 6000], weights=df.Nombre[df.QF< 6000])"
   ]
  },
  {
   "cell_type": "code",
   "execution_count": 24,
   "id": "81e7af9d",
   "metadata": {},
   "outputs": [
    {
     "data": {
      "text/plain": [
       "(array([55371.,     0.,   132.,     0.,   125.,   264.,  1068.,   256.,\n",
       "          270.,   822.,  1017.,    69.,     0.,   186.,   134.,   408.,\n",
       "          332.,   305.,   338.,   264.,   271.,     0.,     0.,   271.,\n",
       "          404.,   550.,   376.,   438.,   279.,  2083.,  1960.,   480.,\n",
       "         1167.,  1585.,  1306.,  1206.,   803.,   949.,   770.,  2156.,\n",
       "         1153.,  1328.,  1904.,  1065.,   272.,  1019.,  1157.,   966.,\n",
       "          664.,   837.,   878.,   572.,   280.,   756.,  2287.,   679.,\n",
       "         2879.,  2488.,  2226.,  6213.,  3526.,  4618.,  7970.,  3535.,\n",
       "         5835.,  2747.,  5495.,  4907.,  4665.,  5213.,  7782.,  4695.,\n",
       "         3773.,  5213.,  5710.,  5360.,  4424.,  8054.,  5666.,  5478.,\n",
       "         8269.,  9435.,  6166.,  8114.,  7480.,  8990.,  7955., 10246.,\n",
       "         7713.,  5624.,  5646.,  7087., 10058.,  9568.,  9705., 10720.,\n",
       "        11110., 11966., 12307., 11340.]),\n",
       " array([  1.  ,   5.08,   9.16,  13.24,  17.32,  21.4 ,  25.48,  29.56,\n",
       "         33.64,  37.72,  41.8 ,  45.88,  49.96,  54.04,  58.12,  62.2 ,\n",
       "         66.28,  70.36,  74.44,  78.52,  82.6 ,  86.68,  90.76,  94.84,\n",
       "         98.92, 103.  , 107.08, 111.16, 115.24, 119.32, 123.4 , 127.48,\n",
       "        131.56, 135.64, 139.72, 143.8 , 147.88, 151.96, 156.04, 160.12,\n",
       "        164.2 , 168.28, 172.36, 176.44, 180.52, 184.6 , 188.68, 192.76,\n",
       "        196.84, 200.92, 205.  , 209.08, 213.16, 217.24, 221.32, 225.4 ,\n",
       "        229.48, 233.56, 237.64, 241.72, 245.8 , 249.88, 253.96, 258.04,\n",
       "        262.12, 266.2 , 270.28, 274.36, 278.44, 282.52, 286.6 , 290.68,\n",
       "        294.76, 298.84, 302.92, 307.  , 311.08, 315.16, 319.24, 323.32,\n",
       "        327.4 , 331.48, 335.56, 339.64, 343.72, 347.8 , 351.88, 355.96,\n",
       "        360.04, 364.12, 368.2 , 372.28, 376.36, 380.44, 384.52, 388.6 ,\n",
       "        392.68, 396.76, 400.84, 404.92, 409.  ]),\n",
       " <BarContainer object of 100 artists>)"
      ]
     },
     "execution_count": 24,
     "metadata": {},
     "output_type": "execute_result"
    },
    {
     "data": {
      "image/png": "[encoded data removed]",
      "text/plain": [
       "<Figure size 432x288 with 1 Axes>"
      ]
     },
     "metadata": {
      "needs_background": "light"
     },
     "output_type": "display_data"
    }
   ],
   "source": [
    "inf, sup = (0, 410)\n",
    "cond = (inf < df.QF) & (df.QF < sup)\n",
    "plt.hist(df.QF[cond], bins=100, weights=df.Nombre[cond])"
   ]
  },
  {
   "cell_type": "code",
   "execution_count": 25,
   "id": "ecb19b71",
   "metadata": {},
   "outputs": [
    {
     "data": {
      "text/plain": [
       "(array([22391., 22212., 21831., 16958., 16586., 20921., 19304., 12511.,\n",
       "        14359., 11586.]),\n",
       " array([411. , 421.8, 432.6, 443.4, 454.2, 465. , 475.8, 486.6, 497.4,\n",
       "        508.2, 519. ]),\n",
       " <BarContainer object of 10 artists>)"
      ]
     },
     "execution_count": 25,
     "metadata": {},
     "output_type": "execute_result"
    },
    {
     "data": {
      "image/png": "[encoded data removed]",
      "text/plain": [
       "<Figure size 432x288 with 1 Axes>"
      ]
     },
     "metadata": {
      "needs_background": "light"
     },
     "output_type": "display_data"
    }
   ],
   "source": [
    "inf, sup = (410, 520)\n",
    "cond = (inf < df.QF) & (df.QF < sup)\n",
    "plt.hist(df.QF[cond], bins=10, weights=df.Nombre[cond])"
   ]
  },
  {
   "cell_type": "code",
   "execution_count": 26,
   "id": "d35c7aa6",
   "metadata": {},
   "outputs": [
    {
     "data": {
      "text/plain": [
       "(array([22391., 22212., 21831., 16958., 16586., 20921., 19304., 12511.,\n",
       "        14359., 11586.]),\n",
       " array([411. , 421.8, 432.6, 443.4, 454.2, 465. , 475.8, 486.6, 497.4,\n",
       "        508.2, 519. ]),\n",
       " <BarContainer object of 10 artists>)"
      ]
     },
     "execution_count": 26,
     "metadata": {},
     "output_type": "execute_result"
    },
    {
     "data": {
      "image/png": "[encoded data removed]",
      "text/plain": [
       "<Figure size 432x288 with 1 Axes>"
      ]
     },
     "metadata": {
      "needs_background": "light"
     },
     "output_type": "display_data"
    }
   ],
   "source": [
    "inf, sup = (410, 520)\n",
    "cond = (inf < df.QF) & (df.QF < sup)\n",
    "plt.hist(df.QF[cond], bins=10, weights=df.Nombre[cond])"
   ]
  },
  {
   "cell_type": "code",
   "execution_count": null,
   "id": "009d469a",
   "metadata": {},
   "outputs": [],
   "source": []
  },
  {
   "cell_type": "code",
   "execution_count": 27,
   "id": "7ed7dba0",
   "metadata": {},
   "outputs": [
    {
     "data": {
      "text/html": [
       "<div>\n",
       "<style scoped>\n",
       "    .dataframe tbody tr th:only-of-type {\n",
       "        vertical-align: middle;\n",
       "    }\n",
       "\n",
       "    .dataframe tbody tr th {\n",
       "        vertical-align: top;\n",
       "    }\n",
       "\n",
       "    .dataframe thead th {\n",
       "        text-align: right;\n",
       "    }\n",
       "</style>\n",
       "<table border=\"1\" class=\"dataframe\">\n",
       "  <thead>\n",
       "    <tr style=\"text-align: right;\">\n",
       "      <th></th>\n",
       "      <th>Id Personne</th>\n",
       "      <th>Id Famille</th>\n",
       "      <th>QF</th>\n",
       "      <th>Type repas</th>\n",
       "      <th>Nombre</th>\n",
       "      <th>id gale ou non</th>\n",
       "      <th>type de repas simplifi par tarif identique</th>\n",
       "      <th>Repas</th>\n",
       "    </tr>\n",
       "  </thead>\n",
       "  <tbody>\n",
       "    <tr>\n",
       "      <th>7167</th>\n",
       "      <td>6691</td>\n",
       "      <td>443</td>\n",
       "      <td>379</td>\n",
       "      <td>Repas Sans Porc</td>\n",
       "      <td>62</td>\n",
       "      <td>oui</td>\n",
       "      <td>Repas Standard</td>\n",
       "      <td>cantine</td>\n",
       "    </tr>\n",
       "    <tr>\n",
       "      <th>7168</th>\n",
       "      <td>6691</td>\n",
       "      <td>443</td>\n",
       "      <td>1030</td>\n",
       "      <td>Repas Halal</td>\n",
       "      <td>41</td>\n",
       "      <td>oui</td>\n",
       "      <td>Repas Standard</td>\n",
       "      <td>cantine</td>\n",
       "    </tr>\n",
       "    <tr>\n",
       "      <th>7169</th>\n",
       "      <td>6691</td>\n",
       "      <td>443</td>\n",
       "      <td>1030</td>\n",
       "      <td>Repas Sans Porc</td>\n",
       "      <td>14</td>\n",
       "      <td>NaN</td>\n",
       "      <td>Repas Standard</td>\n",
       "      <td>cantine</td>\n",
       "    </tr>\n",
       "  </tbody>\n",
       "</table>\n",
       "</div>"
      ],
      "text/plain": [
       "      Id Personne  Id Famille    QF       Type repas  Nombre id gale ou non   \\\n",
       "7167         6691         443   379  Repas Sans Porc      62              oui   \n",
       "7168         6691         443  1030      Repas Halal      41              oui   \n",
       "7169         6691         443  1030  Repas Sans Porc      14              NaN   \n",
       "\n",
       "     type de repas simplifi par tarif identique     Repas  \n",
       "7167                               Repas Standard  cantine  \n",
       "7168                               Repas Standard  cantine  \n",
       "7169                               Repas Standard  cantine  "
      ]
     },
     "execution_count": 27,
     "metadata": {},
     "output_type": "execute_result"
    }
   ],
   "source": [
    "df[df['Id Famille'] == 443]"
   ]
  },
  {
   "cell_type": "code",
   "execution_count": 28,
   "id": "5ddba223",
   "metadata": {},
   "outputs": [],
   "source": [
    "df.QF = np.minimum(df.QF, 99999)"
   ]
  },
  {
   "cell_type": "code",
   "execution_count": 29,
   "id": "446a69bf",
   "metadata": {},
   "outputs": [
    {
     "data": {
      "text/html": [
       "<div>\n",
       "<style scoped>\n",
       "    .dataframe tbody tr th:only-of-type {\n",
       "        vertical-align: middle;\n",
       "    }\n",
       "\n",
       "    .dataframe tbody tr th {\n",
       "        vertical-align: top;\n",
       "    }\n",
       "\n",
       "    .dataframe thead th {\n",
       "        text-align: right;\n",
       "    }\n",
       "</style>\n",
       "<table border=\"1\" class=\"dataframe\">\n",
       "  <thead>\n",
       "    <tr style=\"text-align: right;\">\n",
       "      <th></th>\n",
       "      <th></th>\n",
       "      <th>Repas</th>\n",
       "      <th>cantine</th>\n",
       "      <th>cantine_panier</th>\n",
       "      <th>cantine_vegetarien</th>\n",
       "    </tr>\n",
       "    <tr>\n",
       "      <th>Id Personne</th>\n",
       "      <th>Id Famille</th>\n",
       "      <th>QF</th>\n",
       "      <th></th>\n",
       "      <th></th>\n",
       "      <th></th>\n",
       "    </tr>\n",
       "  </thead>\n",
       "  <tbody>\n",
       "    <tr>\n",
       "      <th>1</th>\n",
       "      <th>325</th>\n",
       "      <th>99999</th>\n",
       "      <td>0.0</td>\n",
       "      <td>0</td>\n",
       "      <td>2</td>\n",
       "    </tr>\n",
       "    <tr>\n",
       "      <th>2</th>\n",
       "      <th>497</th>\n",
       "      <th>636</th>\n",
       "      <td>1.0</td>\n",
       "      <td>0</td>\n",
       "      <td>0</td>\n",
       "    </tr>\n",
       "    <tr>\n",
       "      <th>3</th>\n",
       "      <th>762</th>\n",
       "      <th>99999</th>\n",
       "      <td>1.0</td>\n",
       "      <td>0</td>\n",
       "      <td>0</td>\n",
       "    </tr>\n",
       "    <tr>\n",
       "      <th rowspan=\"2\" valign=\"top\">4</th>\n",
       "      <th rowspan=\"2\" valign=\"top\">770</th>\n",
       "      <th>392</th>\n",
       "      <td>125.0</td>\n",
       "      <td>0</td>\n",
       "      <td>0</td>\n",
       "    </tr>\n",
       "    <tr>\n",
       "      <th>99999</th>\n",
       "      <td>1.0</td>\n",
       "      <td>0</td>\n",
       "      <td>0</td>\n",
       "    </tr>\n",
       "    <tr>\n",
       "      <th>...</th>\n",
       "      <th>...</th>\n",
       "      <th>...</th>\n",
       "      <td>...</td>\n",
       "      <td>...</td>\n",
       "      <td>...</td>\n",
       "    </tr>\n",
       "    <tr>\n",
       "      <th>15579</th>\n",
       "      <th>10849</th>\n",
       "      <th>99999</th>\n",
       "      <td>8.0</td>\n",
       "      <td>0</td>\n",
       "      <td>0</td>\n",
       "    </tr>\n",
       "    <tr>\n",
       "      <th>15580</th>\n",
       "      <th>10850</th>\n",
       "      <th>99999</th>\n",
       "      <td>13.0</td>\n",
       "      <td>0</td>\n",
       "      <td>0</td>\n",
       "    </tr>\n",
       "    <tr>\n",
       "      <th>15581</th>\n",
       "      <th>10851</th>\n",
       "      <th>259</th>\n",
       "      <td>12.0</td>\n",
       "      <td>0</td>\n",
       "      <td>0</td>\n",
       "    </tr>\n",
       "    <tr>\n",
       "      <th>15582</th>\n",
       "      <th>10852</th>\n",
       "      <th>620</th>\n",
       "      <td>14.0</td>\n",
       "      <td>0</td>\n",
       "      <td>0</td>\n",
       "    </tr>\n",
       "    <tr>\n",
       "      <th>15583</th>\n",
       "      <th>10852</th>\n",
       "      <th>620</th>\n",
       "      <td>10.0</td>\n",
       "      <td>0</td>\n",
       "      <td>0</td>\n",
       "    </tr>\n",
       "  </tbody>\n",
       "</table>\n",
       "<p>16657 rows × 3 columns</p>\n",
       "</div>"
      ],
      "text/plain": [
       "Repas                         cantine  cantine_panier  cantine_vegetarien\n",
       "Id Personne Id Famille QF                                                \n",
       "1           325        99999      0.0               0                   2\n",
       "2           497        636        1.0               0                   0\n",
       "3           762        99999      1.0               0                   0\n",
       "4           770        392      125.0               0                   0\n",
       "                       99999      1.0               0                   0\n",
       "...                               ...             ...                 ...\n",
       "15579       10849      99999      8.0               0                   0\n",
       "15580       10850      99999     13.0               0                   0\n",
       "15581       10851      259       12.0               0                   0\n",
       "15582       10852      620       14.0               0                   0\n",
       "15583       10852      620       10.0               0                   0\n",
       "\n",
       "[16657 rows x 3 columns]"
      ]
     },
     "execution_count": 29,
     "metadata": {},
     "output_type": "execute_result"
    }
   ],
   "source": [
    "bogus_raw_df = pd.pivot_table(df, index=[\"Id Personne\", \"Id Famille\", \"QF\"], columns=\"Repas\", values=\"Nombre\", fill_value=0)\n",
    "bogus_raw_df"
   ]
  },
  {
   "cell_type": "code",
   "execution_count": 31,
   "id": "0a4e0cee",
   "metadata": {},
   "outputs": [
    {
     "data": {
      "text/html": [
       "<div>\n",
       "<style scoped>\n",
       "    .dataframe tbody tr th:only-of-type {\n",
       "        vertical-align: middle;\n",
       "    }\n",
       "\n",
       "    .dataframe tbody tr th {\n",
       "        vertical-align: top;\n",
       "    }\n",
       "\n",
       "    .dataframe thead th {\n",
       "        text-align: right;\n",
       "    }\n",
       "</style>\n",
       "<table border=\"1\" class=\"dataframe\">\n",
       "  <thead>\n",
       "    <tr style=\"text-align: right;\">\n",
       "      <th></th>\n",
       "      <th></th>\n",
       "      <th>Repas</th>\n",
       "      <th>cantine</th>\n",
       "      <th>cantine_panier</th>\n",
       "      <th>cantine_vegetarien</th>\n",
       "    </tr>\n",
       "    <tr>\n",
       "      <th>Id Personne</th>\n",
       "      <th>Id Famille</th>\n",
       "      <th>QF</th>\n",
       "      <th></th>\n",
       "      <th></th>\n",
       "      <th></th>\n",
       "    </tr>\n",
       "  </thead>\n",
       "  <tbody>\n",
       "  </tbody>\n",
       "</table>\n",
       "</div>"
      ],
      "text/plain": [
       "Empty DataFrame\n",
       "Columns: [cantine, cantine_panier, cantine_vegetarien]\n",
       "Index: []"
      ]
     },
     "execution_count": 31,
     "metadata": {},
     "output_type": "execute_result"
    }
   ],
   "source": [
    "raw_df = pd.pivot_table(df, index=[\"Id Personne\", \"Id Famille\", \"QF\"], columns=\"Repas\", values=\"Nombre\", fill_value=0, aggfunc=np.sum)\n",
    "raw_df[raw_df.index == (6691, 443, 1030)]"
   ]
  },
  {
   "cell_type": "code",
   "execution_count": 32,
   "id": "fc883eaa",
   "metadata": {},
   "outputs": [
    {
     "data": {
      "text/html": [
       "<div>\n",
       "<style scoped>\n",
       "    .dataframe tbody tr th:only-of-type {\n",
       "        vertical-align: middle;\n",
       "    }\n",
       "\n",
       "    .dataframe tbody tr th {\n",
       "        vertical-align: top;\n",
       "    }\n",
       "\n",
       "    .dataframe thead th {\n",
       "        text-align: right;\n",
       "    }\n",
       "</style>\n",
       "<table border=\"1\" class=\"dataframe\">\n",
       "  <thead>\n",
       "    <tr style=\"text-align: right;\">\n",
       "      <th></th>\n",
       "      <th></th>\n",
       "      <th>Repas</th>\n",
       "      <th>cantine</th>\n",
       "      <th>cantine_panier</th>\n",
       "      <th>cantine_vegetarien</th>\n",
       "    </tr>\n",
       "    <tr>\n",
       "      <th>Id Personne</th>\n",
       "      <th>Id Famille</th>\n",
       "      <th>QF</th>\n",
       "      <th></th>\n",
       "      <th></th>\n",
       "      <th></th>\n",
       "    </tr>\n",
       "  </thead>\n",
       "  <tbody>\n",
       "  </tbody>\n",
       "</table>\n",
       "</div>"
      ],
      "text/plain": [
       "Empty DataFrame\n",
       "Columns: [cantine, cantine_panier, cantine_vegetarien]\n",
       "Index: []"
      ]
     },
     "execution_count": 32,
     "metadata": {},
     "output_type": "execute_result"
    }
   ],
   "source": [
    "raw_df[raw_df.index == (6691, 443, 1030)]"
   ]
  },
  {
   "cell_type": "code",
   "execution_count": 33,
   "id": "e7cd3860",
   "metadata": {},
   "outputs": [
    {
     "data": {
      "text/html": [
       "<div>\n",
       "<style scoped>\n",
       "    .dataframe tbody tr th:only-of-type {\n",
       "        vertical-align: middle;\n",
       "    }\n",
       "\n",
       "    .dataframe tbody tr th {\n",
       "        vertical-align: top;\n",
       "    }\n",
       "\n",
       "    .dataframe thead th {\n",
       "        text-align: right;\n",
       "    }\n",
       "</style>\n",
       "<table border=\"1\" class=\"dataframe\">\n",
       "  <thead>\n",
       "    <tr style=\"text-align: right;\">\n",
       "      <th>Repas</th>\n",
       "      <th>Id Personne</th>\n",
       "      <th>Id Famille</th>\n",
       "      <th>QF</th>\n",
       "      <th>cantine</th>\n",
       "      <th>cantine_panier</th>\n",
       "      <th>cantine_vegetarien</th>\n",
       "    </tr>\n",
       "  </thead>\n",
       "  <tbody>\n",
       "    <tr>\n",
       "      <th>0</th>\n",
       "      <td>1</td>\n",
       "      <td>325</td>\n",
       "      <td>99999</td>\n",
       "      <td>0</td>\n",
       "      <td>0</td>\n",
       "      <td>2</td>\n",
       "    </tr>\n",
       "    <tr>\n",
       "      <th>1</th>\n",
       "      <td>2</td>\n",
       "      <td>497</td>\n",
       "      <td>636</td>\n",
       "      <td>1</td>\n",
       "      <td>0</td>\n",
       "      <td>0</td>\n",
       "    </tr>\n",
       "    <tr>\n",
       "      <th>2</th>\n",
       "      <td>3</td>\n",
       "      <td>762</td>\n",
       "      <td>99999</td>\n",
       "      <td>1</td>\n",
       "      <td>0</td>\n",
       "      <td>0</td>\n",
       "    </tr>\n",
       "    <tr>\n",
       "      <th>3</th>\n",
       "      <td>4</td>\n",
       "      <td>770</td>\n",
       "      <td>392</td>\n",
       "      <td>125</td>\n",
       "      <td>0</td>\n",
       "      <td>0</td>\n",
       "    </tr>\n",
       "    <tr>\n",
       "      <th>4</th>\n",
       "      <td>4</td>\n",
       "      <td>770</td>\n",
       "      <td>99999</td>\n",
       "      <td>1</td>\n",
       "      <td>0</td>\n",
       "      <td>0</td>\n",
       "    </tr>\n",
       "    <tr>\n",
       "      <th>...</th>\n",
       "      <td>...</td>\n",
       "      <td>...</td>\n",
       "      <td>...</td>\n",
       "      <td>...</td>\n",
       "      <td>...</td>\n",
       "      <td>...</td>\n",
       "    </tr>\n",
       "    <tr>\n",
       "      <th>16652</th>\n",
       "      <td>15579</td>\n",
       "      <td>10849</td>\n",
       "      <td>99999</td>\n",
       "      <td>8</td>\n",
       "      <td>0</td>\n",
       "      <td>0</td>\n",
       "    </tr>\n",
       "    <tr>\n",
       "      <th>16653</th>\n",
       "      <td>15580</td>\n",
       "      <td>10850</td>\n",
       "      <td>99999</td>\n",
       "      <td>13</td>\n",
       "      <td>0</td>\n",
       "      <td>0</td>\n",
       "    </tr>\n",
       "    <tr>\n",
       "      <th>16654</th>\n",
       "      <td>15581</td>\n",
       "      <td>10851</td>\n",
       "      <td>259</td>\n",
       "      <td>12</td>\n",
       "      <td>0</td>\n",
       "      <td>0</td>\n",
       "    </tr>\n",
       "    <tr>\n",
       "      <th>16655</th>\n",
       "      <td>15582</td>\n",
       "      <td>10852</td>\n",
       "      <td>620</td>\n",
       "      <td>14</td>\n",
       "      <td>0</td>\n",
       "      <td>0</td>\n",
       "    </tr>\n",
       "    <tr>\n",
       "      <th>16656</th>\n",
       "      <td>15583</td>\n",
       "      <td>10852</td>\n",
       "      <td>620</td>\n",
       "      <td>10</td>\n",
       "      <td>0</td>\n",
       "      <td>0</td>\n",
       "    </tr>\n",
       "  </tbody>\n",
       "</table>\n",
       "<p>16657 rows × 6 columns</p>\n",
       "</div>"
      ],
      "text/plain": [
       "Repas  Id Personne  Id Famille     QF  cantine  cantine_panier  \\\n",
       "0                1         325  99999        0               0   \n",
       "1                2         497    636        1               0   \n",
       "2                3         762  99999        1               0   \n",
       "3                4         770    392      125               0   \n",
       "4                4         770  99999        1               0   \n",
       "...            ...         ...    ...      ...             ...   \n",
       "16652        15579       10849  99999        8               0   \n",
       "16653        15580       10850  99999       13               0   \n",
       "16654        15581       10851    259       12               0   \n",
       "16655        15582       10852    620       14               0   \n",
       "16656        15583       10852    620       10               0   \n",
       "\n",
       "Repas  cantine_vegetarien  \n",
       "0                       2  \n",
       "1                       0  \n",
       "2                       0  \n",
       "3                       0  \n",
       "4                       0  \n",
       "...                   ...  \n",
       "16652                   0  \n",
       "16653                   0  \n",
       "16654                   0  \n",
       "16655                   0  \n",
       "16656                   0  \n",
       "\n",
       "[16657 rows x 6 columns]"
      ]
     },
     "execution_count": 33,
     "metadata": {},
     "output_type": "execute_result"
    }
   ],
   "source": [
    "flat_df = raw_df.reset_index()\n",
    "flat_df"
   ]
  },
  {
   "cell_type": "code",
   "execution_count": 34,
   "id": "1202be14",
   "metadata": {},
   "outputs": [
    {
     "data": {
      "text/html": [
       "<div>\n",
       "<style scoped>\n",
       "    .dataframe tbody tr th:only-of-type {\n",
       "        vertical-align: middle;\n",
       "    }\n",
       "\n",
       "    .dataframe tbody tr th {\n",
       "        vertical-align: top;\n",
       "    }\n",
       "\n",
       "    .dataframe thead th {\n",
       "        text-align: right;\n",
       "    }\n",
       "</style>\n",
       "<table border=\"1\" class=\"dataframe\">\n",
       "  <thead>\n",
       "    <tr style=\"text-align: right;\">\n",
       "      <th>Repas</th>\n",
       "      <th>Id Personne</th>\n",
       "      <th>Id Famille</th>\n",
       "      <th>QF</th>\n",
       "      <th>cantine</th>\n",
       "      <th>cantine_panier</th>\n",
       "      <th>cantine_vegetarien</th>\n",
       "    </tr>\n",
       "  </thead>\n",
       "  <tbody>\n",
       "    <tr>\n",
       "      <th>7057</th>\n",
       "      <td>6691</td>\n",
       "      <td>443</td>\n",
       "      <td>379</td>\n",
       "      <td>62</td>\n",
       "      <td>0</td>\n",
       "      <td>0</td>\n",
       "    </tr>\n",
       "    <tr>\n",
       "      <th>7058</th>\n",
       "      <td>6691</td>\n",
       "      <td>443</td>\n",
       "      <td>1030</td>\n",
       "      <td>55</td>\n",
       "      <td>0</td>\n",
       "      <td>0</td>\n",
       "    </tr>\n",
       "  </tbody>\n",
       "</table>\n",
       "</div>"
      ],
      "text/plain": [
       "Repas  Id Personne  Id Famille    QF  cantine  cantine_panier  \\\n",
       "7057          6691         443   379       62               0   \n",
       "7058          6691         443  1030       55               0   \n",
       "\n",
       "Repas  cantine_vegetarien  \n",
       "7057                    0  \n",
       "7058                    0  "
      ]
     },
     "execution_count": 34,
     "metadata": {},
     "output_type": "execute_result"
    }
   ],
   "source": [
    "flat_df[flat_df['Id Famille'] == 443]"
   ]
  },
  {
   "cell_type": "code",
   "execution_count": 35,
   "id": "08a49ae3",
   "metadata": {},
   "outputs": [
    {
     "data": {
      "text/plain": [
       "0          32599999\n",
       "1          49700636\n",
       "2          76299999\n",
       "3          77000392\n",
       "4          77099999\n",
       "            ...    \n",
       "16652    1084999999\n",
       "16653    1085099999\n",
       "16654    1085100259\n",
       "16655    1085200620\n",
       "16656    1085200620\n",
       "Length: 16657, dtype: int64"
      ]
     },
     "execution_count": 35,
     "metadata": {},
     "output_type": "execute_result"
    }
   ],
   "source": [
    "familles_ids = flat_df[\"Id Famille\"] * 100000 + flat_df.QF\n",
    "familles_ids"
   ]
  },
  {
   "cell_type": "code",
   "execution_count": 36,
   "id": "92ca24dd",
   "metadata": {},
   "outputs": [
    {
     "data": {
      "text/plain": [
       "(array([    100301,     200455,     300601, ..., 1085099999, 1085100259,\n",
       "        1085200620], dtype=int64),\n",
       " array([14700,  4244,  3271, ..., 16653, 16654, 16655]),\n",
       " array([  334,   514,   786, ..., 11608, 11609, 11609]))"
      ]
     },
     "execution_count": 36,
     "metadata": {},
     "output_type": "execute_result"
    }
   ],
   "source": [
    "(unique_famille_ids, famille_idx, famille_id_inv) = np.unique(familles_ids, return_index=True, return_inverse=True)\n",
    "unique_famille_ids, famille_idx, famille_id_inv"
   ]
  },
  {
   "cell_type": "code",
   "execution_count": 37,
   "id": "35146a51",
   "metadata": {},
   "outputs": [
    {
     "data": {
      "text/plain": [
       "array([    100301,     200455,     300601, ..., 1085099999, 1085100259,\n",
       "       1085200620], dtype=int64)"
      ]
     },
     "execution_count": 37,
     "metadata": {},
     "output_type": "execute_result"
    }
   ],
   "source": [
    "unique_famille_ids"
   ]
  },
  {
   "cell_type": "code",
   "execution_count": 38,
   "id": "f9f77978",
   "metadata": {},
   "outputs": [
    {
     "data": {
      "text/plain": [
       "16657"
      ]
     },
     "execution_count": 38,
     "metadata": {},
     "output_type": "execute_result"
    }
   ],
   "source": [
    "len(famille_id_inv)"
   ]
  },
  {
   "cell_type": "code",
   "execution_count": 39,
   "id": "729154ec",
   "metadata": {},
   "outputs": [
    {
     "data": {
      "text/plain": [
       "11610"
      ]
     },
     "execution_count": 39,
     "metadata": {},
     "output_type": "execute_result"
    }
   ],
   "source": [
    "len(famille_idx)"
   ]
  },
  {
   "cell_type": "code",
   "execution_count": 40,
   "id": "7d7f25d6",
   "metadata": {},
   "outputs": [
    {
     "data": {
      "text/plain": [
       "array([    0,     1,     2, ..., 16654, 16655, 16655])"
      ]
     },
     "execution_count": 40,
     "metadata": {},
     "output_type": "execute_result"
    }
   ],
   "source": [
    "famille_idx[famille_id_inv]"
   ]
  },
  {
   "cell_type": "code",
   "execution_count": 41,
   "id": "972d8d33",
   "metadata": {},
   "outputs": [
    {
     "data": {
      "text/plain": [
       "array([    100301,     200455,     300601, ..., 1085099999, 1085100259,\n",
       "       1085200620], dtype=int64)"
      ]
     },
     "execution_count": 41,
     "metadata": {},
     "output_type": "execute_result"
    }
   ],
   "source": [
    "unique_famille_ids"
   ]
  },
  {
   "cell_type": "code",
   "execution_count": 42,
   "id": "1e88be52",
   "metadata": {},
   "outputs": [
    {
     "data": {
      "text/plain": [
       "11610"
      ]
     },
     "execution_count": 42,
     "metadata": {},
     "output_type": "execute_result"
    }
   ],
   "source": [
    "len(unique_famille_ids)"
   ]
  },
  {
   "cell_type": "code",
   "execution_count": 43,
   "id": "b27ebfbe",
   "metadata": {},
   "outputs": [
    {
     "data": {
      "text/plain": [
       "array([  334,   514,   786, ..., 11608, 11609, 11609])"
      ]
     },
     "execution_count": 43,
     "metadata": {},
     "output_type": "execute_result"
    }
   ],
   "source": [
    "famille_id_inv"
   ]
  },
  {
   "cell_type": "code",
   "execution_count": 44,
   "id": "4a206e58",
   "metadata": {},
   "outputs": [
    {
     "data": {
      "text/html": [
       "<div>\n",
       "<style scoped>\n",
       "    .dataframe tbody tr th:only-of-type {\n",
       "        vertical-align: middle;\n",
       "    }\n",
       "\n",
       "    .dataframe tbody tr th {\n",
       "        vertical-align: top;\n",
       "    }\n",
       "\n",
       "    .dataframe thead th {\n",
       "        text-align: right;\n",
       "    }\n",
       "</style>\n",
       "<table border=\"1\" class=\"dataframe\">\n",
       "  <thead>\n",
       "    <tr style=\"text-align: right;\">\n",
       "      <th></th>\n",
       "      <th>famille_id</th>\n",
       "      <th>strasbourg_metropole_nombre_repas_cantine</th>\n",
       "      <th>strasbourg_metropole_nombre_repas_cantine_vegetarien</th>\n",
       "      <th>strasbourg_metropole_nombre_repas_cantine_panier</th>\n",
       "    </tr>\n",
       "  </thead>\n",
       "  <tbody>\n",
       "    <tr>\n",
       "      <th>0</th>\n",
       "      <td>334</td>\n",
       "      <td>0</td>\n",
       "      <td>2</td>\n",
       "      <td>0</td>\n",
       "    </tr>\n",
       "    <tr>\n",
       "      <th>1</th>\n",
       "      <td>514</td>\n",
       "      <td>1</td>\n",
       "      <td>0</td>\n",
       "      <td>0</td>\n",
       "    </tr>\n",
       "    <tr>\n",
       "      <th>2</th>\n",
       "      <td>786</td>\n",
       "      <td>1</td>\n",
       "      <td>0</td>\n",
       "      <td>0</td>\n",
       "    </tr>\n",
       "    <tr>\n",
       "      <th>3</th>\n",
       "      <td>794</td>\n",
       "      <td>125</td>\n",
       "      <td>0</td>\n",
       "      <td>0</td>\n",
       "    </tr>\n",
       "    <tr>\n",
       "      <th>4</th>\n",
       "      <td>795</td>\n",
       "      <td>1</td>\n",
       "      <td>0</td>\n",
       "      <td>0</td>\n",
       "    </tr>\n",
       "    <tr>\n",
       "      <th>...</th>\n",
       "      <td>...</td>\n",
       "      <td>...</td>\n",
       "      <td>...</td>\n",
       "      <td>...</td>\n",
       "    </tr>\n",
       "    <tr>\n",
       "      <th>16652</th>\n",
       "      <td>11606</td>\n",
       "      <td>8</td>\n",
       "      <td>0</td>\n",
       "      <td>0</td>\n",
       "    </tr>\n",
       "    <tr>\n",
       "      <th>16653</th>\n",
       "      <td>11607</td>\n",
       "      <td>13</td>\n",
       "      <td>0</td>\n",
       "      <td>0</td>\n",
       "    </tr>\n",
       "    <tr>\n",
       "      <th>16654</th>\n",
       "      <td>11608</td>\n",
       "      <td>12</td>\n",
       "      <td>0</td>\n",
       "      <td>0</td>\n",
       "    </tr>\n",
       "    <tr>\n",
       "      <th>16655</th>\n",
       "      <td>11609</td>\n",
       "      <td>14</td>\n",
       "      <td>0</td>\n",
       "      <td>0</td>\n",
       "    </tr>\n",
       "    <tr>\n",
       "      <th>16656</th>\n",
       "      <td>11609</td>\n",
       "      <td>10</td>\n",
       "      <td>0</td>\n",
       "      <td>0</td>\n",
       "    </tr>\n",
       "  </tbody>\n",
       "</table>\n",
       "<p>16657 rows × 4 columns</p>\n",
       "</div>"
      ],
      "text/plain": [
       "       famille_id  strasbourg_metropole_nombre_repas_cantine  \\\n",
       "0             334                                          0   \n",
       "1             514                                          1   \n",
       "2             786                                          1   \n",
       "3             794                                        125   \n",
       "4             795                                          1   \n",
       "...           ...                                        ...   \n",
       "16652       11606                                          8   \n",
       "16653       11607                                         13   \n",
       "16654       11608                                         12   \n",
       "16655       11609                                         14   \n",
       "16656       11609                                         10   \n",
       "\n",
       "       strasbourg_metropole_nombre_repas_cantine_vegetarien  \\\n",
       "0                                                      2      \n",
       "1                                                      0      \n",
       "2                                                      0      \n",
       "3                                                      0      \n",
       "4                                                      0      \n",
       "...                                                  ...      \n",
       "16652                                                  0      \n",
       "16653                                                  0      \n",
       "16654                                                  0      \n",
       "16655                                                  0      \n",
       "16656                                                  0      \n",
       "\n",
       "       strasbourg_metropole_nombre_repas_cantine_panier  \n",
       "0                                                     0  \n",
       "1                                                     0  \n",
       "2                                                     0  \n",
       "3                                                     0  \n",
       "4                                                     0  \n",
       "...                                                 ...  \n",
       "16652                                                 0  \n",
       "16653                                                 0  \n",
       "16654                                                 0  \n",
       "16655                                                 0  \n",
       "16656                                                 0  \n",
       "\n",
       "[16657 rows x 4 columns]"
      ]
     },
     "execution_count": 44,
     "metadata": {},
     "output_type": "execute_result"
    }
   ],
   "source": [
    "individu_df = pd.DataFrame({\n",
    "    'famille_id': famille_id_inv,\n",
    "    'strasbourg_metropole_nombre_repas_cantine':flat_df.cantine,\n",
    "    'strasbourg_metropole_nombre_repas_cantine_vegetarien':flat_df.cantine_vegetarien,\n",
    "    'strasbourg_metropole_nombre_repas_cantine_panier':flat_df.cantine_panier,\n",
    "})\n",
    "individu_df"
   ]
  },
  {
   "cell_type": "code",
   "execution_count": 45,
   "id": "fc9b7ca9",
   "metadata": {},
   "outputs": [
    {
     "data": {
      "text/plain": [
       "array([14700,  4244,  3271, ..., 16653, 16654, 16655])"
      ]
     },
     "execution_count": 45,
     "metadata": {},
     "output_type": "execute_result"
    }
   ],
   "source": [
    "famille_idx"
   ]
  },
  {
   "cell_type": "code",
   "execution_count": 46,
   "id": "2bf2d6fb",
   "metadata": {},
   "outputs": [
    {
     "data": {
      "text/html": [
       "<div>\n",
       "<style scoped>\n",
       "    .dataframe tbody tr th:only-of-type {\n",
       "        vertical-align: middle;\n",
       "    }\n",
       "\n",
       "    .dataframe tbody tr th {\n",
       "        vertical-align: top;\n",
       "    }\n",
       "\n",
       "    .dataframe thead th {\n",
       "        text-align: right;\n",
       "    }\n",
       "</style>\n",
       "<table border=\"1\" class=\"dataframe\">\n",
       "  <thead>\n",
       "    <tr style=\"text-align: right;\">\n",
       "      <th></th>\n",
       "      <th>strasbourg_metropole_quotient_familial</th>\n",
       "    </tr>\n",
       "  </thead>\n",
       "  <tbody>\n",
       "    <tr>\n",
       "      <th>14700</th>\n",
       "      <td>301</td>\n",
       "    </tr>\n",
       "    <tr>\n",
       "      <th>4244</th>\n",
       "      <td>455</td>\n",
       "    </tr>\n",
       "    <tr>\n",
       "      <th>3271</th>\n",
       "      <td>601</td>\n",
       "    </tr>\n",
       "    <tr>\n",
       "      <th>2796</th>\n",
       "      <td>787</td>\n",
       "    </tr>\n",
       "    <tr>\n",
       "      <th>12016</th>\n",
       "      <td>244</td>\n",
       "    </tr>\n",
       "    <tr>\n",
       "      <th>...</th>\n",
       "      <td>...</td>\n",
       "    </tr>\n",
       "    <tr>\n",
       "      <th>16651</th>\n",
       "      <td>99999</td>\n",
       "    </tr>\n",
       "    <tr>\n",
       "      <th>7453</th>\n",
       "      <td>99999</td>\n",
       "    </tr>\n",
       "    <tr>\n",
       "      <th>16653</th>\n",
       "      <td>99999</td>\n",
       "    </tr>\n",
       "    <tr>\n",
       "      <th>16654</th>\n",
       "      <td>259</td>\n",
       "    </tr>\n",
       "    <tr>\n",
       "      <th>16655</th>\n",
       "      <td>620</td>\n",
       "    </tr>\n",
       "  </tbody>\n",
       "</table>\n",
       "<p>11610 rows × 1 columns</p>\n",
       "</div>"
      ],
      "text/plain": [
       "       strasbourg_metropole_quotient_familial\n",
       "14700                                     301\n",
       "4244                                      455\n",
       "3271                                      601\n",
       "2796                                      787\n",
       "12016                                     244\n",
       "...                                       ...\n",
       "16651                                   99999\n",
       "7453                                    99999\n",
       "16653                                   99999\n",
       "16654                                     259\n",
       "16655                                     620\n",
       "\n",
       "[11610 rows x 1 columns]"
      ]
     },
     "execution_count": 46,
     "metadata": {},
     "output_type": "execute_result"
    }
   ],
   "source": [
    "famille_df = pd.DataFrame({\n",
    "    'strasbourg_metropole_quotient_familial': flat_df.QF[famille_idx]\n",
    "})\n",
    "famille_df"
   ]
  },
  {
   "cell_type": "code",
   "execution_count": 47,
   "id": "1687a6cc",
   "metadata": {},
   "outputs": [],
   "source": [
    "base_year = \"2021-03\""
   ]
  },
  {
   "cell_type": "code",
   "execution_count": 48,
   "id": "b9b12458",
   "metadata": {},
   "outputs": [],
   "source": [
    "from openfisca_survey_manager.scenarios import AbstractSurveyScenario\n",
    "from openfisca_france import CountryTaxBenefitSystem\n",
    "from openfisca_france.model.base import Famille, FoyerFiscal, Menage\n",
    "from openfisca_core import periods"
   ]
  },
  {
   "cell_type": "code",
   "execution_count": 49,
   "id": "c0816576",
   "metadata": {},
   "outputs": [],
   "source": [
    "class StrasbourgSurveyScenario(AbstractSurveyScenario):\n",
    "    def __init__(self, data = None):\n",
    "        super(StrasbourgSurveyScenario, self).__init__()\n",
    "\n",
    "        tax_benefit_system = CountryTaxBenefitSystem()\n",
    "        tax_benefit_system.load_extension('openfisca_france_local')\n",
    "        self.year = base_year\n",
    "\n",
    "        if 'input_data_frame_by_entity_by_period' in data:\n",
    "            period = periods.period(self.year)\n",
    "            dataframe_variables = set()\n",
    "            for entity_dataframe in data['input_data_frame_by_entity_by_period'][period].values():\n",
    "                if not isinstance(entity_dataframe, pd.DataFrame):\n",
    "                    continue\n",
    "                dataframe_variables = dataframe_variables.union(set(entity_dataframe.columns))\n",
    "            self.used_as_input_variables = list(\n",
    "                set(tax_benefit_system.variables.keys()).intersection(dataframe_variables)\n",
    "                )\n",
    "\n",
    "        self.set_tax_benefit_systems(tax_benefit_system)\n",
    "        self.init_from_data(data = data)"
   ]
  },
  {
   "cell_type": "code",
   "execution_count": 50,
   "id": "26a9de6f",
   "metadata": {},
   "outputs": [],
   "source": [
    "individu_df['famille_role_index'] = 0\n",
    "individu_df['foyer_fiscal_id'] = individu_df.famille_id\n",
    "individu_df['foyer_fiscal_role_index'] = 0\n",
    "individu_df['menage_id'] = individu_df.famille_id\n",
    "individu_df['menage_role_index'] = 0"
   ]
  },
  {
   "cell_type": "code",
   "execution_count": 51,
   "id": "bb7c58f0",
   "metadata": {},
   "outputs": [],
   "source": [
    "menage_df = pd.DataFrame({})\n",
    "foyerfiscaux_df = pd.DataFrame({})"
   ]
  },
  {
   "cell_type": "code",
   "execution_count": 52,
   "id": "5068e319",
   "metadata": {},
   "outputs": [
    {
     "data": {
      "text/plain": [
       "Period(('month', Instant((2021, 3, 1)), 1))"
      ]
     },
     "execution_count": 52,
     "metadata": {},
     "output_type": "execute_result"
    }
   ],
   "source": [
    "periods.period(base_year)"
   ]
  },
  {
   "cell_type": "code",
   "execution_count": 53,
   "id": "2dec90d9",
   "metadata": {},
   "outputs": [],
   "source": [
    "data = dict(input_data_frame_by_entity_by_period = {periods.period(base_year): dict(\n",
    "individu=individu_df,\n",
    "famille=famille_df,\n",
    "menage=menage_df,\n",
    "foyer_fiscal=foyerfiscaux_df)})"
   ]
  },
  {
   "cell_type": "code",
   "execution_count": 54,
   "id": "875e7fe4",
   "metadata": {},
   "outputs": [],
   "source": [
    "scenario = StrasbourgSurveyScenario(data = data)"
   ]
  },
  {
   "cell_type": "code",
   "execution_count": 55,
   "id": "833ad2c7",
   "metadata": {},
   "outputs": [
    {
     "data": {
      "text/plain": [
       "array([1.5 , 2.15, 2.7 , ..., 6.9 , 1.5 , 2.7 ], dtype=float32)"
      ]
     },
     "execution_count": 55,
     "metadata": {},
     "output_type": "execute_result"
    }
   ],
   "source": [
    "tarif_cantine = scenario.simulation.calculate('strasbourg_metropole_tarification_cantine', period = '2021-03')\n",
    "tarif_cantine"
   ]
  },
  {
   "cell_type": "code",
   "execution_count": 56,
   "id": "bfef2a54",
   "metadata": {},
   "outputs": [
    {
     "data": {
      "text/plain": [
       "array([138.      ,  83.850006, 135.      , ...,  89.700005,  18.      ,\n",
       "        64.8     ], dtype=float32)"
      ]
     },
     "execution_count": 56,
     "metadata": {},
     "output_type": "execute_result"
    }
   ],
   "source": [
    "cout_cantine = scenario.simulation.calculate('strasbourg_metropole_cout_cantine', period = '2021-03')\n",
    "cout_cantine"
   ]
  },
  {
   "cell_type": "code",
   "execution_count": 57,
   "id": "cbfafa6c",
   "metadata": {},
   "outputs": [
    {
     "data": {
      "text/plain": [
       "5413949.443063498"
      ]
     },
     "execution_count": 57,
     "metadata": {},
     "output_type": "execute_result"
    }
   ],
   "source": [
    "sum(cout_cantine)"
   ]
  },
  {
   "cell_type": "code",
   "execution_count": 58,
   "id": "60dbe16e",
   "metadata": {},
   "outputs": [
    {
     "data": {
      "text/plain": [
       "11610"
      ]
     },
     "execution_count": 58,
     "metadata": {},
     "output_type": "execute_result"
    }
   ],
   "source": [
    "len(cout_cantine)\n"
   ]
  },
  {
   "cell_type": "code",
   "execution_count": 59,
   "id": "b8f328a6",
   "metadata": {},
   "outputs": [
    {
     "data": {
      "text/html": [
       "<div>\n",
       "<style scoped>\n",
       "    .dataframe tbody tr th:only-of-type {\n",
       "        vertical-align: middle;\n",
       "    }\n",
       "\n",
       "    .dataframe tbody tr th {\n",
       "        vertical-align: top;\n",
       "    }\n",
       "\n",
       "    .dataframe thead th {\n",
       "        text-align: right;\n",
       "    }\n",
       "</style>\n",
       "<table border=\"1\" class=\"dataframe\">\n",
       "  <thead>\n",
       "    <tr style=\"text-align: right;\">\n",
       "      <th></th>\n",
       "      <th>strasbourg_metropole_quotient_familial</th>\n",
       "      <th>uid</th>\n",
       "      <th>cout_cantine</th>\n",
       "    </tr>\n",
       "  </thead>\n",
       "  <tbody>\n",
       "    <tr>\n",
       "      <th>14700</th>\n",
       "      <td>301</td>\n",
       "      <td>100301</td>\n",
       "      <td>138.000000</td>\n",
       "    </tr>\n",
       "    <tr>\n",
       "      <th>4244</th>\n",
       "      <td>455</td>\n",
       "      <td>200455</td>\n",
       "      <td>83.850006</td>\n",
       "    </tr>\n",
       "    <tr>\n",
       "      <th>3271</th>\n",
       "      <td>601</td>\n",
       "      <td>300601</td>\n",
       "      <td>135.000000</td>\n",
       "    </tr>\n",
       "    <tr>\n",
       "      <th>2796</th>\n",
       "      <td>787</td>\n",
       "      <td>400787</td>\n",
       "      <td>380.000000</td>\n",
       "    </tr>\n",
       "    <tr>\n",
       "      <th>12016</th>\n",
       "      <td>244</td>\n",
       "      <td>500244</td>\n",
       "      <td>15.000000</td>\n",
       "    </tr>\n",
       "    <tr>\n",
       "      <th>...</th>\n",
       "      <td>...</td>\n",
       "      <td>...</td>\n",
       "      <td>...</td>\n",
       "    </tr>\n",
       "    <tr>\n",
       "      <th>16651</th>\n",
       "      <td>99999</td>\n",
       "      <td>1084899999</td>\n",
       "      <td>34.500000</td>\n",
       "    </tr>\n",
       "    <tr>\n",
       "      <th>7453</th>\n",
       "      <td>99999</td>\n",
       "      <td>1084999999</td>\n",
       "      <td>82.800003</td>\n",
       "    </tr>\n",
       "    <tr>\n",
       "      <th>16653</th>\n",
       "      <td>99999</td>\n",
       "      <td>1085099999</td>\n",
       "      <td>89.700005</td>\n",
       "    </tr>\n",
       "    <tr>\n",
       "      <th>16654</th>\n",
       "      <td>259</td>\n",
       "      <td>1085100259</td>\n",
       "      <td>18.000000</td>\n",
       "    </tr>\n",
       "    <tr>\n",
       "      <th>16655</th>\n",
       "      <td>620</td>\n",
       "      <td>1085200620</td>\n",
       "      <td>64.800003</td>\n",
       "    </tr>\n",
       "  </tbody>\n",
       "</table>\n",
       "<p>11610 rows × 3 columns</p>\n",
       "</div>"
      ],
      "text/plain": [
       "       strasbourg_metropole_quotient_familial         uid  cout_cantine\n",
       "14700                                     301      100301    138.000000\n",
       "4244                                      455      200455     83.850006\n",
       "3271                                      601      300601    135.000000\n",
       "2796                                      787      400787    380.000000\n",
       "12016                                     244      500244     15.000000\n",
       "...                                       ...         ...           ...\n",
       "16651                                   99999  1084899999     34.500000\n",
       "7453                                    99999  1084999999     82.800003\n",
       "16653                                   99999  1085099999     89.700005\n",
       "16654                                     259  1085100259     18.000000\n",
       "16655                                     620  1085200620     64.800003\n",
       "\n",
       "[11610 rows x 3 columns]"
      ]
     },
     "execution_count": 59,
     "metadata": {},
     "output_type": "execute_result"
    }
   ],
   "source": [
    "famille_df['uid'] = unique_famille_ids\n",
    "famille_df['cout_cantine'] = cout_cantine\n",
    "famille_df"
   ]
  },
  {
   "cell_type": "code",
   "execution_count": null,
   "id": "6766604b",
   "metadata": {},
   "outputs": [],
   "source": []
  },
  {
   "cell_type": "code",
   "execution_count": 60,
   "id": "0b3c5b65",
   "metadata": {},
   "outputs": [
    {
     "data": {
      "text/html": [
       "<div>\n",
       "<style scoped>\n",
       "    .dataframe tbody tr th:only-of-type {\n",
       "        vertical-align: middle;\n",
       "    }\n",
       "\n",
       "    .dataframe tbody tr th {\n",
       "        vertical-align: top;\n",
       "    }\n",
       "\n",
       "    .dataframe thead th {\n",
       "        text-align: right;\n",
       "    }\n",
       "</style>\n",
       "<table border=\"1\" class=\"dataframe\">\n",
       "  <thead>\n",
       "    <tr style=\"text-align: right;\">\n",
       "      <th></th>\n",
       "      <th>strasbourg_metropole_quotient_familial</th>\n",
       "      <th>uid</th>\n",
       "      <th>cout_cantine</th>\n",
       "    </tr>\n",
       "  </thead>\n",
       "  <tbody>\n",
       "    <tr>\n",
       "      <th>7058</th>\n",
       "      <td>1030</td>\n",
       "      <td>44301030</td>\n",
       "      <td>280.5</td>\n",
       "    </tr>\n",
       "  </tbody>\n",
       "</table>\n",
       "</div>"
      ],
      "text/plain": [
       "      strasbourg_metropole_quotient_familial       uid  cout_cantine\n",
       "7058                                    1030  44301030         280.5"
      ]
     },
     "execution_count": 60,
     "metadata": {},
     "output_type": "execute_result"
    }
   ],
   "source": [
    "famille_df[famille_df.uid == 44301030]"
   ]
  },
  {
   "cell_type": "code",
   "execution_count": 61,
   "id": "3abdb10c",
   "metadata": {},
   "outputs": [
    {
     "data": {
      "text/html": [
       "<div>\n",
       "<style scoped>\n",
       "    .dataframe tbody tr th:only-of-type {\n",
       "        vertical-align: middle;\n",
       "    }\n",
       "\n",
       "    .dataframe tbody tr th {\n",
       "        vertical-align: top;\n",
       "    }\n",
       "\n",
       "    .dataframe thead th {\n",
       "        text-align: right;\n",
       "    }\n",
       "</style>\n",
       "<table border=\"1\" class=\"dataframe\">\n",
       "  <thead>\n",
       "    <tr style=\"text-align: right;\">\n",
       "      <th></th>\n",
       "      <th>famille_id</th>\n",
       "      <th>strasbourg_metropole_nombre_repas_cantine</th>\n",
       "      <th>strasbourg_metropole_nombre_repas_cantine_vegetarien</th>\n",
       "      <th>strasbourg_metropole_nombre_repas_cantine_panier</th>\n",
       "      <th>famille_role_index</th>\n",
       "      <th>foyer_fiscal_id</th>\n",
       "      <th>foyer_fiscal_role_index</th>\n",
       "      <th>menage_id</th>\n",
       "      <th>menage_role_index</th>\n",
       "    </tr>\n",
       "  </thead>\n",
       "  <tbody>\n",
       "    <tr>\n",
       "      <th>0</th>\n",
       "      <td>334</td>\n",
       "      <td>0</td>\n",
       "      <td>2</td>\n",
       "      <td>0</td>\n",
       "      <td>0</td>\n",
       "      <td>334</td>\n",
       "      <td>0</td>\n",
       "      <td>334</td>\n",
       "      <td>0</td>\n",
       "    </tr>\n",
       "    <tr>\n",
       "      <th>1</th>\n",
       "      <td>514</td>\n",
       "      <td>1</td>\n",
       "      <td>0</td>\n",
       "      <td>0</td>\n",
       "      <td>0</td>\n",
       "      <td>514</td>\n",
       "      <td>0</td>\n",
       "      <td>514</td>\n",
       "      <td>0</td>\n",
       "    </tr>\n",
       "    <tr>\n",
       "      <th>2</th>\n",
       "      <td>786</td>\n",
       "      <td>1</td>\n",
       "      <td>0</td>\n",
       "      <td>0</td>\n",
       "      <td>0</td>\n",
       "      <td>786</td>\n",
       "      <td>0</td>\n",
       "      <td>786</td>\n",
       "      <td>0</td>\n",
       "    </tr>\n",
       "    <tr>\n",
       "      <th>3</th>\n",
       "      <td>794</td>\n",
       "      <td>125</td>\n",
       "      <td>0</td>\n",
       "      <td>0</td>\n",
       "      <td>0</td>\n",
       "      <td>794</td>\n",
       "      <td>0</td>\n",
       "      <td>794</td>\n",
       "      <td>0</td>\n",
       "    </tr>\n",
       "    <tr>\n",
       "      <th>4</th>\n",
       "      <td>795</td>\n",
       "      <td>1</td>\n",
       "      <td>0</td>\n",
       "      <td>0</td>\n",
       "      <td>0</td>\n",
       "      <td>795</td>\n",
       "      <td>0</td>\n",
       "      <td>795</td>\n",
       "      <td>0</td>\n",
       "    </tr>\n",
       "    <tr>\n",
       "      <th>...</th>\n",
       "      <td>...</td>\n",
       "      <td>...</td>\n",
       "      <td>...</td>\n",
       "      <td>...</td>\n",
       "      <td>...</td>\n",
       "      <td>...</td>\n",
       "      <td>...</td>\n",
       "      <td>...</td>\n",
       "      <td>...</td>\n",
       "    </tr>\n",
       "    <tr>\n",
       "      <th>16652</th>\n",
       "      <td>11606</td>\n",
       "      <td>8</td>\n",
       "      <td>0</td>\n",
       "      <td>0</td>\n",
       "      <td>0</td>\n",
       "      <td>11606</td>\n",
       "      <td>0</td>\n",
       "      <td>11606</td>\n",
       "      <td>0</td>\n",
       "    </tr>\n",
       "    <tr>\n",
       "      <th>16653</th>\n",
       "      <td>11607</td>\n",
       "      <td>13</td>\n",
       "      <td>0</td>\n",
       "      <td>0</td>\n",
       "      <td>0</td>\n",
       "      <td>11607</td>\n",
       "      <td>0</td>\n",
       "      <td>11607</td>\n",
       "      <td>0</td>\n",
       "    </tr>\n",
       "    <tr>\n",
       "      <th>16654</th>\n",
       "      <td>11608</td>\n",
       "      <td>12</td>\n",
       "      <td>0</td>\n",
       "      <td>0</td>\n",
       "      <td>0</td>\n",
       "      <td>11608</td>\n",
       "      <td>0</td>\n",
       "      <td>11608</td>\n",
       "      <td>0</td>\n",
       "    </tr>\n",
       "    <tr>\n",
       "      <th>16655</th>\n",
       "      <td>11609</td>\n",
       "      <td>14</td>\n",
       "      <td>0</td>\n",
       "      <td>0</td>\n",
       "      <td>0</td>\n",
       "      <td>11609</td>\n",
       "      <td>0</td>\n",
       "      <td>11609</td>\n",
       "      <td>0</td>\n",
       "    </tr>\n",
       "    <tr>\n",
       "      <th>16656</th>\n",
       "      <td>11609</td>\n",
       "      <td>10</td>\n",
       "      <td>0</td>\n",
       "      <td>0</td>\n",
       "      <td>0</td>\n",
       "      <td>11609</td>\n",
       "      <td>0</td>\n",
       "      <td>11609</td>\n",
       "      <td>0</td>\n",
       "    </tr>\n",
       "  </tbody>\n",
       "</table>\n",
       "<p>16657 rows × 9 columns</p>\n",
       "</div>"
      ],
      "text/plain": [
       "       famille_id  strasbourg_metropole_nombre_repas_cantine  \\\n",
       "0             334                                          0   \n",
       "1             514                                          1   \n",
       "2             786                                          1   \n",
       "3             794                                        125   \n",
       "4             795                                          1   \n",
       "...           ...                                        ...   \n",
       "16652       11606                                          8   \n",
       "16653       11607                                         13   \n",
       "16654       11608                                         12   \n",
       "16655       11609                                         14   \n",
       "16656       11609                                         10   \n",
       "\n",
       "       strasbourg_metropole_nombre_repas_cantine_vegetarien  \\\n",
       "0                                                      2      \n",
       "1                                                      0      \n",
       "2                                                      0      \n",
       "3                                                      0      \n",
       "4                                                      0      \n",
       "...                                                  ...      \n",
       "16652                                                  0      \n",
       "16653                                                  0      \n",
       "16654                                                  0      \n",
       "16655                                                  0      \n",
       "16656                                                  0      \n",
       "\n",
       "       strasbourg_metropole_nombre_repas_cantine_panier  famille_role_index  \\\n",
       "0                                                     0                   0   \n",
       "1                                                     0                   0   \n",
       "2                                                     0                   0   \n",
       "3                                                     0                   0   \n",
       "4                                                     0                   0   \n",
       "...                                                 ...                 ...   \n",
       "16652                                                 0                   0   \n",
       "16653                                                 0                   0   \n",
       "16654                                                 0                   0   \n",
       "16655                                                 0                   0   \n",
       "16656                                                 0                   0   \n",
       "\n",
       "       foyer_fiscal_id  foyer_fiscal_role_index  menage_id  menage_role_index  \n",
       "0                  334                        0        334                  0  \n",
       "1                  514                        0        514                  0  \n",
       "2                  786                        0        786                  0  \n",
       "3                  794                        0        794                  0  \n",
       "4                  795                        0        795                  0  \n",
       "...                ...                      ...        ...                ...  \n",
       "16652            11606                        0      11606                  0  \n",
       "16653            11607                        0      11607                  0  \n",
       "16654            11608                        0      11608                  0  \n",
       "16655            11609                        0      11609                  0  \n",
       "16656            11609                        0      11609                  0  \n",
       "\n",
       "[16657 rows x 9 columns]"
      ]
     },
     "execution_count": 61,
     "metadata": {},
     "output_type": "execute_result"
    }
   ],
   "source": [
    "individu_df"
   ]
  },
  {
   "cell_type": "code",
   "execution_count": 62,
   "id": "80e5d0b0",
   "metadata": {},
   "outputs": [
    {
     "data": {
      "text/html": [
       "<div>\n",
       "<style scoped>\n",
       "    .dataframe tbody tr th:only-of-type {\n",
       "        vertical-align: middle;\n",
       "    }\n",
       "\n",
       "    .dataframe tbody tr th {\n",
       "        vertical-align: top;\n",
       "    }\n",
       "\n",
       "    .dataframe thead th {\n",
       "        text-align: right;\n",
       "    }\n",
       "</style>\n",
       "<table border=\"1\" class=\"dataframe\">\n",
       "  <thead>\n",
       "    <tr style=\"text-align: right;\">\n",
       "      <th>Repas</th>\n",
       "      <th>Id Personne</th>\n",
       "      <th>Id Famille</th>\n",
       "      <th>QF</th>\n",
       "      <th>cantine</th>\n",
       "      <th>cantine_panier</th>\n",
       "      <th>cantine_vegetarien</th>\n",
       "    </tr>\n",
       "  </thead>\n",
       "  <tbody>\n",
       "    <tr>\n",
       "      <th>0</th>\n",
       "      <td>1</td>\n",
       "      <td>325</td>\n",
       "      <td>99999</td>\n",
       "      <td>0</td>\n",
       "      <td>0</td>\n",
       "      <td>2</td>\n",
       "    </tr>\n",
       "    <tr>\n",
       "      <th>1</th>\n",
       "      <td>2</td>\n",
       "      <td>497</td>\n",
       "      <td>636</td>\n",
       "      <td>1</td>\n",
       "      <td>0</td>\n",
       "      <td>0</td>\n",
       "    </tr>\n",
       "    <tr>\n",
       "      <th>2</th>\n",
       "      <td>3</td>\n",
       "      <td>762</td>\n",
       "      <td>99999</td>\n",
       "      <td>1</td>\n",
       "      <td>0</td>\n",
       "      <td>0</td>\n",
       "    </tr>\n",
       "    <tr>\n",
       "      <th>3</th>\n",
       "      <td>4</td>\n",
       "      <td>770</td>\n",
       "      <td>392</td>\n",
       "      <td>125</td>\n",
       "      <td>0</td>\n",
       "      <td>0</td>\n",
       "    </tr>\n",
       "    <tr>\n",
       "      <th>4</th>\n",
       "      <td>4</td>\n",
       "      <td>770</td>\n",
       "      <td>99999</td>\n",
       "      <td>1</td>\n",
       "      <td>0</td>\n",
       "      <td>0</td>\n",
       "    </tr>\n",
       "    <tr>\n",
       "      <th>...</th>\n",
       "      <td>...</td>\n",
       "      <td>...</td>\n",
       "      <td>...</td>\n",
       "      <td>...</td>\n",
       "      <td>...</td>\n",
       "      <td>...</td>\n",
       "    </tr>\n",
       "    <tr>\n",
       "      <th>16652</th>\n",
       "      <td>15579</td>\n",
       "      <td>10849</td>\n",
       "      <td>99999</td>\n",
       "      <td>8</td>\n",
       "      <td>0</td>\n",
       "      <td>0</td>\n",
       "    </tr>\n",
       "    <tr>\n",
       "      <th>16653</th>\n",
       "      <td>15580</td>\n",
       "      <td>10850</td>\n",
       "      <td>99999</td>\n",
       "      <td>13</td>\n",
       "      <td>0</td>\n",
       "      <td>0</td>\n",
       "    </tr>\n",
       "    <tr>\n",
       "      <th>16654</th>\n",
       "      <td>15581</td>\n",
       "      <td>10851</td>\n",
       "      <td>259</td>\n",
       "      <td>12</td>\n",
       "      <td>0</td>\n",
       "      <td>0</td>\n",
       "    </tr>\n",
       "    <tr>\n",
       "      <th>16655</th>\n",
       "      <td>15582</td>\n",
       "      <td>10852</td>\n",
       "      <td>620</td>\n",
       "      <td>14</td>\n",
       "      <td>0</td>\n",
       "      <td>0</td>\n",
       "    </tr>\n",
       "    <tr>\n",
       "      <th>16656</th>\n",
       "      <td>15583</td>\n",
       "      <td>10852</td>\n",
       "      <td>620</td>\n",
       "      <td>10</td>\n",
       "      <td>0</td>\n",
       "      <td>0</td>\n",
       "    </tr>\n",
       "  </tbody>\n",
       "</table>\n",
       "<p>16657 rows × 6 columns</p>\n",
       "</div>"
      ],
      "text/plain": [
       "Repas  Id Personne  Id Famille     QF  cantine  cantine_panier  \\\n",
       "0                1         325  99999        0               0   \n",
       "1                2         497    636        1               0   \n",
       "2                3         762  99999        1               0   \n",
       "3                4         770    392      125               0   \n",
       "4                4         770  99999        1               0   \n",
       "...            ...         ...    ...      ...             ...   \n",
       "16652        15579       10849  99999        8               0   \n",
       "16653        15580       10850  99999       13               0   \n",
       "16654        15581       10851    259       12               0   \n",
       "16655        15582       10852    620       14               0   \n",
       "16656        15583       10852    620       10               0   \n",
       "\n",
       "Repas  cantine_vegetarien  \n",
       "0                       2  \n",
       "1                       0  \n",
       "2                       0  \n",
       "3                       0  \n",
       "4                       0  \n",
       "...                   ...  \n",
       "16652                   0  \n",
       "16653                   0  \n",
       "16654                   0  \n",
       "16655                   0  \n",
       "16656                   0  \n",
       "\n",
       "[16657 rows x 6 columns]"
      ]
     },
     "execution_count": 62,
     "metadata": {},
     "output_type": "execute_result"
    }
   ],
   "source": [
    "flat_df"
   ]
  },
  {
   "cell_type": "code",
   "execution_count": 63,
   "id": "990fb1bc",
   "metadata": {},
   "outputs": [
    {
     "data": {
      "text/html": [
       "<div>\n",
       "<style scoped>\n",
       "    .dataframe tbody tr th:only-of-type {\n",
       "        vertical-align: middle;\n",
       "    }\n",
       "\n",
       "    .dataframe tbody tr th {\n",
       "        vertical-align: top;\n",
       "    }\n",
       "\n",
       "    .dataframe thead th {\n",
       "        text-align: right;\n",
       "    }\n",
       "</style>\n",
       "<table border=\"1\" class=\"dataframe\">\n",
       "  <thead>\n",
       "    <tr style=\"text-align: right;\">\n",
       "      <th>Repas</th>\n",
       "      <th>Id Personne</th>\n",
       "      <th>Id Famille</th>\n",
       "      <th>QF</th>\n",
       "      <th>cantine</th>\n",
       "      <th>cantine_panier</th>\n",
       "      <th>cantine_vegetarien</th>\n",
       "    </tr>\n",
       "  </thead>\n",
       "  <tbody>\n",
       "    <tr>\n",
       "      <th>7057</th>\n",
       "      <td>6691</td>\n",
       "      <td>443</td>\n",
       "      <td>379</td>\n",
       "      <td>62</td>\n",
       "      <td>0</td>\n",
       "      <td>0</td>\n",
       "    </tr>\n",
       "    <tr>\n",
       "      <th>7058</th>\n",
       "      <td>6691</td>\n",
       "      <td>443</td>\n",
       "      <td>1030</td>\n",
       "      <td>55</td>\n",
       "      <td>0</td>\n",
       "      <td>0</td>\n",
       "    </tr>\n",
       "  </tbody>\n",
       "</table>\n",
       "</div>"
      ],
      "text/plain": [
       "Repas  Id Personne  Id Famille    QF  cantine  cantine_panier  \\\n",
       "7057          6691         443   379       62               0   \n",
       "7058          6691         443  1030       55               0   \n",
       "\n",
       "Repas  cantine_vegetarien  \n",
       "7057                    0  \n",
       "7058                    0  "
      ]
     },
     "execution_count": 63,
     "metadata": {},
     "output_type": "execute_result"
    }
   ],
   "source": [
    "flat_df[flat_df['Id Famille'] == 443]"
   ]
  },
  {
   "cell_type": "code",
   "execution_count": 64,
   "id": "592eef50",
   "metadata": {},
   "outputs": [],
   "source": [
    "famille_df.to_csv('openfisca.csv')"
   ]
  },
  {
   "cell_type": "code",
   "execution_count": null,
   "id": "32d58fc9",
   "metadata": {},
   "outputs": [],
   "source": []
  },
  {
   "cell_type": "code",
   "execution_count": 65,
   "id": "3522a306",
   "metadata": {},
   "outputs": [
    {
     "data": {
      "text/plain": [
       "array([0., 0., 0., ..., 0., 0., 0.], dtype=float32)"
      ]
     },
     "execution_count": 65,
     "metadata": {},
     "output_type": "execute_result"
    }
   ],
   "source": [
    "cout_cantine_vege = scenario.simulation.calculate('strasbourg_metropole_cout_cantine_repas_vegetarien', period = '2021-03')\n",
    "cout_cantine_vege"
   ]
  },
  {
   "cell_type": "code",
   "execution_count": 66,
   "id": "28f76d3d",
   "metadata": {},
   "outputs": [
    {
     "data": {
      "text/plain": [
       "187197.99897646904"
      ]
     },
     "execution_count": 66,
     "metadata": {},
     "output_type": "execute_result"
    }
   ],
   "source": [
    "sum(cout_cantine_vege)"
   ]
  },
  {
   "cell_type": "code",
   "execution_count": 67,
   "id": "93657deb",
   "metadata": {},
   "outputs": [
    {
     "data": {
      "text/plain": [
       "array([0., 0., 0., ..., 0., 0., 0.], dtype=float32)"
      ]
     },
     "execution_count": 67,
     "metadata": {},
     "output_type": "execute_result"
    }
   ],
   "source": [
    "cout_cantine_panier = scenario.simulation.calculate('strasbourg_metropole_cout_cantine_repas_panier', period = '2021-03')\n",
    "cout_cantine_panier"
   ]
  },
  {
   "cell_type": "code",
   "execution_count": 68,
   "id": "a7b14817",
   "metadata": {},
   "outputs": [
    {
     "data": {
      "text/plain": [
       "14112.250204086304"
      ]
     },
     "execution_count": 68,
     "metadata": {},
     "output_type": "execute_result"
    }
   ],
   "source": [
    "sum(cout_cantine_panier)"
   ]
  },
  {
   "cell_type": "code",
   "execution_count": 69,
   "id": "1733a1e8",
   "metadata": {},
   "outputs": [
    {
     "data": {
      "text/plain": [
       "11610"
      ]
     },
     "execution_count": 69,
     "metadata": {},
     "output_type": "execute_result"
    }
   ],
   "source": [
    "len(cout_cantine)"
   ]
  },
  {
   "cell_type": "code",
   "execution_count": 70,
   "id": "57abcaa8",
   "metadata": {},
   "outputs": [
    {
     "data": {
      "text/html": [
       "<div>\n",
       "<style scoped>\n",
       "    .dataframe tbody tr th:only-of-type {\n",
       "        vertical-align: middle;\n",
       "    }\n",
       "\n",
       "    .dataframe tbody tr th {\n",
       "        vertical-align: top;\n",
       "    }\n",
       "\n",
       "    .dataframe thead th {\n",
       "        text-align: right;\n",
       "    }\n",
       "</style>\n",
       "<table border=\"1\" class=\"dataframe\">\n",
       "  <thead>\n",
       "    <tr style=\"text-align: right;\">\n",
       "      <th>Repas</th>\n",
       "      <th>Id Personne</th>\n",
       "      <th>Id Famille</th>\n",
       "      <th>QF</th>\n",
       "      <th>cantine</th>\n",
       "      <th>cantine_panier</th>\n",
       "      <th>cantine_vegetarien</th>\n",
       "    </tr>\n",
       "  </thead>\n",
       "  <tbody>\n",
       "    <tr>\n",
       "      <th>0</th>\n",
       "      <td>1</td>\n",
       "      <td>325</td>\n",
       "      <td>99999</td>\n",
       "      <td>0</td>\n",
       "      <td>0</td>\n",
       "      <td>2</td>\n",
       "    </tr>\n",
       "    <tr>\n",
       "      <th>1</th>\n",
       "      <td>2</td>\n",
       "      <td>497</td>\n",
       "      <td>636</td>\n",
       "      <td>1</td>\n",
       "      <td>0</td>\n",
       "      <td>0</td>\n",
       "    </tr>\n",
       "    <tr>\n",
       "      <th>2</th>\n",
       "      <td>3</td>\n",
       "      <td>762</td>\n",
       "      <td>99999</td>\n",
       "      <td>1</td>\n",
       "      <td>0</td>\n",
       "      <td>0</td>\n",
       "    </tr>\n",
       "    <tr>\n",
       "      <th>3</th>\n",
       "      <td>4</td>\n",
       "      <td>770</td>\n",
       "      <td>392</td>\n",
       "      <td>125</td>\n",
       "      <td>0</td>\n",
       "      <td>0</td>\n",
       "    </tr>\n",
       "    <tr>\n",
       "      <th>4</th>\n",
       "      <td>4</td>\n",
       "      <td>770</td>\n",
       "      <td>99999</td>\n",
       "      <td>1</td>\n",
       "      <td>0</td>\n",
       "      <td>0</td>\n",
       "    </tr>\n",
       "    <tr>\n",
       "      <th>...</th>\n",
       "      <td>...</td>\n",
       "      <td>...</td>\n",
       "      <td>...</td>\n",
       "      <td>...</td>\n",
       "      <td>...</td>\n",
       "      <td>...</td>\n",
       "    </tr>\n",
       "    <tr>\n",
       "      <th>16652</th>\n",
       "      <td>15579</td>\n",
       "      <td>10849</td>\n",
       "      <td>99999</td>\n",
       "      <td>8</td>\n",
       "      <td>0</td>\n",
       "      <td>0</td>\n",
       "    </tr>\n",
       "    <tr>\n",
       "      <th>16653</th>\n",
       "      <td>15580</td>\n",
       "      <td>10850</td>\n",
       "      <td>99999</td>\n",
       "      <td>13</td>\n",
       "      <td>0</td>\n",
       "      <td>0</td>\n",
       "    </tr>\n",
       "    <tr>\n",
       "      <th>16654</th>\n",
       "      <td>15581</td>\n",
       "      <td>10851</td>\n",
       "      <td>259</td>\n",
       "      <td>12</td>\n",
       "      <td>0</td>\n",
       "      <td>0</td>\n",
       "    </tr>\n",
       "    <tr>\n",
       "      <th>16655</th>\n",
       "      <td>15582</td>\n",
       "      <td>10852</td>\n",
       "      <td>620</td>\n",
       "      <td>14</td>\n",
       "      <td>0</td>\n",
       "      <td>0</td>\n",
       "    </tr>\n",
       "    <tr>\n",
       "      <th>16656</th>\n",
       "      <td>15583</td>\n",
       "      <td>10852</td>\n",
       "      <td>620</td>\n",
       "      <td>10</td>\n",
       "      <td>0</td>\n",
       "      <td>0</td>\n",
       "    </tr>\n",
       "  </tbody>\n",
       "</table>\n",
       "<p>16657 rows × 6 columns</p>\n",
       "</div>"
      ],
      "text/plain": [
       "Repas  Id Personne  Id Famille     QF  cantine  cantine_panier  \\\n",
       "0                1         325  99999        0               0   \n",
       "1                2         497    636        1               0   \n",
       "2                3         762  99999        1               0   \n",
       "3                4         770    392      125               0   \n",
       "4                4         770  99999        1               0   \n",
       "...            ...         ...    ...      ...             ...   \n",
       "16652        15579       10849  99999        8               0   \n",
       "16653        15580       10850  99999       13               0   \n",
       "16654        15581       10851    259       12               0   \n",
       "16655        15582       10852    620       14               0   \n",
       "16656        15583       10852    620       10               0   \n",
       "\n",
       "Repas  cantine_vegetarien  \n",
       "0                       2  \n",
       "1                       0  \n",
       "2                       0  \n",
       "3                       0  \n",
       "4                       0  \n",
       "...                   ...  \n",
       "16652                   0  \n",
       "16653                   0  \n",
       "16654                   0  \n",
       "16655                   0  \n",
       "16656                   0  \n",
       "\n",
       "[16657 rows x 6 columns]"
      ]
     },
     "execution_count": 70,
     "metadata": {},
     "output_type": "execute_result"
    }
   ],
   "source": [
    "flat_df"
   ]
  },
  {
   "cell_type": "code",
   "execution_count": 71,
   "id": "f6c2755d",
   "metadata": {},
   "outputs": [],
   "source": [
    "e = [1,2,3]"
   ]
  },
  {
   "cell_type": "code",
   "execution_count": 72,
   "id": "7760d79e",
   "metadata": {},
   "outputs": [
    {
     "data": {
      "text/plain": [
       "2"
      ]
     },
     "execution_count": 72,
     "metadata": {},
     "output_type": "execute_result"
    }
   ],
   "source": [
    "e.index(3)"
   ]
  },
  {
   "cell_type": "code",
   "execution_count": null,
   "id": "b6dadce0",
   "metadata": {},
   "outputs": [],
   "source": []
  }
 ],
 "metadata": {
  "kernelspec": {
   "display_name": "Python 3",
   "language": "python",
   "name": "python3"
  },
  "language_info": {
   "codemirror_mode": {
    "name": "ipython",
    "version": 3
   },
   "file_extension": ".py",
   "mimetype": "text/x-python",
   "name": "python",
   "nbconvert_exporter": "python",
   "pygments_lexer": "ipython3",
   "version": "3.7.10"
  }
 },
 "nbformat": 4,
 "nbformat_minor": 5
}
