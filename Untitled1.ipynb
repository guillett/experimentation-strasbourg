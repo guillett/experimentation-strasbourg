{
 "cells": [
  {
   "cell_type": "code",
   "execution_count": 1,
   "id": "56aef538",
   "metadata": {},
   "outputs": [],
   "source": [
    "from openfisca_survey_manager.scenarios import AbstractSurveyScenario\n",
    "from openfisca_france import CountryTaxBenefitSystem\n",
    "from openfisca_france.model.base import Famille, FoyerFiscal, Menage\n",
    "import pandas as pd"
   ]
  },
  {
   "cell_type": "code",
   "execution_count": 2,
   "id": "303d2105",
   "metadata": {},
   "outputs": [],
   "source": [
    "class StrasbourgSurveyScenario(AbstractSurveyScenario):\n",
    "    def __init__(self, data = None):\n",
    "        super(StrasbourgSurveyScenario, self).__init__()\n",
    "\n",
    "        tax_benefit_system = CountryTaxBenefitSystem()\n",
    "        tax_benefit_system.load_extension('openfisca_france_local')\n",
    "\n",
    "        input_data_frame = data.get('input_data_frame')\n",
    "        self.used_as_input_variables = list(\n",
    "            set(tax_benefit_system.variables.keys()).intersection(\n",
    "                set(input_data_frame.columns)\n",
    "                ))\n",
    "\n",
    "        self.set_tax_benefit_systems(tax_benefit_system)\n",
    "        self.year = \"2021-03\"\n",
    "        self.init_from_data(data = data)"
   ]
  },
  {
   "cell_type": "code",
   "execution_count": 3,
   "id": "5284d350",
   "metadata": {},
   "outputs": [],
   "source": [
    "qf = [410, 510, 620, 720, 820, 920, 1030, 1540, 2050, 2051, 2052]"
   ]
  },
  {
   "cell_type": "code",
   "execution_count": 4,
   "id": "fcf763c5",
   "metadata": {},
   "outputs": [],
   "source": [
    "counts = [4025, 2113, 1832, 1603, 962, 638, 566, 1990, 1157, 2090, 45]"
   ]
  },
  {
   "cell_type": "code",
   "execution_count": 5,
   "id": "cb78b5cb",
   "metadata": {},
   "outputs": [
    {
     "data": {
      "text/html": [
       "<div>\n",
       "<style scoped>\n",
       "    .dataframe tbody tr th:only-of-type {\n",
       "        vertical-align: middle;\n",
       "    }\n",
       "\n",
       "    .dataframe tbody tr th {\n",
       "        vertical-align: top;\n",
       "    }\n",
       "\n",
       "    .dataframe thead th {\n",
       "        text-align: right;\n",
       "    }\n",
       "</style>\n",
       "<table border=\"1\" class=\"dataframe\">\n",
       "  <thead>\n",
       "    <tr style=\"text-align: right;\">\n",
       "      <th></th>\n",
       "      <th>strasbourg_metropole_quotient_familial</th>\n",
       "      <th>famille_role_index</th>\n",
       "      <th>foyer_fiscal_role_index</th>\n",
       "      <th>menage_role_index</th>\n",
       "      <th>famille_id</th>\n",
       "      <th>foyer_fiscal_id</th>\n",
       "      <th>menage_id</th>\n",
       "      <th>nombre_individus_inscrits</th>\n",
       "      <th>nombre_familles</th>\n",
       "      <th>nombre_foyers_fiscaux</th>\n",
       "      <th>nombre_menages</th>\n",
       "      <th>strasbourg_metropole_nombre_repas_cantine</th>\n",
       "    </tr>\n",
       "  </thead>\n",
       "  <tbody>\n",
       "    <tr>\n",
       "      <th>0</th>\n",
       "      <td>410</td>\n",
       "      <td>0</td>\n",
       "      <td>0</td>\n",
       "      <td>0</td>\n",
       "      <td>0</td>\n",
       "      <td>0</td>\n",
       "      <td>0</td>\n",
       "      <td>4025</td>\n",
       "      <td>4025</td>\n",
       "      <td>1</td>\n",
       "      <td>1</td>\n",
       "      <td>200</td>\n",
       "    </tr>\n",
       "    <tr>\n",
       "      <th>1</th>\n",
       "      <td>510</td>\n",
       "      <td>0</td>\n",
       "      <td>0</td>\n",
       "      <td>0</td>\n",
       "      <td>1</td>\n",
       "      <td>1</td>\n",
       "      <td>1</td>\n",
       "      <td>2113</td>\n",
       "      <td>2113</td>\n",
       "      <td>1</td>\n",
       "      <td>1</td>\n",
       "      <td>150</td>\n",
       "    </tr>\n",
       "    <tr>\n",
       "      <th>2</th>\n",
       "      <td>620</td>\n",
       "      <td>0</td>\n",
       "      <td>0</td>\n",
       "      <td>0</td>\n",
       "      <td>2</td>\n",
       "      <td>2</td>\n",
       "      <td>2</td>\n",
       "      <td>1832</td>\n",
       "      <td>1832</td>\n",
       "      <td>1</td>\n",
       "      <td>1</td>\n",
       "      <td>200</td>\n",
       "    </tr>\n",
       "    <tr>\n",
       "      <th>3</th>\n",
       "      <td>720</td>\n",
       "      <td>0</td>\n",
       "      <td>0</td>\n",
       "      <td>0</td>\n",
       "      <td>3</td>\n",
       "      <td>3</td>\n",
       "      <td>3</td>\n",
       "      <td>1603</td>\n",
       "      <td>1603</td>\n",
       "      <td>1</td>\n",
       "      <td>1</td>\n",
       "      <td>100</td>\n",
       "    </tr>\n",
       "    <tr>\n",
       "      <th>4</th>\n",
       "      <td>820</td>\n",
       "      <td>0</td>\n",
       "      <td>0</td>\n",
       "      <td>0</td>\n",
       "      <td>4</td>\n",
       "      <td>4</td>\n",
       "      <td>4</td>\n",
       "      <td>962</td>\n",
       "      <td>962</td>\n",
       "      <td>1</td>\n",
       "      <td>1</td>\n",
       "      <td>145</td>\n",
       "    </tr>\n",
       "    <tr>\n",
       "      <th>5</th>\n",
       "      <td>920</td>\n",
       "      <td>0</td>\n",
       "      <td>0</td>\n",
       "      <td>0</td>\n",
       "      <td>5</td>\n",
       "      <td>5</td>\n",
       "      <td>5</td>\n",
       "      <td>638</td>\n",
       "      <td>638</td>\n",
       "      <td>1</td>\n",
       "      <td>1</td>\n",
       "      <td>200</td>\n",
       "    </tr>\n",
       "    <tr>\n",
       "      <th>6</th>\n",
       "      <td>1030</td>\n",
       "      <td>0</td>\n",
       "      <td>0</td>\n",
       "      <td>0</td>\n",
       "      <td>6</td>\n",
       "      <td>6</td>\n",
       "      <td>6</td>\n",
       "      <td>566</td>\n",
       "      <td>566</td>\n",
       "      <td>1</td>\n",
       "      <td>1</td>\n",
       "      <td>150</td>\n",
       "    </tr>\n",
       "    <tr>\n",
       "      <th>7</th>\n",
       "      <td>1540</td>\n",
       "      <td>0</td>\n",
       "      <td>0</td>\n",
       "      <td>0</td>\n",
       "      <td>7</td>\n",
       "      <td>7</td>\n",
       "      <td>7</td>\n",
       "      <td>1990</td>\n",
       "      <td>1990</td>\n",
       "      <td>1</td>\n",
       "      <td>1</td>\n",
       "      <td>130</td>\n",
       "    </tr>\n",
       "    <tr>\n",
       "      <th>8</th>\n",
       "      <td>2050</td>\n",
       "      <td>0</td>\n",
       "      <td>0</td>\n",
       "      <td>0</td>\n",
       "      <td>8</td>\n",
       "      <td>8</td>\n",
       "      <td>8</td>\n",
       "      <td>1157</td>\n",
       "      <td>1157</td>\n",
       "      <td>1</td>\n",
       "      <td>1</td>\n",
       "      <td>180</td>\n",
       "    </tr>\n",
       "    <tr>\n",
       "      <th>9</th>\n",
       "      <td>2051</td>\n",
       "      <td>0</td>\n",
       "      <td>0</td>\n",
       "      <td>0</td>\n",
       "      <td>9</td>\n",
       "      <td>9</td>\n",
       "      <td>9</td>\n",
       "      <td>2090</td>\n",
       "      <td>2090</td>\n",
       "      <td>1</td>\n",
       "      <td>1</td>\n",
       "      <td>200</td>\n",
       "    </tr>\n",
       "    <tr>\n",
       "      <th>10</th>\n",
       "      <td>2052</td>\n",
       "      <td>0</td>\n",
       "      <td>0</td>\n",
       "      <td>0</td>\n",
       "      <td>10</td>\n",
       "      <td>10</td>\n",
       "      <td>10</td>\n",
       "      <td>45</td>\n",
       "      <td>45</td>\n",
       "      <td>1</td>\n",
       "      <td>1</td>\n",
       "      <td>150</td>\n",
       "    </tr>\n",
       "  </tbody>\n",
       "</table>\n",
       "</div>"
      ],
      "text/plain": [
       "    strasbourg_metropole_quotient_familial  famille_role_index  \\\n",
       "0                                      410                   0   \n",
       "1                                      510                   0   \n",
       "2                                      620                   0   \n",
       "3                                      720                   0   \n",
       "4                                      820                   0   \n",
       "5                                      920                   0   \n",
       "6                                     1030                   0   \n",
       "7                                     1540                   0   \n",
       "8                                     2050                   0   \n",
       "9                                     2051                   0   \n",
       "10                                    2052                   0   \n",
       "\n",
       "    foyer_fiscal_role_index  menage_role_index  famille_id  foyer_fiscal_id  \\\n",
       "0                         0                  0           0                0   \n",
       "1                         0                  0           1                1   \n",
       "2                         0                  0           2                2   \n",
       "3                         0                  0           3                3   \n",
       "4                         0                  0           4                4   \n",
       "5                         0                  0           5                5   \n",
       "6                         0                  0           6                6   \n",
       "7                         0                  0           7                7   \n",
       "8                         0                  0           8                8   \n",
       "9                         0                  0           9                9   \n",
       "10                        0                  0          10               10   \n",
       "\n",
       "    menage_id  nombre_individus_inscrits  nombre_familles  \\\n",
       "0           0                       4025             4025   \n",
       "1           1                       2113             2113   \n",
       "2           2                       1832             1832   \n",
       "3           3                       1603             1603   \n",
       "4           4                        962              962   \n",
       "5           5                        638              638   \n",
       "6           6                        566              566   \n",
       "7           7                       1990             1990   \n",
       "8           8                       1157             1157   \n",
       "9           9                       2090             2090   \n",
       "10         10                         45               45   \n",
       "\n",
       "    nombre_foyers_fiscaux  nombre_menages  \\\n",
       "0                       1               1   \n",
       "1                       1               1   \n",
       "2                       1               1   \n",
       "3                       1               1   \n",
       "4                       1               1   \n",
       "5                       1               1   \n",
       "6                       1               1   \n",
       "7                       1               1   \n",
       "8                       1               1   \n",
       "9                       1               1   \n",
       "10                      1               1   \n",
       "\n",
       "    strasbourg_metropole_nombre_repas_cantine  \n",
       "0                                         200  \n",
       "1                                         150  \n",
       "2                                         200  \n",
       "3                                         100  \n",
       "4                                         145  \n",
       "5                                         200  \n",
       "6                                         150  \n",
       "7                                         130  \n",
       "8                                         180  \n",
       "9                                         200  \n",
       "10                                        150  "
      ]
     },
     "execution_count": 5,
     "metadata": {},
     "output_type": "execute_result"
    }
   ],
   "source": [
    "input_data_frame = pd.DataFrame({\n",
    "    'strasbourg_metropole_quotient_familial': qf,\n",
    "    'famille_role_index': 0,\n",
    "    'foyer_fiscal_role_index': 0,\n",
    "    'menage_role_index': 0,\n",
    "    'famille_id': range(len(qf)),\n",
    "    'foyer_fiscal_id': range(len(qf)),\n",
    "    'menage_id': range(len(qf)),\n",
    "    'nombre_individus_inscrits': counts,\n",
    "    'nombre_familles': counts,\n",
    "    'nombre_foyers_fiscaux': 1,\n",
    "    'nombre_menages': 1, \n",
    "    'strasbourg_metropole_nombre_repas_cantine': [200, 150, 200, 100, 145, 200, 150, 130, 180, 200, 150]\n",
    "    })\n",
    "input_data_frame"
   ]
  },
  {
   "cell_type": "code",
   "execution_count": 6,
   "id": "f4813788",
   "metadata": {},
   "outputs": [],
   "source": [
    "data = dict(input_data_frame = input_data_frame)\n",
    "scenario = StrasbourgSurveyScenario(data = data)"
   ]
  },
  {
   "cell_type": "code",
   "execution_count": 7,
   "id": "06c6acbd",
   "metadata": {},
   "outputs": [
    {
     "data": {
      "text/plain": [
       "array([1.5 , 2.15, 2.7 , 3.25, 3.8 , 4.4 , 5.1 , 5.8 , 6.3 , 6.9 , 6.9 ],\n",
       "      dtype=float32)"
      ]
     },
     "execution_count": 7,
     "metadata": {},
     "output_type": "execute_result"
    }
   ],
   "source": [
    "tarif_cantine = scenario.simulation.calculate('strasbourg_metropole_tarification_cantine', period = '2021-03')\n",
    "tarif_cantine"
   ]
  },
  {
   "cell_type": "code",
   "execution_count": 8,
   "id": "7cc6762d",
   "metadata": {},
   "outputs": [
    {
     "data": {
      "text/plain": [
       "array([1.15, 1.8 , 2.35, 2.9 , 3.45, 4.05, 4.75, 5.45, 5.95, 6.55, 6.55],\n",
       "      dtype=float32)"
      ]
     },
     "execution_count": 8,
     "metadata": {},
     "output_type": "execute_result"
    }
   ],
   "source": [
    "tarif_cantine = scenario.simulation.calculate('strasbourg_metropole_tarification_cantine_vegetarien', period = '2021-03')\n",
    "tarif_cantine"
   ]
  },
  {
   "cell_type": "code",
   "execution_count": 9,
   "id": "f7f03d51",
   "metadata": {},
   "outputs": [
    {
     "data": {
      "text/plain": [
       "array([ 925749.9808073 ,  760679.97984886,  861039.96505737,\n",
       "        929740.0305748 ,  663780.00917435,  516780.02433777,\n",
       "        537700.        , 2169099.92408752, 1376829.95586395,\n",
       "       2737900.07972717,   58950.00171661])"
      ]
     },
     "execution_count": 9,
     "metadata": {},
     "output_type": "execute_result"
    }
   ],
   "source": [
    "sum_tranches = counts * tarif_cantine * 200 # Pour 200 repas par an\n",
    "sum_tranches"
   ]
  },
  {
   "cell_type": "code",
   "execution_count": 10,
   "id": "b6e95339",
   "metadata": {},
   "outputs": [
    {
     "data": {
      "text/plain": [
       "11538249.951195717"
      ]
     },
     "execution_count": 10,
     "metadata": {},
     "output_type": "execute_result"
    }
   ],
   "source": [
    "sum(sum_tranches)"
   ]
  },
  {
   "cell_type": "code",
   "execution_count": 11,
   "id": "7e28fe96",
   "metadata": {},
   "outputs": [
    {
     "data": {
      "text/plain": [
       "7986.5"
      ]
     },
     "execution_count": 11,
     "metadata": {},
     "output_type": "execute_result"
    }
   ],
   "source": [
    "scenario.compute_aggregate('strasbourg_metropole_cout_cantine', period = '2021-03', weighted= False)"
   ]
  },
  {
   "cell_type": "code",
   "execution_count": 12,
   "id": "3304b374",
   "metadata": {},
   "outputs": [
    {
     "data": {
      "text/plain": [
       "7354.75"
      ]
     },
     "execution_count": 12,
     "metadata": {},
     "output_type": "execute_result"
    }
   ],
   "source": [
    "scenario.compute_aggregate('strasbourg_metropole_cout_cantine_repas_vegetarien', period = '2021-03', weighted= False)"
   ]
  },
  {
   "cell_type": "code",
   "execution_count": 13,
   "id": "d997c0f9",
   "metadata": {},
   "outputs": [],
   "source": [
    "scenario.weight_variable_by_entity = {'individu': 'nombre_individus_inscrits', 'famille': 'nombre_familles',\n",
    "                                     'foyer_fiscal': 'nombre_foyers_fiscaux', 'menage': 'nombre_menages'}"
   ]
  },
  {
   "cell_type": "code",
   "execution_count": 14,
   "id": "f2658e7f",
   "metadata": {},
   "outputs": [
    {
     "data": {
      "text/plain": [
       "10666962.5"
      ]
     },
     "execution_count": 14,
     "metadata": {},
     "output_type": "execute_result"
    }
   ],
   "source": [
    "scenario.compute_aggregate('strasbourg_metropole_cout_cantine', period = '2021-03')"
   ]
  },
  {
   "cell_type": "code",
   "execution_count": 15,
   "id": "e3bf021d",
   "metadata": {},
   "outputs": [
    {
     "data": {
      "text/plain": [
       "9654639.983032227"
      ]
     },
     "execution_count": 15,
     "metadata": {},
     "output_type": "execute_result"
    }
   ],
   "source": [
    "scenario.compute_aggregate('strasbourg_metropole_cout_cantine_repas_vegetarien', period = '2021-03')"
   ]
  },
  {
   "cell_type": "code",
   "execution_count": 16,
   "id": "040bdbed",
   "metadata": {},
   "outputs": [
    {
     "data": {
      "text/plain": [
       "[4025, 2113, 1832, 1603, 962, 638, 566, 1990, 1157, 2090, 45]"
      ]
     },
     "execution_count": 16,
     "metadata": {},
     "output_type": "execute_result"
    }
   ],
   "source": [
    "counts "
   ]
  },
  {
   "cell_type": "code",
   "execution_count": 17,
   "id": "ee040b4b",
   "metadata": {},
   "outputs": [
    {
     "data": {
      "text/plain": [
       "17021"
      ]
     },
     "execution_count": 17,
     "metadata": {},
     "output_type": "execute_result"
    }
   ],
   "source": [
    "sum(counts)"
   ]
  }
 ],
 "metadata": {
  "kernelspec": {
   "display_name": "Python 3",
   "language": "python",
   "name": "python3"
  },
  "language_info": {
   "codemirror_mode": {
    "name": "ipython",
    "version": 3
   },
   "file_extension": ".py",
   "mimetype": "text/x-python",
   "name": "python",
   "nbconvert_exporter": "python",
   "pygments_lexer": "ipython3",
   "version": "3.7.10"
  }
 },
 "nbformat": 4,
 "nbformat_minor": 5
}
