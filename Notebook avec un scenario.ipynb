{
 "cells": [
  {
   "cell_type": "code",
   "execution_count": 1,
   "id": "2560ccc7",
   "metadata": {},
   "outputs": [],
   "source": [
    "from openfisca_survey_manager.scenarios import AbstractSurveyScenario\n",
    "from openfisca_france import CountryTaxBenefitSystem\n",
    "from openfisca_france.model.base import Famille, FoyerFiscal, Menage\n",
    "import pandas as pd\n"
   ]
  },
  {
   "cell_type": "code",
   "execution_count": 2,
   "id": "2725954a",
   "metadata": {},
   "outputs": [],
   "source": [
    "class StrasbourgSurveyScenario(AbstractSurveyScenario):\n",
    "    def __init__(self, data = None):\n",
    "        super(StrasbourgSurveyScenario, self).__init__()\n",
    "\n",
    "        tax_benefit_system = CountryTaxBenefitSystem()\n",
    "        tax_benefit_system.load_extension('openfisca_france_local')\n",
    "\n",
    "        input_data_frame = data.get('input_data_frame')\n",
    "        self.used_as_input_variables = list(\n",
    "            set(tax_benefit_system.variables.keys()).intersection(\n",
    "                set(input_data_frame.columns)\n",
    "                ))\n",
    "\n",
    "        self.set_tax_benefit_systems(tax_benefit_system)\n",
    "        self.year = \"2021-03\"\n",
    "        self.init_from_data(data = data)\n"
   ]
  },
  {
   "cell_type": "code",
   "execution_count": 3,
   "id": "5b5581f0",
   "metadata": {},
   "outputs": [],
   "source": [
    "qf = [410, 510, 620, 720, 820, 920, 1030, 1540, 2050, 2051, 2052]"
   ]
  },
  {
   "cell_type": "code",
   "execution_count": 4,
   "id": "78d59f9b",
   "metadata": {},
   "outputs": [],
   "source": [
    "counts = [4025, 2113, 1832, 1603, 962, 638, 566, 1990, 1157, 2090, 45]"
   ]
  },
  {
   "cell_type": "code",
   "execution_count": 38,
   "id": "d896ed67",
   "metadata": {},
   "outputs": [
    {
     "data": {
      "text/html": [
       "<div>\n",
       "<style scoped>\n",
       "    .dataframe tbody tr th:only-of-type {\n",
       "        vertical-align: middle;\n",
       "    }\n",
       "\n",
       "    .dataframe tbody tr th {\n",
       "        vertical-align: top;\n",
       "    }\n",
       "\n",
       "    .dataframe thead th {\n",
       "        text-align: right;\n",
       "    }\n",
       "</style>\n",
       "<table border=\"1\" class=\"dataframe\">\n",
       "  <thead>\n",
       "    <tr style=\"text-align: right;\">\n",
       "      <th></th>\n",
       "      <th>strasbourg_metropole_quotient_familial</th>\n",
       "      <th>famille_role_index</th>\n",
       "      <th>foyer_fiscal_role_index</th>\n",
       "      <th>menage_role_index</th>\n",
       "      <th>famille_id</th>\n",
       "      <th>foyer_fiscal_id</th>\n",
       "      <th>menage_id</th>\n",
       "    </tr>\n",
       "  </thead>\n",
       "  <tbody>\n",
       "    <tr>\n",
       "      <th>0</th>\n",
       "      <td>410</td>\n",
       "      <td>0</td>\n",
       "      <td>0</td>\n",
       "      <td>0</td>\n",
       "      <td>0</td>\n",
       "      <td>0</td>\n",
       "      <td>0</td>\n",
       "    </tr>\n",
       "    <tr>\n",
       "      <th>1</th>\n",
       "      <td>510</td>\n",
       "      <td>0</td>\n",
       "      <td>0</td>\n",
       "      <td>0</td>\n",
       "      <td>1</td>\n",
       "      <td>1</td>\n",
       "      <td>1</td>\n",
       "    </tr>\n",
       "    <tr>\n",
       "      <th>2</th>\n",
       "      <td>620</td>\n",
       "      <td>0</td>\n",
       "      <td>0</td>\n",
       "      <td>0</td>\n",
       "      <td>2</td>\n",
       "      <td>2</td>\n",
       "      <td>2</td>\n",
       "    </tr>\n",
       "    <tr>\n",
       "      <th>3</th>\n",
       "      <td>720</td>\n",
       "      <td>0</td>\n",
       "      <td>0</td>\n",
       "      <td>0</td>\n",
       "      <td>3</td>\n",
       "      <td>3</td>\n",
       "      <td>3</td>\n",
       "    </tr>\n",
       "    <tr>\n",
       "      <th>4</th>\n",
       "      <td>820</td>\n",
       "      <td>0</td>\n",
       "      <td>0</td>\n",
       "      <td>0</td>\n",
       "      <td>4</td>\n",
       "      <td>4</td>\n",
       "      <td>4</td>\n",
       "    </tr>\n",
       "    <tr>\n",
       "      <th>5</th>\n",
       "      <td>920</td>\n",
       "      <td>0</td>\n",
       "      <td>0</td>\n",
       "      <td>0</td>\n",
       "      <td>5</td>\n",
       "      <td>5</td>\n",
       "      <td>5</td>\n",
       "    </tr>\n",
       "    <tr>\n",
       "      <th>6</th>\n",
       "      <td>1030</td>\n",
       "      <td>0</td>\n",
       "      <td>0</td>\n",
       "      <td>0</td>\n",
       "      <td>6</td>\n",
       "      <td>6</td>\n",
       "      <td>6</td>\n",
       "    </tr>\n",
       "    <tr>\n",
       "      <th>7</th>\n",
       "      <td>1540</td>\n",
       "      <td>0</td>\n",
       "      <td>0</td>\n",
       "      <td>0</td>\n",
       "      <td>7</td>\n",
       "      <td>7</td>\n",
       "      <td>7</td>\n",
       "    </tr>\n",
       "    <tr>\n",
       "      <th>8</th>\n",
       "      <td>2050</td>\n",
       "      <td>0</td>\n",
       "      <td>0</td>\n",
       "      <td>0</td>\n",
       "      <td>8</td>\n",
       "      <td>8</td>\n",
       "      <td>8</td>\n",
       "    </tr>\n",
       "    <tr>\n",
       "      <th>9</th>\n",
       "      <td>2051</td>\n",
       "      <td>0</td>\n",
       "      <td>0</td>\n",
       "      <td>0</td>\n",
       "      <td>9</td>\n",
       "      <td>9</td>\n",
       "      <td>9</td>\n",
       "    </tr>\n",
       "    <tr>\n",
       "      <th>10</th>\n",
       "      <td>2052</td>\n",
       "      <td>0</td>\n",
       "      <td>0</td>\n",
       "      <td>0</td>\n",
       "      <td>10</td>\n",
       "      <td>10</td>\n",
       "      <td>10</td>\n",
       "    </tr>\n",
       "  </tbody>\n",
       "</table>\n",
       "</div>"
      ],
      "text/plain": [
       "    strasbourg_metropole_quotient_familial  famille_role_index  \\\n",
       "0                                      410                   0   \n",
       "1                                      510                   0   \n",
       "2                                      620                   0   \n",
       "3                                      720                   0   \n",
       "4                                      820                   0   \n",
       "5                                      920                   0   \n",
       "6                                     1030                   0   \n",
       "7                                     1540                   0   \n",
       "8                                     2050                   0   \n",
       "9                                     2051                   0   \n",
       "10                                    2052                   0   \n",
       "\n",
       "    foyer_fiscal_role_index  menage_role_index  famille_id  foyer_fiscal_id  \\\n",
       "0                         0                  0           0                0   \n",
       "1                         0                  0           1                1   \n",
       "2                         0                  0           2                2   \n",
       "3                         0                  0           3                3   \n",
       "4                         0                  0           4                4   \n",
       "5                         0                  0           5                5   \n",
       "6                         0                  0           6                6   \n",
       "7                         0                  0           7                7   \n",
       "8                         0                  0           8                8   \n",
       "9                         0                  0           9                9   \n",
       "10                        0                  0          10               10   \n",
       "\n",
       "    menage_id  \n",
       "0           0  \n",
       "1           1  \n",
       "2           2  \n",
       "3           3  \n",
       "4           4  \n",
       "5           5  \n",
       "6           6  \n",
       "7           7  \n",
       "8           8  \n",
       "9           9  \n",
       "10         10  "
      ]
     },
     "execution_count": 38,
     "metadata": {},
     "output_type": "execute_result"
    }
   ],
   "source": [
    "input_data_frame = pd.DataFrame({\n",
    "    'strasbourg_metropole_quotient_familial': qf,\n",
    "    'famille_role_index': 0,\n",
    "    'foyer_fiscal_role_index': 0,\n",
    "    'menage_role_index': 0,\n",
    "    'famille_id': range(len(qf)),\n",
    "    'foyer_fiscal_id': range(len(qf)),\n",
    "    'menage_id': range(len(qf)),\n",
    "    })\n",
    "input_data_frame"
   ]
  },
  {
   "cell_type": "code",
   "execution_count": 39,
   "id": "ec782aa7",
   "metadata": {},
   "outputs": [],
   "source": [
    "data = dict(input_data_frame = input_data_frame)\n",
    "scenario = StrasbourgSurveyScenario(data = data)"
   ]
  },
  {
   "cell_type": "markdown",
   "id": "439687a8",
   "metadata": {},
   "source": [
    "# Tarif des cantines par familles"
   ]
  },
  {
   "cell_type": "code",
   "execution_count": 40,
   "id": "f634c3c2",
   "metadata": {},
   "outputs": [
    {
     "data": {
      "text/plain": [
       "array([1.5 , 2.15, 2.15, 2.15, 2.15, 2.15, 2.15, 2.15, 2.15, 2.15, 2.15],\n",
       "      dtype=float32)"
      ]
     },
     "execution_count": 40,
     "metadata": {},
     "output_type": "execute_result"
    }
   ],
   "source": [
    "tarif_cantine = scenario.simulation.calculate('strasbourg_metropole_tarification_cantine', period = '2021-03')\n",
    "tarif_cantine"
   ]
  },
  {
   "cell_type": "markdown",
   "id": "6c280b0f",
   "metadata": {},
   "source": [
    "# Recettes par tranches / types de familles"
   ]
  },
  {
   "cell_type": "code",
   "execution_count": 44,
   "id": "fa3439df",
   "metadata": {
    "scrolled": true
   },
   "outputs": [
    {
     "data": {
      "text/plain": [
       "array([1207500.        ,  908590.04030228,  787760.03494263,\n",
       "        689290.0305748 ,  413660.01834869,  274340.01216888,\n",
       "        243380.01079559,  855700.03795624,  497510.02206802,\n",
       "        898700.03986359,   19350.00085831])"
      ]
     },
     "execution_count": 44,
     "metadata": {},
     "output_type": "execute_result"
    }
   ],
   "source": [
    "sum_tranches = counts * tarif_cantine * 200 # Pour 200 repas par an\n",
    "sum_tranches"
   ]
  },
  {
   "cell_type": "markdown",
   "id": "b6ca1045",
   "metadata": {},
   "source": [
    "# Recettes totales"
   ]
  },
  {
   "cell_type": "code",
   "execution_count": 45,
   "id": "278c40d9",
   "metadata": {},
   "outputs": [
    {
     "data": {
      "text/plain": [
       "6795780.247879028"
      ]
     },
     "execution_count": 45,
     "metadata": {},
     "output_type": "execute_result"
    }
   ],
   "source": [
    "sum(sum_tranches)"
   ]
  }
 ],
 "metadata": {
  "kernelspec": {
   "display_name": "Python 3",
   "language": "python",
   "name": "python3"
  },
  "language_info": {
   "codemirror_mode": {
    "name": "ipython",
    "version": 3
   },
   "file_extension": ".py",
   "mimetype": "text/x-python",
   "name": "python",
   "nbconvert_exporter": "python",
   "pygments_lexer": "ipython3",
   "version": "3.7.10"
  }
 },
 "nbformat": 4,
 "nbformat_minor": 5
}
